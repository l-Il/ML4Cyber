{
  "cells": [
    {
      "cell_type": "markdown",
      "metadata": {
        "id": "t73_xJJyPGwZ"
      },
      "source": [
        "## **Fraud Detection in Python**\n",
        "\n",
        "**Course Description**\n",
        "\n",
        "A typical organization loses an estimated 5% of its yearly revenue to fraud. In this course, learn to fight fraud by using data. Apply supervised learning algorithms to detect fraudulent behavior based upon past fraud, and use unsupervised learning methods to discover new types of fraud activities.\n",
        "\n",
        "Fraudulent transactions are rare compared to the norm.  As such, learn to properly classify imbalanced datasets.\n",
        "\n",
        "The course provides technical and theoretical insights and demonstrates how to implement fraud detection models. Finally, get tips and advice from real-life experience to help prevent common mistakes in fraud analytics."
      ]
    },
    {
      "cell_type": "markdown",
      "metadata": {
        "id": "wvrhzbAoPGwb"
      },
      "source": [
        "**Imports**"
      ]
    },
    {
      "cell_type": "code",
      "source": [
        "# Для выполнения кода пришлось скачать pandas версии ДО 1.5.3\n",
        "!pip install \"pandas<2.0.0\""
      ],
      "metadata": {
        "colab": {
          "base_uri": "https://localhost:8080/"
        },
        "id": "OAtzZfitShE9",
        "outputId": "84614022-4292-4ec0-92b6-a89bb63c0df6"
      },
      "execution_count": 130,
      "outputs": [
        {
          "output_type": "stream",
          "name": "stdout",
          "text": [
            "Requirement already satisfied: pandas<2.0.0 in /usr/local/lib/python3.10/dist-packages (1.5.3)\n",
            "Requirement already satisfied: python-dateutil>=2.8.1 in /usr/local/lib/python3.10/dist-packages (from pandas<2.0.0) (2.8.2)\n",
            "Requirement already satisfied: pytz>=2020.1 in /usr/local/lib/python3.10/dist-packages (from pandas<2.0.0) (2023.4)\n",
            "Requirement already satisfied: numpy>=1.21.0 in /usr/local/lib/python3.10/dist-packages (from pandas<2.0.0) (1.25.2)\n",
            "Requirement already satisfied: six>=1.5 in /usr/local/lib/python3.10/dist-packages (from python-dateutil>=2.8.1->pandas<2.0.0) (1.16.0)\n"
          ]
        }
      ]
    },
    {
      "cell_type": "code",
      "execution_count": 131,
      "metadata": {
        "tags": [],
        "id": "vSCjH6-KPGwb"
      },
      "outputs": [],
      "source": [
        "import warnings\n",
        "warnings.filterwarnings('ignore')\n",
        "warnings.simplefilter('ignore')"
      ]
    },
    {
      "cell_type": "code",
      "execution_count": 132,
      "metadata": {
        "tags": [],
        "id": "0pTAeQx3PGwc"
      },
      "outputs": [],
      "source": [
        "import pandas as pd\n",
        "import matplotlib.pyplot as plt\n",
        "from matplotlib.patches import Rectangle\n",
        "import numpy as np\n",
        "from pprint import pprint as pp\n",
        "import csv\n",
        "from pathlib import Path\n",
        "import seaborn as sns\n",
        "from itertools import product\n",
        "import string\n",
        "\n",
        "import nltk\n",
        "from nltk.corpus import stopwords\n",
        "from nltk.stem.wordnet import WordNetLemmatizer\n",
        "\n",
        "from imblearn.over_sampling import SMOTE\n",
        "from imblearn.over_sampling import BorderlineSMOTE\n",
        "from imblearn.pipeline import Pipeline\n",
        "\n",
        "from sklearn.linear_model import LinearRegression, LogisticRegression\n",
        "from sklearn.model_selection import train_test_split, GridSearchCV\n",
        "from sklearn.tree import DecisionTreeClassifier\n",
        "from sklearn.metrics import r2_score, classification_report, confusion_matrix, accuracy_score, roc_auc_score, roc_curve, precision_recall_curve, average_precision_score\n",
        "from sklearn.metrics import homogeneity_score, silhouette_score\n",
        "from sklearn.ensemble import RandomForestClassifier, VotingClassifier\n",
        "from sklearn.preprocessing import MinMaxScaler\n",
        "from sklearn.cluster import MiniBatchKMeans, DBSCAN\n",
        "\n",
        "import gensim\n",
        "from gensim import corpora"
      ]
    },
    {
      "cell_type": "markdown",
      "metadata": {
        "id": "gAMXfkB3PGwc"
      },
      "source": [
        "**Pandas Configuration Options**"
      ]
    },
    {
      "cell_type": "code",
      "execution_count": 133,
      "metadata": {
        "tags": [],
        "id": "Jk-323K0PGwc"
      },
      "outputs": [],
      "source": [
        "pd.set_option('display.max_columns', 700)\n",
        "pd.set_option('display.max_rows', 400)\n",
        "pd.set_option('display.min_rows', 10)\n",
        "pd.set_option('display.expand_frame_repr', True)"
      ]
    },
    {
      "cell_type": "markdown",
      "metadata": {
        "id": "TC0rbLIyPGwd"
      },
      "source": [
        "**Data Files Location**\n",
        "\n",
        "* Most data files for the exercises can be found on the [course site](https://www.datacamp.com/courses/fraud-detection-in-python)\n",
        "    * [Chapter 1](https://assets.datacamp.com/production/repositories/2162/datasets/cc3a36b722c0806e4a7df2634e345975a0724958/chapter_1.zip)\n",
        "    * [Chapter 2](https://assets.datacamp.com/production/repositories/2162/datasets/4fb6199be9b89626dcd6b36c235cbf60cf4c1631/chapter_2.zip)\n",
        "    * [Chapter 3](https://assets.datacamp.com/production/repositories/2162/datasets/08cfcd4158b3a758e72e9bd077a9e44fec9f773b/chapter_3.zip)\n",
        "    * [Chapter 4](https://assets.datacamp.com/production/repositories/2162/datasets/94f2356652dc9ea8f0654b5e9c29645115b6e77f/chapter_4.zip)"
      ]
    },
    {
      "cell_type": "markdown",
      "metadata": {
        "id": "q49E4cCFPGwd"
      },
      "source": [
        "**Data File Objects**"
      ]
    },
    {
      "cell_type": "code",
      "execution_count": 134,
      "metadata": {
        "tags": [],
        "id": "5FVrItnKPGwd"
      },
      "outputs": [],
      "source": [
        "data = Path.cwd()\n",
        "\n",
        "ch1 = data / 'chapter_1'\n",
        "cc1_file = ch1 / 'creditcard_sampledata.csv'\n",
        "cc3_file = ch1 / 'creditcard_sampledata_3.csv'\n",
        "\n",
        "ch2 = data / 'chapter_2'\n",
        "cc2_file = ch2 / 'creditcard_sampledata_2.csv'\n",
        "\n",
        "ch3 = data / 'chapter_3'\n",
        "banksim_file = ch3 / 'banksim.csv'\n",
        "banksim_adj_file = ch3 / 'banksim_adj.csv'\n",
        "db_full_file = ch3 / 'db_full.pickle'\n",
        "labels_file = ch3 / 'labels.pickle'\n",
        "labels_full_file = ch3 / 'labels_full.pickle'\n",
        "x_scaled_file = ch3 / 'x_scaled.pickle'\n",
        "x_scaled_full_file = ch3 / 'x_scaled_full.pickle'\n",
        "\n",
        "ch4 = data / 'chapter_4'\n",
        "enron_emails_clean_file = ch4 / 'enron_emails_clean.csv'\n",
        "cleantext_file = ch4 / 'cleantext.pickle'\n",
        "corpus_file = ch4 / 'corpus.pickle'\n",
        "dict_file = ch4 / 'dict.pickle'\n",
        "ldamodel_file = ch4 / 'ldamodel.pickle'"
      ]
    },
    {
      "cell_type": "markdown",
      "metadata": {
        "id": "6fBW1UmMPGwd"
      },
      "source": [
        "# Introduction and preparing your data\n",
        "\n",
        "Learn about the typical challenges associated with fraud detection. Learn how to resample data in a smart way, and tackle problems with imbalanced data."
      ]
    },
    {
      "cell_type": "markdown",
      "metadata": {
        "id": "zKeJT5qXPGwd"
      },
      "source": [
        "## Introduction to fraud detection\n",
        "\n",
        "* Types:\n",
        "    * Insurance\n",
        "    * Credit card\n",
        "    * Identity theft\n",
        "    * Money laundering\n",
        "    * Tax evasion\n",
        "    * Healthcare\n",
        "    * Product warranty\n",
        "* e-commerce businesses must continuously assess the legitimacy of client transactions\n",
        "* Detecting fraud is challenging:\n",
        "    * Uncommon; < 0.01% of transactions\n",
        "    * Attempts are made to conceal fraud\n",
        "    * Behavior evolves\n",
        "    * Fraudulent activities perpetrated by networks - organized crime\n",
        "* Fraud detection requires training an algorithm to identify concealed observations from any normal observations\n",
        "* Fraud analytics teams:\n",
        "    * Often use rules based systems, based on manually set thresholds and experience\n",
        "    * Check the news\n",
        "    * Receive external lists of fraudulent accounts and names\n",
        "        * suspicious names or track an external hit list from police to reference check against the client base\n",
        "    * Sometimes use machine learning algorithms to detect fraud or suspicious behavior\n",
        "        * Existing sources can be used as inputs into the ML model\n",
        "        * Verify the veracity of rules based labels"
      ]
    },
    {
      "cell_type": "markdown",
      "metadata": {
        "id": "q3jbUKQ1PGwd"
      },
      "source": [
        "### Checking the fraud to non-fraud ratio\n",
        "\n",
        "In this chapter, you will work on `creditcard_sampledata.csv`, a dataset containing credit card transactions data. Fraud occurrences are fortunately an **extreme minority** in these transactions.\n",
        "\n",
        "However, Machine Learning algorithms usually work best when the different classes contained in the dataset are more or less equally present. If there are few cases of fraud, then there's little data to learn how to identify them. This is known as **class imbalance**, and it's one of the main challenges of fraud detection.\n",
        "\n",
        "Let's explore this dataset, and observe this class imbalance problem.\n",
        "\n",
        "**Instructions**\n",
        "\n",
        "* `import pandas as pd`, read the credit card data in and assign it to `df`. This has been done for you.\n",
        "* Use `.info()` to print information about `df`.\n",
        "* Use `.value_counts()` to get the count of fraudulent and non-fraudulent transactions in the `'Class'` column. Assign the result to `occ`.\n",
        "* Get the ratio of fraudulent transactions over the total number of transactions in the dataset."
      ]
    },
    {
      "cell_type": "code",
      "execution_count": 135,
      "metadata": {
        "tags": [],
        "id": "dcyHR-bXPGwd"
      },
      "outputs": [],
      "source": [
        "df = pd.read_csv(cc3_file)"
      ]
    },
    {
      "cell_type": "markdown",
      "metadata": {
        "id": "07cv1LSPPGwd"
      },
      "source": [
        "#### Explore the features available in your dataframe"
      ]
    },
    {
      "cell_type": "code",
      "execution_count": 136,
      "metadata": {
        "tags": [],
        "colab": {
          "base_uri": "https://localhost:8080/"
        },
        "id": "U1ZZ3D33PGwd",
        "outputId": "489dfd34-8068-4528-b2bb-d6de5acc4879"
      },
      "outputs": [
        {
          "output_type": "stream",
          "name": "stdout",
          "text": [
            "<class 'pandas.core.frame.DataFrame'>\n",
            "RangeIndex: 5050 entries, 0 to 5049\n",
            "Data columns (total 31 columns):\n",
            " #   Column      Non-Null Count  Dtype  \n",
            "---  ------      --------------  -----  \n",
            " 0   Unnamed: 0  5050 non-null   int64  \n",
            " 1   V1          5050 non-null   float64\n",
            " 2   V2          5050 non-null   float64\n",
            " 3   V3          5050 non-null   float64\n",
            " 4   V4          5050 non-null   float64\n",
            " 5   V5          5050 non-null   float64\n",
            " 6   V6          5050 non-null   float64\n",
            " 7   V7          5050 non-null   float64\n",
            " 8   V8          5050 non-null   float64\n",
            " 9   V9          5050 non-null   float64\n",
            " 10  V10         5050 non-null   float64\n",
            " 11  V11         5050 non-null   float64\n",
            " 12  V12         5050 non-null   float64\n",
            " 13  V13         5050 non-null   float64\n",
            " 14  V14         5050 non-null   float64\n",
            " 15  V15         5050 non-null   float64\n",
            " 16  V16         5050 non-null   float64\n",
            " 17  V17         5050 non-null   float64\n",
            " 18  V18         5050 non-null   float64\n",
            " 19  V19         5050 non-null   float64\n",
            " 20  V20         5050 non-null   float64\n",
            " 21  V21         5050 non-null   float64\n",
            " 22  V22         5050 non-null   float64\n",
            " 23  V23         5050 non-null   float64\n",
            " 24  V24         5050 non-null   float64\n",
            " 25  V25         5050 non-null   float64\n",
            " 26  V26         5050 non-null   float64\n",
            " 27  V27         5050 non-null   float64\n",
            " 28  V28         5050 non-null   float64\n",
            " 29  Amount      5050 non-null   float64\n",
            " 30  Class       5050 non-null   int64  \n",
            "dtypes: float64(29), int64(2)\n",
            "memory usage: 1.2 MB\n"
          ]
        }
      ],
      "source": [
        "df.info()"
      ]
    },
    {
      "cell_type": "code",
      "execution_count": 137,
      "metadata": {
        "tags": [],
        "colab": {
          "base_uri": "https://localhost:8080/",
          "height": 244
        },
        "id": "vImtMS3XPGwd",
        "outputId": "27e8a1da-abe9-43ef-89be-1804cabe5be9"
      },
      "outputs": [
        {
          "output_type": "execute_result",
          "data": {
            "text/plain": [
              "   Unnamed: 0        V1        V2        V3        V4        V5        V6  \\\n",
              "0      258647  1.725265 -1.337256 -1.012687 -0.361656 -1.431611 -1.098681   \n",
              "1       69263  0.683254 -1.681875  0.533349 -0.326064 -1.455603  0.101832   \n",
              "2       96552  1.067973 -0.656667  1.029738  0.253899 -1.172715  0.073232   \n",
              "3      281898  0.119513  0.729275 -1.678879 -1.551408  3.128914  3.210632   \n",
              "4       86917  1.271253  0.275694  0.159568  1.003096 -0.128535 -0.608730   \n",
              "\n",
              "         V7        V8        V9       V10       V11       V12       V13  \\\n",
              "0 -0.842274 -0.026594 -0.032409  0.215113  1.618952 -0.654046 -1.442665   \n",
              "1 -0.520590  0.114036 -0.601760  0.444011  1.521570  0.499202 -0.127849   \n",
              "2 -0.745771  0.249803  1.383057 -0.483771 -0.782780  0.005242 -1.273288   \n",
              "3  0.356276  0.920374 -0.160589 -0.801748  0.137341 -0.156740 -0.429388   \n",
              "4  0.088777 -0.145336  0.156047  0.022707 -0.963306 -0.228074 -0.324933   \n",
              "\n",
              "        V14       V15       V16       V17       V18       V19       V20  \\\n",
              "0 -1.546538 -0.230008  1.785539  1.419793  0.071666  0.233031  0.275911   \n",
              "1 -0.237253 -0.752351  0.667190  0.724785 -1.736615  0.702088  0.638186   \n",
              "2 -0.269260  0.091287 -0.347973  0.495328 -0.925949  0.099138 -0.083859   \n",
              "3 -0.752392  0.155272  0.215068  0.352222 -0.376168 -0.398920  0.043715   \n",
              "4  0.390609  1.065923  0.285930 -0.627072  0.170175 -0.215912 -0.147394   \n",
              "\n",
              "        V21       V22       V23       V24       V25       V26       V27  \\\n",
              "0  0.414524  0.793434  0.028887  0.419421 -0.367529 -0.155634 -0.015768   \n",
              "1  0.116898 -0.304605 -0.125547  0.244848  0.069163 -0.460712 -0.017068   \n",
              "2 -0.189315 -0.426743  0.079539  0.129692  0.002778  0.970498 -0.035056   \n",
              "3 -0.335825 -0.906171  0.108350  0.593062 -0.424303  0.164201  0.245881   \n",
              "4  0.031958  0.123503 -0.174528 -0.147535  0.735909 -0.262270  0.015577   \n",
              "\n",
              "        V28  Amount  Class  \n",
              "0  0.010790  189.00      0  \n",
              "1  0.063542  315.17      0  \n",
              "2  0.017313   59.98      0  \n",
              "3  0.071029    0.89      0  \n",
              "4  0.015955    6.53      0  "
            ],
            "text/html": [
              "\n",
              "  <div id=\"df-cf297c0c-d319-40c1-996c-632bfbd30283\" class=\"colab-df-container\">\n",
              "    <div>\n",
              "<style scoped>\n",
              "    .dataframe tbody tr th:only-of-type {\n",
              "        vertical-align: middle;\n",
              "    }\n",
              "\n",
              "    .dataframe tbody tr th {\n",
              "        vertical-align: top;\n",
              "    }\n",
              "\n",
              "    .dataframe thead th {\n",
              "        text-align: right;\n",
              "    }\n",
              "</style>\n",
              "<table border=\"1\" class=\"dataframe\">\n",
              "  <thead>\n",
              "    <tr style=\"text-align: right;\">\n",
              "      <th></th>\n",
              "      <th>Unnamed: 0</th>\n",
              "      <th>V1</th>\n",
              "      <th>V2</th>\n",
              "      <th>V3</th>\n",
              "      <th>V4</th>\n",
              "      <th>V5</th>\n",
              "      <th>V6</th>\n",
              "      <th>V7</th>\n",
              "      <th>V8</th>\n",
              "      <th>V9</th>\n",
              "      <th>V10</th>\n",
              "      <th>V11</th>\n",
              "      <th>V12</th>\n",
              "      <th>V13</th>\n",
              "      <th>V14</th>\n",
              "      <th>V15</th>\n",
              "      <th>V16</th>\n",
              "      <th>V17</th>\n",
              "      <th>V18</th>\n",
              "      <th>V19</th>\n",
              "      <th>V20</th>\n",
              "      <th>V21</th>\n",
              "      <th>V22</th>\n",
              "      <th>V23</th>\n",
              "      <th>V24</th>\n",
              "      <th>V25</th>\n",
              "      <th>V26</th>\n",
              "      <th>V27</th>\n",
              "      <th>V28</th>\n",
              "      <th>Amount</th>\n",
              "      <th>Class</th>\n",
              "    </tr>\n",
              "  </thead>\n",
              "  <tbody>\n",
              "    <tr>\n",
              "      <th>0</th>\n",
              "      <td>258647</td>\n",
              "      <td>1.725265</td>\n",
              "      <td>-1.337256</td>\n",
              "      <td>-1.012687</td>\n",
              "      <td>-0.361656</td>\n",
              "      <td>-1.431611</td>\n",
              "      <td>-1.098681</td>\n",
              "      <td>-0.842274</td>\n",
              "      <td>-0.026594</td>\n",
              "      <td>-0.032409</td>\n",
              "      <td>0.215113</td>\n",
              "      <td>1.618952</td>\n",
              "      <td>-0.654046</td>\n",
              "      <td>-1.442665</td>\n",
              "      <td>-1.546538</td>\n",
              "      <td>-0.230008</td>\n",
              "      <td>1.785539</td>\n",
              "      <td>1.419793</td>\n",
              "      <td>0.071666</td>\n",
              "      <td>0.233031</td>\n",
              "      <td>0.275911</td>\n",
              "      <td>0.414524</td>\n",
              "      <td>0.793434</td>\n",
              "      <td>0.028887</td>\n",
              "      <td>0.419421</td>\n",
              "      <td>-0.367529</td>\n",
              "      <td>-0.155634</td>\n",
              "      <td>-0.015768</td>\n",
              "      <td>0.010790</td>\n",
              "      <td>189.00</td>\n",
              "      <td>0</td>\n",
              "    </tr>\n",
              "    <tr>\n",
              "      <th>1</th>\n",
              "      <td>69263</td>\n",
              "      <td>0.683254</td>\n",
              "      <td>-1.681875</td>\n",
              "      <td>0.533349</td>\n",
              "      <td>-0.326064</td>\n",
              "      <td>-1.455603</td>\n",
              "      <td>0.101832</td>\n",
              "      <td>-0.520590</td>\n",
              "      <td>0.114036</td>\n",
              "      <td>-0.601760</td>\n",
              "      <td>0.444011</td>\n",
              "      <td>1.521570</td>\n",
              "      <td>0.499202</td>\n",
              "      <td>-0.127849</td>\n",
              "      <td>-0.237253</td>\n",
              "      <td>-0.752351</td>\n",
              "      <td>0.667190</td>\n",
              "      <td>0.724785</td>\n",
              "      <td>-1.736615</td>\n",
              "      <td>0.702088</td>\n",
              "      <td>0.638186</td>\n",
              "      <td>0.116898</td>\n",
              "      <td>-0.304605</td>\n",
              "      <td>-0.125547</td>\n",
              "      <td>0.244848</td>\n",
              "      <td>0.069163</td>\n",
              "      <td>-0.460712</td>\n",
              "      <td>-0.017068</td>\n",
              "      <td>0.063542</td>\n",
              "      <td>315.17</td>\n",
              "      <td>0</td>\n",
              "    </tr>\n",
              "    <tr>\n",
              "      <th>2</th>\n",
              "      <td>96552</td>\n",
              "      <td>1.067973</td>\n",
              "      <td>-0.656667</td>\n",
              "      <td>1.029738</td>\n",
              "      <td>0.253899</td>\n",
              "      <td>-1.172715</td>\n",
              "      <td>0.073232</td>\n",
              "      <td>-0.745771</td>\n",
              "      <td>0.249803</td>\n",
              "      <td>1.383057</td>\n",
              "      <td>-0.483771</td>\n",
              "      <td>-0.782780</td>\n",
              "      <td>0.005242</td>\n",
              "      <td>-1.273288</td>\n",
              "      <td>-0.269260</td>\n",
              "      <td>0.091287</td>\n",
              "      <td>-0.347973</td>\n",
              "      <td>0.495328</td>\n",
              "      <td>-0.925949</td>\n",
              "      <td>0.099138</td>\n",
              "      <td>-0.083859</td>\n",
              "      <td>-0.189315</td>\n",
              "      <td>-0.426743</td>\n",
              "      <td>0.079539</td>\n",
              "      <td>0.129692</td>\n",
              "      <td>0.002778</td>\n",
              "      <td>0.970498</td>\n",
              "      <td>-0.035056</td>\n",
              "      <td>0.017313</td>\n",
              "      <td>59.98</td>\n",
              "      <td>0</td>\n",
              "    </tr>\n",
              "    <tr>\n",
              "      <th>3</th>\n",
              "      <td>281898</td>\n",
              "      <td>0.119513</td>\n",
              "      <td>0.729275</td>\n",
              "      <td>-1.678879</td>\n",
              "      <td>-1.551408</td>\n",
              "      <td>3.128914</td>\n",
              "      <td>3.210632</td>\n",
              "      <td>0.356276</td>\n",
              "      <td>0.920374</td>\n",
              "      <td>-0.160589</td>\n",
              "      <td>-0.801748</td>\n",
              "      <td>0.137341</td>\n",
              "      <td>-0.156740</td>\n",
              "      <td>-0.429388</td>\n",
              "      <td>-0.752392</td>\n",
              "      <td>0.155272</td>\n",
              "      <td>0.215068</td>\n",
              "      <td>0.352222</td>\n",
              "      <td>-0.376168</td>\n",
              "      <td>-0.398920</td>\n",
              "      <td>0.043715</td>\n",
              "      <td>-0.335825</td>\n",
              "      <td>-0.906171</td>\n",
              "      <td>0.108350</td>\n",
              "      <td>0.593062</td>\n",
              "      <td>-0.424303</td>\n",
              "      <td>0.164201</td>\n",
              "      <td>0.245881</td>\n",
              "      <td>0.071029</td>\n",
              "      <td>0.89</td>\n",
              "      <td>0</td>\n",
              "    </tr>\n",
              "    <tr>\n",
              "      <th>4</th>\n",
              "      <td>86917</td>\n",
              "      <td>1.271253</td>\n",
              "      <td>0.275694</td>\n",
              "      <td>0.159568</td>\n",
              "      <td>1.003096</td>\n",
              "      <td>-0.128535</td>\n",
              "      <td>-0.608730</td>\n",
              "      <td>0.088777</td>\n",
              "      <td>-0.145336</td>\n",
              "      <td>0.156047</td>\n",
              "      <td>0.022707</td>\n",
              "      <td>-0.963306</td>\n",
              "      <td>-0.228074</td>\n",
              "      <td>-0.324933</td>\n",
              "      <td>0.390609</td>\n",
              "      <td>1.065923</td>\n",
              "      <td>0.285930</td>\n",
              "      <td>-0.627072</td>\n",
              "      <td>0.170175</td>\n",
              "      <td>-0.215912</td>\n",
              "      <td>-0.147394</td>\n",
              "      <td>0.031958</td>\n",
              "      <td>0.123503</td>\n",
              "      <td>-0.174528</td>\n",
              "      <td>-0.147535</td>\n",
              "      <td>0.735909</td>\n",
              "      <td>-0.262270</td>\n",
              "      <td>0.015577</td>\n",
              "      <td>0.015955</td>\n",
              "      <td>6.53</td>\n",
              "      <td>0</td>\n",
              "    </tr>\n",
              "  </tbody>\n",
              "</table>\n",
              "</div>\n",
              "    <div class=\"colab-df-buttons\">\n",
              "\n",
              "  <div class=\"colab-df-container\">\n",
              "    <button class=\"colab-df-convert\" onclick=\"convertToInteractive('df-cf297c0c-d319-40c1-996c-632bfbd30283')\"\n",
              "            title=\"Convert this dataframe to an interactive table.\"\n",
              "            style=\"display:none;\">\n",
              "\n",
              "  <svg xmlns=\"http://www.w3.org/2000/svg\" height=\"24px\" viewBox=\"0 -960 960 960\">\n",
              "    <path d=\"M120-120v-720h720v720H120Zm60-500h600v-160H180v160Zm220 220h160v-160H400v160Zm0 220h160v-160H400v160ZM180-400h160v-160H180v160Zm440 0h160v-160H620v160ZM180-180h160v-160H180v160Zm440 0h160v-160H620v160Z\"/>\n",
              "  </svg>\n",
              "    </button>\n",
              "\n",
              "  <style>\n",
              "    .colab-df-container {\n",
              "      display:flex;\n",
              "      gap: 12px;\n",
              "    }\n",
              "\n",
              "    .colab-df-convert {\n",
              "      background-color: #E8F0FE;\n",
              "      border: none;\n",
              "      border-radius: 50%;\n",
              "      cursor: pointer;\n",
              "      display: none;\n",
              "      fill: #1967D2;\n",
              "      height: 32px;\n",
              "      padding: 0 0 0 0;\n",
              "      width: 32px;\n",
              "    }\n",
              "\n",
              "    .colab-df-convert:hover {\n",
              "      background-color: #E2EBFA;\n",
              "      box-shadow: 0px 1px 2px rgba(60, 64, 67, 0.3), 0px 1px 3px 1px rgba(60, 64, 67, 0.15);\n",
              "      fill: #174EA6;\n",
              "    }\n",
              "\n",
              "    .colab-df-buttons div {\n",
              "      margin-bottom: 4px;\n",
              "    }\n",
              "\n",
              "    [theme=dark] .colab-df-convert {\n",
              "      background-color: #3B4455;\n",
              "      fill: #D2E3FC;\n",
              "    }\n",
              "\n",
              "    [theme=dark] .colab-df-convert:hover {\n",
              "      background-color: #434B5C;\n",
              "      box-shadow: 0px 1px 3px 1px rgba(0, 0, 0, 0.15);\n",
              "      filter: drop-shadow(0px 1px 2px rgba(0, 0, 0, 0.3));\n",
              "      fill: #FFFFFF;\n",
              "    }\n",
              "  </style>\n",
              "\n",
              "    <script>\n",
              "      const buttonEl =\n",
              "        document.querySelector('#df-cf297c0c-d319-40c1-996c-632bfbd30283 button.colab-df-convert');\n",
              "      buttonEl.style.display =\n",
              "        google.colab.kernel.accessAllowed ? 'block' : 'none';\n",
              "\n",
              "      async function convertToInteractive(key) {\n",
              "        const element = document.querySelector('#df-cf297c0c-d319-40c1-996c-632bfbd30283');\n",
              "        const dataTable =\n",
              "          await google.colab.kernel.invokeFunction('convertToInteractive',\n",
              "                                                    [key], {});\n",
              "        if (!dataTable) return;\n",
              "\n",
              "        const docLinkHtml = 'Like what you see? Visit the ' +\n",
              "          '<a target=\"_blank\" href=https://colab.research.google.com/notebooks/data_table.ipynb>data table notebook</a>'\n",
              "          + ' to learn more about interactive tables.';\n",
              "        element.innerHTML = '';\n",
              "        dataTable['output_type'] = 'display_data';\n",
              "        await google.colab.output.renderOutput(dataTable, element);\n",
              "        const docLink = document.createElement('div');\n",
              "        docLink.innerHTML = docLinkHtml;\n",
              "        element.appendChild(docLink);\n",
              "      }\n",
              "    </script>\n",
              "  </div>\n",
              "\n",
              "\n",
              "<div id=\"df-d438a129-66d5-4e96-83bc-c7ee72897527\">\n",
              "  <button class=\"colab-df-quickchart\" onclick=\"quickchart('df-d438a129-66d5-4e96-83bc-c7ee72897527')\"\n",
              "            title=\"Suggest charts\"\n",
              "            style=\"display:none;\">\n",
              "\n",
              "<svg xmlns=\"http://www.w3.org/2000/svg\" height=\"24px\"viewBox=\"0 0 24 24\"\n",
              "     width=\"24px\">\n",
              "    <g>\n",
              "        <path d=\"M19 3H5c-1.1 0-2 .9-2 2v14c0 1.1.9 2 2 2h14c1.1 0 2-.9 2-2V5c0-1.1-.9-2-2-2zM9 17H7v-7h2v7zm4 0h-2V7h2v10zm4 0h-2v-4h2v4z\"/>\n",
              "    </g>\n",
              "</svg>\n",
              "  </button>\n",
              "\n",
              "<style>\n",
              "  .colab-df-quickchart {\n",
              "      --bg-color: #E8F0FE;\n",
              "      --fill-color: #1967D2;\n",
              "      --hover-bg-color: #E2EBFA;\n",
              "      --hover-fill-color: #174EA6;\n",
              "      --disabled-fill-color: #AAA;\n",
              "      --disabled-bg-color: #DDD;\n",
              "  }\n",
              "\n",
              "  [theme=dark] .colab-df-quickchart {\n",
              "      --bg-color: #3B4455;\n",
              "      --fill-color: #D2E3FC;\n",
              "      --hover-bg-color: #434B5C;\n",
              "      --hover-fill-color: #FFFFFF;\n",
              "      --disabled-bg-color: #3B4455;\n",
              "      --disabled-fill-color: #666;\n",
              "  }\n",
              "\n",
              "  .colab-df-quickchart {\n",
              "    background-color: var(--bg-color);\n",
              "    border: none;\n",
              "    border-radius: 50%;\n",
              "    cursor: pointer;\n",
              "    display: none;\n",
              "    fill: var(--fill-color);\n",
              "    height: 32px;\n",
              "    padding: 0;\n",
              "    width: 32px;\n",
              "  }\n",
              "\n",
              "  .colab-df-quickchart:hover {\n",
              "    background-color: var(--hover-bg-color);\n",
              "    box-shadow: 0 1px 2px rgba(60, 64, 67, 0.3), 0 1px 3px 1px rgba(60, 64, 67, 0.15);\n",
              "    fill: var(--button-hover-fill-color);\n",
              "  }\n",
              "\n",
              "  .colab-df-quickchart-complete:disabled,\n",
              "  .colab-df-quickchart-complete:disabled:hover {\n",
              "    background-color: var(--disabled-bg-color);\n",
              "    fill: var(--disabled-fill-color);\n",
              "    box-shadow: none;\n",
              "  }\n",
              "\n",
              "  .colab-df-spinner {\n",
              "    border: 2px solid var(--fill-color);\n",
              "    border-color: transparent;\n",
              "    border-bottom-color: var(--fill-color);\n",
              "    animation:\n",
              "      spin 1s steps(1) infinite;\n",
              "  }\n",
              "\n",
              "  @keyframes spin {\n",
              "    0% {\n",
              "      border-color: transparent;\n",
              "      border-bottom-color: var(--fill-color);\n",
              "      border-left-color: var(--fill-color);\n",
              "    }\n",
              "    20% {\n",
              "      border-color: transparent;\n",
              "      border-left-color: var(--fill-color);\n",
              "      border-top-color: var(--fill-color);\n",
              "    }\n",
              "    30% {\n",
              "      border-color: transparent;\n",
              "      border-left-color: var(--fill-color);\n",
              "      border-top-color: var(--fill-color);\n",
              "      border-right-color: var(--fill-color);\n",
              "    }\n",
              "    40% {\n",
              "      border-color: transparent;\n",
              "      border-right-color: var(--fill-color);\n",
              "      border-top-color: var(--fill-color);\n",
              "    }\n",
              "    60% {\n",
              "      border-color: transparent;\n",
              "      border-right-color: var(--fill-color);\n",
              "    }\n",
              "    80% {\n",
              "      border-color: transparent;\n",
              "      border-right-color: var(--fill-color);\n",
              "      border-bottom-color: var(--fill-color);\n",
              "    }\n",
              "    90% {\n",
              "      border-color: transparent;\n",
              "      border-bottom-color: var(--fill-color);\n",
              "    }\n",
              "  }\n",
              "</style>\n",
              "\n",
              "  <script>\n",
              "    async function quickchart(key) {\n",
              "      const quickchartButtonEl =\n",
              "        document.querySelector('#' + key + ' button');\n",
              "      quickchartButtonEl.disabled = true;  // To prevent multiple clicks.\n",
              "      quickchartButtonEl.classList.add('colab-df-spinner');\n",
              "      try {\n",
              "        const charts = await google.colab.kernel.invokeFunction(\n",
              "            'suggestCharts', [key], {});\n",
              "      } catch (error) {\n",
              "        console.error('Error during call to suggestCharts:', error);\n",
              "      }\n",
              "      quickchartButtonEl.classList.remove('colab-df-spinner');\n",
              "      quickchartButtonEl.classList.add('colab-df-quickchart-complete');\n",
              "    }\n",
              "    (() => {\n",
              "      let quickchartButtonEl =\n",
              "        document.querySelector('#df-d438a129-66d5-4e96-83bc-c7ee72897527 button');\n",
              "      quickchartButtonEl.style.display =\n",
              "        google.colab.kernel.accessAllowed ? 'block' : 'none';\n",
              "    })();\n",
              "  </script>\n",
              "</div>\n",
              "    </div>\n",
              "  </div>\n"
            ],
            "application/vnd.google.colaboratory.intrinsic+json": {
              "type": "dataframe",
              "variable_name": "df"
            }
          },
          "metadata": {},
          "execution_count": 137
        }
      ],
      "source": [
        "df.head()"
      ]
    },
    {
      "cell_type": "code",
      "execution_count": 138,
      "metadata": {
        "tags": [],
        "colab": {
          "base_uri": "https://localhost:8080/"
        },
        "id": "jvwy1aiIPGwe",
        "outputId": "be840c2e-dd89-4437-cdb0-cbb2200e0b34"
      },
      "outputs": [
        {
          "output_type": "execute_result",
          "data": {
            "text/plain": [
              "0    5000\n",
              "1      50\n",
              "Name: Class, dtype: int64"
            ]
          },
          "metadata": {},
          "execution_count": 138
        }
      ],
      "source": [
        "# Count the occurrences of fraud and no fraud and print them\n",
        "occ = df['Class'].value_counts()\n",
        "occ"
      ]
    },
    {
      "cell_type": "code",
      "execution_count": 139,
      "metadata": {
        "tags": [],
        "colab": {
          "base_uri": "https://localhost:8080/"
        },
        "id": "kIbv0O83PGwe",
        "outputId": "ccb7ffa4-304e-46a7-c4b4-947425d1597e"
      },
      "outputs": [
        {
          "output_type": "stream",
          "name": "stdout",
          "text": [
            "Ratio of fraudulent cases: 0.009900990099009901\n",
            "Ratio of non-fraudulent cases: 0.9900990099009901\n"
          ]
        }
      ],
      "source": [
        "# Print the ratio of fraud cases\n",
        "ratio_cases = occ/len(df.index)\n",
        "print(f'Ratio of fraudulent cases: {ratio_cases[1]}\\nRatio of non-fraudulent cases: {ratio_cases[0]}')"
      ]
    },
    {
      "cell_type": "markdown",
      "metadata": {
        "id": "blY6qG3EPGwe"
      },
      "source": [
        "**The ratio of fraudulent transactions is very low. This is a case of class imbalance problem, and you're going to learn how to deal with this in the next exercises.**"
      ]
    },
    {
      "cell_type": "markdown",
      "metadata": {
        "id": "4ORknGa8PGwe"
      },
      "source": [
        "### Data visualization\n",
        "\n",
        "From the previous exercise we know that the ratio of fraud to non-fraud observations is very low. You can do something about that, for example by **re-sampling** our data, which is explained in the next video.\n",
        "\n",
        "In this exercise, you'll look at the data and **visualize the fraud to non-fraud ratio**. It is always a good starting point in your fraud analysis, to look at your data first, before you make any changes to it.\n",
        "\n",
        "Moreover, when talking to your colleagues, a picture often makes it very clear that we're dealing with heavily imbalanced data. Let's create a plot to visualize the ratio fraud to non-fraud data points on the dataset `df`.\n",
        "\n",
        "The function `prep_data()` is already loaded in your workspace, as well as `matplotlib.pyplot as plt`.\n",
        "\n",
        "**Instructions**\n",
        "\n",
        "* Define the `plot_data(X, y)` function, that will nicely plot the given feature set `X` with labels `y` in a scatter plot. This has been done for you.\n",
        "* Use the function `prep_data()` on your dataset `df` to create feature set `X` and labels `y`.\n",
        "* Run the function `plot_data()` on your newly obtained `X` and `y` to visualize your results."
      ]
    },
    {
      "cell_type": "markdown",
      "metadata": {
        "id": "sOhvSo_bPGwe"
      },
      "source": [
        "#### def prep_data"
      ]
    },
    {
      "cell_type": "code",
      "execution_count": 140,
      "metadata": {
        "tags": [],
        "id": "5GeKvBaAPGwe"
      },
      "outputs": [],
      "source": [
        "def prep_data(df: pd.DataFrame) -> (np.ndarray, np.ndarray):\n",
        "    \"\"\"\n",
        "    Convert the DataFrame into two variable\n",
        "    X: data columns (V1 - V28)\n",
        "    y: lable column\n",
        "    \"\"\"\n",
        "    X = df.iloc[:, 2:30].values\n",
        "    y = df.Class.values\n",
        "    return X, y"
      ]
    },
    {
      "cell_type": "markdown",
      "metadata": {
        "id": "jKk7CzO-PGwe"
      },
      "source": [
        "#### def plot_data"
      ]
    },
    {
      "cell_type": "code",
      "execution_count": 141,
      "metadata": {
        "tags": [],
        "id": "wQAjBsVpPGwe"
      },
      "outputs": [],
      "source": [
        "# Define a function to create a scatter plot of our data and labels\n",
        "def plot_data(X: np.ndarray, y: np.ndarray):\n",
        "    plt.scatter(X[y == 0, 0], X[y == 0, 1], label=\"Class #0\", alpha=0.5, linewidth=0.15)\n",
        "    plt.scatter(X[y == 1, 0], X[y == 1, 1], label=\"Class #1\", alpha=0.5, linewidth=0.15, c='r')\n",
        "    plt.legend()\n",
        "    return plt.show()"
      ]
    },
    {
      "cell_type": "code",
      "execution_count": 142,
      "metadata": {
        "tags": [],
        "id": "vRPnrgkpPGwe"
      },
      "outputs": [],
      "source": [
        "# Create X and y from the prep_data function\n",
        "X, y = prep_data(df)"
      ]
    },
    {
      "cell_type": "code",
      "execution_count": 143,
      "metadata": {
        "tags": [],
        "colab": {
          "base_uri": "https://localhost:8080/",
          "height": 432
        },
        "id": "WUX9trwrPGwe",
        "outputId": "5e82a777-4ccc-4b3f-a036-8d25e3a36355"
      },
      "outputs": [
        {
          "output_type": "display_data",
          "data": {
            "text/plain": [
              "<Figure size 640x480 with 1 Axes>"
            ],
            "image/png": "[encoded data removed]"
          },
          "metadata": {}
        }
      ],
      "source": [
        "# Plot our data by running our plot data function on X and y\n",
        "plot_data(X, y)"
      ]
    },
    {
      "cell_type": "markdown",
      "metadata": {
        "id": "iHhMrqWVPGwe"
      },
      "source": [
        "**By visualizing the data, you can immediately see how our fraud cases are scattered over our data, and how few cases we have. A picture often makes the imbalance problem clear. In the next exercises we'll visually explore how to improve our fraud to non-fraud balance.**"
      ]
    },
    {
      "cell_type": "markdown",
      "metadata": {
        "id": "y1RFTotFPGwe"
      },
      "source": [
        "#### Reproduced using the DataFrame"
      ]
    },
    {
      "cell_type": "code",
      "execution_count": 144,
      "metadata": {
        "tags": [],
        "colab": {
          "base_uri": "https://localhost:8080/",
          "height": 432
        },
        "id": "gqAOISgMPGwe",
        "outputId": "052bb23a-62c4-467e-de5d-4c97299b9098"
      },
      "outputs": [
        {
          "output_type": "display_data",
          "data": {
            "text/plain": [
              "<Figure size 640x480 with 1 Axes>"
            ],
            "image/png": "[encoded data removed]"
          },
          "metadata": {}
        }
      ],
      "source": [
        "plt.scatter(df.V2[df.Class == 0], df.V3[df.Class == 0], label=\"Class #0\", alpha=0.5, linewidth=0.15)\n",
        "plt.scatter(df.V2[df.Class == 1], df.V3[df.Class == 1], label=\"Class #1\", alpha=0.5, linewidth=0.15, c='r')\n",
        "plt.legend()\n",
        "plt.show()"
      ]
    },
    {
      "cell_type": "markdown",
      "metadata": {
        "id": "tyDcp5sfPGwe"
      },
      "source": [
        "## Increase successful detections with data resampling\n",
        "\n",
        "* resampling can help model performance in cases of imbalanced data sets"
      ]
    },
    {
      "cell_type": "markdown",
      "metadata": {
        "id": "wC994rCvPGwe"
      },
      "source": [
        "#### Undersampling\n",
        "\n",
        "* ![undersampling](https://raw.githubusercontent.com/trenton3983/DataCamp/master/Images/fraud_detection/undersampling.JPG)\n",
        "* Undersampling the majority class (non-fraud cases)\n",
        "    * Straightforward method to adjust imbalanced data\n",
        "    * Take random draws from the non-fraud observations, to match the occurences of fraud observations (as shown in the picture)"
      ]
    },
    {
      "cell_type": "markdown",
      "metadata": {
        "id": "WOqqcHngPGwe"
      },
      "source": [
        "#### Oversampling\n",
        "\n",
        "* ![oversampling](https://raw.githubusercontent.com/trenton3983/DataCamp/master/Images/fraud_detection/oversampling.JPG)\n",
        "* Oversampling the minority class (fraud cases)\n",
        "    * Take random draws from the fraud cases and copy those observations to increase the amount of fraud samples\n",
        "* Both methods lead to having a balance between fraud and non-fraud cases\n",
        "* Drawbacks\n",
        "    * with random undersampling, a lot of information is thrown away\n",
        "    * with oversampling, the model will be trained on a lot of duplicates"
      ]
    },
    {
      "cell_type": "markdown",
      "metadata": {
        "id": "uDXf9BC9PGwe"
      },
      "source": [
        "#### Implement resampling methods using Python imblean module\n",
        "\n",
        "* compatible with scikit-learn\n",
        "\n",
        "```python\n",
        "from imblearn.over_sampling import RandomOverSampler\n",
        "\n",
        "method = RandomOverSampler()\n",
        "X_resampled, y_resampled =  method.fit_sample(X, y)\n",
        "\n",
        "compare_plots(X_resampled, y_resampled, X, y)\n",
        "```\n",
        "\n",
        "![oversampling plot](https://raw.githubusercontent.com/trenton3983/DataCamp/master/Images/fraud_detection/oversampling_plot.JPG)\n",
        "* The darker blue points reflect there are more identical data"
      ]
    },
    {
      "cell_type": "markdown",
      "metadata": {
        "id": "HP4COr3-PGwe"
      },
      "source": [
        "#### SMOTE\n",
        "\n",
        "* ![smote](https://raw.githubusercontent.com/trenton3983/DataCamp/master/Images/fraud_detection/smote.JPG)\n",
        "* Synthetic minority Oversampling Technique (SMOTE)\n",
        "    * [Resampling strategies for Imbalanced Data Sets](https://www.kaggle.com/rafjaa/resampling-strategies-for-imbalanced-datasets)\n",
        "    * Another way of adjusting the imbalance by oversampling minority observations\n",
        "    * SMOTE uses characteristics of nearest neighbors of fraud cases to create new synthetic fraud cases\n",
        "        * avoids duplicating observations"
      ]
    },
    {
      "cell_type": "markdown",
      "metadata": {
        "id": "YpidNhAGPGwf"
      },
      "source": [
        "#### Determining the best resampling method is situational\n",
        "\n",
        "* Random Undersampling (RUS):\n",
        "    * If there is a lot of data and many minority cases, then undersampling may be computationally more convenient\n",
        "        * In most cases, throwing away data is not desirable\n",
        "* Random Oversampling (ROS):\n",
        "    * Straightforward\n",
        "    * Training the model on many duplicates\n",
        "* SMOTE:\n",
        "    * more sophisticated\n",
        "    * realistic data set\n",
        "    * training on synthetic data\n",
        "    * only works well if the minority case features are similar\n",
        "        * **if fraud is spread through the data and not distinct, using nearest neighbors to create more fraud cases, introduces noise into the data, as the nearest neighbors might not be fraud cases**"
      ]
    },
    {
      "cell_type": "markdown",
      "metadata": {
        "id": "M6Brboq_PGwf"
      },
      "source": [
        "#### When to use resmapling methods\n",
        "\n",
        "* Use resampling methods on the training set, not on the test set\n",
        "* The goal is to produce a better model by providing balanced data\n",
        "    * The goal is not to predict the synthetic samples\n",
        "* Test data should be free of duplicates and synthetic data\n",
        "* Only test the model on real data\n",
        "    * First, spit the data into train and test sets\n",
        "    \n",
        "```python\n",
        "# Define resampling method and split into train and test\n",
        "method = SMOTE(kind='borderline1')\n",
        "X_train, X_test, y_train, y_test = train_test_split(X, y, train_size=0.8, random_state=0)\n",
        "\n",
        "# Apply resampling to the training data only\n",
        "X_resampled, y_resampled = method.fit_sample(X_train, y_train)\n",
        "\n",
        "# Continue fitting the model and obtain predictions\n",
        "model = LogisticRegression()\n",
        "model.fit(X_resampled, y_resampled)\n",
        "\n",
        "# Get model performance metrics\n",
        "predicted = model.predict(X_test)\n",
        "print(classification_report(y_test, predicted))\n",
        "```"
      ]
    },
    {
      "cell_type": "markdown",
      "metadata": {
        "id": "jWNL_b76PGwf"
      },
      "source": [
        "### Resampling methods for imbalanced data\n",
        "\n",
        "Which of these methods takes a random subsample of your majority class to account for class \"imbalancedness\"?\n",
        "\n",
        "**Possible Answers**\n",
        "\n",
        "* ~~Random Over Sampling (ROS)~~\n",
        "* **Random Under Sampling (RUS)**\n",
        "* ~~Synthetic Minority Over-sampling Technique (SMOTE)~~\n",
        "* ~~None of the above~~\n",
        "\n",
        "**By using ROS and SMOTE you add more examples to the minority class. RUS adjusts the balance of your data by reducing the majority class.**"
      ]
    },
    {
      "cell_type": "markdown",
      "metadata": {
        "id": "nZqFvQN8PGwf"
      },
      "source": [
        "### Applying Synthetic Minority Oversampling Technique (SMOTE)\n",
        "\n",
        "In this exercise, you're going to re-balance our data using the **Synthetic Minority Over-sampling Technique** (SMOTE). Unlike ROS, SMOTE does not create exact copies of observations, but **creates new, synthetic, samples** that are quite similar to the existing observations in the minority class. SMOTE is therefore slightly more sophisticated than just copying observations, so let's apply SMOTE to our credit card data. The dataset `df` is available and the packages you need for SMOTE are imported. In the following exercise, you'll visualize the result and compare it to the original data, such that you can see the effect of applying SMOTE very clearly.\n",
        "\n",
        "**Instructions**\n",
        "\n",
        "* Use the `prep_data` function on `df` to create features `X` and labels `y`.\n",
        "* Define the resampling method as SMOTE of the regular kind, under the variable `method`.\n",
        "* Use `.fit_sample()` on the original `X` and `y` to obtain newly resampled data.\n",
        "* Plot the resampled data using the `plot_data()` function."
      ]
    },
    {
      "cell_type": "code",
      "execution_count": 145,
      "metadata": {
        "tags": [],
        "id": "C41cP5_JPGwf"
      },
      "outputs": [],
      "source": [
        "# Run the prep_data function\n",
        "X, y = prep_data(df)"
      ]
    },
    {
      "cell_type": "code",
      "execution_count": 146,
      "metadata": {
        "tags": [],
        "colab": {
          "base_uri": "https://localhost:8080/"
        },
        "id": "Fr9SqaLyPGwf",
        "outputId": "5609bc06-882e-40c9-9f90-903ad37a69a4"
      },
      "outputs": [
        {
          "output_type": "stream",
          "name": "stdout",
          "text": [
            "X shape: (5050, 28)\n",
            "y shape: (5050,)\n"
          ]
        }
      ],
      "source": [
        "print(f'X shape: {X.shape}\\ny shape: {y.shape}')"
      ]
    },
    {
      "cell_type": "code",
      "execution_count": 147,
      "metadata": {
        "tags": [],
        "id": "I7ZP8MgkPGwf"
      },
      "outputs": [],
      "source": [
        "# Define the resampling method\n",
        "method = SMOTE()"
      ]
    },
    {
      "cell_type": "code",
      "execution_count": 148,
      "metadata": {
        "tags": [],
        "id": "DDU56ui1PGwf"
      },
      "outputs": [],
      "source": [
        "# Create the resampled feature set\n",
        "X_resampled, y_resampled = method.fit_resample(X, y)"
      ]
    },
    {
      "cell_type": "code",
      "execution_count": 149,
      "metadata": {
        "tags": [],
        "colab": {
          "base_uri": "https://localhost:8080/",
          "height": 432
        },
        "id": "4xYprNFpPGwf",
        "outputId": "aef5df4e-45ca-4fa4-f134-a9a7e8ccc919"
      },
      "outputs": [
        {
          "output_type": "display_data",
          "data": {
            "text/plain": [
              "<Figure size 640x480 with 1 Axes>"
            ],
            "image/png": "[encoded data removed]"
          },
          "metadata": {}
        }
      ],
      "source": [
        "# Plot the resampled data\n",
        "plot_data(X_resampled, y_resampled)"
      ]
    },
    {
      "cell_type": "markdown",
      "metadata": {
        "id": "yuZmq7FFPGwf"
      },
      "source": [
        "**The minority class is now much more prominently visible in our data. To see the results of SMOTE even better, we'll compare it to the original data in the next exercise.**"
      ]
    },
    {
      "cell_type": "markdown",
      "metadata": {
        "id": "W37Wml13PGwf"
      },
      "source": [
        "### Compare SMOTE to original data\n",
        "\n",
        "In the last exercise, you saw that using SMOTE suddenly gives us more observations of the minority class. Let's compare those results to our original data, to get a good feeling for what has actually happened. Let's have a look at the value counts again of our old and new data, and let's plot the two scatter plots of the data side by side. You'll use the function compare_plot() for that that, which takes the following arguments: `X`, `y`, `X_resampled`, `y_resampled`, `method=''`. The function plots your original data in a scatter plot, along with the resampled side by side.\n",
        "\n",
        "**Instructions**\n",
        "\n",
        "* Print the value counts of our original labels, `y`. Be mindful that `y` is currently a Numpy array, so in order to use value counts, we'll assign `y` back as a pandas Series object.\n",
        "* Repeat the step and print the value counts on `y_resampled`. This shows you how the balance between the two classes has changed with SMOTE.\n",
        "* Use the `compare_plot()` function called on our original data as well our resampled data to see the scatterplots side by side."
      ]
    },
    {
      "cell_type": "code",
      "execution_count": 150,
      "metadata": {
        "tags": [],
        "colab": {
          "base_uri": "https://localhost:8080/"
        },
        "id": "mlHmZh2tPGwf",
        "outputId": "4609eca2-a4be-4f28-f86d-79a2a539e71d"
      },
      "outputs": [
        {
          "output_type": "execute_result",
          "data": {
            "text/plain": [
              "0    5000\n",
              "1      50\n",
              "dtype: int64"
            ]
          },
          "metadata": {},
          "execution_count": 150
        }
      ],
      "source": [
        "pd.value_counts(pd.Series(y))"
      ]
    },
    {
      "cell_type": "code",
      "execution_count": 151,
      "metadata": {
        "tags": [],
        "colab": {
          "base_uri": "https://localhost:8080/"
        },
        "id": "G6yAzTcGPGwf",
        "outputId": "7a88f366-5b2a-4766-93c5-baf13afdd330"
      },
      "outputs": [
        {
          "output_type": "execute_result",
          "data": {
            "text/plain": [
              "0    5000\n",
              "1    5000\n",
              "dtype: int64"
            ]
          },
          "metadata": {},
          "execution_count": 151
        }
      ],
      "source": [
        "pd.value_counts(pd.Series(y_resampled))"
      ]
    },
    {
      "cell_type": "markdown",
      "metadata": {
        "id": "hl--KzT0PGwf"
      },
      "source": [
        "#### def compare_plot"
      ]
    },
    {
      "cell_type": "code",
      "execution_count": 152,
      "metadata": {
        "tags": [],
        "id": "ft8hqcdYPGwf"
      },
      "outputs": [],
      "source": [
        "def compare_plot(X: np.ndarray, y: np.ndarray, X_resampled: np.ndarray, y_resampled: np.ndarray, method: str):\n",
        "    plt.subplot(1, 2, 1)\n",
        "    plt.scatter(X[y == 0, 0], X[y == 0, 1], label=\"Class #0\", alpha=0.5, linewidth=0.15)\n",
        "    plt.scatter(X[y == 1, 0], X[y == 1, 1], label=\"Class #1\", alpha=0.5, linewidth=0.15, c='r')\n",
        "    plt.title('Original Set')\n",
        "    plt.subplot(1, 2, 2)\n",
        "    plt.scatter(X_resampled[y_resampled == 0, 0], X_resampled[y_resampled == 0, 1], label=\"Class #0\", alpha=0.5, linewidth=0.15)\n",
        "    plt.scatter(X_resampled[y_resampled == 1, 0], X_resampled[y_resampled == 1, 1], label=\"Class #1\", alpha=0.5, linewidth=0.15, c='r')\n",
        "    plt.title(method)\n",
        "    plt.legend()\n",
        "    plt.show()"
      ]
    },
    {
      "cell_type": "code",
      "execution_count": 153,
      "metadata": {
        "colab": {
          "base_uri": "https://localhost:8080/",
          "height": 452
        },
        "id": "g9HvGmbnPGwf",
        "outputId": "2a7660c8-ce44-4513-f28c-c9dc63149516"
      },
      "outputs": [
        {
          "output_type": "display_data",
          "data": {
            "text/plain": [
              "<Figure size 640x480 with 2 Axes>"
            ],
            "image/png": "[encoded data removed]"
          },
          "metadata": {}
        }
      ],
      "source": [
        "compare_plot(X, y, X_resampled, y_resampled, method='SMOTE')"
      ]
    },
    {
      "cell_type": "markdown",
      "metadata": {
        "id": "GQ5LMbZiPGwg"
      },
      "source": [
        "**It should by now be clear that SMOTE has balanced our data completely, and that the minority class is now equal in size to the majority class. Visualizing the data shows the effect on the data very clearly. The next exercise will demonstrate multiple ways to implement SMOTE and that each method will have a slightly different effect.**"
      ]
    },
    {
      "cell_type": "markdown",
      "metadata": {
        "id": "p4PwPg2fPGwg"
      },
      "source": [
        "## Fraud detection algorithms in action"
      ]
    },
    {
      "cell_type": "markdown",
      "metadata": {
        "id": "FEQ5SowkPGwg"
      },
      "source": [
        "#### Rules Based Systems\n",
        "\n",
        "* ![rules based](https://raw.githubusercontent.com/trenton3983/DataCamp/master/Images/fraud_detection/rules_based.JPG)\n",
        "* Might block transactions from risky zip codes\n",
        "* Block transactions from cards used too frequently (e.g. last 30 minutes)\n",
        "* Can catch fraud, but also generates false alarms (false positive)\n",
        "* Limitations:\n",
        "    * Fixed threshold per rule and it's difficult to determine the threshold; they don't adapt over time\n",
        "    * Limited to yes / no outcomes, whereas ML yields a probability\n",
        "        * probability allows for fine-tuning the outcomes (i.e. rate of occurences of false positives and false negatives)\n",
        "    * Fails to capture interaction between features\n",
        "        * Ex. Size of the transaction only matters in combination to the frequency"
      ]
    },
    {
      "cell_type": "markdown",
      "metadata": {
        "id": "cH30FmPsPGwg"
      },
      "source": [
        "#### ML Based Systems\n",
        "\n",
        "* Adapt to the data, thus can change over time\n",
        "* Uses all the data combined, rather than a threshold per feature\n",
        "* Produces a probability, rather than a binary score\n",
        "* Typically have better performance and can be combined with rules"
      ]
    },
    {
      "cell_type": "code",
      "execution_count": 154,
      "metadata": {
        "tags": [],
        "id": "jyQ_7ZfUPGwg"
      },
      "outputs": [],
      "source": [
        "# Step 1: split the features and labels into train and test data\n",
        "X_train, X_test, y_train, y_test = train_test_split(X, y, test_size=0.2)"
      ]
    },
    {
      "cell_type": "code",
      "execution_count": 155,
      "metadata": {
        "tags": [],
        "id": "68shylDaPGwg"
      },
      "outputs": [],
      "source": [
        "# Step 2: Define which model to use\n",
        "model = LinearRegression()"
      ]
    },
    {
      "cell_type": "code",
      "execution_count": 156,
      "metadata": {
        "tags": [],
        "colab": {
          "base_uri": "https://localhost:8080/",
          "height": 75
        },
        "id": "s8O72ScxPGwg",
        "outputId": "c1eaa3bb-27cf-4439-9e70-a070c2b1e640"
      },
      "outputs": [
        {
          "output_type": "execute_result",
          "data": {
            "text/plain": [
              "LinearRegression()"
            ],
            "text/html": [
              "<style>#sk-container-id-5 {color: black;background-color: white;}#sk-container-id-5 pre{padding: 0;}#sk-container-id-5 div.sk-toggleable {background-color: white;}#sk-container-id-5 label.sk-toggleable__label {cursor: pointer;display: block;width: 100%;margin-bottom: 0;padding: 0.3em;box-sizing: border-box;text-align: center;}#sk-container-id-5 label.sk-toggleable__label-arrow:before {content: \"▸\";float: left;margin-right: 0.25em;color: #696969;}#sk-container-id-5 label.sk-toggleable__label-arrow:hover:before {color: black;}#sk-container-id-5 div.sk-estimator:hover label.sk-toggleable__label-arrow:before {color: black;}#sk-container-id-5 div.sk-toggleable__content {max-height: 0;max-width: 0;overflow: hidden;text-align: left;background-color: #f0f8ff;}#sk-container-id-5 div.sk-toggleable__content pre {margin: 0.2em;color: black;border-radius: 0.25em;background-color: #f0f8ff;}#sk-container-id-5 input.sk-toggleable__control:checked~div.sk-toggleable__content {max-height: 200px;max-width: 100%;overflow: auto;}#sk-container-id-5 input.sk-toggleable__control:checked~label.sk-toggleable__label-arrow:before {content: \"▾\";}#sk-container-id-5 div.sk-estimator input.sk-toggleable__control:checked~label.sk-toggleable__label {background-color: #d4ebff;}#sk-container-id-5 div.sk-label input.sk-toggleable__control:checked~label.sk-toggleable__label {background-color: #d4ebff;}#sk-container-id-5 input.sk-hidden--visually {border: 0;clip: rect(1px 1px 1px 1px);clip: rect(1px, 1px, 1px, 1px);height: 1px;margin: -1px;overflow: hidden;padding: 0;position: absolute;width: 1px;}#sk-container-id-5 div.sk-estimator {font-family: monospace;background-color: #f0f8ff;border: 1px dotted black;border-radius: 0.25em;box-sizing: border-box;margin-bottom: 0.5em;}#sk-container-id-5 div.sk-estimator:hover {background-color: #d4ebff;}#sk-container-id-5 div.sk-parallel-item::after {content: \"\";width: 100%;border-bottom: 1px solid gray;flex-grow: 1;}#sk-container-id-5 div.sk-label:hover label.sk-toggleable__label {background-color: #d4ebff;}#sk-container-id-5 div.sk-serial::before {content: \"\";position: absolute;border-left: 1px solid gray;box-sizing: border-box;top: 0;bottom: 0;left: 50%;z-index: 0;}#sk-container-id-5 div.sk-serial {display: flex;flex-direction: column;align-items: center;background-color: white;padding-right: 0.2em;padding-left: 0.2em;position: relative;}#sk-container-id-5 div.sk-item {position: relative;z-index: 1;}#sk-container-id-5 div.sk-parallel {display: flex;align-items: stretch;justify-content: center;background-color: white;position: relative;}#sk-container-id-5 div.sk-item::before, #sk-container-id-5 div.sk-parallel-item::before {content: \"\";position: absolute;border-left: 1px solid gray;box-sizing: border-box;top: 0;bottom: 0;left: 50%;z-index: -1;}#sk-container-id-5 div.sk-parallel-item {display: flex;flex-direction: column;z-index: 1;position: relative;background-color: white;}#sk-container-id-5 div.sk-parallel-item:first-child::after {align-self: flex-end;width: 50%;}#sk-container-id-5 div.sk-parallel-item:last-child::after {align-self: flex-start;width: 50%;}#sk-container-id-5 div.sk-parallel-item:only-child::after {width: 0;}#sk-container-id-5 div.sk-dashed-wrapped {border: 1px dashed gray;margin: 0 0.4em 0.5em 0.4em;box-sizing: border-box;padding-bottom: 0.4em;background-color: white;}#sk-container-id-5 div.sk-label label {font-family: monospace;font-weight: bold;display: inline-block;line-height: 1.2em;}#sk-container-id-5 div.sk-label-container {text-align: center;}#sk-container-id-5 div.sk-container {/* jupyter's `normalize.less` sets `[hidden] { display: none; }` but bootstrap.min.css set `[hidden] { display: none !important; }` so we also need the `!important` here to be able to override the default hidden behavior on the sphinx rendered scikit-learn.org. See: https://github.com/scikit-learn/scikit-learn/issues/21755 */display: inline-block !important;position: relative;}#sk-container-id-5 div.sk-text-repr-fallback {display: none;}</style><div id=\"sk-container-id-5\" class=\"sk-top-container\"><div class=\"sk-text-repr-fallback\"><pre>LinearRegression()</pre><b>In a Jupyter environment, please rerun this cell to show the HTML representation or trust the notebook. <br />On GitHub, the HTML representation is unable to render, please try loading this page with nbviewer.org.</b></div><div class=\"sk-container\" hidden><div class=\"sk-item\"><div class=\"sk-estimator sk-toggleable\"><input class=\"sk-toggleable__control sk-hidden--visually\" id=\"sk-estimator-id-5\" type=\"checkbox\" checked><label for=\"sk-estimator-id-5\" class=\"sk-toggleable__label sk-toggleable__label-arrow\">LinearRegression</label><div class=\"sk-toggleable__content\"><pre>LinearRegression()</pre></div></div></div></div></div>"
            ]
          },
          "metadata": {},
          "execution_count": 156
        }
      ],
      "source": [
        "# Step 3: Fit the model to the training data\n",
        "model.fit(X_train, y_train)"
      ]
    },
    {
      "cell_type": "code",
      "execution_count": 157,
      "metadata": {
        "tags": [],
        "id": "CQT-PXEEPGwg"
      },
      "outputs": [],
      "source": [
        "# Step 4: Obtain model predictions from the test data\n",
        "y_predicted = model.predict(X_test)"
      ]
    },
    {
      "cell_type": "code",
      "execution_count": 158,
      "metadata": {
        "tags": [],
        "colab": {
          "base_uri": "https://localhost:8080/"
        },
        "id": "-7c_rRW8PGwg",
        "outputId": "1964525b-c097-48e3-ec97-838a286e9cbb"
      },
      "outputs": [
        {
          "output_type": "execute_result",
          "data": {
            "text/plain": [
              "0.6766230658163466"
            ]
          },
          "metadata": {},
          "execution_count": 158
        }
      ],
      "source": [
        "# Step 5: Compare y_test to predictions and obtain performance metrics (r^2 score)\n",
        "r2_score(y_test, y_predicted)"
      ]
    },
    {
      "cell_type": "markdown",
      "metadata": {
        "id": "Ldrd1xuiPGwg"
      },
      "source": [
        "### Exploring the traditional method of fraud detection\n",
        "\n",
        "In this exercise you're going to try finding fraud cases in our credit card dataset the *\"old way\"*. First you'll define threshold values using common statistics, to split fraud and non-fraud. Then, use those thresholds on your features to detect fraud. This is common practice within fraud analytics teams.\n",
        "\n",
        "Statistical thresholds are often determined by looking at the **mean** values of observations. Let's start this exercise by checking whether feature **means differ between fraud and non-fraud cases**. Then, you'll use that information to create common sense thresholds. Finally, you'll check how well this performs in fraud detection.\n",
        "\n",
        "`pandas` has already been imported as `pd`.\n",
        "\n",
        "**Instructions**\n",
        "\n",
        "* Use `groupby()` to group `df` on `Class` and obtain the mean of the features.\n",
        "* Create the condition `V1` smaller than -3, and `V3` smaller than -5 as a condition to flag fraud cases.\n",
        "* As a measure of performance, use the `crosstab` function from `pandas` to compare our flagged fraud cases to actual fraud cases."
      ]
    },
    {
      "cell_type": "code",
      "execution_count": 159,
      "metadata": {
        "tags": [],
        "id": "IUnFkHP2PGwg"
      },
      "outputs": [],
      "source": [
        "df.drop(['Unnamed: 0'], axis=1, inplace=True)"
      ]
    },
    {
      "cell_type": "code",
      "execution_count": 160,
      "metadata": {
        "tags": [],
        "colab": {
          "base_uri": "https://localhost:8080/",
          "height": 163
        },
        "id": "7MpHLmgbPGwg",
        "outputId": "a27c66dd-b59b-4b90-b89d-b7fc6bb1ee91"
      },
      "outputs": [
        {
          "output_type": "execute_result",
          "data": {
            "text/plain": [
              "             V1        V2        V3        V4        V5        V6        V7  \\\n",
              "Class                                                                         \n",
              "0      0.035030  0.011553  0.037444 -0.045760 -0.013825 -0.030885  0.014315   \n",
              "1     -4.985211  3.321539 -7.293909  4.827952 -3.326587 -1.591882 -5.776541   \n",
              "\n",
              "             V8        V9       V10       V11       V12       V13       V14  \\\n",
              "Class                                                                         \n",
              "0     -0.022432 -0.002227  0.001667 -0.004511  0.017434  0.004204  0.006542   \n",
              "1      1.395058 -2.537728 -5.917934  4.020563 -7.032865 -0.104179 -7.100399   \n",
              "\n",
              "            V15       V16       V17       V18       V19       V20       V21  \\\n",
              "Class                                                                         \n",
              "0     -0.026640  0.001190  0.004481 -0.010892 -0.016554 -0.002896 -0.010583   \n",
              "1     -0.120265 -4.658854 -7.589219 -2.650436  0.894255  0.194580  0.703182   \n",
              "\n",
              "            V22       V23       V24       V25       V26       V27       V28  \\\n",
              "Class                                                                         \n",
              "0     -0.010206 -0.003305 -0.000918 -0.002613 -0.004651 -0.009584  0.002414   \n",
              "1      0.069065 -0.088374 -0.029425 -0.073336 -0.023377  0.380072  0.009304   \n",
              "\n",
              "           Amount  \n",
              "Class              \n",
              "0       85.843714  \n",
              "1      113.469000  "
            ],
            "text/html": [
              "\n",
              "  <div id=\"df-5cb4994a-76ba-49cf-9c85-570adde59872\" class=\"colab-df-container\">\n",
              "    <div>\n",
              "<style scoped>\n",
              "    .dataframe tbody tr th:only-of-type {\n",
              "        vertical-align: middle;\n",
              "    }\n",
              "\n",
              "    .dataframe tbody tr th {\n",
              "        vertical-align: top;\n",
              "    }\n",
              "\n",
              "    .dataframe thead th {\n",
              "        text-align: right;\n",
              "    }\n",
              "</style>\n",
              "<table border=\"1\" class=\"dataframe\">\n",
              "  <thead>\n",
              "    <tr style=\"text-align: right;\">\n",
              "      <th></th>\n",
              "      <th>V1</th>\n",
              "      <th>V2</th>\n",
              "      <th>V3</th>\n",
              "      <th>V4</th>\n",
              "      <th>V5</th>\n",
              "      <th>V6</th>\n",
              "      <th>V7</th>\n",
              "      <th>V8</th>\n",
              "      <th>V9</th>\n",
              "      <th>V10</th>\n",
              "      <th>V11</th>\n",
              "      <th>V12</th>\n",
              "      <th>V13</th>\n",
              "      <th>V14</th>\n",
              "      <th>V15</th>\n",
              "      <th>V16</th>\n",
              "      <th>V17</th>\n",
              "      <th>V18</th>\n",
              "      <th>V19</th>\n",
              "      <th>V20</th>\n",
              "      <th>V21</th>\n",
              "      <th>V22</th>\n",
              "      <th>V23</th>\n",
              "      <th>V24</th>\n",
              "      <th>V25</th>\n",
              "      <th>V26</th>\n",
              "      <th>V27</th>\n",
              "      <th>V28</th>\n",
              "      <th>Amount</th>\n",
              "    </tr>\n",
              "    <tr>\n",
              "      <th>Class</th>\n",
              "      <th></th>\n",
              "      <th></th>\n",
              "      <th></th>\n",
              "      <th></th>\n",
              "      <th></th>\n",
              "      <th></th>\n",
              "      <th></th>\n",
              "      <th></th>\n",
              "      <th></th>\n",
              "      <th></th>\n",
              "      <th></th>\n",
              "      <th></th>\n",
              "      <th></th>\n",
              "      <th></th>\n",
              "      <th></th>\n",
              "      <th></th>\n",
              "      <th></th>\n",
              "      <th></th>\n",
              "      <th></th>\n",
              "      <th></th>\n",
              "      <th></th>\n",
              "      <th></th>\n",
              "      <th></th>\n",
              "      <th></th>\n",
              "      <th></th>\n",
              "      <th></th>\n",
              "      <th></th>\n",
              "      <th></th>\n",
              "      <th></th>\n",
              "    </tr>\n",
              "  </thead>\n",
              "  <tbody>\n",
              "    <tr>\n",
              "      <th>0</th>\n",
              "      <td>0.035030</td>\n",
              "      <td>0.011553</td>\n",
              "      <td>0.037444</td>\n",
              "      <td>-0.045760</td>\n",
              "      <td>-0.013825</td>\n",
              "      <td>-0.030885</td>\n",
              "      <td>0.014315</td>\n",
              "      <td>-0.022432</td>\n",
              "      <td>-0.002227</td>\n",
              "      <td>0.001667</td>\n",
              "      <td>-0.004511</td>\n",
              "      <td>0.017434</td>\n",
              "      <td>0.004204</td>\n",
              "      <td>0.006542</td>\n",
              "      <td>-0.026640</td>\n",
              "      <td>0.001190</td>\n",
              "      <td>0.004481</td>\n",
              "      <td>-0.010892</td>\n",
              "      <td>-0.016554</td>\n",
              "      <td>-0.002896</td>\n",
              "      <td>-0.010583</td>\n",
              "      <td>-0.010206</td>\n",
              "      <td>-0.003305</td>\n",
              "      <td>-0.000918</td>\n",
              "      <td>-0.002613</td>\n",
              "      <td>-0.004651</td>\n",
              "      <td>-0.009584</td>\n",
              "      <td>0.002414</td>\n",
              "      <td>85.843714</td>\n",
              "    </tr>\n",
              "    <tr>\n",
              "      <th>1</th>\n",
              "      <td>-4.985211</td>\n",
              "      <td>3.321539</td>\n",
              "      <td>-7.293909</td>\n",
              "      <td>4.827952</td>\n",
              "      <td>-3.326587</td>\n",
              "      <td>-1.591882</td>\n",
              "      <td>-5.776541</td>\n",
              "      <td>1.395058</td>\n",
              "      <td>-2.537728</td>\n",
              "      <td>-5.917934</td>\n",
              "      <td>4.020563</td>\n",
              "      <td>-7.032865</td>\n",
              "      <td>-0.104179</td>\n",
              "      <td>-7.100399</td>\n",
              "      <td>-0.120265</td>\n",
              "      <td>-4.658854</td>\n",
              "      <td>-7.589219</td>\n",
              "      <td>-2.650436</td>\n",
              "      <td>0.894255</td>\n",
              "      <td>0.194580</td>\n",
              "      <td>0.703182</td>\n",
              "      <td>0.069065</td>\n",
              "      <td>-0.088374</td>\n",
              "      <td>-0.029425</td>\n",
              "      <td>-0.073336</td>\n",
              "      <td>-0.023377</td>\n",
              "      <td>0.380072</td>\n",
              "      <td>0.009304</td>\n",
              "      <td>113.469000</td>\n",
              "    </tr>\n",
              "  </tbody>\n",
              "</table>\n",
              "</div>\n",
              "    <div class=\"colab-df-buttons\">\n",
              "\n",
              "  <div class=\"colab-df-container\">\n",
              "    <button class=\"colab-df-convert\" onclick=\"convertToInteractive('df-5cb4994a-76ba-49cf-9c85-570adde59872')\"\n",
              "            title=\"Convert this dataframe to an interactive table.\"\n",
              "            style=\"display:none;\">\n",
              "\n",
              "  <svg xmlns=\"http://www.w3.org/2000/svg\" height=\"24px\" viewBox=\"0 -960 960 960\">\n",
              "    <path d=\"M120-120v-720h720v720H120Zm60-500h600v-160H180v160Zm220 220h160v-160H400v160Zm0 220h160v-160H400v160ZM180-400h160v-160H180v160Zm440 0h160v-160H620v160ZM180-180h160v-160H180v160Zm440 0h160v-160H620v160Z\"/>\n",
              "  </svg>\n",
              "    </button>\n",
              "\n",
              "  <style>\n",
              "    .colab-df-container {\n",
              "      display:flex;\n",
              "      gap: 12px;\n",
              "    }\n",
              "\n",
              "    .colab-df-convert {\n",
              "      background-color: #E8F0FE;\n",
              "      border: none;\n",
              "      border-radius: 50%;\n",
              "      cursor: pointer;\n",
              "      display: none;\n",
              "      fill: #1967D2;\n",
              "      height: 32px;\n",
              "      padding: 0 0 0 0;\n",
              "      width: 32px;\n",
              "    }\n",
              "\n",
              "    .colab-df-convert:hover {\n",
              "      background-color: #E2EBFA;\n",
              "      box-shadow: 0px 1px 2px rgba(60, 64, 67, 0.3), 0px 1px 3px 1px rgba(60, 64, 67, 0.15);\n",
              "      fill: #174EA6;\n",
              "    }\n",
              "\n",
              "    .colab-df-buttons div {\n",
              "      margin-bottom: 4px;\n",
              "    }\n",
              "\n",
              "    [theme=dark] .colab-df-convert {\n",
              "      background-color: #3B4455;\n",
              "      fill: #D2E3FC;\n",
              "    }\n",
              "\n",
              "    [theme=dark] .colab-df-convert:hover {\n",
              "      background-color: #434B5C;\n",
              "      box-shadow: 0px 1px 3px 1px rgba(0, 0, 0, 0.15);\n",
              "      filter: drop-shadow(0px 1px 2px rgba(0, 0, 0, 0.3));\n",
              "      fill: #FFFFFF;\n",
              "    }\n",
              "  </style>\n",
              "\n",
              "    <script>\n",
              "      const buttonEl =\n",
              "        document.querySelector('#df-5cb4994a-76ba-49cf-9c85-570adde59872 button.colab-df-convert');\n",
              "      buttonEl.style.display =\n",
              "        google.colab.kernel.accessAllowed ? 'block' : 'none';\n",
              "\n",
              "      async function convertToInteractive(key) {\n",
              "        const element = document.querySelector('#df-5cb4994a-76ba-49cf-9c85-570adde59872');\n",
              "        const dataTable =\n",
              "          await google.colab.kernel.invokeFunction('convertToInteractive',\n",
              "                                                    [key], {});\n",
              "        if (!dataTable) return;\n",
              "\n",
              "        const docLinkHtml = 'Like what you see? Visit the ' +\n",
              "          '<a target=\"_blank\" href=https://colab.research.google.com/notebooks/data_table.ipynb>data table notebook</a>'\n",
              "          + ' to learn more about interactive tables.';\n",
              "        element.innerHTML = '';\n",
              "        dataTable['output_type'] = 'display_data';\n",
              "        await google.colab.output.renderOutput(dataTable, element);\n",
              "        const docLink = document.createElement('div');\n",
              "        docLink.innerHTML = docLinkHtml;\n",
              "        element.appendChild(docLink);\n",
              "      }\n",
              "    </script>\n",
              "  </div>\n",
              "\n",
              "\n",
              "<div id=\"df-7001976a-fe14-4e57-bbe8-454f8f0e9d6a\">\n",
              "  <button class=\"colab-df-quickchart\" onclick=\"quickchart('df-7001976a-fe14-4e57-bbe8-454f8f0e9d6a')\"\n",
              "            title=\"Suggest charts\"\n",
              "            style=\"display:none;\">\n",
              "\n",
              "<svg xmlns=\"http://www.w3.org/2000/svg\" height=\"24px\"viewBox=\"0 0 24 24\"\n",
              "     width=\"24px\">\n",
              "    <g>\n",
              "        <path d=\"M19 3H5c-1.1 0-2 .9-2 2v14c0 1.1.9 2 2 2h14c1.1 0 2-.9 2-2V5c0-1.1-.9-2-2-2zM9 17H7v-7h2v7zm4 0h-2V7h2v10zm4 0h-2v-4h2v4z\"/>\n",
              "    </g>\n",
              "</svg>\n",
              "  </button>\n",
              "\n",
              "<style>\n",
              "  .colab-df-quickchart {\n",
              "      --bg-color: #E8F0FE;\n",
              "      --fill-color: #1967D2;\n",
              "      --hover-bg-color: #E2EBFA;\n",
              "      --hover-fill-color: #174EA6;\n",
              "      --disabled-fill-color: #AAA;\n",
              "      --disabled-bg-color: #DDD;\n",
              "  }\n",
              "\n",
              "  [theme=dark] .colab-df-quickchart {\n",
              "      --bg-color: #3B4455;\n",
              "      --fill-color: #D2E3FC;\n",
              "      --hover-bg-color: #434B5C;\n",
              "      --hover-fill-color: #FFFFFF;\n",
              "      --disabled-bg-color: #3B4455;\n",
              "      --disabled-fill-color: #666;\n",
              "  }\n",
              "\n",
              "  .colab-df-quickchart {\n",
              "    background-color: var(--bg-color);\n",
              "    border: none;\n",
              "    border-radius: 50%;\n",
              "    cursor: pointer;\n",
              "    display: none;\n",
              "    fill: var(--fill-color);\n",
              "    height: 32px;\n",
              "    padding: 0;\n",
              "    width: 32px;\n",
              "  }\n",
              "\n",
              "  .colab-df-quickchart:hover {\n",
              "    background-color: var(--hover-bg-color);\n",
              "    box-shadow: 0 1px 2px rgba(60, 64, 67, 0.3), 0 1px 3px 1px rgba(60, 64, 67, 0.15);\n",
              "    fill: var(--button-hover-fill-color);\n",
              "  }\n",
              "\n",
              "  .colab-df-quickchart-complete:disabled,\n",
              "  .colab-df-quickchart-complete:disabled:hover {\n",
              "    background-color: var(--disabled-bg-color);\n",
              "    fill: var(--disabled-fill-color);\n",
              "    box-shadow: none;\n",
              "  }\n",
              "\n",
              "  .colab-df-spinner {\n",
              "    border: 2px solid var(--fill-color);\n",
              "    border-color: transparent;\n",
              "    border-bottom-color: var(--fill-color);\n",
              "    animation:\n",
              "      spin 1s steps(1) infinite;\n",
              "  }\n",
              "\n",
              "  @keyframes spin {\n",
              "    0% {\n",
              "      border-color: transparent;\n",
              "      border-bottom-color: var(--fill-color);\n",
              "      border-left-color: var(--fill-color);\n",
              "    }\n",
              "    20% {\n",
              "      border-color: transparent;\n",
              "      border-left-color: var(--fill-color);\n",
              "      border-top-color: var(--fill-color);\n",
              "    }\n",
              "    30% {\n",
              "      border-color: transparent;\n",
              "      border-left-color: var(--fill-color);\n",
              "      border-top-color: var(--fill-color);\n",
              "      border-right-color: var(--fill-color);\n",
              "    }\n",
              "    40% {\n",
              "      border-color: transparent;\n",
              "      border-right-color: var(--fill-color);\n",
              "      border-top-color: var(--fill-color);\n",
              "    }\n",
              "    60% {\n",
              "      border-color: transparent;\n",
              "      border-right-color: var(--fill-color);\n",
              "    }\n",
              "    80% {\n",
              "      border-color: transparent;\n",
              "      border-right-color: var(--fill-color);\n",
              "      border-bottom-color: var(--fill-color);\n",
              "    }\n",
              "    90% {\n",
              "      border-color: transparent;\n",
              "      border-bottom-color: var(--fill-color);\n",
              "    }\n",
              "  }\n",
              "</style>\n",
              "\n",
              "  <script>\n",
              "    async function quickchart(key) {\n",
              "      const quickchartButtonEl =\n",
              "        document.querySelector('#' + key + ' button');\n",
              "      quickchartButtonEl.disabled = true;  // To prevent multiple clicks.\n",
              "      quickchartButtonEl.classList.add('colab-df-spinner');\n",
              "      try {\n",
              "        const charts = await google.colab.kernel.invokeFunction(\n",
              "            'suggestCharts', [key], {});\n",
              "      } catch (error) {\n",
              "        console.error('Error during call to suggestCharts:', error);\n",
              "      }\n",
              "      quickchartButtonEl.classList.remove('colab-df-spinner');\n",
              "      quickchartButtonEl.classList.add('colab-df-quickchart-complete');\n",
              "    }\n",
              "    (() => {\n",
              "      let quickchartButtonEl =\n",
              "        document.querySelector('#df-7001976a-fe14-4e57-bbe8-454f8f0e9d6a button');\n",
              "      quickchartButtonEl.style.display =\n",
              "        google.colab.kernel.accessAllowed ? 'block' : 'none';\n",
              "    })();\n",
              "  </script>\n",
              "</div>\n",
              "    </div>\n",
              "  </div>\n"
            ],
            "application/vnd.google.colaboratory.intrinsic+json": {
              "type": "dataframe"
            }
          },
          "metadata": {},
          "execution_count": 160
        }
      ],
      "source": [
        "df.groupby('Class').mean()"
      ]
    },
    {
      "cell_type": "code",
      "execution_count": 161,
      "metadata": {
        "tags": [],
        "id": "OF53R5nfPGwg"
      },
      "outputs": [],
      "source": [
        "df['flag_as_fraud'] = np.where(np.logical_and(df.V1 < -3, df.V3 < -5), 1, 0)"
      ]
    },
    {
      "cell_type": "code",
      "execution_count": 162,
      "metadata": {
        "tags": [],
        "colab": {
          "base_uri": "https://localhost:8080/",
          "height": 143
        },
        "id": "hy84Wv8wPGwg",
        "outputId": "e19e1940-94f4-4e1c-827e-dfe7d8686aa8"
      },
      "outputs": [
        {
          "output_type": "execute_result",
          "data": {
            "text/plain": [
              "Flagged Fraud     0   1\n",
              "Actual Fraud           \n",
              "0              4984  16\n",
              "1                28  22"
            ],
            "text/html": [
              "\n",
              "  <div id=\"df-7b6ee9ae-b321-4822-ba18-1c03e6127d7c\" class=\"colab-df-container\">\n",
              "    <div>\n",
              "<style scoped>\n",
              "    .dataframe tbody tr th:only-of-type {\n",
              "        vertical-align: middle;\n",
              "    }\n",
              "\n",
              "    .dataframe tbody tr th {\n",
              "        vertical-align: top;\n",
              "    }\n",
              "\n",
              "    .dataframe thead th {\n",
              "        text-align: right;\n",
              "    }\n",
              "</style>\n",
              "<table border=\"1\" class=\"dataframe\">\n",
              "  <thead>\n",
              "    <tr style=\"text-align: right;\">\n",
              "      <th>Flagged Fraud</th>\n",
              "      <th>0</th>\n",
              "      <th>1</th>\n",
              "    </tr>\n",
              "    <tr>\n",
              "      <th>Actual Fraud</th>\n",
              "      <th></th>\n",
              "      <th></th>\n",
              "    </tr>\n",
              "  </thead>\n",
              "  <tbody>\n",
              "    <tr>\n",
              "      <th>0</th>\n",
              "      <td>4984</td>\n",
              "      <td>16</td>\n",
              "    </tr>\n",
              "    <tr>\n",
              "      <th>1</th>\n",
              "      <td>28</td>\n",
              "      <td>22</td>\n",
              "    </tr>\n",
              "  </tbody>\n",
              "</table>\n",
              "</div>\n",
              "    <div class=\"colab-df-buttons\">\n",
              "\n",
              "  <div class=\"colab-df-container\">\n",
              "    <button class=\"colab-df-convert\" onclick=\"convertToInteractive('df-7b6ee9ae-b321-4822-ba18-1c03e6127d7c')\"\n",
              "            title=\"Convert this dataframe to an interactive table.\"\n",
              "            style=\"display:none;\">\n",
              "\n",
              "  <svg xmlns=\"http://www.w3.org/2000/svg\" height=\"24px\" viewBox=\"0 -960 960 960\">\n",
              "    <path d=\"M120-120v-720h720v720H120Zm60-500h600v-160H180v160Zm220 220h160v-160H400v160Zm0 220h160v-160H400v160ZM180-400h160v-160H180v160Zm440 0h160v-160H620v160ZM180-180h160v-160H180v160Zm440 0h160v-160H620v160Z\"/>\n",
              "  </svg>\n",
              "    </button>\n",
              "\n",
              "  <style>\n",
              "    .colab-df-container {\n",
              "      display:flex;\n",
              "      gap: 12px;\n",
              "    }\n",
              "\n",
              "    .colab-df-convert {\n",
              "      background-color: #E8F0FE;\n",
              "      border: none;\n",
              "      border-radius: 50%;\n",
              "      cursor: pointer;\n",
              "      display: none;\n",
              "      fill: #1967D2;\n",
              "      height: 32px;\n",
              "      padding: 0 0 0 0;\n",
              "      width: 32px;\n",
              "    }\n",
              "\n",
              "    .colab-df-convert:hover {\n",
              "      background-color: #E2EBFA;\n",
              "      box-shadow: 0px 1px 2px rgba(60, 64, 67, 0.3), 0px 1px 3px 1px rgba(60, 64, 67, 0.15);\n",
              "      fill: #174EA6;\n",
              "    }\n",
              "\n",
              "    .colab-df-buttons div {\n",
              "      margin-bottom: 4px;\n",
              "    }\n",
              "\n",
              "    [theme=dark] .colab-df-convert {\n",
              "      background-color: #3B4455;\n",
              "      fill: #D2E3FC;\n",
              "    }\n",
              "\n",
              "    [theme=dark] .colab-df-convert:hover {\n",
              "      background-color: #434B5C;\n",
              "      box-shadow: 0px 1px 3px 1px rgba(0, 0, 0, 0.15);\n",
              "      filter: drop-shadow(0px 1px 2px rgba(0, 0, 0, 0.3));\n",
              "      fill: #FFFFFF;\n",
              "    }\n",
              "  </style>\n",
              "\n",
              "    <script>\n",
              "      const buttonEl =\n",
              "        document.querySelector('#df-7b6ee9ae-b321-4822-ba18-1c03e6127d7c button.colab-df-convert');\n",
              "      buttonEl.style.display =\n",
              "        google.colab.kernel.accessAllowed ? 'block' : 'none';\n",
              "\n",
              "      async function convertToInteractive(key) {\n",
              "        const element = document.querySelector('#df-7b6ee9ae-b321-4822-ba18-1c03e6127d7c');\n",
              "        const dataTable =\n",
              "          await google.colab.kernel.invokeFunction('convertToInteractive',\n",
              "                                                    [key], {});\n",
              "        if (!dataTable) return;\n",
              "\n",
              "        const docLinkHtml = 'Like what you see? Visit the ' +\n",
              "          '<a target=\"_blank\" href=https://colab.research.google.com/notebooks/data_table.ipynb>data table notebook</a>'\n",
              "          + ' to learn more about interactive tables.';\n",
              "        element.innerHTML = '';\n",
              "        dataTable['output_type'] = 'display_data';\n",
              "        await google.colab.output.renderOutput(dataTable, element);\n",
              "        const docLink = document.createElement('div');\n",
              "        docLink.innerHTML = docLinkHtml;\n",
              "        element.appendChild(docLink);\n",
              "      }\n",
              "    </script>\n",
              "  </div>\n",
              "\n",
              "\n",
              "<div id=\"df-9d01a5fd-c942-40fa-b20d-cb60717209e6\">\n",
              "  <button class=\"colab-df-quickchart\" onclick=\"quickchart('df-9d01a5fd-c942-40fa-b20d-cb60717209e6')\"\n",
              "            title=\"Suggest charts\"\n",
              "            style=\"display:none;\">\n",
              "\n",
              "<svg xmlns=\"http://www.w3.org/2000/svg\" height=\"24px\"viewBox=\"0 0 24 24\"\n",
              "     width=\"24px\">\n",
              "    <g>\n",
              "        <path d=\"M19 3H5c-1.1 0-2 .9-2 2v14c0 1.1.9 2 2 2h14c1.1 0 2-.9 2-2V5c0-1.1-.9-2-2-2zM9 17H7v-7h2v7zm4 0h-2V7h2v10zm4 0h-2v-4h2v4z\"/>\n",
              "    </g>\n",
              "</svg>\n",
              "  </button>\n",
              "\n",
              "<style>\n",
              "  .colab-df-quickchart {\n",
              "      --bg-color: #E8F0FE;\n",
              "      --fill-color: #1967D2;\n",
              "      --hover-bg-color: #E2EBFA;\n",
              "      --hover-fill-color: #174EA6;\n",
              "      --disabled-fill-color: #AAA;\n",
              "      --disabled-bg-color: #DDD;\n",
              "  }\n",
              "\n",
              "  [theme=dark] .colab-df-quickchart {\n",
              "      --bg-color: #3B4455;\n",
              "      --fill-color: #D2E3FC;\n",
              "      --hover-bg-color: #434B5C;\n",
              "      --hover-fill-color: #FFFFFF;\n",
              "      --disabled-bg-color: #3B4455;\n",
              "      --disabled-fill-color: #666;\n",
              "  }\n",
              "\n",
              "  .colab-df-quickchart {\n",
              "    background-color: var(--bg-color);\n",
              "    border: none;\n",
              "    border-radius: 50%;\n",
              "    cursor: pointer;\n",
              "    display: none;\n",
              "    fill: var(--fill-color);\n",
              "    height: 32px;\n",
              "    padding: 0;\n",
              "    width: 32px;\n",
              "  }\n",
              "\n",
              "  .colab-df-quickchart:hover {\n",
              "    background-color: var(--hover-bg-color);\n",
              "    box-shadow: 0 1px 2px rgba(60, 64, 67, 0.3), 0 1px 3px 1px rgba(60, 64, 67, 0.15);\n",
              "    fill: var(--button-hover-fill-color);\n",
              "  }\n",
              "\n",
              "  .colab-df-quickchart-complete:disabled,\n",
              "  .colab-df-quickchart-complete:disabled:hover {\n",
              "    background-color: var(--disabled-bg-color);\n",
              "    fill: var(--disabled-fill-color);\n",
              "    box-shadow: none;\n",
              "  }\n",
              "\n",
              "  .colab-df-spinner {\n",
              "    border: 2px solid var(--fill-color);\n",
              "    border-color: transparent;\n",
              "    border-bottom-color: var(--fill-color);\n",
              "    animation:\n",
              "      spin 1s steps(1) infinite;\n",
              "  }\n",
              "\n",
              "  @keyframes spin {\n",
              "    0% {\n",
              "      border-color: transparent;\n",
              "      border-bottom-color: var(--fill-color);\n",
              "      border-left-color: var(--fill-color);\n",
              "    }\n",
              "    20% {\n",
              "      border-color: transparent;\n",
              "      border-left-color: var(--fill-color);\n",
              "      border-top-color: var(--fill-color);\n",
              "    }\n",
              "    30% {\n",
              "      border-color: transparent;\n",
              "      border-left-color: var(--fill-color);\n",
              "      border-top-color: var(--fill-color);\n",
              "      border-right-color: var(--fill-color);\n",
              "    }\n",
              "    40% {\n",
              "      border-color: transparent;\n",
              "      border-right-color: var(--fill-color);\n",
              "      border-top-color: var(--fill-color);\n",
              "    }\n",
              "    60% {\n",
              "      border-color: transparent;\n",
              "      border-right-color: var(--fill-color);\n",
              "    }\n",
              "    80% {\n",
              "      border-color: transparent;\n",
              "      border-right-color: var(--fill-color);\n",
              "      border-bottom-color: var(--fill-color);\n",
              "    }\n",
              "    90% {\n",
              "      border-color: transparent;\n",
              "      border-bottom-color: var(--fill-color);\n",
              "    }\n",
              "  }\n",
              "</style>\n",
              "\n",
              "  <script>\n",
              "    async function quickchart(key) {\n",
              "      const quickchartButtonEl =\n",
              "        document.querySelector('#' + key + ' button');\n",
              "      quickchartButtonEl.disabled = true;  // To prevent multiple clicks.\n",
              "      quickchartButtonEl.classList.add('colab-df-spinner');\n",
              "      try {\n",
              "        const charts = await google.colab.kernel.invokeFunction(\n",
              "            'suggestCharts', [key], {});\n",
              "      } catch (error) {\n",
              "        console.error('Error during call to suggestCharts:', error);\n",
              "      }\n",
              "      quickchartButtonEl.classList.remove('colab-df-spinner');\n",
              "      quickchartButtonEl.classList.add('colab-df-quickchart-complete');\n",
              "    }\n",
              "    (() => {\n",
              "      let quickchartButtonEl =\n",
              "        document.querySelector('#df-9d01a5fd-c942-40fa-b20d-cb60717209e6 button');\n",
              "      quickchartButtonEl.style.display =\n",
              "        google.colab.kernel.accessAllowed ? 'block' : 'none';\n",
              "    })();\n",
              "  </script>\n",
              "</div>\n",
              "    </div>\n",
              "  </div>\n"
            ],
            "application/vnd.google.colaboratory.intrinsic+json": {
              "type": "dataframe",
              "summary": "{\n  \"name\": \"pd\",\n  \"rows\": 2,\n  \"fields\": [\n    {\n      \"column\": \"Actual Fraud\",\n      \"properties\": {\n        \"dtype\": \"number\",\n        \"std\": 0,\n        \"min\": 0,\n        \"max\": 1,\n        \"num_unique_values\": 2,\n        \"samples\": [\n          1,\n          0\n        ],\n        \"semantic_type\": \"\",\n        \"description\": \"\"\n      }\n    },\n    {\n      \"column\": 0,\n      \"properties\": {\n        \"dtype\": \"number\",\n        \"std\": 3504,\n        \"min\": 28,\n        \"max\": 4984,\n        \"num_unique_values\": 2,\n        \"samples\": [\n          28,\n          4984\n        ],\n        \"semantic_type\": \"\",\n        \"description\": \"\"\n      }\n    },\n    {\n      \"column\": 1,\n      \"properties\": {\n        \"dtype\": \"number\",\n        \"std\": 4,\n        \"min\": 16,\n        \"max\": 22,\n        \"num_unique_values\": 2,\n        \"samples\": [\n          22,\n          16\n        ],\n        \"semantic_type\": \"\",\n        \"description\": \"\"\n      }\n    }\n  ]\n}"
            }
          },
          "metadata": {},
          "execution_count": 162
        }
      ],
      "source": [
        "pd.crosstab(df.Class, df.flag_as_fraud, rownames=['Actual Fraud'], colnames=['Flagged Fraud'])"
      ]
    },
    {
      "cell_type": "markdown",
      "metadata": {
        "id": "a0PFOs6tPGwg"
      },
      "source": [
        "**With this rule, 22 out of 50 fraud cases are detected, 28 are not detected, and 16 false positives are identified.**"
      ]
    },
    {
      "cell_type": "markdown",
      "metadata": {
        "id": "xvsy-C5GPGwg"
      },
      "source": [
        "### Using ML classification to catch fraud\n",
        "\n",
        "In this exercise you'll see what happens when you use a simple machine learning model on our credit card data instead.\n",
        "\n",
        "Do you think you can beat those results? Remember, you've predicted *22 out of 50* fraud cases, and had *16 false positives*.\n",
        "\n",
        "So with that in mind, let's implement a **Logistic Regression** model. If you have taken the class on supervised learning in Python, you should be familiar with this model. If not, you might want to refresh that at this point. But don't worry, you'll be guided through the structure of the machine learning model.\n",
        "\n",
        "The `X` and `y` variables are available in your workspace.\n",
        "\n",
        "**Instructions**\n",
        "\n",
        "* Split `X` and `y` into training and test data, keeping 30% of the data for testing.\n",
        "* Fit your model to your training data.\n",
        "* Obtain the model predicted labels by running `model.predict` on `X_test`.\n",
        "* Obtain a classification comparing `y_test` with `predicted`, and use the given confusion matrix to check your results."
      ]
    },
    {
      "cell_type": "code",
      "execution_count": 163,
      "metadata": {
        "tags": [],
        "id": "kJuhiNYEPGwg"
      },
      "outputs": [],
      "source": [
        "# Create the training and testing sets\n",
        "X_train, X_test, y_train, y_test = train_test_split(X, y, test_size=0.3, random_state=0)"
      ]
    },
    {
      "cell_type": "code",
      "execution_count": 164,
      "metadata": {
        "tags": [],
        "colab": {
          "base_uri": "https://localhost:8080/",
          "height": 75
        },
        "id": "6hZuY8iYPGwg",
        "outputId": "b0d3404a-1d0b-4163-b54f-024b2b8195ee"
      },
      "outputs": [
        {
          "output_type": "execute_result",
          "data": {
            "text/plain": [
              "LogisticRegression(solver='liblinear')"
            ],
            "text/html": [
              "<style>#sk-container-id-6 {color: black;background-color: white;}#sk-container-id-6 pre{padding: 0;}#sk-container-id-6 div.sk-toggleable {background-color: white;}#sk-container-id-6 label.sk-toggleable__label {cursor: pointer;display: block;width: 100%;margin-bottom: 0;padding: 0.3em;box-sizing: border-box;text-align: center;}#sk-container-id-6 label.sk-toggleable__label-arrow:before {content: \"▸\";float: left;margin-right: 0.25em;color: #696969;}#sk-container-id-6 label.sk-toggleable__label-arrow:hover:before {color: black;}#sk-container-id-6 div.sk-estimator:hover label.sk-toggleable__label-arrow:before {color: black;}#sk-container-id-6 div.sk-toggleable__content {max-height: 0;max-width: 0;overflow: hidden;text-align: left;background-color: #f0f8ff;}#sk-container-id-6 div.sk-toggleable__content pre {margin: 0.2em;color: black;border-radius: 0.25em;background-color: #f0f8ff;}#sk-container-id-6 input.sk-toggleable__control:checked~div.sk-toggleable__content {max-height: 200px;max-width: 100%;overflow: auto;}#sk-container-id-6 input.sk-toggleable__control:checked~label.sk-toggleable__label-arrow:before {content: \"▾\";}#sk-container-id-6 div.sk-estimator input.sk-toggleable__control:checked~label.sk-toggleable__label {background-color: #d4ebff;}#sk-container-id-6 div.sk-label input.sk-toggleable__control:checked~label.sk-toggleable__label {background-color: #d4ebff;}#sk-container-id-6 input.sk-hidden--visually {border: 0;clip: rect(1px 1px 1px 1px);clip: rect(1px, 1px, 1px, 1px);height: 1px;margin: -1px;overflow: hidden;padding: 0;position: absolute;width: 1px;}#sk-container-id-6 div.sk-estimator {font-family: monospace;background-color: #f0f8ff;border: 1px dotted black;border-radius: 0.25em;box-sizing: border-box;margin-bottom: 0.5em;}#sk-container-id-6 div.sk-estimator:hover {background-color: #d4ebff;}#sk-container-id-6 div.sk-parallel-item::after {content: \"\";width: 100%;border-bottom: 1px solid gray;flex-grow: 1;}#sk-container-id-6 div.sk-label:hover label.sk-toggleable__label {background-color: #d4ebff;}#sk-container-id-6 div.sk-serial::before {content: \"\";position: absolute;border-left: 1px solid gray;box-sizing: border-box;top: 0;bottom: 0;left: 50%;z-index: 0;}#sk-container-id-6 div.sk-serial {display: flex;flex-direction: column;align-items: center;background-color: white;padding-right: 0.2em;padding-left: 0.2em;position: relative;}#sk-container-id-6 div.sk-item {position: relative;z-index: 1;}#sk-container-id-6 div.sk-parallel {display: flex;align-items: stretch;justify-content: center;background-color: white;position: relative;}#sk-container-id-6 div.sk-item::before, #sk-container-id-6 div.sk-parallel-item::before {content: \"\";position: absolute;border-left: 1px solid gray;box-sizing: border-box;top: 0;bottom: 0;left: 50%;z-index: -1;}#sk-container-id-6 div.sk-parallel-item {display: flex;flex-direction: column;z-index: 1;position: relative;background-color: white;}#sk-container-id-6 div.sk-parallel-item:first-child::after {align-self: flex-end;width: 50%;}#sk-container-id-6 div.sk-parallel-item:last-child::after {align-self: flex-start;width: 50%;}#sk-container-id-6 div.sk-parallel-item:only-child::after {width: 0;}#sk-container-id-6 div.sk-dashed-wrapped {border: 1px dashed gray;margin: 0 0.4em 0.5em 0.4em;box-sizing: border-box;padding-bottom: 0.4em;background-color: white;}#sk-container-id-6 div.sk-label label {font-family: monospace;font-weight: bold;display: inline-block;line-height: 1.2em;}#sk-container-id-6 div.sk-label-container {text-align: center;}#sk-container-id-6 div.sk-container {/* jupyter's `normalize.less` sets `[hidden] { display: none; }` but bootstrap.min.css set `[hidden] { display: none !important; }` so we also need the `!important` here to be able to override the default hidden behavior on the sphinx rendered scikit-learn.org. See: https://github.com/scikit-learn/scikit-learn/issues/21755 */display: inline-block !important;position: relative;}#sk-container-id-6 div.sk-text-repr-fallback {display: none;}</style><div id=\"sk-container-id-6\" class=\"sk-top-container\"><div class=\"sk-text-repr-fallback\"><pre>LogisticRegression(solver=&#x27;liblinear&#x27;)</pre><b>In a Jupyter environment, please rerun this cell to show the HTML representation or trust the notebook. <br />On GitHub, the HTML representation is unable to render, please try loading this page with nbviewer.org.</b></div><div class=\"sk-container\" hidden><div class=\"sk-item\"><div class=\"sk-estimator sk-toggleable\"><input class=\"sk-toggleable__control sk-hidden--visually\" id=\"sk-estimator-id-6\" type=\"checkbox\" checked><label for=\"sk-estimator-id-6\" class=\"sk-toggleable__label sk-toggleable__label-arrow\">LogisticRegression</label><div class=\"sk-toggleable__content\"><pre>LogisticRegression(solver=&#x27;liblinear&#x27;)</pre></div></div></div></div></div>"
            ]
          },
          "metadata": {},
          "execution_count": 164
        }
      ],
      "source": [
        "# Fit a logistic regression model to our data\n",
        "model = LogisticRegression(solver='liblinear')\n",
        "model.fit(X_train, y_train)"
      ]
    },
    {
      "cell_type": "code",
      "execution_count": 165,
      "metadata": {
        "tags": [],
        "id": "2VxeJWynPGwh"
      },
      "outputs": [],
      "source": [
        "# Obtain model predictions\n",
        "predicted = model.predict(X_test)"
      ]
    },
    {
      "cell_type": "code",
      "execution_count": 166,
      "metadata": {
        "tags": [],
        "colab": {
          "base_uri": "https://localhost:8080/"
        },
        "id": "VrRZIfp4PGwh",
        "outputId": "590f1b18-e1c4-4afd-e1cb-dc4d52198468"
      },
      "outputs": [
        {
          "output_type": "stream",
          "name": "stdout",
          "text": [
            "Classification report:\n",
            "               precision    recall  f1-score   support\n",
            "\n",
            "           0       1.00      1.00      1.00      1505\n",
            "           1       0.89      0.80      0.84        10\n",
            "\n",
            "    accuracy                           1.00      1515\n",
            "   macro avg       0.94      0.90      0.92      1515\n",
            "weighted avg       1.00      1.00      1.00      1515\n",
            "\n",
            "Confusion matrix:\n",
            " [[1504    1]\n",
            " [   2    8]]\n"
          ]
        }
      ],
      "source": [
        "# Print the classifcation report and confusion matrix\n",
        "print('Classification report:\\n', classification_report(y_test, predicted))\n",
        "conf_mat = confusion_matrix(y_true=y_test, y_pred=predicted)\n",
        "print('Confusion matrix:\\n', conf_mat)"
      ]
    },
    {
      "cell_type": "markdown",
      "metadata": {
        "id": "lCrQh73tPGwh"
      },
      "source": [
        "**Do you think these results are better than the rules based model? We are getting far fewer false positives, so that's an improvement. Also, we're catching a higher percentage of fraud cases, so that is also better than before. Do you understand why we have fewer observations to look at in the confusion matrix? Remember we are using only our test data to calculate the model results on. We're comparing the crosstab on the full dataset from the last exercise, with a confusion matrix of only 30% of the total dataset, so that's where that difference comes from. In the next chapter, we'll dive deeper into understanding these model performance metrics. Let's now explore whether we can improve the prediction results even further with resampling methods.**"
      ]
    },
    {
      "cell_type": "markdown",
      "metadata": {
        "id": "diqDZ-uhPGwh"
      },
      "source": [
        "### Logistic regression with SMOTE\n",
        "\n",
        "In this exercise, you're going to take the Logistic Regression model from the previous exercise, and combine that with a **SMOTE resampling method**. We'll show you how to do that efficiently by using a pipeline that combines the resampling method with the model in one go. First, you need to define the pipeline that you're going to use.\n",
        "\n",
        "**Instructions**\n",
        "\n",
        "* Import the `Pipeline` module from `imblearn`, this has been done for you.\n",
        "* Then define what you want to put into the pipeline, assign the `SMOTE` method with `borderline2` to `resampling`, and assign `LogisticRegression()` to the `model`.\n",
        "* Combine two steps in the `Pipeline()` function. You need to state you want to combine `resampling` with the `model` in the respective place in the argument. I show you how to do this."
      ]
    },
    {
      "cell_type": "code",
      "execution_count": 167,
      "metadata": {
        "tags": [],
        "id": "obTSacDCPGwh"
      },
      "outputs": [],
      "source": [
        "# Define which resampling method and which ML model to use in the pipeline\n",
        "# resampling = SMOTE(kind='borderline2')  # has been changed to BorderlineSMOTE\n",
        "resampling = BorderlineSMOTE()\n",
        "model = LogisticRegression(solver='liblinear')"
      ]
    },
    {
      "cell_type": "code",
      "execution_count": 168,
      "metadata": {
        "tags": [],
        "id": "_gESsnquPGwh"
      },
      "outputs": [],
      "source": [
        "pipeline = Pipeline([('SMOTE', resampling), ('Logistic Regression', model)])"
      ]
    },
    {
      "cell_type": "markdown",
      "metadata": {
        "id": "V__7eH0sPGwh"
      },
      "source": [
        "### Pipelining\n",
        "\n",
        "Now that you have our pipeline defined, aka **combining a logistic regression with a SMOTE method**, let's run it on the data. You can treat the pipeline as if it were a **single machine learning model**. Our data X and y are already defined, and the pipeline is defined in the previous exercise. Are you curious to find out what the model results are? Let's give it a try!\n",
        "\n",
        "**Instructions**\n",
        "\n",
        "* Split the data 'X'and 'y' into the training and test set. Set aside 30% of the data for a test set, and set the `random_state` to zero.\n",
        "* Fit your pipeline onto your training data and obtain the predictions by running the `pipeline.predict()` function on our `X_test` dataset."
      ]
    },
    {
      "cell_type": "code",
      "execution_count": 169,
      "metadata": {
        "tags": [],
        "id": "YlZ9mjnCPGwh"
      },
      "outputs": [],
      "source": [
        "# Split your data X and y, into a training and a test set and fit the pipeline onto the training data\n",
        "X_train, X_test, y_train, y_test = train_test_split(X, y, test_size=0.3, random_state=0)"
      ]
    },
    {
      "cell_type": "code",
      "execution_count": 170,
      "metadata": {
        "tags": [],
        "id": "xB4fa6LIPGwh"
      },
      "outputs": [],
      "source": [
        "pipeline.fit(X_train, y_train)\n",
        "predicted = pipeline.predict(X_test)"
      ]
    },
    {
      "cell_type": "code",
      "execution_count": 171,
      "metadata": {
        "tags": [],
        "colab": {
          "base_uri": "https://localhost:8080/"
        },
        "id": "-v7ABec3PGwh",
        "outputId": "3cb91c5d-6fa4-4e93-96fd-e2ef581821d8"
      },
      "outputs": [
        {
          "output_type": "stream",
          "name": "stdout",
          "text": [
            "Classifcation report:\n",
            "               precision    recall  f1-score   support\n",
            "\n",
            "           0       1.00      1.00      1.00      1505\n",
            "           1       0.59      1.00      0.74        10\n",
            "\n",
            "    accuracy                           1.00      1515\n",
            "   macro avg       0.79      1.00      0.87      1515\n",
            "weighted avg       1.00      1.00      1.00      1515\n",
            "\n",
            "Confusion matrix:\n",
            " [[1498    7]\n",
            " [   0   10]]\n"
          ]
        }
      ],
      "source": [
        "# Obtain the results from the classification report and confusion matrix\n",
        "print('Classifcation report:\\n', classification_report(y_test, predicted))\n",
        "conf_mat = confusion_matrix(y_true=y_test, y_pred=predicted)\n",
        "print('Confusion matrix:\\n', conf_mat)"
      ]
    },
    {
      "cell_type": "markdown",
      "metadata": {
        "id": "_zSzosLaPGwh"
      },
      "source": [
        "**As you can see, the SMOTE slightly improves our results. We now manage to find all cases of fraud, but we have a slightly higher number of false positives, albeit only 7 cases. Remember, resampling doesn't necessarily lead to better results. When the fraud cases are very spread and scattered over the data, using SMOTE can introduce a bit of bias. Nearest neighbors aren't necessarily also fraud cases, so the synthetic samples might 'confuse' the model slightly. In the next chapters, we'll learn how to also adjust our machine learning models to better detect the minority fraud cases.**"
      ]
    },
    {
      "cell_type": "markdown",
      "metadata": {
        "id": "OGLq4LbMPGwh"
      },
      "source": [
        "# Fraud detection using labeled data\n",
        "\n",
        "Learn how to flag fraudulent transactions with supervised learning. Use classifiers, adjust and compare them to find the most efficient fraud detection model."
      ]
    },
    {
      "cell_type": "markdown",
      "metadata": {
        "id": "ETEOYkTzPGwh"
      },
      "source": [
        "## Review classification methods\n",
        "\n",
        "* Classification:\n",
        "    * The problem of identifying to which class a new observation belongs, on the basis of a training set of data containing observations whose class is known\n",
        "    * Goal: use known fraud cases to train a model to recognize new cases\n",
        "    * Classes are sometimes called targets, labels or categories\n",
        "    * Spam detection in email service providers can be identified as a classification problem\n",
        "        * Binary classification since there are only 2 classes, spam and not spam\n",
        "    * Fraud detection is also a binary classification prpoblem\n",
        "    * Patient diagnosis\n",
        "    * Classification problems normall have categorical output like yes/no, 1/0 or True/False\n",
        "    * Variable to predict: $$y\\in0,1$$\n",
        "        * 0: negative calss ('majority' normal cases)\n",
        "        * 1: positive class ('minority' fraud cases)"
      ]
    },
    {
      "cell_type": "markdown",
      "metadata": {
        "id": "F9Kj1ZvYPGwh"
      },
      "source": [
        "#### Logistic Regression\n",
        "\n",
        "* Logistic Regression is one of the most used ML algorithms in binary classification\n",
        "* ![logistic regression](https://raw.githubusercontent.com/trenton3983/DataCamp/master/Images/fraud_detection/logistic_regression.JPG)\n",
        "* Can be adjusted reasonably well to work on imbalanced data...useful for fraud detection"
      ]
    },
    {
      "cell_type": "markdown",
      "metadata": {
        "id": "nyhxKbZvPGwh"
      },
      "source": [
        "#### Neural Network\n",
        "\n",
        "* ![neural network](https://raw.githubusercontent.com/trenton3983/DataCamp/master/Images/fraud_detection/neural_network.JPG)\n",
        "* Can be used as classifiers for fraud detection\n",
        "* Capable of fitting highly non-linear models to the data\n",
        "* More complex to implement than other classifiers - not demonstrated here"
      ]
    },
    {
      "cell_type": "markdown",
      "metadata": {
        "id": "HFY1T2r9PGwi"
      },
      "source": [
        "#### Decision Trees\n",
        "\n",
        "* ![decision tree](https://raw.githubusercontent.com/trenton3983/DataCamp/master/Images/fraud_detection/decision_tree.JPG)\n",
        "* Commonly used for fraud detection\n",
        "* Transparent results, easily interpreted by analysts\n",
        "* Decision trees are prone to overfit the data"
      ]
    },
    {
      "cell_type": "markdown",
      "metadata": {
        "id": "4-3aQmLAPGwi"
      },
      "source": [
        "#### Random Forests\n",
        "\n",
        "* ![random forest](https://raw.githubusercontent.com/trenton3983/DataCamp/master/Images/fraud_detection/random_forest.JPG)\n",
        "* **Random Forests are a more robust option than a single decision tree**\n",
        "    * Construct a multitude of decision trees when training the model and outputting the class that is the mode or mean predicted class of the individual trees\n",
        "    * A random forest consists of a collection of trees on a random subset of features\n",
        "    * Final predictions are the combined results of those trees\n",
        "    * Random forests can handle complex data and are not prone to overfit\n",
        "    * They are interpretable by looking at feature importance, and can be adjusted to work well on highly imbalanced data\n",
        "    * Their drawback is they're computationally complex\n",
        "    * Very popular for fraud detection\n",
        "    * A Random Forest model will be optimized in the exercises\n",
        "    \n",
        "**Implementation:**\n",
        "\n",
        "```python\n",
        "from sklearn.ensemble import RandomForestClassifier\n",
        "model = RandomForestClassifier()\n",
        "model.fit(X_train, y_train)\n",
        "predicted = model.predict(X_test)\n",
        "print(f'Accuracy Score:\\n{accuracy_score(y_test, predicted)}')\n",
        "```"
      ]
    },
    {
      "cell_type": "markdown",
      "metadata": {
        "id": "w196itlXPGwi"
      },
      "source": [
        "### Natural hit rate\n",
        "\n",
        "In this exercise, you'll again use credit card transaction data. The features and labels are similar to the data in the previous chapter, and the **data is heavily imbalanced**. We've given you features `X` and labels `y` to work with already, which are both numpy arrays.\n",
        "\n",
        "First you need to explore how prevalent fraud is in the dataset, to understand what the **\"natural accuracy\"** is, if we were to predict everything as non-fraud. It's is important to understand which level of \"accuracy\" you need to \"beat\" in order to get a **better prediction than by doing nothing**. In the following exercises, you'll create our first random forest classifier for fraud detection. That will serve as the **\"baseline\"** model that you're going to try to improve in the upcoming exercises.\n",
        "\n",
        "**Instructions**\n",
        "\n",
        "* Count the total number of observations by taking the length of your labels `y`.\n",
        "* Count the non-fraud cases in our data by using list comprehension on `y`; remember `y` is a NumPy array so `.value_counts()` cannot be used in this case.\n",
        "* Calculate the natural accuracy by dividing the non-fraud cases over the total observations.\n",
        "* Print the percentage."
      ]
    },
    {
      "cell_type": "code",
      "execution_count": 172,
      "metadata": {
        "tags": [],
        "colab": {
          "base_uri": "https://localhost:8080/",
          "height": 244
        },
        "id": "Q2nT0axnPGwj",
        "outputId": "45e33913-25c3-44bd-9830-73ef08146cbb"
      },
      "outputs": [
        {
          "output_type": "execute_result",
          "data": {
            "text/plain": [
              "   Unnamed: 0        V1        V2        V3        V4        V5        V6  \\\n",
              "0      221547 -1.191668  0.428409  1.640028 -1.848859 -0.870903 -0.204849   \n",
              "1      184524  1.966614 -0.450087 -1.228586  0.142873 -0.150627 -0.543590   \n",
              "2       91201  1.528452 -1.296191 -0.890677 -2.504028  0.803202  3.350793   \n",
              "3       26115 -0.774614  1.100916  0.679080  1.034016  0.168633  0.874582   \n",
              "4      201292 -1.075860  1.361160  1.496972  2.242604  1.314751  0.272787   \n",
              "\n",
              "         V7        V8        V9       V10       V11       V12       V13  \\\n",
              "0 -0.385675  0.352793 -1.098301 -0.334597 -0.679089 -0.039671  1.372661   \n",
              "1 -0.076217 -0.108390  0.973310 -0.029903  0.279973  0.885685 -0.583912   \n",
              "2 -1.633016  0.815350 -1.884692  1.465259 -0.188235 -0.976779  0.560550   \n",
              "3  0.209454  0.770550 -0.558106 -0.165442  0.017562  0.285377 -0.818739   \n",
              "4  1.005246  0.132932 -1.558317  0.484216 -1.967998 -1.818338 -2.036184   \n",
              "\n",
              "        V14       V15       V16       V17       V18       V19       V20  \\\n",
              "0 -0.732001 -0.344528  1.024751  0.380209 -1.087349  0.364507  0.051924   \n",
              "1  0.322019 -1.065335 -0.340285 -0.385399  0.216554  0.675646 -0.190851   \n",
              "2 -0.250847  0.936115  0.136409 -0.078251  0.355086  0.127756 -0.163982   \n",
              "3  0.637991 -0.370124 -0.605148  0.275686  0.246362  1.331927  0.080978   \n",
              "4  0.346962 -1.161316  1.017093 -0.926787  0.183965 -2.102868 -0.354008   \n",
              "\n",
              "        V21       V22       V23       V24       V25       V26       V27  \\\n",
              "0  0.507173  1.292565 -0.467752  1.244887  0.697707  0.059375 -0.319964   \n",
              "1  0.124055  0.564916 -0.039331 -0.283904  0.186400  0.192932 -0.039155   \n",
              "2 -0.412088 -1.017485  0.129566  0.948048  0.287826 -0.396592  0.042997   \n",
              "3  0.011158  0.146017 -0.130401 -0.848815  0.005698 -0.183295  0.282940   \n",
              "4  0.254485  0.530692 -0.651119  0.626389  1.040212  0.249501 -0.146745   \n",
              "\n",
              "        V28  Amount  Class  \n",
              "0 -0.017444   27.44      0  \n",
              "1 -0.071314   35.95      0  \n",
              "2  0.025853   28.40      0  \n",
              "3  0.123856   43.20      0  \n",
              "4  0.029714   10.59      0  "
            ],
            "text/html": [
              "\n",
              "  <div id=\"df-c3a9617f-6634-4c13-9b06-debad3740988\" class=\"colab-df-container\">\n",
              "    <div>\n",
              "<style scoped>\n",
              "    .dataframe tbody tr th:only-of-type {\n",
              "        vertical-align: middle;\n",
              "    }\n",
              "\n",
              "    .dataframe tbody tr th {\n",
              "        vertical-align: top;\n",
              "    }\n",
              "\n",
              "    .dataframe thead th {\n",
              "        text-align: right;\n",
              "    }\n",
              "</style>\n",
              "<table border=\"1\" class=\"dataframe\">\n",
              "  <thead>\n",
              "    <tr style=\"text-align: right;\">\n",
              "      <th></th>\n",
              "      <th>Unnamed: 0</th>\n",
              "      <th>V1</th>\n",
              "      <th>V2</th>\n",
              "      <th>V3</th>\n",
              "      <th>V4</th>\n",
              "      <th>V5</th>\n",
              "      <th>V6</th>\n",
              "      <th>V7</th>\n",
              "      <th>V8</th>\n",
              "      <th>V9</th>\n",
              "      <th>V10</th>\n",
              "      <th>V11</th>\n",
              "      <th>V12</th>\n",
              "      <th>V13</th>\n",
              "      <th>V14</th>\n",
              "      <th>V15</th>\n",
              "      <th>V16</th>\n",
              "      <th>V17</th>\n",
              "      <th>V18</th>\n",
              "      <th>V19</th>\n",
              "      <th>V20</th>\n",
              "      <th>V21</th>\n",
              "      <th>V22</th>\n",
              "      <th>V23</th>\n",
              "      <th>V24</th>\n",
              "      <th>V25</th>\n",
              "      <th>V26</th>\n",
              "      <th>V27</th>\n",
              "      <th>V28</th>\n",
              "      <th>Amount</th>\n",
              "      <th>Class</th>\n",
              "    </tr>\n",
              "  </thead>\n",
              "  <tbody>\n",
              "    <tr>\n",
              "      <th>0</th>\n",
              "      <td>221547</td>\n",
              "      <td>-1.191668</td>\n",
              "      <td>0.428409</td>\n",
              "      <td>1.640028</td>\n",
              "      <td>-1.848859</td>\n",
              "      <td>-0.870903</td>\n",
              "      <td>-0.204849</td>\n",
              "      <td>-0.385675</td>\n",
              "      <td>0.352793</td>\n",
              "      <td>-1.098301</td>\n",
              "      <td>-0.334597</td>\n",
              "      <td>-0.679089</td>\n",
              "      <td>-0.039671</td>\n",
              "      <td>1.372661</td>\n",
              "      <td>-0.732001</td>\n",
              "      <td>-0.344528</td>\n",
              "      <td>1.024751</td>\n",
              "      <td>0.380209</td>\n",
              "      <td>-1.087349</td>\n",
              "      <td>0.364507</td>\n",
              "      <td>0.051924</td>\n",
              "      <td>0.507173</td>\n",
              "      <td>1.292565</td>\n",
              "      <td>-0.467752</td>\n",
              "      <td>1.244887</td>\n",
              "      <td>0.697707</td>\n",
              "      <td>0.059375</td>\n",
              "      <td>-0.319964</td>\n",
              "      <td>-0.017444</td>\n",
              "      <td>27.44</td>\n",
              "      <td>0</td>\n",
              "    </tr>\n",
              "    <tr>\n",
              "      <th>1</th>\n",
              "      <td>184524</td>\n",
              "      <td>1.966614</td>\n",
              "      <td>-0.450087</td>\n",
              "      <td>-1.228586</td>\n",
              "      <td>0.142873</td>\n",
              "      <td>-0.150627</td>\n",
              "      <td>-0.543590</td>\n",
              "      <td>-0.076217</td>\n",
              "      <td>-0.108390</td>\n",
              "      <td>0.973310</td>\n",
              "      <td>-0.029903</td>\n",
              "      <td>0.279973</td>\n",
              "      <td>0.885685</td>\n",
              "      <td>-0.583912</td>\n",
              "      <td>0.322019</td>\n",
              "      <td>-1.065335</td>\n",
              "      <td>-0.340285</td>\n",
              "      <td>-0.385399</td>\n",
              "      <td>0.216554</td>\n",
              "      <td>0.675646</td>\n",
              "      <td>-0.190851</td>\n",
              "      <td>0.124055</td>\n",
              "      <td>0.564916</td>\n",
              "      <td>-0.039331</td>\n",
              "      <td>-0.283904</td>\n",
              "      <td>0.186400</td>\n",
              "      <td>0.192932</td>\n",
              "      <td>-0.039155</td>\n",
              "      <td>-0.071314</td>\n",
              "      <td>35.95</td>\n",
              "      <td>0</td>\n",
              "    </tr>\n",
              "    <tr>\n",
              "      <th>2</th>\n",
              "      <td>91201</td>\n",
              "      <td>1.528452</td>\n",
              "      <td>-1.296191</td>\n",
              "      <td>-0.890677</td>\n",
              "      <td>-2.504028</td>\n",
              "      <td>0.803202</td>\n",
              "      <td>3.350793</td>\n",
              "      <td>-1.633016</td>\n",
              "      <td>0.815350</td>\n",
              "      <td>-1.884692</td>\n",
              "      <td>1.465259</td>\n",
              "      <td>-0.188235</td>\n",
              "      <td>-0.976779</td>\n",
              "      <td>0.560550</td>\n",
              "      <td>-0.250847</td>\n",
              "      <td>0.936115</td>\n",
              "      <td>0.136409</td>\n",
              "      <td>-0.078251</td>\n",
              "      <td>0.355086</td>\n",
              "      <td>0.127756</td>\n",
              "      <td>-0.163982</td>\n",
              "      <td>-0.412088</td>\n",
              "      <td>-1.017485</td>\n",
              "      <td>0.129566</td>\n",
              "      <td>0.948048</td>\n",
              "      <td>0.287826</td>\n",
              "      <td>-0.396592</td>\n",
              "      <td>0.042997</td>\n",
              "      <td>0.025853</td>\n",
              "      <td>28.40</td>\n",
              "      <td>0</td>\n",
              "    </tr>\n",
              "    <tr>\n",
              "      <th>3</th>\n",
              "      <td>26115</td>\n",
              "      <td>-0.774614</td>\n",
              "      <td>1.100916</td>\n",
              "      <td>0.679080</td>\n",
              "      <td>1.034016</td>\n",
              "      <td>0.168633</td>\n",
              "      <td>0.874582</td>\n",
              "      <td>0.209454</td>\n",
              "      <td>0.770550</td>\n",
              "      <td>-0.558106</td>\n",
              "      <td>-0.165442</td>\n",
              "      <td>0.017562</td>\n",
              "      <td>0.285377</td>\n",
              "      <td>-0.818739</td>\n",
              "      <td>0.637991</td>\n",
              "      <td>-0.370124</td>\n",
              "      <td>-0.605148</td>\n",
              "      <td>0.275686</td>\n",
              "      <td>0.246362</td>\n",
              "      <td>1.331927</td>\n",
              "      <td>0.080978</td>\n",
              "      <td>0.011158</td>\n",
              "      <td>0.146017</td>\n",
              "      <td>-0.130401</td>\n",
              "      <td>-0.848815</td>\n",
              "      <td>0.005698</td>\n",
              "      <td>-0.183295</td>\n",
              "      <td>0.282940</td>\n",
              "      <td>0.123856</td>\n",
              "      <td>43.20</td>\n",
              "      <td>0</td>\n",
              "    </tr>\n",
              "    <tr>\n",
              "      <th>4</th>\n",
              "      <td>201292</td>\n",
              "      <td>-1.075860</td>\n",
              "      <td>1.361160</td>\n",
              "      <td>1.496972</td>\n",
              "      <td>2.242604</td>\n",
              "      <td>1.314751</td>\n",
              "      <td>0.272787</td>\n",
              "      <td>1.005246</td>\n",
              "      <td>0.132932</td>\n",
              "      <td>-1.558317</td>\n",
              "      <td>0.484216</td>\n",
              "      <td>-1.967998</td>\n",
              "      <td>-1.818338</td>\n",
              "      <td>-2.036184</td>\n",
              "      <td>0.346962</td>\n",
              "      <td>-1.161316</td>\n",
              "      <td>1.017093</td>\n",
              "      <td>-0.926787</td>\n",
              "      <td>0.183965</td>\n",
              "      <td>-2.102868</td>\n",
              "      <td>-0.354008</td>\n",
              "      <td>0.254485</td>\n",
              "      <td>0.530692</td>\n",
              "      <td>-0.651119</td>\n",
              "      <td>0.626389</td>\n",
              "      <td>1.040212</td>\n",
              "      <td>0.249501</td>\n",
              "      <td>-0.146745</td>\n",
              "      <td>0.029714</td>\n",
              "      <td>10.59</td>\n",
              "      <td>0</td>\n",
              "    </tr>\n",
              "  </tbody>\n",
              "</table>\n",
              "</div>\n",
              "    <div class=\"colab-df-buttons\">\n",
              "\n",
              "  <div class=\"colab-df-container\">\n",
              "    <button class=\"colab-df-convert\" onclick=\"convertToInteractive('df-c3a9617f-6634-4c13-9b06-debad3740988')\"\n",
              "            title=\"Convert this dataframe to an interactive table.\"\n",
              "            style=\"display:none;\">\n",
              "\n",
              "  <svg xmlns=\"http://www.w3.org/2000/svg\" height=\"24px\" viewBox=\"0 -960 960 960\">\n",
              "    <path d=\"M120-120v-720h720v720H120Zm60-500h600v-160H180v160Zm220 220h160v-160H400v160Zm0 220h160v-160H400v160ZM180-400h160v-160H180v160Zm440 0h160v-160H620v160ZM180-180h160v-160H180v160Zm440 0h160v-160H620v160Z\"/>\n",
              "  </svg>\n",
              "    </button>\n",
              "\n",
              "  <style>\n",
              "    .colab-df-container {\n",
              "      display:flex;\n",
              "      gap: 12px;\n",
              "    }\n",
              "\n",
              "    .colab-df-convert {\n",
              "      background-color: #E8F0FE;\n",
              "      border: none;\n",
              "      border-radius: 50%;\n",
              "      cursor: pointer;\n",
              "      display: none;\n",
              "      fill: #1967D2;\n",
              "      height: 32px;\n",
              "      padding: 0 0 0 0;\n",
              "      width: 32px;\n",
              "    }\n",
              "\n",
              "    .colab-df-convert:hover {\n",
              "      background-color: #E2EBFA;\n",
              "      box-shadow: 0px 1px 2px rgba(60, 64, 67, 0.3), 0px 1px 3px 1px rgba(60, 64, 67, 0.15);\n",
              "      fill: #174EA6;\n",
              "    }\n",
              "\n",
              "    .colab-df-buttons div {\n",
              "      margin-bottom: 4px;\n",
              "    }\n",
              "\n",
              "    [theme=dark] .colab-df-convert {\n",
              "      background-color: #3B4455;\n",
              "      fill: #D2E3FC;\n",
              "    }\n",
              "\n",
              "    [theme=dark] .colab-df-convert:hover {\n",
              "      background-color: #434B5C;\n",
              "      box-shadow: 0px 1px 3px 1px rgba(0, 0, 0, 0.15);\n",
              "      filter: drop-shadow(0px 1px 2px rgba(0, 0, 0, 0.3));\n",
              "      fill: #FFFFFF;\n",
              "    }\n",
              "  </style>\n",
              "\n",
              "    <script>\n",
              "      const buttonEl =\n",
              "        document.querySelector('#df-c3a9617f-6634-4c13-9b06-debad3740988 button.colab-df-convert');\n",
              "      buttonEl.style.display =\n",
              "        google.colab.kernel.accessAllowed ? 'block' : 'none';\n",
              "\n",
              "      async function convertToInteractive(key) {\n",
              "        const element = document.querySelector('#df-c3a9617f-6634-4c13-9b06-debad3740988');\n",
              "        const dataTable =\n",
              "          await google.colab.kernel.invokeFunction('convertToInteractive',\n",
              "                                                    [key], {});\n",
              "        if (!dataTable) return;\n",
              "\n",
              "        const docLinkHtml = 'Like what you see? Visit the ' +\n",
              "          '<a target=\"_blank\" href=https://colab.research.google.com/notebooks/data_table.ipynb>data table notebook</a>'\n",
              "          + ' to learn more about interactive tables.';\n",
              "        element.innerHTML = '';\n",
              "        dataTable['output_type'] = 'display_data';\n",
              "        await google.colab.output.renderOutput(dataTable, element);\n",
              "        const docLink = document.createElement('div');\n",
              "        docLink.innerHTML = docLinkHtml;\n",
              "        element.appendChild(docLink);\n",
              "      }\n",
              "    </script>\n",
              "  </div>\n",
              "\n",
              "\n",
              "<div id=\"df-977525a3-741d-4096-b764-3a84e5f6df7f\">\n",
              "  <button class=\"colab-df-quickchart\" onclick=\"quickchart('df-977525a3-741d-4096-b764-3a84e5f6df7f')\"\n",
              "            title=\"Suggest charts\"\n",
              "            style=\"display:none;\">\n",
              "\n",
              "<svg xmlns=\"http://www.w3.org/2000/svg\" height=\"24px\"viewBox=\"0 0 24 24\"\n",
              "     width=\"24px\">\n",
              "    <g>\n",
              "        <path d=\"M19 3H5c-1.1 0-2 .9-2 2v14c0 1.1.9 2 2 2h14c1.1 0 2-.9 2-2V5c0-1.1-.9-2-2-2zM9 17H7v-7h2v7zm4 0h-2V7h2v10zm4 0h-2v-4h2v4z\"/>\n",
              "    </g>\n",
              "</svg>\n",
              "  </button>\n",
              "\n",
              "<style>\n",
              "  .colab-df-quickchart {\n",
              "      --bg-color: #E8F0FE;\n",
              "      --fill-color: #1967D2;\n",
              "      --hover-bg-color: #E2EBFA;\n",
              "      --hover-fill-color: #174EA6;\n",
              "      --disabled-fill-color: #AAA;\n",
              "      --disabled-bg-color: #DDD;\n",
              "  }\n",
              "\n",
              "  [theme=dark] .colab-df-quickchart {\n",
              "      --bg-color: #3B4455;\n",
              "      --fill-color: #D2E3FC;\n",
              "      --hover-bg-color: #434B5C;\n",
              "      --hover-fill-color: #FFFFFF;\n",
              "      --disabled-bg-color: #3B4455;\n",
              "      --disabled-fill-color: #666;\n",
              "  }\n",
              "\n",
              "  .colab-df-quickchart {\n",
              "    background-color: var(--bg-color);\n",
              "    border: none;\n",
              "    border-radius: 50%;\n",
              "    cursor: pointer;\n",
              "    display: none;\n",
              "    fill: var(--fill-color);\n",
              "    height: 32px;\n",
              "    padding: 0;\n",
              "    width: 32px;\n",
              "  }\n",
              "\n",
              "  .colab-df-quickchart:hover {\n",
              "    background-color: var(--hover-bg-color);\n",
              "    box-shadow: 0 1px 2px rgba(60, 64, 67, 0.3), 0 1px 3px 1px rgba(60, 64, 67, 0.15);\n",
              "    fill: var(--button-hover-fill-color);\n",
              "  }\n",
              "\n",
              "  .colab-df-quickchart-complete:disabled,\n",
              "  .colab-df-quickchart-complete:disabled:hover {\n",
              "    background-color: var(--disabled-bg-color);\n",
              "    fill: var(--disabled-fill-color);\n",
              "    box-shadow: none;\n",
              "  }\n",
              "\n",
              "  .colab-df-spinner {\n",
              "    border: 2px solid var(--fill-color);\n",
              "    border-color: transparent;\n",
              "    border-bottom-color: var(--fill-color);\n",
              "    animation:\n",
              "      spin 1s steps(1) infinite;\n",
              "  }\n",
              "\n",
              "  @keyframes spin {\n",
              "    0% {\n",
              "      border-color: transparent;\n",
              "      border-bottom-color: var(--fill-color);\n",
              "      border-left-color: var(--fill-color);\n",
              "    }\n",
              "    20% {\n",
              "      border-color: transparent;\n",
              "      border-left-color: var(--fill-color);\n",
              "      border-top-color: var(--fill-color);\n",
              "    }\n",
              "    30% {\n",
              "      border-color: transparent;\n",
              "      border-left-color: var(--fill-color);\n",
              "      border-top-color: var(--fill-color);\n",
              "      border-right-color: var(--fill-color);\n",
              "    }\n",
              "    40% {\n",
              "      border-color: transparent;\n",
              "      border-right-color: var(--fill-color);\n",
              "      border-top-color: var(--fill-color);\n",
              "    }\n",
              "    60% {\n",
              "      border-color: transparent;\n",
              "      border-right-color: var(--fill-color);\n",
              "    }\n",
              "    80% {\n",
              "      border-color: transparent;\n",
              "      border-right-color: var(--fill-color);\n",
              "      border-bottom-color: var(--fill-color);\n",
              "    }\n",
              "    90% {\n",
              "      border-color: transparent;\n",
              "      border-bottom-color: var(--fill-color);\n",
              "    }\n",
              "  }\n",
              "</style>\n",
              "\n",
              "  <script>\n",
              "    async function quickchart(key) {\n",
              "      const quickchartButtonEl =\n",
              "        document.querySelector('#' + key + ' button');\n",
              "      quickchartButtonEl.disabled = true;  // To prevent multiple clicks.\n",
              "      quickchartButtonEl.classList.add('colab-df-spinner');\n",
              "      try {\n",
              "        const charts = await google.colab.kernel.invokeFunction(\n",
              "            'suggestCharts', [key], {});\n",
              "      } catch (error) {\n",
              "        console.error('Error during call to suggestCharts:', error);\n",
              "      }\n",
              "      quickchartButtonEl.classList.remove('colab-df-spinner');\n",
              "      quickchartButtonEl.classList.add('colab-df-quickchart-complete');\n",
              "    }\n",
              "    (() => {\n",
              "      let quickchartButtonEl =\n",
              "        document.querySelector('#df-977525a3-741d-4096-b764-3a84e5f6df7f button');\n",
              "      quickchartButtonEl.style.display =\n",
              "        google.colab.kernel.accessAllowed ? 'block' : 'none';\n",
              "    })();\n",
              "  </script>\n",
              "</div>\n",
              "    </div>\n",
              "  </div>\n"
            ],
            "application/vnd.google.colaboratory.intrinsic+json": {
              "type": "dataframe",
              "variable_name": "df2"
            }
          },
          "metadata": {},
          "execution_count": 172
        }
      ],
      "source": [
        "df2 = pd.read_csv(cc2_file)\n",
        "df2.head()"
      ]
    },
    {
      "cell_type": "code",
      "execution_count": 173,
      "metadata": {
        "tags": [],
        "colab": {
          "base_uri": "https://localhost:8080/"
        },
        "id": "gOi5UBxLPGwj",
        "outputId": "e8f87439-89d8-4b3d-94d6-81a5bb528d21"
      },
      "outputs": [
        {
          "output_type": "stream",
          "name": "stdout",
          "text": [
            "X shape: (7300, 28)\n",
            "y shape: (7300,)\n"
          ]
        }
      ],
      "source": [
        "X, y = prep_data(df2)\n",
        "print(f'X shape: {X.shape}\\ny shape: {y.shape}')"
      ]
    },
    {
      "cell_type": "code",
      "execution_count": 174,
      "metadata": {
        "tags": [],
        "colab": {
          "base_uri": "https://localhost:8080/"
        },
        "id": "qOccDL0rPGwj",
        "outputId": "17892d12-b1f8-4098-f995-d01ee4fc9dcd"
      },
      "outputs": [
        {
          "output_type": "execute_result",
          "data": {
            "text/plain": [
              "array([ 4.28408570e-01,  1.64002800e+00, -1.84885886e+00, -8.70902974e-01,\n",
              "       -2.04848888e-01, -3.85675453e-01,  3.52792552e-01, -1.09830131e+00,\n",
              "       -3.34596757e-01, -6.79088729e-01, -3.96709268e-02,  1.37266082e+00,\n",
              "       -7.32000706e-01, -3.44528134e-01,  1.02475103e+00,  3.80208554e-01,\n",
              "       -1.08734881e+00,  3.64507163e-01,  5.19236276e-02,  5.07173439e-01,\n",
              "        1.29256539e+00, -4.67752261e-01,  1.24488683e+00,  6.97706854e-01,\n",
              "        5.93750372e-02, -3.19964326e-01, -1.74444289e-02,  2.74400000e+01])"
            ]
          },
          "metadata": {},
          "execution_count": 174
        }
      ],
      "source": [
        "X[0, :]"
      ]
    },
    {
      "cell_type": "code",
      "execution_count": 175,
      "metadata": {
        "tags": [],
        "colab": {
          "base_uri": "https://localhost:8080/"
        },
        "id": "sOoPpCi3PGwj",
        "outputId": "d44f1341-f919-445f-b872-b57922b45494"
      },
      "outputs": [
        {
          "output_type": "execute_result",
          "data": {
            "text/plain": [
              "0    7000\n",
              "1     300\n",
              "Name: Class, dtype: int64"
            ]
          },
          "metadata": {},
          "execution_count": 175
        }
      ],
      "source": [
        "df2.Class.value_counts()"
      ]
    },
    {
      "cell_type": "code",
      "execution_count": 176,
      "metadata": {
        "tags": [],
        "colab": {
          "base_uri": "https://localhost:8080/"
        },
        "id": "H3VQQx2JPGwj",
        "outputId": "495cc28e-5c93-4207-92a1-f5455dcd83c4"
      },
      "outputs": [
        {
          "output_type": "execute_result",
          "data": {
            "text/plain": [
              "7300"
            ]
          },
          "metadata": {},
          "execution_count": 176
        }
      ],
      "source": [
        "# Count the total number of observations from the length of y\n",
        "total_obs = len(y)\n",
        "total_obs"
      ]
    },
    {
      "cell_type": "code",
      "execution_count": 177,
      "metadata": {
        "tags": [],
        "colab": {
          "base_uri": "https://localhost:8080/"
        },
        "id": "WHI_APtdPGwj",
        "outputId": "89896ef0-442d-455f-c2e4-34ef0eb4faca"
      },
      "outputs": [
        {
          "output_type": "execute_result",
          "data": {
            "text/plain": [
              "7000"
            ]
          },
          "metadata": {},
          "execution_count": 177
        }
      ],
      "source": [
        "# Count the total number of non-fraudulent observations\n",
        "non_fraud = [i for i in y if i == 0]\n",
        "count_non_fraud = non_fraud.count(0)\n",
        "count_non_fraud"
      ]
    },
    {
      "cell_type": "code",
      "execution_count": 178,
      "metadata": {
        "tags": [],
        "colab": {
          "base_uri": "https://localhost:8080/"
        },
        "id": "tknCjwhcPGwj",
        "outputId": "e3e2ae2f-82e3-4e17-e232-b5b3e7f9239f"
      },
      "outputs": [
        {
          "output_type": "stream",
          "name": "stdout",
          "text": [
            "95.89%\n"
          ]
        }
      ],
      "source": [
        "percentage = count_non_fraud/total_obs * 100\n",
        "print(f'{percentage:0.2f}%')"
      ]
    },
    {
      "cell_type": "markdown",
      "metadata": {
        "id": "vKegNM68PGwj"
      },
      "source": [
        "**This tells us that by doing nothing, we would be correct in 95.9% of the cases. So now you understand, that if we get an accuracy of less than this number, our model does not actually add any value in predicting how many cases are correct. Let's see how a random forest does in predicting fraud in our data.**"
      ]
    },
    {
      "cell_type": "markdown",
      "metadata": {
        "id": "cfGjGzk4PGwj"
      },
      "source": [
        "### Random Forest Classifier - part 1\n",
        "\n",
        "Let's now create a first **random forest classifier** for fraud detection. Hopefully you can do better than the baseline accuracy you've just calculated, which was roughly **96%**. This model will serve as the **\"baseline\" model** that you're going to try to improve in the upcoming exercises. Let's start first with **splitting the data into a test and training set**, and **defining the Random Forest model**. The data available are features `X` and labels `y`.\n",
        "\n",
        "**Instructions**\n",
        "\n",
        "* Import the random forest classifier from `sklearn`.\n",
        "* Split your features `X` and labels `y` into a training and test set. Set aside a test set of 30%.\n",
        "* Assign the random forest classifier to `model` and keep `random_state` at 5. We need to set a random state here in order to be able to compare results across different models."
      ]
    },
    {
      "cell_type": "markdown",
      "metadata": {
        "id": "9B16tiQtPGwk"
      },
      "source": [
        "#### X_train, X_test, y_train, y_test"
      ]
    },
    {
      "cell_type": "code",
      "execution_count": 179,
      "metadata": {
        "tags": [],
        "id": "n7T3lyLwPGwk"
      },
      "outputs": [],
      "source": [
        "# Split your data into training and test set\n",
        "X_train, X_test, y_train, y_test = train_test_split(X, y, test_size=0.3, random_state=0)"
      ]
    },
    {
      "cell_type": "code",
      "execution_count": 180,
      "metadata": {
        "tags": [],
        "id": "6xejmAL4PGwk"
      },
      "outputs": [],
      "source": [
        "# Define the model as the random forest\n",
        "model = RandomForestClassifier(random_state=5, n_estimators=20)"
      ]
    },
    {
      "cell_type": "markdown",
      "metadata": {
        "id": "NnBnWJM8PGwk"
      },
      "source": [
        "### Random Forest Classifier - part 2\n",
        "\n",
        "Let's see how our Random Forest model performs **without doing anything special to it**. The `model` from the previous exercise is available, and you've already split your data in `X_train, y_train, X_test, y_test`.\n",
        "\n",
        "**Instructions 1/3**\n",
        "\n",
        "* Fit the earlier defined `model` to our training data and obtain predictions by getting the model predictions on `X_test`."
      ]
    },
    {
      "cell_type": "code",
      "execution_count": 181,
      "metadata": {
        "tags": [],
        "colab": {
          "base_uri": "https://localhost:8080/",
          "height": 75
        },
        "id": "fmv0EtPwPGwk",
        "outputId": "5bba9385-4d10-48e0-b981-eb369f2ca5d6"
      },
      "outputs": [
        {
          "output_type": "execute_result",
          "data": {
            "text/plain": [
              "RandomForestClassifier(n_estimators=20, random_state=5)"
            ],
            "text/html": [
              "<style>#sk-container-id-7 {color: black;background-color: white;}#sk-container-id-7 pre{padding: 0;}#sk-container-id-7 div.sk-toggleable {background-color: white;}#sk-container-id-7 label.sk-toggleable__label {cursor: pointer;display: block;width: 100%;margin-bottom: 0;padding: 0.3em;box-sizing: border-box;text-align: center;}#sk-container-id-7 label.sk-toggleable__label-arrow:before {content: \"▸\";float: left;margin-right: 0.25em;color: #696969;}#sk-container-id-7 label.sk-toggleable__label-arrow:hover:before {color: black;}#sk-container-id-7 div.sk-estimator:hover label.sk-toggleable__label-arrow:before {color: black;}#sk-container-id-7 div.sk-toggleable__content {max-height: 0;max-width: 0;overflow: hidden;text-align: left;background-color: #f0f8ff;}#sk-container-id-7 div.sk-toggleable__content pre {margin: 0.2em;color: black;border-radius: 0.25em;background-color: #f0f8ff;}#sk-container-id-7 input.sk-toggleable__control:checked~div.sk-toggleable__content {max-height: 200px;max-width: 100%;overflow: auto;}#sk-container-id-7 input.sk-toggleable__control:checked~label.sk-toggleable__label-arrow:before {content: \"▾\";}#sk-container-id-7 div.sk-estimator input.sk-toggleable__control:checked~label.sk-toggleable__label {background-color: #d4ebff;}#sk-container-id-7 div.sk-label input.sk-toggleable__control:checked~label.sk-toggleable__label {background-color: #d4ebff;}#sk-container-id-7 input.sk-hidden--visually {border: 0;clip: rect(1px 1px 1px 1px);clip: rect(1px, 1px, 1px, 1px);height: 1px;margin: -1px;overflow: hidden;padding: 0;position: absolute;width: 1px;}#sk-container-id-7 div.sk-estimator {font-family: monospace;background-color: #f0f8ff;border: 1px dotted black;border-radius: 0.25em;box-sizing: border-box;margin-bottom: 0.5em;}#sk-container-id-7 div.sk-estimator:hover {background-color: #d4ebff;}#sk-container-id-7 div.sk-parallel-item::after {content: \"\";width: 100%;border-bottom: 1px solid gray;flex-grow: 1;}#sk-container-id-7 div.sk-label:hover label.sk-toggleable__label {background-color: #d4ebff;}#sk-container-id-7 div.sk-serial::before {content: \"\";position: absolute;border-left: 1px solid gray;box-sizing: border-box;top: 0;bottom: 0;left: 50%;z-index: 0;}#sk-container-id-7 div.sk-serial {display: flex;flex-direction: column;align-items: center;background-color: white;padding-right: 0.2em;padding-left: 0.2em;position: relative;}#sk-container-id-7 div.sk-item {position: relative;z-index: 1;}#sk-container-id-7 div.sk-parallel {display: flex;align-items: stretch;justify-content: center;background-color: white;position: relative;}#sk-container-id-7 div.sk-item::before, #sk-container-id-7 div.sk-parallel-item::before {content: \"\";position: absolute;border-left: 1px solid gray;box-sizing: border-box;top: 0;bottom: 0;left: 50%;z-index: -1;}#sk-container-id-7 div.sk-parallel-item {display: flex;flex-direction: column;z-index: 1;position: relative;background-color: white;}#sk-container-id-7 div.sk-parallel-item:first-child::after {align-self: flex-end;width: 50%;}#sk-container-id-7 div.sk-parallel-item:last-child::after {align-self: flex-start;width: 50%;}#sk-container-id-7 div.sk-parallel-item:only-child::after {width: 0;}#sk-container-id-7 div.sk-dashed-wrapped {border: 1px dashed gray;margin: 0 0.4em 0.5em 0.4em;box-sizing: border-box;padding-bottom: 0.4em;background-color: white;}#sk-container-id-7 div.sk-label label {font-family: monospace;font-weight: bold;display: inline-block;line-height: 1.2em;}#sk-container-id-7 div.sk-label-container {text-align: center;}#sk-container-id-7 div.sk-container {/* jupyter's `normalize.less` sets `[hidden] { display: none; }` but bootstrap.min.css set `[hidden] { display: none !important; }` so we also need the `!important` here to be able to override the default hidden behavior on the sphinx rendered scikit-learn.org. See: https://github.com/scikit-learn/scikit-learn/issues/21755 */display: inline-block !important;position: relative;}#sk-container-id-7 div.sk-text-repr-fallback {display: none;}</style><div id=\"sk-container-id-7\" class=\"sk-top-container\"><div class=\"sk-text-repr-fallback\"><pre>RandomForestClassifier(n_estimators=20, random_state=5)</pre><b>In a Jupyter environment, please rerun this cell to show the HTML representation or trust the notebook. <br />On GitHub, the HTML representation is unable to render, please try loading this page with nbviewer.org.</b></div><div class=\"sk-container\" hidden><div class=\"sk-item\"><div class=\"sk-estimator sk-toggleable\"><input class=\"sk-toggleable__control sk-hidden--visually\" id=\"sk-estimator-id-7\" type=\"checkbox\" checked><label for=\"sk-estimator-id-7\" class=\"sk-toggleable__label sk-toggleable__label-arrow\">RandomForestClassifier</label><div class=\"sk-toggleable__content\"><pre>RandomForestClassifier(n_estimators=20, random_state=5)</pre></div></div></div></div></div>"
            ]
          },
          "metadata": {},
          "execution_count": 181
        }
      ],
      "source": [
        "# Fit the model to our training set\n",
        "model.fit(X_train, y_train)"
      ]
    },
    {
      "cell_type": "code",
      "execution_count": 182,
      "metadata": {
        "tags": [],
        "id": "h4xwYkagPGwk"
      },
      "outputs": [],
      "source": [
        "# Obtain predictions from the test data\n",
        "predicted = model.predict(X_test)"
      ]
    },
    {
      "cell_type": "markdown",
      "metadata": {
        "id": "G8IfGGFNPGwk"
      },
      "source": [
        "**Instructions 2/3**\n",
        "\n",
        "* Obtain and print the accuracy score by comparing the actual labels `y_test` with our predicted labels `predicted`."
      ]
    },
    {
      "cell_type": "code",
      "execution_count": 183,
      "metadata": {
        "tags": [],
        "colab": {
          "base_uri": "https://localhost:8080/"
        },
        "id": "n7x6p7qOPGwk",
        "outputId": "2659abc3-73ce-4f96-837c-f7db72d0c67a"
      },
      "outputs": [
        {
          "output_type": "stream",
          "name": "stdout",
          "text": [
            "Accuracy Score:\n",
            "0.991\n"
          ]
        }
      ],
      "source": [
        "print(f'Accuracy Score:\\n{accuracy_score(y_test, predicted):0.3f}')"
      ]
    },
    {
      "cell_type": "markdown",
      "metadata": {
        "id": "9NOZh0E2PGwk"
      },
      "source": [
        "**Instructions 3/3**\n",
        "\n",
        "What is a benefit of using Random Forests versus Decision Trees?\n",
        "\n",
        "**Possible Answers**\n",
        "\n",
        "* ~~Random Forests always have a higher accuracy than Decision Trees.~~\n",
        "* **Random Forests do not tend to overfit, whereas Decision Trees do.**\n",
        "* ~~Random Forests are computationally more efficient than Decision Trees.~~\n",
        "* ~~You can obtain \"feature importance\" from Random Forest, which makes it more transparent.~~\n",
        "\n",
        "**Random Forest prevents overfitting most of the time, by creating random subsets of the features and building smaller trees using these subsets. Afterwards, it combines the subtrees of subsamples of features, so it does not tend to overfit to your entire feature set the way \"deep\" Decisions Trees do.**"
      ]
    },
    {
      "cell_type": "markdown",
      "metadata": {
        "id": "_LJ5shyIPGwk"
      },
      "source": [
        "## Perfomance evaluation\n",
        "\n",
        "* Performance metrics for fraud detection models\n",
        "* There are other performace metrics that are more informative and reliable than accuracy"
      ]
    },
    {
      "cell_type": "markdown",
      "metadata": {
        "id": "SKGveDjCPGwk"
      },
      "source": [
        "#### Accuracy\n",
        "\n",
        "![accuracy](https://raw.githubusercontent.com/trenton3983/DataCamp/master/Images/fraud_detection/accuracy.JPG)\n",
        "* Accuracy isn't a reliable performance metric when working with highly imbalanced data (such as fraud detection)\n",
        "* By doing nothing, aka predicting everything is the majority class (right image), a higher accuracy is obtained than by trying to build a predictive model (left image)"
      ]
    },
    {
      "cell_type": "markdown",
      "metadata": {
        "id": "k_LZRm4vPGwk"
      },
      "source": [
        "#### Confusion Matrix\n",
        "\n",
        "![advanced confusion matrix](https://raw.githubusercontent.com/trenton3983/DataCamp/master/Images/fraud_detection/confusion_matrix_advanced.JPG)\n",
        "![confusion matrix](https://raw.githubusercontent.com/trenton3983/DataCamp/master/Images/fraud_detection/confusion_matrix.JPG)\n",
        "* [Confusion Matrix](https://en.wikipedia.org/wiki/Confusion_matrix)\n",
        "* False Positives (FP) / False Negatives (FN)\n",
        "    * FN: predicts the person is not pregnant, but actually is\n",
        "        * Cases of fraud not caught by the model\n",
        "    * FP: predicts the person is pregnant, but actually is not\n",
        "        * Cases of 'false alarm'\n",
        "    * the business case determines whether FN or FP cases are more important\n",
        "        * a credit card company might want to catch as much fraud as possible and reduce false negatives, as fraudulent transactions can be incredibly costly\n",
        "            * a false alarm just means a transaction is blocked\n",
        "        * an insurance company can't handle many false alarms, as it means getting a team of investigators involved for each positive prediction\n",
        "        \n",
        "* True Positives / True Negatives are the cases predicted correctly (e.g. fraud / non-fraud)"
      ]
    },
    {
      "cell_type": "markdown",
      "metadata": {
        "id": "OtP682wiPGwk"
      },
      "source": [
        "#### Precision Recall\n",
        "\n",
        "* Credit card company wants to optimize for recall\n",
        "* Insurance company wants to optimize for precision\n",
        "* Precision:\n",
        "    * $$Precision=\\frac{\\#\\space True\\space Positives}{\\#\\space True\\space Positives+\\#\\space False\\space Positives}$$\n",
        "    * Fraction of actual fraud cases out of all predicted fraud cases\n",
        "        * true positives relative to the sum of true positives and false positives\n",
        "* Recall:\n",
        "    * $$Recall=\\frac{\\#\\space True\\space Positives}{\\#\\space True\\space Positives+\\#\\space False\\space Negatives}$$\n",
        "    * Fraction of predicted fraud cases out of all actual fraud cases\n",
        "        * true positives relative to the sum of true positives and false negative\n",
        "* Precision and recall are typically inversely related\n",
        "    * As precision increases, recall falls and vice-versa\n",
        "    * ![precision recall inverse relation](https://raw.githubusercontent.com/trenton3983/DataCamp/master/Images/fraud_detection/precision_recall_inverse.JPG)"
      ]
    },
    {
      "cell_type": "markdown",
      "metadata": {
        "id": "UbRgwE-sPGwk"
      },
      "source": [
        "#### F-Score\n",
        "\n",
        "* Weighs both precision and recall into on measure\n",
        "\n",
        "\\begin{align}\n",
        "F-measure = \\frac{2\\times{Precision}\\times{Recall}}{Precision\\times{Recall}} \\\\\n",
        "\\\\\n",
        "= \\frac{2\\times{TP}}{2\\times{TP}+FP+FN}\n",
        "\\end{align}\n",
        "\n",
        "* is a performance metric that takes into account a balance between Precision and Recall"
      ]
    },
    {
      "cell_type": "markdown",
      "metadata": {
        "id": "ha01hiq8PGwk"
      },
      "source": [
        "#### Obtaining performance metrics from sklean\n",
        "\n",
        "```python\n",
        "# import the methods\n",
        "from sklearn.metrics import precision_recall_curve, average_precision_score\n",
        "\n",
        "# Calculate average precision and the PR curve\n",
        "average_precision = average_precision_score(y_test, predicted)\n",
        "\n",
        "# Obtain precision and recall\n",
        "precision, recall = precision_recall_curve(y_test, predicted)\n",
        "```"
      ]
    },
    {
      "cell_type": "markdown",
      "metadata": {
        "id": "SVtZKDoFPGwk"
      },
      "source": [
        "#### Receiver Operating Characteristic (ROC) curve to compare algorithms\n",
        "\n",
        "* Created by plotting the true positive rate against the false positive rate at various threshold settings\n",
        "* ![roc curve](https://raw.githubusercontent.com/trenton3983/DataCamp/master/Images/fraud_detection/roc_curve.JPG)\n",
        "* Useful for comparing performance of different algorithms\n",
        "\n",
        "```python\n",
        "# Obtain model probabilities\n",
        "probs = model.predict_proba(X_test)\n",
        "\n",
        "# Print ROC_AUC score using probabilities\n",
        "print(metrics.roc_auc_score(y_test, probs[:, 1]))\n",
        "```"
      ]
    },
    {
      "cell_type": "markdown",
      "metadata": {
        "id": "F-KQpQ0JPGwk"
      },
      "source": [
        "#### Confusion matrix and classification report\n",
        "\n",
        "```python\n",
        "from sklearn.metrics import classification_report, confusion_matrix\n",
        "\n",
        "# Obtain predictions\n",
        "predicted = model.predict(X_test)\n",
        "\n",
        "# Print classification report using predictions\n",
        "print(classification_report(y_test, predicted))\n",
        "\n",
        "# Print confusion matrix using predictions\n",
        "print(confusion_matrix(y_test, predicted))\n",
        "```"
      ]
    },
    {
      "cell_type": "markdown",
      "metadata": {
        "id": "DZwvy-VsPGwk"
      },
      "source": [
        "### Performance metrics for the RF model\n",
        "\n",
        "In the previous exercises you obtained an accuracy score for your random forest model. This time, we know **accuracy can be misleading** in the case of fraud detection. With highly imbalanced fraud data, the AUROC curve is a more reliable performance metric, used to compare different classifiers. Moreover, the *classification report* tells you about the precision and recall of your model, whilst the *confusion matrix* actually shows how many fraud cases you can predict correctly. So let's get these performance metrics.\n",
        "\n",
        "You'll continue working on the same random forest model from the previous exercise. Your model, defined as `model = RandomForestClassifier(random_state=5)` has been fitted to your training data already, and `X_train, y_train, X_test, y_test` are available.\n",
        "\n",
        "**Instructions**\n",
        "\n",
        "* Import the classification report, confusion matrix and ROC score from `sklearn.metrics`.\n",
        "* Get the binary predictions from your trained random forest `model`.\n",
        "* Get the predicted probabilities by running the `predict_proba()` function.\n",
        "* Obtain classification report and confusion matrix by comparing `y_test` with `predicted`."
      ]
    },
    {
      "cell_type": "code",
      "execution_count": 184,
      "metadata": {
        "tags": [],
        "id": "z3-3bjhPPGwk"
      },
      "outputs": [],
      "source": [
        "# Obtain the predictions from our random forest model\n",
        "predicted = model.predict(X_test)"
      ]
    },
    {
      "cell_type": "code",
      "execution_count": 185,
      "metadata": {
        "tags": [],
        "id": "McAdsq5YPGwk"
      },
      "outputs": [],
      "source": [
        "# Predict probabilities\n",
        "probs = model.predict_proba(X_test)"
      ]
    },
    {
      "cell_type": "code",
      "execution_count": 186,
      "metadata": {
        "tags": [],
        "colab": {
          "base_uri": "https://localhost:8080/"
        },
        "id": "jIIEYrOmPGwl",
        "outputId": "0fcc5395-225d-4761-81e5-eead3566f125"
      },
      "outputs": [
        {
          "output_type": "stream",
          "name": "stdout",
          "text": [
            "ROC Score:\n",
            "0.9419896444670147\n",
            "\n",
            "Classification Report:\n",
            "              precision    recall  f1-score   support\n",
            "\n",
            "           0       0.99      1.00      1.00      2099\n",
            "           1       0.97      0.80      0.88        91\n",
            "\n",
            "    accuracy                           0.99      2190\n",
            "   macro avg       0.98      0.90      0.94      2190\n",
            "weighted avg       0.99      0.99      0.99      2190\n",
            "\n",
            "\n",
            "Confusion Matrix:\n",
            "[[2097    2]\n",
            " [  18   73]]\n"
          ]
        }
      ],
      "source": [
        "# Print the ROC curve, classification report and confusion matrix\n",
        "print('ROC Score:')\n",
        "print(roc_auc_score(y_test, probs[:,1]))\n",
        "print('\\nClassification Report:')\n",
        "print(classification_report(y_test, predicted))\n",
        "print('\\nConfusion Matrix:')\n",
        "print(confusion_matrix(y_test, predicted))"
      ]
    },
    {
      "cell_type": "markdown",
      "metadata": {
        "id": "DCug06cZPGwl"
      },
      "source": [
        "**You have now obtained more meaningful performance metrics that tell us how well the model performs, given the highly imbalanced data that you're working with. The model predicts 76 cases of fraud, out of which 73 are actual fraud. You have only 3 false positives. This is really good, and as a result you have a very high precision score. You do however, miss 18 cases of actual fraud. Recall is therefore not as good as precision.**"
      ]
    },
    {
      "cell_type": "markdown",
      "metadata": {
        "id": "tbe9OQPzPGwl"
      },
      "source": [
        "### Plotting the Precision vs. Recall Curve\n",
        "\n",
        "You can also plot a **Precision-Recall curve**, to investigate the trade-off between the two in your model. In this curve **Precision and Recall are inversely related**; as Precision increases, Recall falls and vice-versa. A balance between these two needs to be achieved in your model, otherwise you might end up with many false positives, or not enough actual fraud cases caught. To achieve this and to compare performance, the precision-recall curves come in handy.\n",
        "\n",
        "Your Random Forest Classifier is available as `model`, and the predictions as `predicted`. You can simply obtain the average precision score and the PR curve from the sklearn package. The function `plot_pr_curve()` plots the results for you. Let's give it a try.\n",
        "\n",
        "**Instructions 1/3**\n",
        "\n",
        "* Calculate the average precision by running the function on the actual labels `y_test` and your predicted labels `predicted`."
      ]
    },
    {
      "cell_type": "code",
      "execution_count": 187,
      "metadata": {
        "tags": [],
        "colab": {
          "base_uri": "https://localhost:8080/"
        },
        "id": "e5c6CSgQPGwl",
        "outputId": "d74ebc73-1376-4cd6-8963-c4eb4fd23961"
      },
      "outputs": [
        {
          "output_type": "execute_result",
          "data": {
            "text/plain": [
              "0.7890250388880526"
            ]
          },
          "metadata": {},
          "execution_count": 187
        }
      ],
      "source": [
        "# Calculate average precision and the PR curve\n",
        "average_precision = average_precision_score(y_test, predicted)\n",
        "average_precision"
      ]
    },
    {
      "cell_type": "markdown",
      "metadata": {
        "id": "8WNqsuonPGwl"
      },
      "source": [
        "**Instructions 2/3**\n",
        "\n",
        "* Run the `precision_recall_curve()` function on the same arguments `y_test` and `predicted` and plot the curve (this last thing has been done for you)."
      ]
    },
    {
      "cell_type": "code",
      "execution_count": 188,
      "metadata": {
        "tags": [],
        "colab": {
          "base_uri": "https://localhost:8080/"
        },
        "id": "P2DZSnaOPGwl",
        "outputId": "f3842eca-56e3-40d2-e336-9a97b7824f3c"
      },
      "outputs": [
        {
          "output_type": "stream",
          "name": "stdout",
          "text": [
            "Precision: [0.04155251 0.97333333 1.        ]\n",
            "Recall: [1.        0.8021978 0.       ]\n"
          ]
        }
      ],
      "source": [
        "# Obtain precision and recall\n",
        "precision, recall, _ = precision_recall_curve(y_test, predicted)\n",
        "print(f'Precision: {precision}\\nRecall: {recall}')"
      ]
    },
    {
      "cell_type": "markdown",
      "metadata": {
        "id": "CwqsuyStPGwl"
      },
      "source": [
        "#### def plot_pr_curve"
      ]
    },
    {
      "cell_type": "code",
      "execution_count": 189,
      "metadata": {
        "tags": [],
        "id": "7zElpUGAPGwl"
      },
      "outputs": [],
      "source": [
        "def plot_pr_curve(recall, precision, average_precision):\n",
        "    \"\"\"\n",
        "    https://scikit-learn.org/stable/auto_examples/model_selection/plot_precision_recall.html\n",
        "    \"\"\"\n",
        "    from inspect import signature\n",
        "    plt.figure()\n",
        "    step_kwargs = ({'step': 'post'}\n",
        "                   if 'step' in signature(plt.fill_between).parameters\n",
        "                   else {})\n",
        "\n",
        "    plt.step(recall, precision, color='b', alpha=0.2, where='post')\n",
        "    plt.fill_between(recall, precision, alpha=0.2, color='b', **step_kwargs)\n",
        "\n",
        "    plt.xlabel('Recall')\n",
        "    plt.ylabel('Precision')\n",
        "    plt.ylim([0.0, 1.0])\n",
        "    plt.xlim([0.0, 1.0])\n",
        "    plt.title(f'2-class Precision-Recall curve: AP={average_precision:0.2f}')\n",
        "    return plt.show()"
      ]
    },
    {
      "cell_type": "code",
      "execution_count": 190,
      "metadata": {
        "tags": [],
        "colab": {
          "base_uri": "https://localhost:8080/",
          "height": 472
        },
        "id": "z_soAmwEPGwl",
        "outputId": "582a7877-54e7-4d8a-fb2b-dc27f1ed5263"
      },
      "outputs": [
        {
          "output_type": "display_data",
          "data": {
            "text/plain": [
              "<Figure size 640x480 with 1 Axes>"
            ],
            "image/png": "[encoded data removed]"
          },
          "metadata": {}
        }
      ],
      "source": [
        "# Plot the recall precision tradeoff\n",
        "plot_pr_curve(recall, precision, average_precision)"
      ]
    },
    {
      "cell_type": "markdown",
      "metadata": {
        "id": "ppvx21W7PGwl"
      },
      "source": [
        "**Instructions 3/3**\n",
        "\n",
        "What's the benefit of the performance metric ROC curve (AUROC) versus Precision and Recall?\n",
        "\n",
        "**Possible Answers**\n",
        "\n",
        "* **The AUROC answers the question: \"How well can this classifier be expected to perform in general, at a variety of different baseline probabilities?\" but precision and recall don't.**\n",
        "* ~~The AUROC answers the question: \"How meaningful is a positive result from my classifier given the baseline probabilities of my problem?\" but precision and recall don't.~~\n",
        "* ~~Precision and Recall are not informative when the data is imbalanced.~~\n",
        "* ~~The AUROC curve allows you to visualize classifier performance and with Precision and Recall you cannot.~~\n",
        "\n",
        "**The ROC curve plots the true positives vs. false positives , for a classifier, as its discrimination threshold is varied. Since, a random method describes a horizontal curve through the unit interval, it has an AUC of 0.5. Minimally, classifiers should perform better than this, and the extent to which they score higher than one another (meaning the area under the ROC curve is larger), they have better expected performance.**"
      ]
    },
    {
      "cell_type": "markdown",
      "metadata": {
        "id": "o8sWWNJqPGwl"
      },
      "source": [
        "## Adjusting the algorithm weights\n",
        "\n",
        "* Adjust model parameter to optimize for fraud detection.\n",
        "* When training a model, try different options and settings to get the best recall-precision trade-off\n",
        "* sklearn has two simple options to tweak the model for heavily imbalanced data\n",
        "    * `class_weight`:\n",
        "        * `balanced` mode: `model = RandomForestClassifier(class_weight='balanced')`\n",
        "            * uses the values of y to automatically adjust weights inversely proportional to class frequencies in the the input data\n",
        "            * this option is available for other classifiers\n",
        "                * `model = LogisticRegression(class_weight='balanced')`\n",
        "                * `model = SVC(kernel='linear', class_weight='balanced', probability=True)`\n",
        "        * `balanced_subsample` mode: `model = RandomForestClassifier(class_weight='balanced_subsample')`\n",
        "            * is the same as the `balanced` option, except weights are calculated again at each iteration of growing a tree in a the random forest\n",
        "            * this option is only applicable for the Random Forest model\n",
        "        * manual input\n",
        "            * adjust weights to any ratio, not just value counts relative to sample\n",
        "            * `class_weight={0:1,1:4}`\n",
        "            * this is a good option to slightly upsample the minority class"
      ]
    },
    {
      "cell_type": "markdown",
      "metadata": {
        "id": "K17NbMlYPGwl"
      },
      "source": [
        "#### Hyperparameter tuning\n",
        "\n",
        "* Random Forest takes many other options to optimize the model\n",
        "\n",
        "```python\n",
        "model = RandomForestClassifier(n_estimators=10,\n",
        "                               criterion=’gini’,\n",
        "                               max_depth=None,\n",
        "                               min_samples_split=2,\n",
        "                               min_samples_leaf=1,\n",
        "                               max_features=’auto’,\n",
        "                               n_jobs=-1, class_weight=None)\n",
        "```\n",
        "\n",
        "* the shape and size of the trees in a random forest are adjusted with **leaf size** and **tree depth**\n",
        "* `n_estimators`: one of the most important setting is the number of trees in the forest\n",
        "* `max_features`: the number of features considered for splitting at each leaf node\n",
        "* `criterion`: change the way the data is split at each node (default is `gini` coefficient)"
      ]
    },
    {
      "cell_type": "markdown",
      "metadata": {
        "id": "WXvwQTlHPGwl"
      },
      "source": [
        "#### GridSearchCV for hyperparameter tuning\n",
        "\n",
        "* [sklearn.model_selection.GridSearchCV](https://scikit-learn.org/stable/modules/generated/sklearn.model_selection.GridSearchCV.html)\n",
        "* `from sklearn.model_selection import GridSearchCV`\n",
        "* `GridSearchCV evaluates all combinations of parameters defined in the parameter grid\n",
        "* Random Forest Parameter Grid:\n",
        "\n",
        "```python\n",
        "# Create the parameter grid\n",
        "param_grid = {'max_depth': [80, 90, 100, 110],\n",
        "              'max_features': [2, 3],\n",
        "              'min_samples_leaf': [3, 4, 5],\n",
        "              'min_samples_split': [8, 10, 12],\n",
        "              'n_estimators': [100, 200, 300, 1000]}\n",
        "\n",
        "# Define which model to use\n",
        "model = RandomForestRegressor()\n",
        "\n",
        "# Instantiate the grid search model\n",
        "grid_search_model = GridSearchCV(estimator = model,\n",
        "                                 param_grid = param_grid,\n",
        "                                 cv = 5,\n",
        "                                 n_jobs = -1,\n",
        "                                 scoring='f1')\n",
        "```\n",
        "\n",
        "* define the ML model to be used\n",
        "* put the model into `GridSearchCV`\n",
        "* pass in `param_grid`\n",
        "* frequency of cross-validation\n",
        "* define a scoring metric to evaluate the models\n",
        "    * the default option is accuracy which isn't optimal for fraud detection\n",
        "    * use `precision`, `recall` or `f1`\n",
        "\n",
        "```python\n",
        "# Fit the grid search to the data\n",
        "grid_search_model.fit(X_train, y_train)\n",
        "\n",
        "# Get the optimal parameters\n",
        "grid_search_model.best_params_\n",
        "\n",
        "{'bootstrap': True,\n",
        " 'max_depth': 80,\n",
        " 'max_features': 3,\n",
        " 'min_samples_leaf': 5,\n",
        " 'min_samples_split': 12,\n",
        " 'n_estimators': 100}\n",
        "```\n",
        "\n",
        "* once `GridSearchCV` and `model` are fit to the data, obtain the parameters belonging to the optimal model by using the `best_params_` attribute\n",
        "* `GridSearchCV` is computationally heavy\n",
        "    * Can require many hours, depending on the amount of data and number of parameters in the grid\n",
        "    * __**Save the Results**__\n",
        "\n",
        "```python\n",
        "# Get the best_estimator results\n",
        "grid_search.best_estimator_\n",
        "grid_search.best_score_\n",
        "```\n",
        "\n",
        "* `best_score_`: mean cross-validated score of the `best_estimator_`, which depends on the `scoring` option"
      ]
    },
    {
      "cell_type": "markdown",
      "metadata": {
        "id": "zgrZN5lfPGwl"
      },
      "source": [
        "### Model adjustments\n",
        "\n",
        "A simple way to adjust the random forest model to deal with highly imbalanced fraud data, is to use the **`class_weights` option** when defining the `sklearn` model. However, as you will see, it is a bit of a blunt force mechanism and might not work for your very special case.\n",
        "\n",
        "In this exercise you'll explore the ``weight = \"balanced_subsample\"`` mode the Random Forest model from the earlier exercise. You already have split your data in a training and test set, i.e `X_train`, `X_test`, `y_train`, `y_test` are available. The metrics function have already been imported.\n",
        "\n",
        "**Instructions**\n",
        "\n",
        "* Set the `class_weight` argument of your classifier to `balanced_subsample`.\n",
        "* Fit your model to your training set.\n",
        "* Obtain predictions and probabilities from X_test.\n",
        "* Obtain the `roc_auc_score`, the classification report and confusion matrix."
      ]
    },
    {
      "cell_type": "code",
      "execution_count": 191,
      "metadata": {
        "tags": [],
        "colab": {
          "base_uri": "https://localhost:8080/"
        },
        "id": "-kISqZosPGwm",
        "outputId": "200cf63d-05e7-4ec3-ba85-70404d3556fd"
      },
      "outputs": [
        {
          "output_type": "stream",
          "name": "stdout",
          "text": [
            "ROC Score:\n",
            "0.9750299724096771\n",
            "\n",
            "Classification Report:\n",
            "              precision    recall  f1-score   support\n",
            "\n",
            "           0       0.99      1.00      1.00      2099\n",
            "           1       0.99      0.80      0.88        91\n",
            "\n",
            "    accuracy                           0.99      2190\n",
            "   macro avg       0.99      0.90      0.94      2190\n",
            "weighted avg       0.99      0.99      0.99      2190\n",
            "\n",
            "\n",
            "Confusion Matrix:\n",
            "[[2098    1]\n",
            " [  18   73]]\n"
          ]
        }
      ],
      "source": [
        "# Define the model with balanced subsample\n",
        "model = RandomForestClassifier(class_weight='balanced_subsample', random_state=5, n_estimators=100)\n",
        "\n",
        "# Fit your training model to your training set\n",
        "model.fit(X_train, y_train)\n",
        "\n",
        "# Obtain the predicted values and probabilities from the model\n",
        "predicted = model.predict(X_test)\n",
        "probs = model.predict_proba(X_test)\n",
        "\n",
        "# Print the ROC curve, classification report and confusion matrix\n",
        "print('ROC Score:')\n",
        "print(roc_auc_score(y_test, probs[:,1]))\n",
        "print('\\nClassification Report:')\n",
        "print(classification_report(y_test, predicted))\n",
        "print('\\nConfusion Matrix:')\n",
        "print(confusion_matrix(y_test, predicted))"
      ]
    },
    {
      "cell_type": "markdown",
      "metadata": {
        "id": "YcCXyNUBPGwm"
      },
      "source": [
        "**You can see that the model results don't improve drastically. We now have 3 less false positives, but now 19 in stead of 18 false negatives, i.e. cases of fraud we are not catching. If we mostly care about catching fraud, and not so much about the false positives, this does actually not improve our model at all, albeit a simple option to try. In the next exercises you'll see how to more smartly tweak your model to focus on reducing false negatives and catch more fraud.**"
      ]
    },
    {
      "cell_type": "markdown",
      "metadata": {
        "id": "r2N5zWAKPGwm"
      },
      "source": [
        "### Adjusting RF for fraud detection\n",
        "\n",
        "In this exercise you're going to dive into the options for the random forest classifier, as we'll **assign weights** and **tweak the shape** of the decision trees in the forest. You'll **define weights manually**, to be able to off-set that imbalance slightly. In our case we have 300 fraud to 7000 non-fraud cases, so by setting the weight ratio to 1:12, we get to a 1/3 fraud to 2/3 non-fraud ratio, which is good enough for training the model on.\n",
        "\n",
        "The data in this exercise has already been split into training and test set, so you just need to focus on defining your model. You can then use the function `get_model_results()` as a short cut. This function fits the model to your training data, predicts and obtains performance metrics similar to the steps you did in the previous exercises.\n",
        "\n",
        "**Instructions**\n",
        "\n",
        "* Change the `weight` option to set the ratio to 1 to 12 for the non-fraud and fraud cases, and set the split criterion to 'entropy'.\n",
        "* Set the maximum depth to 10.\n",
        "* Set the minimal samples in leaf nodes to 10.\n",
        "* Set the number of trees to use in the model to 20."
      ]
    },
    {
      "cell_type": "markdown",
      "metadata": {
        "id": "Tu-Oqp9RPGwm"
      },
      "source": [
        "#### def get_model_results"
      ]
    },
    {
      "cell_type": "code",
      "execution_count": 192,
      "metadata": {
        "tags": [],
        "id": "AC0VAgZUPGwm"
      },
      "outputs": [],
      "source": [
        "def get_model_results(X_train: np.ndarray, y_train: np.ndarray,\n",
        "                      X_test: np.ndarray, y_test: np.ndarray, model):\n",
        "    \"\"\"\n",
        "    model: sklearn model (e.g. RandomForestClassifier)\n",
        "    \"\"\"\n",
        "    # Fit your training model to your training set\n",
        "    model.fit(X_train, y_train)\n",
        "\n",
        "    # Obtain the predicted values and probabilities from the model\n",
        "    predicted = model.predict(X_test)\n",
        "\n",
        "    try:\n",
        "        probs = model.predict_proba(X_test)\n",
        "        print('ROC Score:')\n",
        "        print(roc_auc_score(y_test, probs[:,1]))\n",
        "    except AttributeError:\n",
        "        pass\n",
        "\n",
        "    # Print the ROC curve, classification report and confusion matrix\n",
        "    print('\\nClassification Report:')\n",
        "    print(classification_report(y_test, predicted))\n",
        "    print('\\nConfusion Matrix:')\n",
        "    print(confusion_matrix(y_test, predicted))"
      ]
    },
    {
      "cell_type": "code",
      "execution_count": 193,
      "metadata": {
        "tags": [],
        "colab": {
          "base_uri": "https://localhost:8080/"
        },
        "id": "A5MfetNyPGwm",
        "outputId": "5e19f67d-6ae4-4ea8-dbe4-661d7a7e6cab"
      },
      "outputs": [
        {
          "output_type": "stream",
          "name": "stdout",
          "text": [
            "ROC Score:\n",
            "0.9609651901219315\n",
            "\n",
            "Classification Report:\n",
            "              precision    recall  f1-score   support\n",
            "\n",
            "           0       0.99      1.00      1.00      2099\n",
            "           1       0.97      0.85      0.91        91\n",
            "\n",
            "    accuracy                           0.99      2190\n",
            "   macro avg       0.98      0.92      0.95      2190\n",
            "weighted avg       0.99      0.99      0.99      2190\n",
            "\n",
            "\n",
            "Confusion Matrix:\n",
            "[[2097    2]\n",
            " [  14   77]]\n"
          ]
        }
      ],
      "source": [
        "# Change the model options\n",
        "model = RandomForestClassifier(bootstrap=True,\n",
        "                               class_weight={0:1, 1:12},\n",
        "                               criterion='entropy',\n",
        "                               # Change depth of model\n",
        "                               max_depth=10,\n",
        "                               # Change the number of samples in leaf nodes\n",
        "                               min_samples_leaf=10,\n",
        "                               # Change the number of trees to use\n",
        "                               n_estimators=20,\n",
        "                               n_jobs=-1,\n",
        "                               random_state=5)\n",
        "\n",
        "# Run the function get_model_results\n",
        "get_model_results(X_train, y_train, X_test, y_test, model)"
      ]
    },
    {
      "cell_type": "markdown",
      "metadata": {
        "id": "DoMxW4MQPGwm"
      },
      "source": [
        "**By smartly defining more options in the model, you can obtain better predictions. You have effectively reduced the number of false negatives, i.e. you are catching more cases of fraud, whilst keeping the number of false positives low. In this exercise you've manually changed the options of the model. There is a smarter way of doing it, by using `GridSearchCV`, which you'll see in the next exercise!**"
      ]
    },
    {
      "cell_type": "markdown",
      "metadata": {
        "id": "ZvmvqjrgPGwm"
      },
      "source": [
        "### Parameter optimization with GridSearchCV\n",
        "\n",
        "In this exercise you're going to **tweak our model in a less \"random\" way**, but use `GridSearchCV` to do the work for you.\n",
        "\n",
        "With `GridSearchCV` you can define **which performance metric to score** the options on. Since for fraud detection we are mostly interested in catching as many fraud cases as possible, you can optimize your model settings to get the best possible Recall score. If you also cared about reducing the number of false positives, you could optimize on F1-score, this gives you that nice Precision-Recall trade-off.\n",
        "\n",
        "`GridSearchCV` has already been imported from `sklearn.model_selection`, so let's give it a try!\n",
        "\n",
        "**Instructions**\n",
        "\n",
        "* Define in the parameter grid that you want to try 1 and 30 trees, and that you want to try the `gini` and `entropy` split criterion.\n",
        "* Define the model to be simple `RandomForestClassifier`, you want to keep the random_state at 5 to be able to compare models.\n",
        "* Set the `scoring` option such that it optimizes for recall.\n",
        "* Fit the model to the training data `X_train` and `y_train` and obtain the best parameters for the model."
      ]
    },
    {
      "cell_type": "code",
      "execution_count": 194,
      "metadata": {
        "tags": [],
        "colab": {
          "base_uri": "https://localhost:8080/"
        },
        "id": "vU3jXmbPPGwm",
        "outputId": "34e542d6-509a-421a-91e5-1f28d764a2aa"
      },
      "outputs": [
        {
          "output_type": "execute_result",
          "data": {
            "text/plain": [
              "{'criterion': 'gini',\n",
              " 'max_depth': 8,\n",
              " 'max_features': 'log2',\n",
              " 'n_estimators': 30}"
            ]
          },
          "metadata": {},
          "execution_count": 194
        }
      ],
      "source": [
        "# Define the parameter sets to test\n",
        "param_grid = {'n_estimators': [1, 30],\n",
        "              'max_features': ['auto', 'log2'],\n",
        "              'max_depth': [4, 8, 10, 12],\n",
        "              'criterion': ['gini', 'entropy']}\n",
        "\n",
        "# Define the model to use\n",
        "model = RandomForestClassifier(random_state=5)\n",
        "\n",
        "# Combine the parameter sets with the defined model\n",
        "CV_model = GridSearchCV(estimator=model, param_grid=param_grid, cv=5, scoring='recall', n_jobs=-1)\n",
        "\n",
        "# Fit the model to our training data and obtain best parameters\n",
        "CV_model.fit(X_train, y_train)\n",
        "CV_model.best_params_"
      ]
    },
    {
      "cell_type": "markdown",
      "metadata": {
        "id": "k6LTAMjQPGwm"
      },
      "source": [
        "### Model results with GridSearchCV\n",
        "\n",
        "You discovered that the **best parameters for your model** are that the split criterion should be set to `'gini'`, the number of estimators (trees) should be 30, the maximum depth of the model should be 8 and the maximum features should be set to `\"log2\"`.\n",
        "\n",
        "Let's give this a try and see how well our model performs. You can use the `get_model_results()` function again to save time.\n",
        "\n",
        "**Instructions**\n",
        "\n",
        "* Input the optimal settings into the model definition.\n",
        "* Fit the model, obtain predictions and get the performance parameters with `get_model_results()`."
      ]
    },
    {
      "cell_type": "code",
      "execution_count": 195,
      "metadata": {
        "tags": [],
        "colab": {
          "base_uri": "https://localhost:8080/"
        },
        "id": "gSvz-2JuPGwm",
        "outputId": "083eb267-3d67-4f4b-a421-fda7962601d1"
      },
      "outputs": [
        {
          "output_type": "stream",
          "name": "stdout",
          "text": [
            "ROC Score:\n",
            "0.9749697658225529\n",
            "\n",
            "Classification Report:\n",
            "              precision    recall  f1-score   support\n",
            "\n",
            "           0       0.99      1.00      1.00      2099\n",
            "           1       0.95      0.84      0.89        91\n",
            "\n",
            "    accuracy                           0.99      2190\n",
            "   macro avg       0.97      0.92      0.94      2190\n",
            "weighted avg       0.99      0.99      0.99      2190\n",
            "\n",
            "\n",
            "Confusion Matrix:\n",
            "[[2095    4]\n",
            " [  15   76]]\n"
          ]
        }
      ],
      "source": [
        "# Input the optimal parameters in the model\n",
        "model = RandomForestClassifier(class_weight={0:1,1:12},\n",
        "                               criterion='gini',\n",
        "                               max_depth=8,\n",
        "                               max_features='log2',\n",
        "                               min_samples_leaf=10,\n",
        "                               n_estimators=30,\n",
        "                               n_jobs=-1,\n",
        "                               random_state=5)\n",
        "\n",
        "# Get results from your model\n",
        "get_model_results(X_train, y_train, X_test, y_test, model)"
      ]
    },
    {
      "cell_type": "markdown",
      "metadata": {
        "id": "0iXkCZePPGwm"
      },
      "source": [
        "**The model has been improved even further. The number of false positives has now been slightly reduced even further, which means we are catching more cases of fraud. However, you see that the number of false positives actually went up. That is that Precision-Recall trade-off in action. To decide which final model is best, you need to take into account how bad it is not to catch fraudsters, versus how many false positives the fraud analytics team can deal with. Ultimately, this final decision should be made by you and the fraud team together.**"
      ]
    },
    {
      "cell_type": "markdown",
      "metadata": {
        "id": "AAY60WQ7PGwm"
      },
      "source": [
        "## Ensemble methods\n",
        "\n",
        "![ensemble](https://raw.githubusercontent.com/trenton3983/DataCamp/master/Images/fraud_detection/ensemble.JPG)\n",
        "* Ensemble methods are techniques that create multiple machine learning models and then combine them to produce a final result\n",
        "* Usually produce more accurate predictions than a single model\n",
        "* The goal of an ML problem is to find a single model that will best predict our wanted outcome\n",
        "    * Use ensemble methods rather than making one model and hoping it's best, most accurate predictor\n",
        "* Ensemble methods take a myriad of models into account and average them to produce one final model\n",
        "    * Ensures the predictions are robust\n",
        "    * Less likely to be the result of overfitting\n",
        "    * Can improve prediction performance\n",
        "        * Especially by combining models with different recall and precision scores\n",
        "    * Are a winning formula at Kaggle competitions\n",
        "* The Random Forest classifier is an ensemble of Decision Trees\n",
        "    * **Bootstrap Aggregation** or **Bagging Ensemble** method\n",
        "    * In a Random Forest, models are trained on random subsamples of data and the results are aggregated by taking the average prediction of all the trees"
      ]
    },
    {
      "cell_type": "markdown",
      "metadata": {
        "id": "a038sCabPGwm"
      },
      "source": [
        "#### Stacking Ensemble Methods\n",
        "\n",
        "![stacking ensemble](https://raw.githubusercontent.com/trenton3983/DataCamp/master/Images/fraud_detection/ensemble_stacking.JPG)\n",
        "* Multiple models are combined via a \"voting\" rule on the model outcome\n",
        "* The base level models are each trained based on the complete training set\n",
        "    * Unlike the Bagging method, models are not trained on a subsample of the data\n",
        "* Algorithms of different types can be combined"
      ]
    },
    {
      "cell_type": "markdown",
      "metadata": {
        "id": "kPUo-dBbPGwm"
      },
      "source": [
        "#### Voting Classifier\n",
        "\n",
        "* available in sklearn\n",
        "    * easy way of implementing an ensemble model\n",
        "\n",
        "```python\n",
        "from sklearn.ensemble import VotingClassifier\n",
        "\n",
        "# Define Models\n",
        "clf1 = LogisticRegression(random_state=1)\n",
        "clf2 = RandomForestClassifier(random_state=1)\n",
        "clf3 = GaussianNB()\n",
        "\n",
        "# Combine models into ensemble\n",
        "ensemble_model = VotingClassifier(estimators=[('lr', clf1), ('rf', clf2), ('gnb', clf3)], voting='hard')\n",
        "\n",
        "# Fit and predict as with other models\n",
        "ensemble_model.fit(X_train, y_train)\n",
        "ensemble_model.predict(X_test)\n",
        "```\n",
        "\n",
        "* the `voting='hard'` option uses the predicted class labels and takes the majority vote\n",
        "* the `voting='soft'` option takes the average probability by combining the predicted probabilities of the individual models\n",
        "* Weights can be assigned to the `VotingClassifer` with `weights=[2,1,1]`\n",
        "    * Useful when one model significantly outperforms the others"
      ]
    },
    {
      "cell_type": "markdown",
      "metadata": {
        "id": "8y_DpwmoPGwm"
      },
      "source": [
        "#### Reliable Labels\n",
        "\n",
        "* In real life it's unlikely the data will have truly unbiased, reliable labels for the model\n",
        "* In credit card fraud you often will have reliable labels, in which case, use the methods learned so far\n",
        "* Most cases you'll need to rely on unsupervised learning techniques to detect fraud"
      ]
    },
    {
      "cell_type": "markdown",
      "metadata": {
        "id": "Ns_fHLI1PGwm"
      },
      "source": [
        "### Logistic Regression\n",
        "\n",
        "In this last lesson you'll **combine three algorithms** into one model with the **VotingClassifier**. This allows us to benefit from the different aspects from all models, and hopefully improve overall performance and detect more fraud. The first model, the Logistic Regression, has a slightly higher recall score than our optimal Random Forest model, but gives a lot more false positives. You'll also add a Decision Tree with balanced weights to it. The data is already split into a training and test set, i.e. `X_train`, `y_train`, `X_test`, `y_test` are available.\n",
        "\n",
        "In order to understand how the Voting Classifier can potentially improve your original model, you should check the standalone results of the Logistic Regression model first.\n",
        "\n",
        "**Instructions**\n",
        "\n",
        "* Define a LogisticRegression model with class weights that are 1:15 for the fraud cases.\n",
        "* Fit the model to the training set, and obtain the model predictions.\n",
        "* Print the classification report and confusion matrix."
      ]
    },
    {
      "cell_type": "code",
      "execution_count": 196,
      "metadata": {
        "tags": [],
        "colab": {
          "base_uri": "https://localhost:8080/"
        },
        "id": "YPdLg8s4PGwm",
        "outputId": "f44f3e98-1555-4b22-8742-440dab87e923"
      },
      "outputs": [
        {
          "output_type": "stream",
          "name": "stdout",
          "text": [
            "ROC Score:\n",
            "0.9722054981702433\n",
            "\n",
            "Classification Report:\n",
            "              precision    recall  f1-score   support\n",
            "\n",
            "           0       0.99      0.98      0.99      2099\n",
            "           1       0.63      0.88      0.73        91\n",
            "\n",
            "    accuracy                           0.97      2190\n",
            "   macro avg       0.81      0.93      0.86      2190\n",
            "weighted avg       0.98      0.97      0.98      2190\n",
            "\n",
            "\n",
            "Confusion Matrix:\n",
            "[[2052   47]\n",
            " [  11   80]]\n"
          ]
        }
      ],
      "source": [
        "# Define the Logistic Regression model with weights\n",
        "model = LogisticRegression(class_weight={0:1, 1:15}, random_state=5, solver='liblinear')\n",
        "\n",
        "# Get the model results\n",
        "get_model_results(X_train, y_train, X_test, y_test, model)"
      ]
    },
    {
      "cell_type": "markdown",
      "metadata": {
        "id": "wy-ivQPGPGwn"
      },
      "source": [
        "**As you can see the Logistic Regression has quite different performance from the Random Forest. More false positives, but also a better Recall. It will therefore will a useful addition to the Random Forest in an ensemble model.**"
      ]
    },
    {
      "cell_type": "markdown",
      "metadata": {
        "id": "tSBL00zjPGwn"
      },
      "source": [
        "### Voting Classifier\n",
        "\n",
        "Let's now **combine three machine learning models into one**, to improve our Random Forest fraud detection model from before. You'll combine our usual Random Forest model, with the Logistic Regression from the previous exercise, with a simple Decision Tree. You can use the short cut `get_model_results()` to see the immediate result of the ensemble model.\n",
        "\n",
        "**Instructions**\n",
        "\n",
        "* Import the Voting Classifier package.\n",
        "* Define the three models; use the Logistic Regression from before, the Random Forest from previous exercises and a Decision tree with balanced class weights.\n",
        "* Define the ensemble model by inputting the three classifiers with their respective labels."
      ]
    },
    {
      "cell_type": "code",
      "execution_count": 197,
      "metadata": {
        "tags": [],
        "colab": {
          "base_uri": "https://localhost:8080/"
        },
        "id": "OnV5Z44hPGwn",
        "outputId": "e10a9122-4f1e-4ca5-a484-610cd15c90b4"
      },
      "outputs": [
        {
          "output_type": "stream",
          "name": "stdout",
          "text": [
            "\n",
            "Classification Report:\n",
            "              precision    recall  f1-score   support\n",
            "\n",
            "           0       0.99      1.00      0.99      2099\n",
            "           1       0.90      0.86      0.88        91\n",
            "\n",
            "    accuracy                           0.99      2190\n",
            "   macro avg       0.95      0.93      0.94      2190\n",
            "weighted avg       0.99      0.99      0.99      2190\n",
            "\n",
            "\n",
            "Confusion Matrix:\n",
            "[[2090    9]\n",
            " [  13   78]]\n"
          ]
        }
      ],
      "source": [
        "# Define the three classifiers to use in the ensemble\n",
        "clf1 = LogisticRegression(class_weight={0:1, 1:15},\n",
        "                          random_state=5,\n",
        "                          solver='liblinear')\n",
        "\n",
        "clf2 = RandomForestClassifier(class_weight={0:1, 1:12},\n",
        "                              criterion='gini',\n",
        "                              max_depth=8,\n",
        "                              max_features='log2',\n",
        "                              min_samples_leaf=10,\n",
        "                              n_estimators=30,\n",
        "                              n_jobs=-1,\n",
        "                              random_state=5)\n",
        "\n",
        "clf3 = DecisionTreeClassifier(random_state=5,\n",
        "                              class_weight=\"balanced\")\n",
        "\n",
        "# Combine the classifiers in the ensemble model\n",
        "ensemble_model = VotingClassifier(estimators=[('lr', clf1), ('rf', clf2), ('dt', clf3)], voting='hard')\n",
        "\n",
        "# Get the results\n",
        "get_model_results(X_train, y_train, X_test, y_test, ensemble_model)"
      ]
    },
    {
      "cell_type": "markdown",
      "metadata": {
        "id": "10aE5LmOPGwn"
      },
      "source": [
        "**By combining the classifiers, you can take the best of multiple models. You've increased the cases of fraud you are catching from 76 to 78, and you only have 5 extra false positives in return. If you do care about catching as many fraud cases as you can, whilst keeping the false positives low, this is a pretty good trade-off. The Logistic Regression as a standalone was quite bad in terms of false positives, and the Random Forest was worse in terms of false negatives. By combining these together you indeed managed to improve performance.**"
      ]
    },
    {
      "cell_type": "markdown",
      "metadata": {
        "id": "OM1nXMNIPGwn"
      },
      "source": [
        "### Adjusting weights within the Voting Classifier\n",
        "\n",
        "You've just seen that the Voting Classifier allows you to improve your fraud detection performance, by combining good aspects from multiple models. Now let's try to **adjust the weights** we give to these models. By increasing or decreasing weights you can play with **how much emphasis you give to a particular model** relative to the rest. This comes in handy when a certain model has overall better performance than the rest, but you still want to combine aspects of the others to further improve your results.\n",
        "\n",
        "For this exercise the data is already split into a training and test set, and `clf1`, `clf2` and `clf3` are available and defined as before, i.e. they are the Logistic Regression, the Random Forest model and the Decision Tree respectively.\n",
        "\n",
        "**Instructions**\n",
        "\n",
        "* Define an ensemble method where you over weigh the second classifier (`clf2`) with 4 to 1 to the rest of the classifiers.\n",
        "* Fit the model to the training and test set, and obtain the predictions `predicted` from the ensemble model.\n",
        "* Print the performance metrics, this is ready for you to run."
      ]
    },
    {
      "cell_type": "code",
      "execution_count": 198,
      "metadata": {
        "tags": [],
        "colab": {
          "base_uri": "https://localhost:8080/"
        },
        "id": "cRoIJ71WPGwn",
        "outputId": "23f45d54-6857-48f1-827e-43cf1f2ffde5"
      },
      "outputs": [
        {
          "output_type": "stream",
          "name": "stdout",
          "text": [
            "ROC Score:\n",
            "0.9739226947421326\n",
            "\n",
            "Classification Report:\n",
            "              precision    recall  f1-score   support\n",
            "\n",
            "           0       0.99      1.00      1.00      2099\n",
            "           1       0.94      0.85      0.89        91\n",
            "\n",
            "    accuracy                           0.99      2190\n",
            "   macro avg       0.97      0.92      0.94      2190\n",
            "weighted avg       0.99      0.99      0.99      2190\n",
            "\n",
            "\n",
            "Confusion Matrix:\n",
            "[[2094    5]\n",
            " [  14   77]]\n"
          ]
        }
      ],
      "source": [
        "# Define the ensemble model\n",
        "ensemble_model = VotingClassifier(estimators=[('lr', clf1), ('rf', clf2), ('gnb', clf3)], voting='soft', weights=[1, 4, 1], flatten_transform=True)\n",
        "\n",
        "# Get results\n",
        "get_model_results(X_train, y_train, X_test, y_test, ensemble_model)"
      ]
    },
    {
      "cell_type": "markdown",
      "metadata": {
        "id": "TzWFK2oKPGwn"
      },
      "source": [
        "**The weight option allows you to play with the individual models to get the best final mix for your fraud detection model. Now that you have finalized fraud detection with supervised learning, let's have a look at how fraud detetion can be done when you don't have any labels to train on.**"
      ]
    },
    {
      "cell_type": "markdown",
      "metadata": {
        "id": "530v_fDkPGwn"
      },
      "source": [
        "# Fraud detection using unlabeled data\n",
        "\n",
        "Use unsupervised learning techniques to detect fraud. Segment customers, use K-means clustering and other clustering algorithms to find suspicious occurrences in your data."
      ]
    },
    {
      "cell_type": "markdown",
      "metadata": {
        "id": "jsqQ-N8BPGwn"
      },
      "source": [
        "## Normal versus abnormal behavior\n",
        "\n",
        "* Explore fraud detection without reliable data labels\n",
        "* Unsupervised learning to detect suspicious behavior\n",
        "* Abnormal behavior isn't necessarily fraudulent\n",
        "* Challenging because it's difficult to validate"
      ]
    },
    {
      "cell_type": "markdown",
      "metadata": {
        "id": "eb-uIhVnPGwn"
      },
      "source": [
        "#### What's normal behavior?\n",
        "\n",
        "* thoroughly describe the data:\n",
        "    * plot histograms\n",
        "    * check for outliers\n",
        "    * investigate correlations\n",
        "* Are there any known historic cases of fraud? What typifies those cases?\n",
        "* Investigate whether the data is homogeneous, or whether different types of clients display different behavior\n",
        "* Check patterns within subgroups of data: is your data homogeneous?\n",
        "* Verify data points are the same type:\n",
        "    * individuals\n",
        "    * groups\n",
        "    * companies\n",
        "    * governmental organizations\n",
        "* Do the data points differ on:\n",
        "    * spending patterns\n",
        "    * age\n",
        "    * location\n",
        "    * frequency\n",
        "* For credit card fraud, location can be an indication of fraud\n",
        "* This goes for e-commerce sites\n",
        "    * where's the IP address located and where is the product ordered to ship?\n",
        "* Create a separate model for each segment\n",
        "* How to aggregate the many model results back into one final list"
      ]
    },
    {
      "cell_type": "markdown",
      "metadata": {
        "id": "2n2gfdPqPGwn"
      },
      "source": [
        "### Exploring the data\n",
        "\n",
        "In the next exercises, you will be looking at bank **payment transaction data**. The financial transactions are categorized by type of expense, as well as the amount spent. Moreover, you have some client characteristics available such as age group and gender. Some of the transactions are labeled as fraud; you'll treat these labels as given and will use those to validate the results.\n",
        "\n",
        "When using unsupervised learning techniques for fraud detection, you want to **distinguish normal from abnormal** (thus potentially fraudulent) behavior. As a fraud analyst to understand what is \"normal\", you need to have a good understanding of the data and its characteristics. Let's explore the data in this first exercise.\n",
        "\n",
        "**Instructions 1/3**\n",
        "\n",
        "* Obtain the shape of the dataframe `df` to inspect the size of our data and display the first rows to see which features are available."
      ]
    },
    {
      "cell_type": "code",
      "execution_count": 199,
      "metadata": {
        "tags": [],
        "id": "ZbfYjNc-PGwn"
      },
      "outputs": [],
      "source": [
        "banksim_df = pd.read_csv(banksim_file)\n",
        "banksim_df.drop(['Unnamed: 0'], axis=1, inplace=True)\n",
        "banksim_adj_df = pd.read_csv(banksim_adj_file)\n",
        "banksim_adj_df.drop(['Unnamed: 0'], axis=1, inplace=True)"
      ]
    },
    {
      "cell_type": "code",
      "execution_count": 200,
      "metadata": {
        "tags": [],
        "colab": {
          "base_uri": "https://localhost:8080/"
        },
        "id": "MdXrxGTLPGwn",
        "outputId": "1399bbd0-9876-4b7f-c6d6-e9aa545f449e"
      },
      "outputs": [
        {
          "output_type": "execute_result",
          "data": {
            "text/plain": [
              "(7200, 5)"
            ]
          },
          "metadata": {},
          "execution_count": 200
        }
      ],
      "source": [
        "banksim_df.shape"
      ]
    },
    {
      "cell_type": "code",
      "execution_count": 201,
      "metadata": {
        "tags": [],
        "colab": {
          "base_uri": "https://localhost:8080/",
          "height": 206
        },
        "id": "R__z_Su1PGwn",
        "outputId": "8942ee4c-39b8-4ed9-bfe4-311bdaf00bc6"
      },
      "outputs": [
        {
          "output_type": "execute_result",
          "data": {
            "text/plain": [
              "  age gender           category  amount  fraud\n",
              "0   3      F  es_transportation   49.71      0\n",
              "1   4      F          es_health   39.29      0\n",
              "2   3      F  es_transportation   18.76      0\n",
              "3   4      M  es_transportation   13.95      0\n",
              "4   2      M  es_transportation   49.87      0"
            ],
            "text/html": [
              "\n",
              "  <div id=\"df-d0af94c6-36dd-4870-a933-021d3e6503a3\" class=\"colab-df-container\">\n",
              "    <div>\n",
              "<style scoped>\n",
              "    .dataframe tbody tr th:only-of-type {\n",
              "        vertical-align: middle;\n",
              "    }\n",
              "\n",
              "    .dataframe tbody tr th {\n",
              "        vertical-align: top;\n",
              "    }\n",
              "\n",
              "    .dataframe thead th {\n",
              "        text-align: right;\n",
              "    }\n",
              "</style>\n",
              "<table border=\"1\" class=\"dataframe\">\n",
              "  <thead>\n",
              "    <tr style=\"text-align: right;\">\n",
              "      <th></th>\n",
              "      <th>age</th>\n",
              "      <th>gender</th>\n",
              "      <th>category</th>\n",
              "      <th>amount</th>\n",
              "      <th>fraud</th>\n",
              "    </tr>\n",
              "  </thead>\n",
              "  <tbody>\n",
              "    <tr>\n",
              "      <th>0</th>\n",
              "      <td>3</td>\n",
              "      <td>F</td>\n",
              "      <td>es_transportation</td>\n",
              "      <td>49.71</td>\n",
              "      <td>0</td>\n",
              "    </tr>\n",
              "    <tr>\n",
              "      <th>1</th>\n",
              "      <td>4</td>\n",
              "      <td>F</td>\n",
              "      <td>es_health</td>\n",
              "      <td>39.29</td>\n",
              "      <td>0</td>\n",
              "    </tr>\n",
              "    <tr>\n",
              "      <th>2</th>\n",
              "      <td>3</td>\n",
              "      <td>F</td>\n",
              "      <td>es_transportation</td>\n",
              "      <td>18.76</td>\n",
              "      <td>0</td>\n",
              "    </tr>\n",
              "    <tr>\n",
              "      <th>3</th>\n",
              "      <td>4</td>\n",
              "      <td>M</td>\n",
              "      <td>es_transportation</td>\n",
              "      <td>13.95</td>\n",
              "      <td>0</td>\n",
              "    </tr>\n",
              "    <tr>\n",
              "      <th>4</th>\n",
              "      <td>2</td>\n",
              "      <td>M</td>\n",
              "      <td>es_transportation</td>\n",
              "      <td>49.87</td>\n",
              "      <td>0</td>\n",
              "    </tr>\n",
              "  </tbody>\n",
              "</table>\n",
              "</div>\n",
              "    <div class=\"colab-df-buttons\">\n",
              "\n",
              "  <div class=\"colab-df-container\">\n",
              "    <button class=\"colab-df-convert\" onclick=\"convertToInteractive('df-d0af94c6-36dd-4870-a933-021d3e6503a3')\"\n",
              "            title=\"Convert this dataframe to an interactive table.\"\n",
              "            style=\"display:none;\">\n",
              "\n",
              "  <svg xmlns=\"http://www.w3.org/2000/svg\" height=\"24px\" viewBox=\"0 -960 960 960\">\n",
              "    <path d=\"M120-120v-720h720v720H120Zm60-500h600v-160H180v160Zm220 220h160v-160H400v160Zm0 220h160v-160H400v160ZM180-400h160v-160H180v160Zm440 0h160v-160H620v160ZM180-180h160v-160H180v160Zm440 0h160v-160H620v160Z\"/>\n",
              "  </svg>\n",
              "    </button>\n",
              "\n",
              "  <style>\n",
              "    .colab-df-container {\n",
              "      display:flex;\n",
              "      gap: 12px;\n",
              "    }\n",
              "\n",
              "    .colab-df-convert {\n",
              "      background-color: #E8F0FE;\n",
              "      border: none;\n",
              "      border-radius: 50%;\n",
              "      cursor: pointer;\n",
              "      display: none;\n",
              "      fill: #1967D2;\n",
              "      height: 32px;\n",
              "      padding: 0 0 0 0;\n",
              "      width: 32px;\n",
              "    }\n",
              "\n",
              "    .colab-df-convert:hover {\n",
              "      background-color: #E2EBFA;\n",
              "      box-shadow: 0px 1px 2px rgba(60, 64, 67, 0.3), 0px 1px 3px 1px rgba(60, 64, 67, 0.15);\n",
              "      fill: #174EA6;\n",
              "    }\n",
              "\n",
              "    .colab-df-buttons div {\n",
              "      margin-bottom: 4px;\n",
              "    }\n",
              "\n",
              "    [theme=dark] .colab-df-convert {\n",
              "      background-color: #3B4455;\n",
              "      fill: #D2E3FC;\n",
              "    }\n",
              "\n",
              "    [theme=dark] .colab-df-convert:hover {\n",
              "      background-color: #434B5C;\n",
              "      box-shadow: 0px 1px 3px 1px rgba(0, 0, 0, 0.15);\n",
              "      filter: drop-shadow(0px 1px 2px rgba(0, 0, 0, 0.3));\n",
              "      fill: #FFFFFF;\n",
              "    }\n",
              "  </style>\n",
              "\n",
              "    <script>\n",
              "      const buttonEl =\n",
              "        document.querySelector('#df-d0af94c6-36dd-4870-a933-021d3e6503a3 button.colab-df-convert');\n",
              "      buttonEl.style.display =\n",
              "        google.colab.kernel.accessAllowed ? 'block' : 'none';\n",
              "\n",
              "      async function convertToInteractive(key) {\n",
              "        const element = document.querySelector('#df-d0af94c6-36dd-4870-a933-021d3e6503a3');\n",
              "        const dataTable =\n",
              "          await google.colab.kernel.invokeFunction('convertToInteractive',\n",
              "                                                    [key], {});\n",
              "        if (!dataTable) return;\n",
              "\n",
              "        const docLinkHtml = 'Like what you see? Visit the ' +\n",
              "          '<a target=\"_blank\" href=https://colab.research.google.com/notebooks/data_table.ipynb>data table notebook</a>'\n",
              "          + ' to learn more about interactive tables.';\n",
              "        element.innerHTML = '';\n",
              "        dataTable['output_type'] = 'display_data';\n",
              "        await google.colab.output.renderOutput(dataTable, element);\n",
              "        const docLink = document.createElement('div');\n",
              "        docLink.innerHTML = docLinkHtml;\n",
              "        element.appendChild(docLink);\n",
              "      }\n",
              "    </script>\n",
              "  </div>\n",
              "\n",
              "\n",
              "<div id=\"df-d26bd1bf-e34c-405b-aac0-913b8fbe8b89\">\n",
              "  <button class=\"colab-df-quickchart\" onclick=\"quickchart('df-d26bd1bf-e34c-405b-aac0-913b8fbe8b89')\"\n",
              "            title=\"Suggest charts\"\n",
              "            style=\"display:none;\">\n",
              "\n",
              "<svg xmlns=\"http://www.w3.org/2000/svg\" height=\"24px\"viewBox=\"0 0 24 24\"\n",
              "     width=\"24px\">\n",
              "    <g>\n",
              "        <path d=\"M19 3H5c-1.1 0-2 .9-2 2v14c0 1.1.9 2 2 2h14c1.1 0 2-.9 2-2V5c0-1.1-.9-2-2-2zM9 17H7v-7h2v7zm4 0h-2V7h2v10zm4 0h-2v-4h2v4z\"/>\n",
              "    </g>\n",
              "</svg>\n",
              "  </button>\n",
              "\n",
              "<style>\n",
              "  .colab-df-quickchart {\n",
              "      --bg-color: #E8F0FE;\n",
              "      --fill-color: #1967D2;\n",
              "      --hover-bg-color: #E2EBFA;\n",
              "      --hover-fill-color: #174EA6;\n",
              "      --disabled-fill-color: #AAA;\n",
              "      --disabled-bg-color: #DDD;\n",
              "  }\n",
              "\n",
              "  [theme=dark] .colab-df-quickchart {\n",
              "      --bg-color: #3B4455;\n",
              "      --fill-color: #D2E3FC;\n",
              "      --hover-bg-color: #434B5C;\n",
              "      --hover-fill-color: #FFFFFF;\n",
              "      --disabled-bg-color: #3B4455;\n",
              "      --disabled-fill-color: #666;\n",
              "  }\n",
              "\n",
              "  .colab-df-quickchart {\n",
              "    background-color: var(--bg-color);\n",
              "    border: none;\n",
              "    border-radius: 50%;\n",
              "    cursor: pointer;\n",
              "    display: none;\n",
              "    fill: var(--fill-color);\n",
              "    height: 32px;\n",
              "    padding: 0;\n",
              "    width: 32px;\n",
              "  }\n",
              "\n",
              "  .colab-df-quickchart:hover {\n",
              "    background-color: var(--hover-bg-color);\n",
              "    box-shadow: 0 1px 2px rgba(60, 64, 67, 0.3), 0 1px 3px 1px rgba(60, 64, 67, 0.15);\n",
              "    fill: var(--button-hover-fill-color);\n",
              "  }\n",
              "\n",
              "  .colab-df-quickchart-complete:disabled,\n",
              "  .colab-df-quickchart-complete:disabled:hover {\n",
              "    background-color: var(--disabled-bg-color);\n",
              "    fill: var(--disabled-fill-color);\n",
              "    box-shadow: none;\n",
              "  }\n",
              "\n",
              "  .colab-df-spinner {\n",
              "    border: 2px solid var(--fill-color);\n",
              "    border-color: transparent;\n",
              "    border-bottom-color: var(--fill-color);\n",
              "    animation:\n",
              "      spin 1s steps(1) infinite;\n",
              "  }\n",
              "\n",
              "  @keyframes spin {\n",
              "    0% {\n",
              "      border-color: transparent;\n",
              "      border-bottom-color: var(--fill-color);\n",
              "      border-left-color: var(--fill-color);\n",
              "    }\n",
              "    20% {\n",
              "      border-color: transparent;\n",
              "      border-left-color: var(--fill-color);\n",
              "      border-top-color: var(--fill-color);\n",
              "    }\n",
              "    30% {\n",
              "      border-color: transparent;\n",
              "      border-left-color: var(--fill-color);\n",
              "      border-top-color: var(--fill-color);\n",
              "      border-right-color: var(--fill-color);\n",
              "    }\n",
              "    40% {\n",
              "      border-color: transparent;\n",
              "      border-right-color: var(--fill-color);\n",
              "      border-top-color: var(--fill-color);\n",
              "    }\n",
              "    60% {\n",
              "      border-color: transparent;\n",
              "      border-right-color: var(--fill-color);\n",
              "    }\n",
              "    80% {\n",
              "      border-color: transparent;\n",
              "      border-right-color: var(--fill-color);\n",
              "      border-bottom-color: var(--fill-color);\n",
              "    }\n",
              "    90% {\n",
              "      border-color: transparent;\n",
              "      border-bottom-color: var(--fill-color);\n",
              "    }\n",
              "  }\n",
              "</style>\n",
              "\n",
              "  <script>\n",
              "    async function quickchart(key) {\n",
              "      const quickchartButtonEl =\n",
              "        document.querySelector('#' + key + ' button');\n",
              "      quickchartButtonEl.disabled = true;  // To prevent multiple clicks.\n",
              "      quickchartButtonEl.classList.add('colab-df-spinner');\n",
              "      try {\n",
              "        const charts = await google.colab.kernel.invokeFunction(\n",
              "            'suggestCharts', [key], {});\n",
              "      } catch (error) {\n",
              "        console.error('Error during call to suggestCharts:', error);\n",
              "      }\n",
              "      quickchartButtonEl.classList.remove('colab-df-spinner');\n",
              "      quickchartButtonEl.classList.add('colab-df-quickchart-complete');\n",
              "    }\n",
              "    (() => {\n",
              "      let quickchartButtonEl =\n",
              "        document.querySelector('#df-d26bd1bf-e34c-405b-aac0-913b8fbe8b89 button');\n",
              "      quickchartButtonEl.style.display =\n",
              "        google.colab.kernel.accessAllowed ? 'block' : 'none';\n",
              "    })();\n",
              "  </script>\n",
              "</div>\n",
              "    </div>\n",
              "  </div>\n"
            ],
            "application/vnd.google.colaboratory.intrinsic+json": {
              "type": "dataframe",
              "variable_name": "banksim_df",
              "summary": "{\n  \"name\": \"banksim_df\",\n  \"rows\": 7200,\n  \"fields\": [\n    {\n      \"column\": \"age\",\n      \"properties\": {\n        \"dtype\": \"category\",\n        \"num_unique_values\": 8,\n        \"samples\": [\n          \"4\",\n          \"1\",\n          \"3\"\n        ],\n        \"semantic_type\": \"\",\n        \"description\": \"\"\n      }\n    },\n    {\n      \"column\": \"gender\",\n      \"properties\": {\n        \"dtype\": \"category\",\n        \"num_unique_values\": 4,\n        \"samples\": [\n          \"M\",\n          \"U\",\n          \"F\"\n        ],\n        \"semantic_type\": \"\",\n        \"description\": \"\"\n      }\n    },\n    {\n      \"column\": \"category\",\n      \"properties\": {\n        \"dtype\": \"category\",\n        \"num_unique_values\": 15,\n        \"samples\": [\n          \"es_home\",\n          \"es_contents\",\n          \"es_transportation\"\n        ],\n        \"semantic_type\": \"\",\n        \"description\": \"\"\n      }\n    },\n    {\n      \"column\": \"amount\",\n      \"properties\": {\n        \"dtype\": \"number\",\n        \"std\": 40.56935475495678,\n        \"min\": 1.0998,\n        \"max\": 236.1473999999996,\n        \"num_unique_values\": 4387,\n        \"samples\": [\n          30.48,\n          14.66,\n          50.15\n        ],\n        \"semantic_type\": \"\",\n        \"description\": \"\"\n      }\n    },\n    {\n      \"column\": \"fraud\",\n      \"properties\": {\n        \"dtype\": \"number\",\n        \"std\": 0,\n        \"min\": 0,\n        \"max\": 1,\n        \"num_unique_values\": 2,\n        \"samples\": [\n          1,\n          0\n        ],\n        \"semantic_type\": \"\",\n        \"description\": \"\"\n      }\n    }\n  ]\n}"
            }
          },
          "metadata": {},
          "execution_count": 201
        }
      ],
      "source": [
        "banksim_df.head()"
      ]
    },
    {
      "cell_type": "code",
      "execution_count": 202,
      "metadata": {
        "tags": [],
        "colab": {
          "base_uri": "https://localhost:8080/"
        },
        "id": "H1xMLnbfPGwn",
        "outputId": "669890a2-3f57-42c8-c022-01fa04b9734c"
      },
      "outputs": [
        {
          "output_type": "execute_result",
          "data": {
            "text/plain": [
              "(7189, 18)"
            ]
          },
          "metadata": {},
          "execution_count": 202
        }
      ],
      "source": [
        "banksim_adj_df.shape"
      ]
    },
    {
      "cell_type": "code",
      "execution_count": 203,
      "metadata": {
        "tags": [],
        "colab": {
          "base_uri": "https://localhost:8080/",
          "height": 226
        },
        "id": "XItZEumaPGwn",
        "outputId": "c966c04e-4764-4e75-c3d7-882d2547d25d"
      },
      "outputs": [
        {
          "output_type": "execute_result",
          "data": {
            "text/plain": [
              "   age  amount  fraud  M  es_barsandrestaurants  es_contents  es_fashion  \\\n",
              "0    3   49.71      0  0                      0            0           0   \n",
              "1    4   39.29      0  0                      0            0           0   \n",
              "2    3   18.76      0  0                      0            0           0   \n",
              "3    4   13.95      0  1                      0            0           0   \n",
              "4    2   49.87      0  1                      0            0           0   \n",
              "\n",
              "   es_food  es_health  es_home  es_hotelservices  es_hyper  es_leisure  \\\n",
              "0        0          0        0                 0         0           0   \n",
              "1        0          1        0                 0         0           0   \n",
              "2        0          0        0                 0         0           0   \n",
              "3        0          0        0                 0         0           0   \n",
              "4        0          0        0                 0         0           0   \n",
              "\n",
              "   es_otherservices  es_sportsandtoys  es_tech  es_transportation  es_travel  \n",
              "0                 0                 0        0                  1          0  \n",
              "1                 0                 0        0                  0          0  \n",
              "2                 0                 0        0                  1          0  \n",
              "3                 0                 0        0                  1          0  \n",
              "4                 0                 0        0                  1          0  "
            ],
            "text/html": [
              "\n",
              "  <div id=\"df-60e088ed-2ce5-47c1-8866-fff564909344\" class=\"colab-df-container\">\n",
              "    <div>\n",
              "<style scoped>\n",
              "    .dataframe tbody tr th:only-of-type {\n",
              "        vertical-align: middle;\n",
              "    }\n",
              "\n",
              "    .dataframe tbody tr th {\n",
              "        vertical-align: top;\n",
              "    }\n",
              "\n",
              "    .dataframe thead th {\n",
              "        text-align: right;\n",
              "    }\n",
              "</style>\n",
              "<table border=\"1\" class=\"dataframe\">\n",
              "  <thead>\n",
              "    <tr style=\"text-align: right;\">\n",
              "      <th></th>\n",
              "      <th>age</th>\n",
              "      <th>amount</th>\n",
              "      <th>fraud</th>\n",
              "      <th>M</th>\n",
              "      <th>es_barsandrestaurants</th>\n",
              "      <th>es_contents</th>\n",
              "      <th>es_fashion</th>\n",
              "      <th>es_food</th>\n",
              "      <th>es_health</th>\n",
              "      <th>es_home</th>\n",
              "      <th>es_hotelservices</th>\n",
              "      <th>es_hyper</th>\n",
              "      <th>es_leisure</th>\n",
              "      <th>es_otherservices</th>\n",
              "      <th>es_sportsandtoys</th>\n",
              "      <th>es_tech</th>\n",
              "      <th>es_transportation</th>\n",
              "      <th>es_travel</th>\n",
              "    </tr>\n",
              "  </thead>\n",
              "  <tbody>\n",
              "    <tr>\n",
              "      <th>0</th>\n",
              "      <td>3</td>\n",
              "      <td>49.71</td>\n",
              "      <td>0</td>\n",
              "      <td>0</td>\n",
              "      <td>0</td>\n",
              "      <td>0</td>\n",
              "      <td>0</td>\n",
              "      <td>0</td>\n",
              "      <td>0</td>\n",
              "      <td>0</td>\n",
              "      <td>0</td>\n",
              "      <td>0</td>\n",
              "      <td>0</td>\n",
              "      <td>0</td>\n",
              "      <td>0</td>\n",
              "      <td>0</td>\n",
              "      <td>1</td>\n",
              "      <td>0</td>\n",
              "    </tr>\n",
              "    <tr>\n",
              "      <th>1</th>\n",
              "      <td>4</td>\n",
              "      <td>39.29</td>\n",
              "      <td>0</td>\n",
              "      <td>0</td>\n",
              "      <td>0</td>\n",
              "      <td>0</td>\n",
              "      <td>0</td>\n",
              "      <td>0</td>\n",
              "      <td>1</td>\n",
              "      <td>0</td>\n",
              "      <td>0</td>\n",
              "      <td>0</td>\n",
              "      <td>0</td>\n",
              "      <td>0</td>\n",
              "      <td>0</td>\n",
              "      <td>0</td>\n",
              "      <td>0</td>\n",
              "      <td>0</td>\n",
              "    </tr>\n",
              "    <tr>\n",
              "      <th>2</th>\n",
              "      <td>3</td>\n",
              "      <td>18.76</td>\n",
              "      <td>0</td>\n",
              "      <td>0</td>\n",
              "      <td>0</td>\n",
              "      <td>0</td>\n",
              "      <td>0</td>\n",
              "      <td>0</td>\n",
              "      <td>0</td>\n",
              "      <td>0</td>\n",
              "      <td>0</td>\n",
              "      <td>0</td>\n",
              "      <td>0</td>\n",
              "      <td>0</td>\n",
              "      <td>0</td>\n",
              "      <td>0</td>\n",
              "      <td>1</td>\n",
              "      <td>0</td>\n",
              "    </tr>\n",
              "    <tr>\n",
              "      <th>3</th>\n",
              "      <td>4</td>\n",
              "      <td>13.95</td>\n",
              "      <td>0</td>\n",
              "      <td>1</td>\n",
              "      <td>0</td>\n",
              "      <td>0</td>\n",
              "      <td>0</td>\n",
              "      <td>0</td>\n",
              "      <td>0</td>\n",
              "      <td>0</td>\n",
              "      <td>0</td>\n",
              "      <td>0</td>\n",
              "      <td>0</td>\n",
              "      <td>0</td>\n",
              "      <td>0</td>\n",
              "      <td>0</td>\n",
              "      <td>1</td>\n",
              "      <td>0</td>\n",
              "    </tr>\n",
              "    <tr>\n",
              "      <th>4</th>\n",
              "      <td>2</td>\n",
              "      <td>49.87</td>\n",
              "      <td>0</td>\n",
              "      <td>1</td>\n",
              "      <td>0</td>\n",
              "      <td>0</td>\n",
              "      <td>0</td>\n",
              "      <td>0</td>\n",
              "      <td>0</td>\n",
              "      <td>0</td>\n",
              "      <td>0</td>\n",
              "      <td>0</td>\n",
              "      <td>0</td>\n",
              "      <td>0</td>\n",
              "      <td>0</td>\n",
              "      <td>0</td>\n",
              "      <td>1</td>\n",
              "      <td>0</td>\n",
              "    </tr>\n",
              "  </tbody>\n",
              "</table>\n",
              "</div>\n",
              "    <div class=\"colab-df-buttons\">\n",
              "\n",
              "  <div class=\"colab-df-container\">\n",
              "    <button class=\"colab-df-convert\" onclick=\"convertToInteractive('df-60e088ed-2ce5-47c1-8866-fff564909344')\"\n",
              "            title=\"Convert this dataframe to an interactive table.\"\n",
              "            style=\"display:none;\">\n",
              "\n",
              "  <svg xmlns=\"http://www.w3.org/2000/svg\" height=\"24px\" viewBox=\"0 -960 960 960\">\n",
              "    <path d=\"M120-120v-720h720v720H120Zm60-500h600v-160H180v160Zm220 220h160v-160H400v160Zm0 220h160v-160H400v160ZM180-400h160v-160H180v160Zm440 0h160v-160H620v160ZM180-180h160v-160H180v160Zm440 0h160v-160H620v160Z\"/>\n",
              "  </svg>\n",
              "    </button>\n",
              "\n",
              "  <style>\n",
              "    .colab-df-container {\n",
              "      display:flex;\n",
              "      gap: 12px;\n",
              "    }\n",
              "\n",
              "    .colab-df-convert {\n",
              "      background-color: #E8F0FE;\n",
              "      border: none;\n",
              "      border-radius: 50%;\n",
              "      cursor: pointer;\n",
              "      display: none;\n",
              "      fill: #1967D2;\n",
              "      height: 32px;\n",
              "      padding: 0 0 0 0;\n",
              "      width: 32px;\n",
              "    }\n",
              "\n",
              "    .colab-df-convert:hover {\n",
              "      background-color: #E2EBFA;\n",
              "      box-shadow: 0px 1px 2px rgba(60, 64, 67, 0.3), 0px 1px 3px 1px rgba(60, 64, 67, 0.15);\n",
              "      fill: #174EA6;\n",
              "    }\n",
              "\n",
              "    .colab-df-buttons div {\n",
              "      margin-bottom: 4px;\n",
              "    }\n",
              "\n",
              "    [theme=dark] .colab-df-convert {\n",
              "      background-color: #3B4455;\n",
              "      fill: #D2E3FC;\n",
              "    }\n",
              "\n",
              "    [theme=dark] .colab-df-convert:hover {\n",
              "      background-color: #434B5C;\n",
              "      box-shadow: 0px 1px 3px 1px rgba(0, 0, 0, 0.15);\n",
              "      filter: drop-shadow(0px 1px 2px rgba(0, 0, 0, 0.3));\n",
              "      fill: #FFFFFF;\n",
              "    }\n",
              "  </style>\n",
              "\n",
              "    <script>\n",
              "      const buttonEl =\n",
              "        document.querySelector('#df-60e088ed-2ce5-47c1-8866-fff564909344 button.colab-df-convert');\n",
              "      buttonEl.style.display =\n",
              "        google.colab.kernel.accessAllowed ? 'block' : 'none';\n",
              "\n",
              "      async function convertToInteractive(key) {\n",
              "        const element = document.querySelector('#df-60e088ed-2ce5-47c1-8866-fff564909344');\n",
              "        const dataTable =\n",
              "          await google.colab.kernel.invokeFunction('convertToInteractive',\n",
              "                                                    [key], {});\n",
              "        if (!dataTable) return;\n",
              "\n",
              "        const docLinkHtml = 'Like what you see? Visit the ' +\n",
              "          '<a target=\"_blank\" href=https://colab.research.google.com/notebooks/data_table.ipynb>data table notebook</a>'\n",
              "          + ' to learn more about interactive tables.';\n",
              "        element.innerHTML = '';\n",
              "        dataTable['output_type'] = 'display_data';\n",
              "        await google.colab.output.renderOutput(dataTable, element);\n",
              "        const docLink = document.createElement('div');\n",
              "        docLink.innerHTML = docLinkHtml;\n",
              "        element.appendChild(docLink);\n",
              "      }\n",
              "    </script>\n",
              "  </div>\n",
              "\n",
              "\n",
              "<div id=\"df-ba9a16cd-29cd-4594-92ee-518b434772b5\">\n",
              "  <button class=\"colab-df-quickchart\" onclick=\"quickchart('df-ba9a16cd-29cd-4594-92ee-518b434772b5')\"\n",
              "            title=\"Suggest charts\"\n",
              "            style=\"display:none;\">\n",
              "\n",
              "<svg xmlns=\"http://www.w3.org/2000/svg\" height=\"24px\"viewBox=\"0 0 24 24\"\n",
              "     width=\"24px\">\n",
              "    <g>\n",
              "        <path d=\"M19 3H5c-1.1 0-2 .9-2 2v14c0 1.1.9 2 2 2h14c1.1 0 2-.9 2-2V5c0-1.1-.9-2-2-2zM9 17H7v-7h2v7zm4 0h-2V7h2v10zm4 0h-2v-4h2v4z\"/>\n",
              "    </g>\n",
              "</svg>\n",
              "  </button>\n",
              "\n",
              "<style>\n",
              "  .colab-df-quickchart {\n",
              "      --bg-color: #E8F0FE;\n",
              "      --fill-color: #1967D2;\n",
              "      --hover-bg-color: #E2EBFA;\n",
              "      --hover-fill-color: #174EA6;\n",
              "      --disabled-fill-color: #AAA;\n",
              "      --disabled-bg-color: #DDD;\n",
              "  }\n",
              "\n",
              "  [theme=dark] .colab-df-quickchart {\n",
              "      --bg-color: #3B4455;\n",
              "      --fill-color: #D2E3FC;\n",
              "      --hover-bg-color: #434B5C;\n",
              "      --hover-fill-color: #FFFFFF;\n",
              "      --disabled-bg-color: #3B4455;\n",
              "      --disabled-fill-color: #666;\n",
              "  }\n",
              "\n",
              "  .colab-df-quickchart {\n",
              "    background-color: var(--bg-color);\n",
              "    border: none;\n",
              "    border-radius: 50%;\n",
              "    cursor: pointer;\n",
              "    display: none;\n",
              "    fill: var(--fill-color);\n",
              "    height: 32px;\n",
              "    padding: 0;\n",
              "    width: 32px;\n",
              "  }\n",
              "\n",
              "  .colab-df-quickchart:hover {\n",
              "    background-color: var(--hover-bg-color);\n",
              "    box-shadow: 0 1px 2px rgba(60, 64, 67, 0.3), 0 1px 3px 1px rgba(60, 64, 67, 0.15);\n",
              "    fill: var(--button-hover-fill-color);\n",
              "  }\n",
              "\n",
              "  .colab-df-quickchart-complete:disabled,\n",
              "  .colab-df-quickchart-complete:disabled:hover {\n",
              "    background-color: var(--disabled-bg-color);\n",
              "    fill: var(--disabled-fill-color);\n",
              "    box-shadow: none;\n",
              "  }\n",
              "\n",
              "  .colab-df-spinner {\n",
              "    border: 2px solid var(--fill-color);\n",
              "    border-color: transparent;\n",
              "    border-bottom-color: var(--fill-color);\n",
              "    animation:\n",
              "      spin 1s steps(1) infinite;\n",
              "  }\n",
              "\n",
              "  @keyframes spin {\n",
              "    0% {\n",
              "      border-color: transparent;\n",
              "      border-bottom-color: var(--fill-color);\n",
              "      border-left-color: var(--fill-color);\n",
              "    }\n",
              "    20% {\n",
              "      border-color: transparent;\n",
              "      border-left-color: var(--fill-color);\n",
              "      border-top-color: var(--fill-color);\n",
              "    }\n",
              "    30% {\n",
              "      border-color: transparent;\n",
              "      border-left-color: var(--fill-color);\n",
              "      border-top-color: var(--fill-color);\n",
              "      border-right-color: var(--fill-color);\n",
              "    }\n",
              "    40% {\n",
              "      border-color: transparent;\n",
              "      border-right-color: var(--fill-color);\n",
              "      border-top-color: var(--fill-color);\n",
              "    }\n",
              "    60% {\n",
              "      border-color: transparent;\n",
              "      border-right-color: var(--fill-color);\n",
              "    }\n",
              "    80% {\n",
              "      border-color: transparent;\n",
              "      border-right-color: var(--fill-color);\n",
              "      border-bottom-color: var(--fill-color);\n",
              "    }\n",
              "    90% {\n",
              "      border-color: transparent;\n",
              "      border-bottom-color: var(--fill-color);\n",
              "    }\n",
              "  }\n",
              "</style>\n",
              "\n",
              "  <script>\n",
              "    async function quickchart(key) {\n",
              "      const quickchartButtonEl =\n",
              "        document.querySelector('#' + key + ' button');\n",
              "      quickchartButtonEl.disabled = true;  // To prevent multiple clicks.\n",
              "      quickchartButtonEl.classList.add('colab-df-spinner');\n",
              "      try {\n",
              "        const charts = await google.colab.kernel.invokeFunction(\n",
              "            'suggestCharts', [key], {});\n",
              "      } catch (error) {\n",
              "        console.error('Error during call to suggestCharts:', error);\n",
              "      }\n",
              "      quickchartButtonEl.classList.remove('colab-df-spinner');\n",
              "      quickchartButtonEl.classList.add('colab-df-quickchart-complete');\n",
              "    }\n",
              "    (() => {\n",
              "      let quickchartButtonEl =\n",
              "        document.querySelector('#df-ba9a16cd-29cd-4594-92ee-518b434772b5 button');\n",
              "      quickchartButtonEl.style.display =\n",
              "        google.colab.kernel.accessAllowed ? 'block' : 'none';\n",
              "    })();\n",
              "  </script>\n",
              "</div>\n",
              "    </div>\n",
              "  </div>\n"
            ],
            "application/vnd.google.colaboratory.intrinsic+json": {
              "type": "dataframe",
              "variable_name": "banksim_adj_df",
              "summary": "{\n  \"name\": \"banksim_adj_df\",\n  \"rows\": 7189,\n  \"fields\": [\n    {\n      \"column\": \"age\",\n      \"properties\": {\n        \"dtype\": \"number\",\n        \"std\": 1,\n        \"min\": 0,\n        \"max\": 6,\n        \"num_unique_values\": 7,\n        \"samples\": [\n          3,\n          4,\n          1\n        ],\n        \"semantic_type\": \"\",\n        \"description\": \"\"\n      }\n    },\n    {\n      \"column\": \"amount\",\n      \"properties\": {\n        \"dtype\": \"number\",\n        \"std\": 40.52426796132767,\n        \"min\": 1.0998,\n        \"max\": 236.1473999999996,\n        \"num_unique_values\": 4385,\n        \"samples\": [\n          38.82,\n          17.65,\n          20.34\n        ],\n        \"semantic_type\": \"\",\n        \"description\": \"\"\n      }\n    },\n    {\n      \"column\": \"fraud\",\n      \"properties\": {\n        \"dtype\": \"number\",\n        \"std\": 0,\n        \"min\": 0,\n        \"max\": 1,\n        \"num_unique_values\": 2,\n        \"samples\": [\n          1,\n          0\n        ],\n        \"semantic_type\": \"\",\n        \"description\": \"\"\n      }\n    },\n    {\n      \"column\": \"M\",\n      \"properties\": {\n        \"dtype\": \"number\",\n        \"std\": 0,\n        \"min\": 0,\n        \"max\": 1,\n        \"num_unique_values\": 2,\n        \"samples\": [\n          1,\n          0\n        ],\n        \"semantic_type\": \"\",\n        \"description\": \"\"\n      }\n    },\n    {\n      \"column\": \"es_barsandrestaurants\",\n      \"properties\": {\n        \"dtype\": \"number\",\n        \"std\": 0,\n        \"min\": 0,\n        \"max\": 1,\n        \"num_unique_values\": 2,\n        \"samples\": [\n          1,\n          0\n        ],\n        \"semantic_type\": \"\",\n        \"description\": \"\"\n      }\n    },\n    {\n      \"column\": \"es_contents\",\n      \"properties\": {\n        \"dtype\": \"number\",\n        \"std\": 0,\n        \"min\": 0,\n        \"max\": 1,\n        \"num_unique_values\": 2,\n        \"samples\": [\n          1,\n          0\n        ],\n        \"semantic_type\": \"\",\n        \"description\": \"\"\n      }\n    },\n    {\n      \"column\": \"es_fashion\",\n      \"properties\": {\n        \"dtype\": \"number\",\n        \"std\": 0,\n        \"min\": 0,\n        \"max\": 1,\n        \"num_unique_values\": 2,\n        \"samples\": [\n          1,\n          0\n        ],\n        \"semantic_type\": \"\",\n        \"description\": \"\"\n      }\n    },\n    {\n      \"column\": \"es_food\",\n      \"properties\": {\n        \"dtype\": \"number\",\n        \"std\": 0,\n        \"min\": 0,\n        \"max\": 1,\n        \"num_unique_values\": 2,\n        \"samples\": [\n          1,\n          0\n        ],\n        \"semantic_type\": \"\",\n        \"description\": \"\"\n      }\n    },\n    {\n      \"column\": \"es_health\",\n      \"properties\": {\n        \"dtype\": \"number\",\n        \"std\": 0,\n        \"min\": 0,\n        \"max\": 1,\n        \"num_unique_values\": 2,\n        \"samples\": [\n          1,\n          0\n        ],\n        \"semantic_type\": \"\",\n        \"description\": \"\"\n      }\n    },\n    {\n      \"column\": \"es_home\",\n      \"properties\": {\n        \"dtype\": \"number\",\n        \"std\": 0,\n        \"min\": 0,\n        \"max\": 1,\n        \"num_unique_values\": 2,\n        \"samples\": [\n          1,\n          0\n        ],\n        \"semantic_type\": \"\",\n        \"description\": \"\"\n      }\n    },\n    {\n      \"column\": \"es_hotelservices\",\n      \"properties\": {\n        \"dtype\": \"number\",\n        \"std\": 0,\n        \"min\": 0,\n        \"max\": 1,\n        \"num_unique_values\": 2,\n        \"samples\": [\n          1,\n          0\n        ],\n        \"semantic_type\": \"\",\n        \"description\": \"\"\n      }\n    },\n    {\n      \"column\": \"es_hyper\",\n      \"properties\": {\n        \"dtype\": \"number\",\n        \"std\": 0,\n        \"min\": 0,\n        \"max\": 1,\n        \"num_unique_values\": 2,\n        \"samples\": [\n          1,\n          0\n        ],\n        \"semantic_type\": \"\",\n        \"description\": \"\"\n      }\n    },\n    {\n      \"column\": \"es_leisure\",\n      \"properties\": {\n        \"dtype\": \"number\",\n        \"std\": 0,\n        \"min\": 0,\n        \"max\": 1,\n        \"num_unique_values\": 2,\n        \"samples\": [\n          1,\n          0\n        ],\n        \"semantic_type\": \"\",\n        \"description\": \"\"\n      }\n    },\n    {\n      \"column\": \"es_otherservices\",\n      \"properties\": {\n        \"dtype\": \"number\",\n        \"std\": 0,\n        \"min\": 0,\n        \"max\": 1,\n        \"num_unique_values\": 2,\n        \"samples\": [\n          1,\n          0\n        ],\n        \"semantic_type\": \"\",\n        \"description\": \"\"\n      }\n    },\n    {\n      \"column\": \"es_sportsandtoys\",\n      \"properties\": {\n        \"dtype\": \"number\",\n        \"std\": 0,\n        \"min\": 0,\n        \"max\": 1,\n        \"num_unique_values\": 2,\n        \"samples\": [\n          1,\n          0\n        ],\n        \"semantic_type\": \"\",\n        \"description\": \"\"\n      }\n    },\n    {\n      \"column\": \"es_tech\",\n      \"properties\": {\n        \"dtype\": \"number\",\n        \"std\": 0,\n        \"min\": 0,\n        \"max\": 1,\n        \"num_unique_values\": 2,\n        \"samples\": [\n          1,\n          0\n        ],\n        \"semantic_type\": \"\",\n        \"description\": \"\"\n      }\n    },\n    {\n      \"column\": \"es_transportation\",\n      \"properties\": {\n        \"dtype\": \"number\",\n        \"std\": 0,\n        \"min\": 0,\n        \"max\": 1,\n        \"num_unique_values\": 2,\n        \"samples\": [\n          0,\n          1\n        ],\n        \"semantic_type\": \"\",\n        \"description\": \"\"\n      }\n    },\n    {\n      \"column\": \"es_travel\",\n      \"properties\": {\n        \"dtype\": \"number\",\n        \"std\": 0,\n        \"min\": 0,\n        \"max\": 1,\n        \"num_unique_values\": 2,\n        \"samples\": [\n          1,\n          0\n        ],\n        \"semantic_type\": \"\",\n        \"description\": \"\"\n      }\n    }\n  ]\n}"
            }
          },
          "metadata": {},
          "execution_count": 203
        }
      ],
      "source": [
        "banksim_adj_df.head()"
      ]
    },
    {
      "cell_type": "markdown",
      "metadata": {
        "id": "UY5ShEL5PGwn"
      },
      "source": [
        "**Instructions 2/3**\n",
        "\n",
        "* Group the data by transaction category and take the mean of the data."
      ]
    },
    {
      "cell_type": "code",
      "execution_count": 204,
      "metadata": {
        "tags": [],
        "colab": {
          "base_uri": "https://localhost:8080/",
          "height": 551
        },
        "id": "1v8inLPBPGwn",
        "outputId": "54c6f274-b511-42e9-8ea7-60c9b3e84e2c"
      },
      "outputs": [
        {
          "output_type": "execute_result",
          "data": {
            "text/plain": [
              "                           amount     fraud\n",
              "category                                   \n",
              "es_barsandrestaurants   43.841793  0.022472\n",
              "es_contents             55.170000  0.000000\n",
              "es_fashion              59.780769  0.020619\n",
              "es_food                 35.216050  0.000000\n",
              "es_health              126.604704  0.242798\n",
              "es_home                120.688317  0.208333\n",
              "es_hotelservices       172.756245  0.548387\n",
              "es_hyper                46.788180  0.125000\n",
              "es_leisure             229.757600  1.000000\n",
              "es_otherservices       149.648960  0.600000\n",
              "es_sportsandtoys       157.251737  0.657895\n",
              "es_tech                132.852862  0.179487\n",
              "es_transportation       27.422014  0.000000\n",
              "es_travel              231.818656  0.944444\n",
              "es_wellnessandbeauty    66.167078  0.060606"
            ],
            "text/html": [
              "\n",
              "  <div id=\"df-ee94c650-4cc8-4c6a-8699-ac4cb9ab6fef\" class=\"colab-df-container\">\n",
              "    <div>\n",
              "<style scoped>\n",
              "    .dataframe tbody tr th:only-of-type {\n",
              "        vertical-align: middle;\n",
              "    }\n",
              "\n",
              "    .dataframe tbody tr th {\n",
              "        vertical-align: top;\n",
              "    }\n",
              "\n",
              "    .dataframe thead th {\n",
              "        text-align: right;\n",
              "    }\n",
              "</style>\n",
              "<table border=\"1\" class=\"dataframe\">\n",
              "  <thead>\n",
              "    <tr style=\"text-align: right;\">\n",
              "      <th></th>\n",
              "      <th>amount</th>\n",
              "      <th>fraud</th>\n",
              "    </tr>\n",
              "    <tr>\n",
              "      <th>category</th>\n",
              "      <th></th>\n",
              "      <th></th>\n",
              "    </tr>\n",
              "  </thead>\n",
              "  <tbody>\n",
              "    <tr>\n",
              "      <th>es_barsandrestaurants</th>\n",
              "      <td>43.841793</td>\n",
              "      <td>0.022472</td>\n",
              "    </tr>\n",
              "    <tr>\n",
              "      <th>es_contents</th>\n",
              "      <td>55.170000</td>\n",
              "      <td>0.000000</td>\n",
              "    </tr>\n",
              "    <tr>\n",
              "      <th>es_fashion</th>\n",
              "      <td>59.780769</td>\n",
              "      <td>0.020619</td>\n",
              "    </tr>\n",
              "    <tr>\n",
              "      <th>es_food</th>\n",
              "      <td>35.216050</td>\n",
              "      <td>0.000000</td>\n",
              "    </tr>\n",
              "    <tr>\n",
              "      <th>es_health</th>\n",
              "      <td>126.604704</td>\n",
              "      <td>0.242798</td>\n",
              "    </tr>\n",
              "    <tr>\n",
              "      <th>es_home</th>\n",
              "      <td>120.688317</td>\n",
              "      <td>0.208333</td>\n",
              "    </tr>\n",
              "    <tr>\n",
              "      <th>es_hotelservices</th>\n",
              "      <td>172.756245</td>\n",
              "      <td>0.548387</td>\n",
              "    </tr>\n",
              "    <tr>\n",
              "      <th>es_hyper</th>\n",
              "      <td>46.788180</td>\n",
              "      <td>0.125000</td>\n",
              "    </tr>\n",
              "    <tr>\n",
              "      <th>es_leisure</th>\n",
              "      <td>229.757600</td>\n",
              "      <td>1.000000</td>\n",
              "    </tr>\n",
              "    <tr>\n",
              "      <th>es_otherservices</th>\n",
              "      <td>149.648960</td>\n",
              "      <td>0.600000</td>\n",
              "    </tr>\n",
              "    <tr>\n",
              "      <th>es_sportsandtoys</th>\n",
              "      <td>157.251737</td>\n",
              "      <td>0.657895</td>\n",
              "    </tr>\n",
              "    <tr>\n",
              "      <th>es_tech</th>\n",
              "      <td>132.852862</td>\n",
              "      <td>0.179487</td>\n",
              "    </tr>\n",
              "    <tr>\n",
              "      <th>es_transportation</th>\n",
              "      <td>27.422014</td>\n",
              "      <td>0.000000</td>\n",
              "    </tr>\n",
              "    <tr>\n",
              "      <th>es_travel</th>\n",
              "      <td>231.818656</td>\n",
              "      <td>0.944444</td>\n",
              "    </tr>\n",
              "    <tr>\n",
              "      <th>es_wellnessandbeauty</th>\n",
              "      <td>66.167078</td>\n",
              "      <td>0.060606</td>\n",
              "    </tr>\n",
              "  </tbody>\n",
              "</table>\n",
              "</div>\n",
              "    <div class=\"colab-df-buttons\">\n",
              "\n",
              "  <div class=\"colab-df-container\">\n",
              "    <button class=\"colab-df-convert\" onclick=\"convertToInteractive('df-ee94c650-4cc8-4c6a-8699-ac4cb9ab6fef')\"\n",
              "            title=\"Convert this dataframe to an interactive table.\"\n",
              "            style=\"display:none;\">\n",
              "\n",
              "  <svg xmlns=\"http://www.w3.org/2000/svg\" height=\"24px\" viewBox=\"0 -960 960 960\">\n",
              "    <path d=\"M120-120v-720h720v720H120Zm60-500h600v-160H180v160Zm220 220h160v-160H400v160Zm0 220h160v-160H400v160ZM180-400h160v-160H180v160Zm440 0h160v-160H620v160ZM180-180h160v-160H180v160Zm440 0h160v-160H620v160Z\"/>\n",
              "  </svg>\n",
              "    </button>\n",
              "\n",
              "  <style>\n",
              "    .colab-df-container {\n",
              "      display:flex;\n",
              "      gap: 12px;\n",
              "    }\n",
              "\n",
              "    .colab-df-convert {\n",
              "      background-color: #E8F0FE;\n",
              "      border: none;\n",
              "      border-radius: 50%;\n",
              "      cursor: pointer;\n",
              "      display: none;\n",
              "      fill: #1967D2;\n",
              "      height: 32px;\n",
              "      padding: 0 0 0 0;\n",
              "      width: 32px;\n",
              "    }\n",
              "\n",
              "    .colab-df-convert:hover {\n",
              "      background-color: #E2EBFA;\n",
              "      box-shadow: 0px 1px 2px rgba(60, 64, 67, 0.3), 0px 1px 3px 1px rgba(60, 64, 67, 0.15);\n",
              "      fill: #174EA6;\n",
              "    }\n",
              "\n",
              "    .colab-df-buttons div {\n",
              "      margin-bottom: 4px;\n",
              "    }\n",
              "\n",
              "    [theme=dark] .colab-df-convert {\n",
              "      background-color: #3B4455;\n",
              "      fill: #D2E3FC;\n",
              "    }\n",
              "\n",
              "    [theme=dark] .colab-df-convert:hover {\n",
              "      background-color: #434B5C;\n",
              "      box-shadow: 0px 1px 3px 1px rgba(0, 0, 0, 0.15);\n",
              "      filter: drop-shadow(0px 1px 2px rgba(0, 0, 0, 0.3));\n",
              "      fill: #FFFFFF;\n",
              "    }\n",
              "  </style>\n",
              "\n",
              "    <script>\n",
              "      const buttonEl =\n",
              "        document.querySelector('#df-ee94c650-4cc8-4c6a-8699-ac4cb9ab6fef button.colab-df-convert');\n",
              "      buttonEl.style.display =\n",
              "        google.colab.kernel.accessAllowed ? 'block' : 'none';\n",
              "\n",
              "      async function convertToInteractive(key) {\n",
              "        const element = document.querySelector('#df-ee94c650-4cc8-4c6a-8699-ac4cb9ab6fef');\n",
              "        const dataTable =\n",
              "          await google.colab.kernel.invokeFunction('convertToInteractive',\n",
              "                                                    [key], {});\n",
              "        if (!dataTable) return;\n",
              "\n",
              "        const docLinkHtml = 'Like what you see? Visit the ' +\n",
              "          '<a target=\"_blank\" href=https://colab.research.google.com/notebooks/data_table.ipynb>data table notebook</a>'\n",
              "          + ' to learn more about interactive tables.';\n",
              "        element.innerHTML = '';\n",
              "        dataTable['output_type'] = 'display_data';\n",
              "        await google.colab.output.renderOutput(dataTable, element);\n",
              "        const docLink = document.createElement('div');\n",
              "        docLink.innerHTML = docLinkHtml;\n",
              "        element.appendChild(docLink);\n",
              "      }\n",
              "    </script>\n",
              "  </div>\n",
              "\n",
              "\n",
              "<div id=\"df-f2819fcf-d482-40de-99b6-775aa0095a27\">\n",
              "  <button class=\"colab-df-quickchart\" onclick=\"quickchart('df-f2819fcf-d482-40de-99b6-775aa0095a27')\"\n",
              "            title=\"Suggest charts\"\n",
              "            style=\"display:none;\">\n",
              "\n",
              "<svg xmlns=\"http://www.w3.org/2000/svg\" height=\"24px\"viewBox=\"0 0 24 24\"\n",
              "     width=\"24px\">\n",
              "    <g>\n",
              "        <path d=\"M19 3H5c-1.1 0-2 .9-2 2v14c0 1.1.9 2 2 2h14c1.1 0 2-.9 2-2V5c0-1.1-.9-2-2-2zM9 17H7v-7h2v7zm4 0h-2V7h2v10zm4 0h-2v-4h2v4z\"/>\n",
              "    </g>\n",
              "</svg>\n",
              "  </button>\n",
              "\n",
              "<style>\n",
              "  .colab-df-quickchart {\n",
              "      --bg-color: #E8F0FE;\n",
              "      --fill-color: #1967D2;\n",
              "      --hover-bg-color: #E2EBFA;\n",
              "      --hover-fill-color: #174EA6;\n",
              "      --disabled-fill-color: #AAA;\n",
              "      --disabled-bg-color: #DDD;\n",
              "  }\n",
              "\n",
              "  [theme=dark] .colab-df-quickchart {\n",
              "      --bg-color: #3B4455;\n",
              "      --fill-color: #D2E3FC;\n",
              "      --hover-bg-color: #434B5C;\n",
              "      --hover-fill-color: #FFFFFF;\n",
              "      --disabled-bg-color: #3B4455;\n",
              "      --disabled-fill-color: #666;\n",
              "  }\n",
              "\n",
              "  .colab-df-quickchart {\n",
              "    background-color: var(--bg-color);\n",
              "    border: none;\n",
              "    border-radius: 50%;\n",
              "    cursor: pointer;\n",
              "    display: none;\n",
              "    fill: var(--fill-color);\n",
              "    height: 32px;\n",
              "    padding: 0;\n",
              "    width: 32px;\n",
              "  }\n",
              "\n",
              "  .colab-df-quickchart:hover {\n",
              "    background-color: var(--hover-bg-color);\n",
              "    box-shadow: 0 1px 2px rgba(60, 64, 67, 0.3), 0 1px 3px 1px rgba(60, 64, 67, 0.15);\n",
              "    fill: var(--button-hover-fill-color);\n",
              "  }\n",
              "\n",
              "  .colab-df-quickchart-complete:disabled,\n",
              "  .colab-df-quickchart-complete:disabled:hover {\n",
              "    background-color: var(--disabled-bg-color);\n",
              "    fill: var(--disabled-fill-color);\n",
              "    box-shadow: none;\n",
              "  }\n",
              "\n",
              "  .colab-df-spinner {\n",
              "    border: 2px solid var(--fill-color);\n",
              "    border-color: transparent;\n",
              "    border-bottom-color: var(--fill-color);\n",
              "    animation:\n",
              "      spin 1s steps(1) infinite;\n",
              "  }\n",
              "\n",
              "  @keyframes spin {\n",
              "    0% {\n",
              "      border-color: transparent;\n",
              "      border-bottom-color: var(--fill-color);\n",
              "      border-left-color: var(--fill-color);\n",
              "    }\n",
              "    20% {\n",
              "      border-color: transparent;\n",
              "      border-left-color: var(--fill-color);\n",
              "      border-top-color: var(--fill-color);\n",
              "    }\n",
              "    30% {\n",
              "      border-color: transparent;\n",
              "      border-left-color: var(--fill-color);\n",
              "      border-top-color: var(--fill-color);\n",
              "      border-right-color: var(--fill-color);\n",
              "    }\n",
              "    40% {\n",
              "      border-color: transparent;\n",
              "      border-right-color: var(--fill-color);\n",
              "      border-top-color: var(--fill-color);\n",
              "    }\n",
              "    60% {\n",
              "      border-color: transparent;\n",
              "      border-right-color: var(--fill-color);\n",
              "    }\n",
              "    80% {\n",
              "      border-color: transparent;\n",
              "      border-right-color: var(--fill-color);\n",
              "      border-bottom-color: var(--fill-color);\n",
              "    }\n",
              "    90% {\n",
              "      border-color: transparent;\n",
              "      border-bottom-color: var(--fill-color);\n",
              "    }\n",
              "  }\n",
              "</style>\n",
              "\n",
              "  <script>\n",
              "    async function quickchart(key) {\n",
              "      const quickchartButtonEl =\n",
              "        document.querySelector('#' + key + ' button');\n",
              "      quickchartButtonEl.disabled = true;  // To prevent multiple clicks.\n",
              "      quickchartButtonEl.classList.add('colab-df-spinner');\n",
              "      try {\n",
              "        const charts = await google.colab.kernel.invokeFunction(\n",
              "            'suggestCharts', [key], {});\n",
              "      } catch (error) {\n",
              "        console.error('Error during call to suggestCharts:', error);\n",
              "      }\n",
              "      quickchartButtonEl.classList.remove('colab-df-spinner');\n",
              "      quickchartButtonEl.classList.add('colab-df-quickchart-complete');\n",
              "    }\n",
              "    (() => {\n",
              "      let quickchartButtonEl =\n",
              "        document.querySelector('#df-f2819fcf-d482-40de-99b6-775aa0095a27 button');\n",
              "      quickchartButtonEl.style.display =\n",
              "        google.colab.kernel.accessAllowed ? 'block' : 'none';\n",
              "    })();\n",
              "  </script>\n",
              "</div>\n",
              "    </div>\n",
              "  </div>\n"
            ],
            "application/vnd.google.colaboratory.intrinsic+json": {
              "type": "dataframe",
              "summary": "{\n  \"name\": \"banksim_df\",\n  \"rows\": 15,\n  \"fields\": [\n    {\n      \"column\": \"category\",\n      \"properties\": {\n        \"dtype\": \"string\",\n        \"num_unique_values\": 15,\n        \"samples\": [\n          \"es_otherservices\",\n          \"es_tech\",\n          \"es_barsandrestaurants\"\n        ],\n        \"semantic_type\": \"\",\n        \"description\": \"\"\n      }\n    },\n    {\n      \"column\": \"amount\",\n      \"properties\": {\n        \"dtype\": \"number\",\n        \"std\": 68.69643633531187,\n        \"min\": 27.42201409205021,\n        \"max\": 231.81865555555518,\n        \"num_unique_values\": 15,\n        \"samples\": [\n          149.64895999999985,\n          132.85286153846147,\n          43.84179325842697\n        ],\n        \"semantic_type\": \"\",\n        \"description\": \"\"\n      }\n    },\n    {\n      \"column\": \"fraud\",\n      \"properties\": {\n        \"dtype\": \"number\",\n        \"std\": 0.3508657244445407,\n        \"min\": 0.0,\n        \"max\": 1.0,\n        \"num_unique_values\": 13,\n        \"samples\": [\n          0.9444444444444444,\n          0.6578947368421053,\n          0.02247191011235955\n        ],\n        \"semantic_type\": \"\",\n        \"description\": \"\"\n      }\n    }\n  ]\n}"
            }
          },
          "metadata": {},
          "execution_count": 204
        }
      ],
      "source": [
        "banksim_df.groupby(['category']).mean()"
      ]
    },
    {
      "cell_type": "markdown",
      "metadata": {
        "id": "FssNfsUePGwn"
      },
      "source": [
        "**Instructions 3/3**\n",
        "\n",
        "Based on these results, can you already say something about fraud in our data?\n",
        "\n",
        "**Possible Answers**\n",
        "\n",
        "* ~~No, I don't have enough information.~~\n",
        "* **Yes, the majority of fraud is observed in travel, leisure and sports related transactions.**"
      ]
    },
    {
      "cell_type": "markdown",
      "metadata": {
        "id": "ztdyJOJNPGwo"
      },
      "source": [
        "### Customer segmentation\n",
        "\n",
        "In this exercise you're going to check whether there are any **obvious patterns** for the clients in this data, thus whether you need to segment your data into groups, or whether the data is rather homogenous.\n",
        "\n",
        "You unfortunately don't have a lot client information available; you can't for example distinguish between the wealth levels of different clients. However, there is data on **age ** available, so let's see whether there is any significant difference between behavior of age groups.\n",
        "\n",
        "**Instructions 1/3**\n",
        "\n",
        "* Group the dataframe `df` by the category `age` and get the means for each age group."
      ]
    },
    {
      "cell_type": "code",
      "execution_count": 205,
      "metadata": {
        "tags": [],
        "colab": {
          "base_uri": "https://localhost:8080/",
          "height": 332
        },
        "id": "9BW0PlWGPGwo",
        "outputId": "534d4906-f5cc-487a-cf25-e77e07f985bb"
      },
      "outputs": [
        {
          "output_type": "execute_result",
          "data": {
            "text/plain": [
              "        amount     fraud\n",
              "age                     \n",
              "0    49.468935  0.050000\n",
              "1    35.622829  0.026648\n",
              "2    37.228665  0.028718\n",
              "3    37.279338  0.023283\n",
              "4    36.197985  0.035966\n",
              "5    37.547521  0.023990\n",
              "6    36.700852  0.022293\n",
              "U    39.117000  0.000000"
            ],
            "text/html": [
              "\n",
              "  <div id=\"df-59dd89b2-2ae5-43cd-a71d-e30de2c43103\" class=\"colab-df-container\">\n",
              "    <div>\n",
              "<style scoped>\n",
              "    .dataframe tbody tr th:only-of-type {\n",
              "        vertical-align: middle;\n",
              "    }\n",
              "\n",
              "    .dataframe tbody tr th {\n",
              "        vertical-align: top;\n",
              "    }\n",
              "\n",
              "    .dataframe thead th {\n",
              "        text-align: right;\n",
              "    }\n",
              "</style>\n",
              "<table border=\"1\" class=\"dataframe\">\n",
              "  <thead>\n",
              "    <tr style=\"text-align: right;\">\n",
              "      <th></th>\n",
              "      <th>amount</th>\n",
              "      <th>fraud</th>\n",
              "    </tr>\n",
              "    <tr>\n",
              "      <th>age</th>\n",
              "      <th></th>\n",
              "      <th></th>\n",
              "    </tr>\n",
              "  </thead>\n",
              "  <tbody>\n",
              "    <tr>\n",
              "      <th>0</th>\n",
              "      <td>49.468935</td>\n",
              "      <td>0.050000</td>\n",
              "    </tr>\n",
              "    <tr>\n",
              "      <th>1</th>\n",
              "      <td>35.622829</td>\n",
              "      <td>0.026648</td>\n",
              "    </tr>\n",
              "    <tr>\n",
              "      <th>2</th>\n",
              "      <td>37.228665</td>\n",
              "      <td>0.028718</td>\n",
              "    </tr>\n",
              "    <tr>\n",
              "      <th>3</th>\n",
              "      <td>37.279338</td>\n",
              "      <td>0.023283</td>\n",
              "    </tr>\n",
              "    <tr>\n",
              "      <th>4</th>\n",
              "      <td>36.197985</td>\n",
              "      <td>0.035966</td>\n",
              "    </tr>\n",
              "    <tr>\n",
              "      <th>5</th>\n",
              "      <td>37.547521</td>\n",
              "      <td>0.023990</td>\n",
              "    </tr>\n",
              "    <tr>\n",
              "      <th>6</th>\n",
              "      <td>36.700852</td>\n",
              "      <td>0.022293</td>\n",
              "    </tr>\n",
              "    <tr>\n",
              "      <th>U</th>\n",
              "      <td>39.117000</td>\n",
              "      <td>0.000000</td>\n",
              "    </tr>\n",
              "  </tbody>\n",
              "</table>\n",
              "</div>\n",
              "    <div class=\"colab-df-buttons\">\n",
              "\n",
              "  <div class=\"colab-df-container\">\n",
              "    <button class=\"colab-df-convert\" onclick=\"convertToInteractive('df-59dd89b2-2ae5-43cd-a71d-e30de2c43103')\"\n",
              "            title=\"Convert this dataframe to an interactive table.\"\n",
              "            style=\"display:none;\">\n",
              "\n",
              "  <svg xmlns=\"http://www.w3.org/2000/svg\" height=\"24px\" viewBox=\"0 -960 960 960\">\n",
              "    <path d=\"M120-120v-720h720v720H120Zm60-500h600v-160H180v160Zm220 220h160v-160H400v160Zm0 220h160v-160H400v160ZM180-400h160v-160H180v160Zm440 0h160v-160H620v160ZM180-180h160v-160H180v160Zm440 0h160v-160H620v160Z\"/>\n",
              "  </svg>\n",
              "    </button>\n",
              "\n",
              "  <style>\n",
              "    .colab-df-container {\n",
              "      display:flex;\n",
              "      gap: 12px;\n",
              "    }\n",
              "\n",
              "    .colab-df-convert {\n",
              "      background-color: #E8F0FE;\n",
              "      border: none;\n",
              "      border-radius: 50%;\n",
              "      cursor: pointer;\n",
              "      display: none;\n",
              "      fill: #1967D2;\n",
              "      height: 32px;\n",
              "      padding: 0 0 0 0;\n",
              "      width: 32px;\n",
              "    }\n",
              "\n",
              "    .colab-df-convert:hover {\n",
              "      background-color: #E2EBFA;\n",
              "      box-shadow: 0px 1px 2px rgba(60, 64, 67, 0.3), 0px 1px 3px 1px rgba(60, 64, 67, 0.15);\n",
              "      fill: #174EA6;\n",
              "    }\n",
              "\n",
              "    .colab-df-buttons div {\n",
              "      margin-bottom: 4px;\n",
              "    }\n",
              "\n",
              "    [theme=dark] .colab-df-convert {\n",
              "      background-color: #3B4455;\n",
              "      fill: #D2E3FC;\n",
              "    }\n",
              "\n",
              "    [theme=dark] .colab-df-convert:hover {\n",
              "      background-color: #434B5C;\n",
              "      box-shadow: 0px 1px 3px 1px rgba(0, 0, 0, 0.15);\n",
              "      filter: drop-shadow(0px 1px 2px rgba(0, 0, 0, 0.3));\n",
              "      fill: #FFFFFF;\n",
              "    }\n",
              "  </style>\n",
              "\n",
              "    <script>\n",
              "      const buttonEl =\n",
              "        document.querySelector('#df-59dd89b2-2ae5-43cd-a71d-e30de2c43103 button.colab-df-convert');\n",
              "      buttonEl.style.display =\n",
              "        google.colab.kernel.accessAllowed ? 'block' : 'none';\n",
              "\n",
              "      async function convertToInteractive(key) {\n",
              "        const element = document.querySelector('#df-59dd89b2-2ae5-43cd-a71d-e30de2c43103');\n",
              "        const dataTable =\n",
              "          await google.colab.kernel.invokeFunction('convertToInteractive',\n",
              "                                                    [key], {});\n",
              "        if (!dataTable) return;\n",
              "\n",
              "        const docLinkHtml = 'Like what you see? Visit the ' +\n",
              "          '<a target=\"_blank\" href=https://colab.research.google.com/notebooks/data_table.ipynb>data table notebook</a>'\n",
              "          + ' to learn more about interactive tables.';\n",
              "        element.innerHTML = '';\n",
              "        dataTable['output_type'] = 'display_data';\n",
              "        await google.colab.output.renderOutput(dataTable, element);\n",
              "        const docLink = document.createElement('div');\n",
              "        docLink.innerHTML = docLinkHtml;\n",
              "        element.appendChild(docLink);\n",
              "      }\n",
              "    </script>\n",
              "  </div>\n",
              "\n",
              "\n",
              "<div id=\"df-dcb612d4-697d-4465-8cff-74833bd56657\">\n",
              "  <button class=\"colab-df-quickchart\" onclick=\"quickchart('df-dcb612d4-697d-4465-8cff-74833bd56657')\"\n",
              "            title=\"Suggest charts\"\n",
              "            style=\"display:none;\">\n",
              "\n",
              "<svg xmlns=\"http://www.w3.org/2000/svg\" height=\"24px\"viewBox=\"0 0 24 24\"\n",
              "     width=\"24px\">\n",
              "    <g>\n",
              "        <path d=\"M19 3H5c-1.1 0-2 .9-2 2v14c0 1.1.9 2 2 2h14c1.1 0 2-.9 2-2V5c0-1.1-.9-2-2-2zM9 17H7v-7h2v7zm4 0h-2V7h2v10zm4 0h-2v-4h2v4z\"/>\n",
              "    </g>\n",
              "</svg>\n",
              "  </button>\n",
              "\n",
              "<style>\n",
              "  .colab-df-quickchart {\n",
              "      --bg-color: #E8F0FE;\n",
              "      --fill-color: #1967D2;\n",
              "      --hover-bg-color: #E2EBFA;\n",
              "      --hover-fill-color: #174EA6;\n",
              "      --disabled-fill-color: #AAA;\n",
              "      --disabled-bg-color: #DDD;\n",
              "  }\n",
              "\n",
              "  [theme=dark] .colab-df-quickchart {\n",
              "      --bg-color: #3B4455;\n",
              "      --fill-color: #D2E3FC;\n",
              "      --hover-bg-color: #434B5C;\n",
              "      --hover-fill-color: #FFFFFF;\n",
              "      --disabled-bg-color: #3B4455;\n",
              "      --disabled-fill-color: #666;\n",
              "  }\n",
              "\n",
              "  .colab-df-quickchart {\n",
              "    background-color: var(--bg-color);\n",
              "    border: none;\n",
              "    border-radius: 50%;\n",
              "    cursor: pointer;\n",
              "    display: none;\n",
              "    fill: var(--fill-color);\n",
              "    height: 32px;\n",
              "    padding: 0;\n",
              "    width: 32px;\n",
              "  }\n",
              "\n",
              "  .colab-df-quickchart:hover {\n",
              "    background-color: var(--hover-bg-color);\n",
              "    box-shadow: 0 1px 2px rgba(60, 64, 67, 0.3), 0 1px 3px 1px rgba(60, 64, 67, 0.15);\n",
              "    fill: var(--button-hover-fill-color);\n",
              "  }\n",
              "\n",
              "  .colab-df-quickchart-complete:disabled,\n",
              "  .colab-df-quickchart-complete:disabled:hover {\n",
              "    background-color: var(--disabled-bg-color);\n",
              "    fill: var(--disabled-fill-color);\n",
              "    box-shadow: none;\n",
              "  }\n",
              "\n",
              "  .colab-df-spinner {\n",
              "    border: 2px solid var(--fill-color);\n",
              "    border-color: transparent;\n",
              "    border-bottom-color: var(--fill-color);\n",
              "    animation:\n",
              "      spin 1s steps(1) infinite;\n",
              "  }\n",
              "\n",
              "  @keyframes spin {\n",
              "    0% {\n",
              "      border-color: transparent;\n",
              "      border-bottom-color: var(--fill-color);\n",
              "      border-left-color: var(--fill-color);\n",
              "    }\n",
              "    20% {\n",
              "      border-color: transparent;\n",
              "      border-left-color: var(--fill-color);\n",
              "      border-top-color: var(--fill-color);\n",
              "    }\n",
              "    30% {\n",
              "      border-color: transparent;\n",
              "      border-left-color: var(--fill-color);\n",
              "      border-top-color: var(--fill-color);\n",
              "      border-right-color: var(--fill-color);\n",
              "    }\n",
              "    40% {\n",
              "      border-color: transparent;\n",
              "      border-right-color: var(--fill-color);\n",
              "      border-top-color: var(--fill-color);\n",
              "    }\n",
              "    60% {\n",
              "      border-color: transparent;\n",
              "      border-right-color: var(--fill-color);\n",
              "    }\n",
              "    80% {\n",
              "      border-color: transparent;\n",
              "      border-right-color: var(--fill-color);\n",
              "      border-bottom-color: var(--fill-color);\n",
              "    }\n",
              "    90% {\n",
              "      border-color: transparent;\n",
              "      border-bottom-color: var(--fill-color);\n",
              "    }\n",
              "  }\n",
              "</style>\n",
              "\n",
              "  <script>\n",
              "    async function quickchart(key) {\n",
              "      const quickchartButtonEl =\n",
              "        document.querySelector('#' + key + ' button');\n",
              "      quickchartButtonEl.disabled = true;  // To prevent multiple clicks.\n",
              "      quickchartButtonEl.classList.add('colab-df-spinner');\n",
              "      try {\n",
              "        const charts = await google.colab.kernel.invokeFunction(\n",
              "            'suggestCharts', [key], {});\n",
              "      } catch (error) {\n",
              "        console.error('Error during call to suggestCharts:', error);\n",
              "      }\n",
              "      quickchartButtonEl.classList.remove('colab-df-spinner');\n",
              "      quickchartButtonEl.classList.add('colab-df-quickchart-complete');\n",
              "    }\n",
              "    (() => {\n",
              "      let quickchartButtonEl =\n",
              "        document.querySelector('#df-dcb612d4-697d-4465-8cff-74833bd56657 button');\n",
              "      quickchartButtonEl.style.display =\n",
              "        google.colab.kernel.accessAllowed ? 'block' : 'none';\n",
              "    })();\n",
              "  </script>\n",
              "</div>\n",
              "    </div>\n",
              "  </div>\n"
            ],
            "application/vnd.google.colaboratory.intrinsic+json": {
              "type": "dataframe",
              "summary": "{\n  \"name\": \"banksim_df\",\n  \"rows\": 8,\n  \"fields\": [\n    {\n      \"column\": \"age\",\n      \"properties\": {\n        \"dtype\": \"string\",\n        \"num_unique_values\": 8,\n        \"samples\": [\n          \"1\",\n          \"5\",\n          \"0\"\n        ],\n        \"semantic_type\": \"\",\n        \"description\": \"\"\n      }\n    },\n    {\n      \"column\": \"amount\",\n      \"properties\": {\n        \"dtype\": \"number\",\n        \"std\": 4.493756919754342,\n        \"min\": 35.62282945301542,\n        \"max\": 49.468934999999995,\n        \"num_unique_values\": 8,\n        \"samples\": [\n          35.62282945301542,\n          37.54752146464646,\n          49.468934999999995\n        ],\n        \"semantic_type\": \"\",\n        \"description\": \"\"\n      }\n    },\n    {\n      \"column\": \"fraud\",\n      \"properties\": {\n        \"dtype\": \"number\",\n        \"std\": 0.014057220512340318,\n        \"min\": 0.0,\n        \"max\": 0.05,\n        \"num_unique_values\": 8,\n        \"samples\": [\n          0.02664796633941094,\n          0.023989898989898988,\n          0.05\n        ],\n        \"semantic_type\": \"\",\n        \"description\": \"\"\n      }\n    }\n  ]\n}"
            }
          },
          "metadata": {},
          "execution_count": 205
        }
      ],
      "source": [
        "banksim_df.groupby(['age']).mean()"
      ]
    },
    {
      "cell_type": "markdown",
      "metadata": {
        "id": "xuRNyDP0PGwp"
      },
      "source": [
        "**Instructions 2/3**\n",
        "\n",
        "* Count the values of each age group."
      ]
    },
    {
      "cell_type": "code",
      "execution_count": 206,
      "metadata": {
        "tags": [],
        "colab": {
          "base_uri": "https://localhost:8080/"
        },
        "id": "ysZnRzCNPGwp",
        "outputId": "09549bd8-adef-44c4-e520-ad81f84f5491"
      },
      "outputs": [
        {
          "output_type": "execute_result",
          "data": {
            "text/plain": [
              "2    2333\n",
              "3    1718\n",
              "4    1279\n",
              "5     792\n",
              "1     713\n",
              "6     314\n",
              "0      40\n",
              "U      11\n",
              "Name: age, dtype: int64"
            ]
          },
          "metadata": {},
          "execution_count": 206
        }
      ],
      "source": [
        "banksim_df.age.value_counts()"
      ]
    },
    {
      "cell_type": "markdown",
      "metadata": {
        "id": "fo-38-S5PGwp"
      },
      "source": [
        "**Instructions 3/3**\n",
        "\n",
        "Based on the results you see, does it make sense to divide your data into age segments before running a fraud detection algorithm?\n",
        "\n",
        "**Possible Answers**\n",
        "\n",
        "* **No, the age groups who are the largest are relatively similar.**\n",
        "* ~~Yes, the age group \"0\" is very different and I would split that one out.~~\n",
        "\n",
        "**The average amount spent as well as fraud occurrence is rather similar across groups. Age group '0' stands out but since there are only 40 cases, it does not make sense to split these out in a separate group and run a separate model on them.**"
      ]
    },
    {
      "cell_type": "markdown",
      "metadata": {
        "id": "FWTm3yEXPGwp"
      },
      "source": [
        "### Using statistics to define normal behavior\n",
        "\n",
        "In the previous exercises we saw that fraud is **more prevalent in certain transaction categories**, but that there is no obvious way to segment our data into for example age groups. This time, let's investigate the **average amounts spent** in normal transactions versus fraud transactions. This gives you an idea of how fraudulent transactions **differ structurally** from normal transactions.\n",
        "\n",
        "**Instructions**\n",
        "\n",
        "* Create two new dataframes from fraud and non-fraud observations. Locate the data in `df` with `.loc` and assign the condition \"where fraud is 1\" and \"where fraud is 0\" for creation of the new dataframes.\n",
        "* Plot the `amount` column of the newly created dataframes in the histogram plot functions and assign the labels `fraud` and `nonfraud` respectively to the plots."
      ]
    },
    {
      "cell_type": "code",
      "execution_count": 207,
      "metadata": {
        "tags": [],
        "id": "AxOB7xS2PGwp"
      },
      "outputs": [],
      "source": [
        "# Create two dataframes with fraud and non-fraud data\n",
        "df_fraud = banksim_df[banksim_df.fraud == 1]\n",
        "df_non_fraud = banksim_df[banksim_df.fraud == 0]"
      ]
    },
    {
      "cell_type": "code",
      "execution_count": 208,
      "metadata": {
        "tags": [],
        "colab": {
          "base_uri": "https://localhost:8080/",
          "height": 449
        },
        "id": "mumRpoCzPGwp",
        "outputId": "c590717c-f39c-438b-94e0-a7375c07d053"
      },
      "outputs": [
        {
          "output_type": "display_data",
          "data": {
            "text/plain": [
              "<Figure size 640x480 with 1 Axes>"
            ],
            "image/png": "[encoded data removed]"
          },
          "metadata": {}
        }
      ],
      "source": [
        "# Plot histograms of the amounts in fraud and non-fraud data\n",
        "plt.hist(df_fraud.amount, alpha=0.5, label='fraud')\n",
        "plt.hist(df_non_fraud.amount, alpha=0.5, label='nonfraud')\n",
        "plt.xlabel('amount')\n",
        "plt.legend()\n",
        "plt.show()"
      ]
    },
    {
      "cell_type": "markdown",
      "metadata": {
        "id": "_FuPMLIrPGwp"
      },
      "source": [
        "**As the number fraud observations is much smaller, it is difficult to see the full distribution. Nonetheless, you can see that the fraudulent transactions tend to be on the larger side relative to normal observations. This is good news, as it helps us later in detecting fraud from non-fraud. In the next chapter you're going to implement a clustering model to distinguish between normal and abnormal transactions, when the fraud labels are no longer available.**"
      ]
    },
    {
      "cell_type": "markdown",
      "metadata": {
        "id": "ZsApJ9JWPGwp"
      },
      "source": [
        "## Clustering methods to detect fraud"
      ]
    },
    {
      "cell_type": "markdown",
      "metadata": {
        "id": "JKhEPG8YPGwp"
      },
      "source": [
        "#### K-means clustering\n",
        "\n",
        "![k-means](https://raw.githubusercontent.com/trenton3983/DataCamp/master/Images/fraud_detection/k-means.JPG)\n",
        "\n",
        "* The objective of any clustering model is to detect patterns in the data\n",
        "* More specifically, to group the data into distinct clusters made of data points that are very similar to each other, but distinct from the points in the other clusters.\n",
        "* **The objective of k-means is to minimize the sum of all distances between the data samples and their associated cluster centroids**\n",
        "    * The score is the inverse of that minimization, so the score should be close to 0.\n",
        "* **Using the distance to cluster centroids**\n",
        "    * Training samples are shown as dots and cluster centroids are shown as crosses\n",
        "    * Attempt to cluster the data in image A\n",
        "        * Start by putting in an initial guess for two cluster centroids, as in B\n",
        "        * Predefine the number of clusters at the start\n",
        "        * Then calculate the distances of each sample in the data to the closest centroid\n",
        "        * Figure C shows the data split into the two clusters\n",
        "        * Based on the initial clusters, the location of the centroids can be redefined (fig D) to minimize the sum of all distances in the two clusters.\n",
        "        * Repeat the step of reassigning points that are nearest to the centroid (fig E) until it converges to the point where no sample gets reassigned to another cluster (fig F)\n",
        "        * ![clustering](https://raw.githubusercontent.com/trenton3983/DataCamp/master/Images/fraud_detection/clustering.JPG)"
      ]
    },
    {
      "cell_type": "markdown",
      "metadata": {
        "id": "-F8NOU3EPGwp"
      },
      "source": [
        "#### K-means clustering in Python\n",
        "\n",
        "* It's of utmost importance to scale the data before doing K-means clustering, or any algorithm that uses distances\n",
        "* Without scaling, features on a larger scale will weight more heavily in the algorithm.  All features should weigh equally at the initial stage\n",
        "* fix `random_state` so models can be compared\n",
        "\n",
        "```python\n",
        "# Import the packages\n",
        "from sklearn.preprocessing import MinMaxScaler\n",
        "from sklearn.cluster import KMeans\n",
        "\n",
        "# Transform and scale your data\n",
        "X = np.array(df).astype(np.float)\n",
        "scaler = MinMaxScaler()\n",
        "X_scaled = scaler.fit_transform(X)\n",
        "\n",
        "# Define the k-means model and fit to the data\n",
        "kmeans = KMeans(n_clusters=6, random_state=42).fit(X_scaled)\n",
        "```"
      ]
    },
    {
      "cell_type": "markdown",
      "metadata": {
        "id": "-Vc5q1AfPGwp"
      },
      "source": [
        "#### The right amount of clusters\n",
        "\n",
        "* The drawback of K-means clustering is the need to assign the number of clusters beforehand\n",
        "* There are multiple ways to check what the right number of clusters should be\n",
        "    * Silhouette method\n",
        "    * Elbow curve\n",
        "* By running a k-means model on clusters varying from 1 to 10 and generate an **elbow curve** by saving the scores for each model under \"score\".\n",
        "* Plot the scores against the number of clusters\n",
        "\n",
        "    \n",
        "```python\n",
        "clust = range(1, 10)\n",
        "kmeans = [KMeans(n_clusters=i) for i in clust]\n",
        "\n",
        "score = [kmeans[i].fit(X_scaled).score(X_scaled) for i in range(len(kmeans))]\n",
        "\n",
        "plt.plot(clust,score)\n",
        "plt.xlabel('Number of Clusters')\n",
        "plt.ylabel('Score')\n",
        "plt.title('Elbow Curve')\n",
        "plt.show()\n",
        "```\n",
        "\n",
        "![elbow curve](https://raw.githubusercontent.com/trenton3983/DataCamp/master/Images/fraud_detection/elbow.JPG)\n",
        "\n",
        "* The slight elbow at 3 means that 3 clusters could be optimal, but it's not very pronounced"
      ]
    },
    {
      "cell_type": "markdown",
      "metadata": {
        "id": "uRrAJDE6PGwp"
      },
      "source": [
        "### Scaling the data\n",
        "\n",
        "For ML algorithms using distance based metrics, it is **crucial to always scale your data**, as features using different scales will distort your results. K-means uses the Euclidean distance to assess distance to cluster centroids, therefore you first need to scale your data before continuing to implement the algorithm. Let's do that first.\n",
        "\n",
        "Available is the dataframe `df` from the previous exercise, with some minor data preparation done so it is ready for you to use with `sklearn`. The fraud labels are separately stored under labels, you can use those to check the results later.\n",
        "\n",
        "**Instructions**\n",
        "\n",
        "* Import the ``MinMaxScaler``.\n",
        "* Transform your dataframe `df` into a numpy array `X` by taking only the values of `df` and make sure you have all `float` values.\n",
        "* Apply the defined scaler onto `X` to obtain scaled values of `X_scaled` to force all your features to a 0-1 scale."
      ]
    },
    {
      "cell_type": "code",
      "execution_count": 209,
      "metadata": {
        "tags": [],
        "id": "Pl3hQnBPPGwq"
      },
      "outputs": [],
      "source": [
        "labels = banksim_adj_df.fraud"
      ]
    },
    {
      "cell_type": "code",
      "execution_count": 210,
      "metadata": {
        "tags": [],
        "id": "rjxDrFv3PGwq"
      },
      "outputs": [],
      "source": [
        "cols = ['age', 'amount', 'M', 'es_barsandrestaurants', 'es_contents',\n",
        "        'es_fashion', 'es_food', 'es_health', 'es_home', 'es_hotelservices',\n",
        "        'es_hyper', 'es_leisure', 'es_otherservices', 'es_sportsandtoys',\n",
        "        'es_tech', 'es_transportation', 'es_travel']"
      ]
    },
    {
      "cell_type": "code",
      "execution_count": 211,
      "metadata": {
        "tags": [],
        "id": "mV3l_7lRPGwq"
      },
      "outputs": [],
      "source": [
        "# Take the float values of df for X\n",
        "X = banksim_adj_df[cols].values.astype(float)\n",
        "# Исправил np.float на float"
      ]
    },
    {
      "cell_type": "code",
      "execution_count": 212,
      "metadata": {
        "tags": [],
        "colab": {
          "base_uri": "https://localhost:8080/"
        },
        "id": "tiThM2elPGwq",
        "outputId": "32c3cee0-7a4b-45da-e373-74d0320c8824"
      },
      "outputs": [
        {
          "output_type": "execute_result",
          "data": {
            "text/plain": [
              "(7189, 17)"
            ]
          },
          "metadata": {},
          "execution_count": 212
        }
      ],
      "source": [
        "X.shape"
      ]
    },
    {
      "cell_type": "code",
      "execution_count": 213,
      "metadata": {
        "tags": [],
        "id": "G3Wfn993PGwq"
      },
      "outputs": [],
      "source": [
        "# Define the scaler and apply to the data\n",
        "scaler = MinMaxScaler()\n",
        "X_scaled = scaler.fit_transform(X)"
      ]
    },
    {
      "cell_type": "markdown",
      "metadata": {
        "id": "6CvXJtcbPGwq"
      },
      "source": [
        "### K-mean clustering\n",
        "\n",
        "A very commonly used clustering algorithm is **K-means clustering**. For fraud detection, K-means clustering is straightforward to implement and relatively powerful in predicting suspicious cases. It is a good algorithm to start with when working on fraud detection problems. However, fraud data is oftentimes very large, especially when you are working with transaction data. **MiniBatch K-means** is an **efficient way** to implement K-means on a large dataset, which you will use in this exercise.\n",
        "\n",
        "The scaled data from the previous exercise, `X_scaled` is available. Let's give it a try.\n",
        "\n",
        "**Instructions**\n",
        "\n",
        "* Import `MiniBatchKMeans` from `sklearn`.\n",
        "* Initialize the minibatch kmeans model with 8 clusters.\n",
        "* Fit the model to your scaled data."
      ]
    },
    {
      "cell_type": "code",
      "execution_count": 214,
      "metadata": {
        "tags": [],
        "colab": {
          "base_uri": "https://localhost:8080/",
          "height": 75
        },
        "id": "6YHetmbEPGwq",
        "outputId": "9d967b75-e82a-4161-9e51-9617b400ec38"
      },
      "outputs": [
        {
          "output_type": "execute_result",
          "data": {
            "text/plain": [
              "MiniBatchKMeans(random_state=0)"
            ],
            "text/html": [
              "<style>#sk-container-id-8 {color: black;background-color: white;}#sk-container-id-8 pre{padding: 0;}#sk-container-id-8 div.sk-toggleable {background-color: white;}#sk-container-id-8 label.sk-toggleable__label {cursor: pointer;display: block;width: 100%;margin-bottom: 0;padding: 0.3em;box-sizing: border-box;text-align: center;}#sk-container-id-8 label.sk-toggleable__label-arrow:before {content: \"▸\";float: left;margin-right: 0.25em;color: #696969;}#sk-container-id-8 label.sk-toggleable__label-arrow:hover:before {color: black;}#sk-container-id-8 div.sk-estimator:hover label.sk-toggleable__label-arrow:before {color: black;}#sk-container-id-8 div.sk-toggleable__content {max-height: 0;max-width: 0;overflow: hidden;text-align: left;background-color: #f0f8ff;}#sk-container-id-8 div.sk-toggleable__content pre {margin: 0.2em;color: black;border-radius: 0.25em;background-color: #f0f8ff;}#sk-container-id-8 input.sk-toggleable__control:checked~div.sk-toggleable__content {max-height: 200px;max-width: 100%;overflow: auto;}#sk-container-id-8 input.sk-toggleable__control:checked~label.sk-toggleable__label-arrow:before {content: \"▾\";}#sk-container-id-8 div.sk-estimator input.sk-toggleable__control:checked~label.sk-toggleable__label {background-color: #d4ebff;}#sk-container-id-8 div.sk-label input.sk-toggleable__control:checked~label.sk-toggleable__label {background-color: #d4ebff;}#sk-container-id-8 input.sk-hidden--visually {border: 0;clip: rect(1px 1px 1px 1px);clip: rect(1px, 1px, 1px, 1px);height: 1px;margin: -1px;overflow: hidden;padding: 0;position: absolute;width: 1px;}#sk-container-id-8 div.sk-estimator {font-family: monospace;background-color: #f0f8ff;border: 1px dotted black;border-radius: 0.25em;box-sizing: border-box;margin-bottom: 0.5em;}#sk-container-id-8 div.sk-estimator:hover {background-color: #d4ebff;}#sk-container-id-8 div.sk-parallel-item::after {content: \"\";width: 100%;border-bottom: 1px solid gray;flex-grow: 1;}#sk-container-id-8 div.sk-label:hover label.sk-toggleable__label {background-color: #d4ebff;}#sk-container-id-8 div.sk-serial::before {content: \"\";position: absolute;border-left: 1px solid gray;box-sizing: border-box;top: 0;bottom: 0;left: 50%;z-index: 0;}#sk-container-id-8 div.sk-serial {display: flex;flex-direction: column;align-items: center;background-color: white;padding-right: 0.2em;padding-left: 0.2em;position: relative;}#sk-container-id-8 div.sk-item {position: relative;z-index: 1;}#sk-container-id-8 div.sk-parallel {display: flex;align-items: stretch;justify-content: center;background-color: white;position: relative;}#sk-container-id-8 div.sk-item::before, #sk-container-id-8 div.sk-parallel-item::before {content: \"\";position: absolute;border-left: 1px solid gray;box-sizing: border-box;top: 0;bottom: 0;left: 50%;z-index: -1;}#sk-container-id-8 div.sk-parallel-item {display: flex;flex-direction: column;z-index: 1;position: relative;background-color: white;}#sk-container-id-8 div.sk-parallel-item:first-child::after {align-self: flex-end;width: 50%;}#sk-container-id-8 div.sk-parallel-item:last-child::after {align-self: flex-start;width: 50%;}#sk-container-id-8 div.sk-parallel-item:only-child::after {width: 0;}#sk-container-id-8 div.sk-dashed-wrapped {border: 1px dashed gray;margin: 0 0.4em 0.5em 0.4em;box-sizing: border-box;padding-bottom: 0.4em;background-color: white;}#sk-container-id-8 div.sk-label label {font-family: monospace;font-weight: bold;display: inline-block;line-height: 1.2em;}#sk-container-id-8 div.sk-label-container {text-align: center;}#sk-container-id-8 div.sk-container {/* jupyter's `normalize.less` sets `[hidden] { display: none; }` but bootstrap.min.css set `[hidden] { display: none !important; }` so we also need the `!important` here to be able to override the default hidden behavior on the sphinx rendered scikit-learn.org. See: https://github.com/scikit-learn/scikit-learn/issues/21755 */display: inline-block !important;position: relative;}#sk-container-id-8 div.sk-text-repr-fallback {display: none;}</style><div id=\"sk-container-id-8\" class=\"sk-top-container\"><div class=\"sk-text-repr-fallback\"><pre>MiniBatchKMeans(random_state=0)</pre><b>In a Jupyter environment, please rerun this cell to show the HTML representation or trust the notebook. <br />On GitHub, the HTML representation is unable to render, please try loading this page with nbviewer.org.</b></div><div class=\"sk-container\" hidden><div class=\"sk-item\"><div class=\"sk-estimator sk-toggleable\"><input class=\"sk-toggleable__control sk-hidden--visually\" id=\"sk-estimator-id-8\" type=\"checkbox\" checked><label for=\"sk-estimator-id-8\" class=\"sk-toggleable__label sk-toggleable__label-arrow\">MiniBatchKMeans</label><div class=\"sk-toggleable__content\"><pre>MiniBatchKMeans(random_state=0)</pre></div></div></div></div></div>"
            ]
          },
          "metadata": {},
          "execution_count": 214
        }
      ],
      "source": [
        "# Define the model\n",
        "kmeans = MiniBatchKMeans(n_clusters=8, random_state=0)\n",
        "\n",
        "# Fit the model to the scaled data\n",
        "kmeans.fit(X_scaled)"
      ]
    },
    {
      "cell_type": "markdown",
      "metadata": {
        "id": "WyIl5LCEPGwq"
      },
      "source": [
        "**You have now fitted your MiniBatch K-means model to the data. In the upcoming exercises you're going to explore whether this model is any good at flagging fraud. But before doing that, you still need to figure our what the right number of clusters to use is. Let's do that in the next exercise.**"
      ]
    },
    {
      "cell_type": "markdown",
      "metadata": {
        "id": "B8nGBALEPGwq"
      },
      "source": [
        "### Elbow method\n",
        "\n",
        "In the previous exercise you've implemented MiniBatch K-means with 8 clusters, without actually checking what the right amount of clusters should be. For our first fraud detection approach, it is important to **get the number of clusters right**, especially when you want to use the outliers of those clusters as fraud predictions. To decide which amount of clusters you're going to use, let's apply the **Elbow method** and see what the optimal number of clusters should be based on this method.\n",
        "\n",
        "`X_scaled` is again available for you to use and `MiniBatchKMeans` has been imported from `sklearn`.\n",
        "\n",
        "**Instructions**\n",
        "\n",
        "* Define the range to be between 1 and 10 clusters.\n",
        "* Run MiniBatch K-means on all the clusters in the range using list comprehension.\n",
        "* Fit each model on the scaled data and obtain the scores from the scaled data.\n",
        "* Plot the cluster numbers and their respective scores."
      ]
    },
    {
      "cell_type": "code",
      "execution_count": 215,
      "metadata": {
        "tags": [],
        "id": "7Z6VApJwPGwq"
      },
      "outputs": [],
      "source": [
        "# Define the range of clusters to try\n",
        "clustno = range(1, 10)\n",
        "\n",
        "# Run MiniBatch Kmeans over the number of clusters\n",
        "kmeans = [MiniBatchKMeans(n_clusters=i) for i in clustno]\n",
        "\n",
        "# Obtain the score for each model\n",
        "score = [kmeans[i].fit(X_scaled).score(X_scaled) for i in range(len(kmeans))]"
      ]
    },
    {
      "cell_type": "code",
      "execution_count": 216,
      "metadata": {
        "tags": [],
        "colab": {
          "base_uri": "https://localhost:8080/",
          "height": 472
        },
        "id": "2BQPRTLwPGwq",
        "outputId": "2319af2b-f784-4569-ce85-dc2de781a9c7"
      },
      "outputs": [
        {
          "output_type": "display_data",
          "data": {
            "text/plain": [
              "<Figure size 640x480 with 1 Axes>"
            ],
            "image/png": "[encoded data removed]"
          },
          "metadata": {}
        }
      ],
      "source": [
        "# Plot the models and their respective score\n",
        "plt.plot(clustno, score)\n",
        "plt.xlabel('Number of Clusters')\n",
        "plt.ylabel('Score')\n",
        "plt.title('Elbow Curve')\n",
        "plt.show()"
      ]
    },
    {
      "cell_type": "markdown",
      "metadata": {
        "id": "jO2DOSTzPGwq"
      },
      "source": [
        "**Now you can see that the optimal number of clusters should probably be at around 3 clusters, as that is where the elbow is in the curve. We'll use this in the next exercise as our baseline model, and see how well this does in detecting fraud**"
      ]
    },
    {
      "cell_type": "markdown",
      "metadata": {
        "id": "vqD0zFaUPGwq"
      },
      "source": [
        "## Assigning fraud vs. non-fraud\n",
        "\n",
        "* ![clusters](https://raw.githubusercontent.com/trenton3983/DataCamp/master/Images/fraud_detection/clusters_1.JPG)\n",
        "* Take the outliers of each cluster, and flag those as fraud.\n",
        "* ![clusters](https://raw.githubusercontent.com/trenton3983/DataCamp/master/Images/fraud_detection/clusters_2.JPG)\n",
        "1. Collect and store the cluster centroids in memory\n",
        "    * Starting point to decide what's normal and not\n",
        "1. Calculate the distance of each point in the dataset, to their own cluster centroid\n",
        "* ![clusters](https://raw.githubusercontent.com/trenton3983/DataCamp/master/Images/fraud_detection/clusters_3.JPG)\n",
        "    * Euclidean distance is depicted by the circles in this case\n",
        "    * Define a cut-off point for the distances to define what's an outlier\n",
        "        * Done based on the distributions of the distances collected\n",
        "        * i.e. everything with a distance larger than the top 95th percentile, should be considered an outlier\n",
        "        * the tail of the distribution of distances\n",
        "        * anything outside the yellow circles is an outlier\n",
        "        * ![clusters](https://raw.githubusercontent.com/trenton3983/DataCamp/master/Images/fraud_detection/clusters_4.JPG)\n",
        "        * these are definitely outliers and can be described as abnormal or suspicious\n",
        "            * doesn't necessarily mean they are fraudulent"
      ]
    },
    {
      "cell_type": "markdown",
      "metadata": {
        "id": "D9_P2yAiPGwq"
      },
      "source": [
        "#### Flagging Fraud Based on Distance to Centroid\n",
        "\n",
        "```python\n",
        "# Run the kmeans model on scaled data\n",
        "kmeans = KMeans(n_clusters=6, random_state=42,n_jobs=-1).fit(X_scaled)\n",
        "\n",
        "# Get the cluster number for each datapoint\n",
        "X_clusters = kmeans.predict(X_scaled)\n",
        "\n",
        "# Save the cluster centroids\n",
        "X_clusters_centers = kmeans.cluster_centers_\n",
        "\n",
        "# Calculate the distance to the cluster centroid for each point\n",
        "dist = [np.linalg.norm(x-y) for x,y in zip(X_scaled, X_clusters_centers[X_clusters])]\n",
        "\n",
        "# Create predictions based on distance\n",
        "km_y_pred = np.array(dist)\n",
        "km_y_pred[dist>=np.percentile(dist, 93)] = 1\n",
        "km_y_pred[dist<np.percentile(dist, 93)] = 0\n",
        "```\n",
        "\n",
        "* `np.linalg.norm`: returns the vector norm, the vector of distance for each datapoint to their assigned cluster\n",
        "* use the percentiles of the distances to determine which samples are outliers"
      ]
    },
    {
      "cell_type": "markdown",
      "metadata": {
        "id": "Rgj5RZ2JPGwq"
      },
      "source": [
        "#### Validating the Model Results\n",
        "\n",
        "* without fraud labels, the usual performance metrics can't be run\n",
        "    * check with the fraud analyst\n",
        "    * investigate and describe cases that are flagged in more detail\n",
        "        * is it fraudulent or just a rare case of legit data\n",
        "        * avoid rare, legit cases by deleting certain features or removing the cases from the data\n",
        "    * if there are past cases of fraud, see if the model can predict them using historic data"
      ]
    },
    {
      "cell_type": "markdown",
      "metadata": {
        "id": "_2uUq2b_PGwq"
      },
      "source": [
        "### Detecting outliers\n",
        "\n",
        "In the next exercises, you're going to use the K-means algorithm to predict fraud, and compare those predictions to the actual labels that are saved, to sense check our results.\n",
        "\n",
        "The fraudulent transactions are typically flagged as the observations that are furthest aways from the cluster centroid. You'll learn how to do this and how to determine the cut-off in this exercise. In the next one, you'll check the results.\n",
        "\n",
        "Available are the scaled observations X_scaled, as well as the labels stored under the variable y.\n",
        "\n",
        "**Instructions**\n",
        "\n",
        "* Split the scaled data and labels y into a train and test set.\n",
        "* Define the MiniBatch K-means model with 3 clusters, and fit to the training data.\n",
        "* Get the cluster predictions from your test data and obtain the cluster centroids.\n",
        "* Define the boundary between fraud and non fraud to be at 95% of distance distribution and higher."
      ]
    },
    {
      "cell_type": "code",
      "execution_count": 217,
      "metadata": {
        "tags": [],
        "id": "bgwIojYhPGwq"
      },
      "outputs": [],
      "source": [
        "# Split the data into training and test set\n",
        "X_train, X_test, y_train, y_test = train_test_split(X_scaled, labels, test_size=0.3, random_state=0)\n",
        "\n",
        "# Define K-means model\n",
        "kmeans = MiniBatchKMeans(n_clusters=3, random_state=42).fit(X_train)\n",
        "\n",
        "# Obtain predictions and calculate distance from cluster centroid\n",
        "X_test_clusters = kmeans.predict(X_test)\n",
        "X_test_clusters_centers = kmeans.cluster_centers_\n",
        "dist = [np.linalg.norm(x-y) for x, y in zip(X_test, X_test_clusters_centers[X_test_clusters])]\n",
        "\n",
        "# Create fraud predictions based on outliers on clusters\n",
        "km_y_pred = np.array(dist)\n",
        "km_y_pred[dist >= np.percentile(dist, 95)] = 1\n",
        "km_y_pred[dist < np.percentile(dist, 95)] = 0"
      ]
    },
    {
      "cell_type": "markdown",
      "metadata": {
        "id": "KvS4c-hHPGwr"
      },
      "source": [
        "### Checking model results\n",
        "\n",
        "In the previous exercise you've flagged all observations to be fraud, if they are in the top 5th percentile in distance from the cluster centroid. I.e. these are the very outliers of the three clusters. For this exercise you have the scaled data and labels already split into training and test set, so y_test is available. The predictions from the previous exercise, km_y_pred, are also available. Let's create some performance metrics and see how well you did.\n",
        "\n",
        "**Instructions 1/3**\n",
        "\n",
        "* Obtain the area under the ROC curve from your test labels and predicted labels."
      ]
    },
    {
      "cell_type": "code",
      "execution_count": 218,
      "metadata": {
        "tags": [],
        "id": "0CriMy3oPGwr"
      },
      "outputs": [],
      "source": [
        "def plot_confusion_matrix(cm, classes=['Not Fraud', 'Fraud'],\n",
        "                          normalize=False,\n",
        "                          title='Fraud Confusion matrix',\n",
        "                          cmap=plt.cm.Blues):\n",
        "    \"\"\"\n",
        "    This function prints and plots the confusion matrix.\n",
        "    Normalization can be applied by setting `normalize=True`.\n",
        "    From:\n",
        "        http://scikit-learn.org/stable/auto_examples/model_selection/plot_confusion_matrix.html#sphx-glr-auto-\n",
        "        examples-model-selection-plot-confusion-matrix-py\n",
        "    \"\"\"\n",
        "    if normalize:\n",
        "        cm = cm.astype('float') / cm.sum(axis=1)[:, np.newaxis]\n",
        "        print(\"Normalized confusion matrix\")\n",
        "    else:\n",
        "        print('Confusion matrix, without normalization')\n",
        "\n",
        "    # print(cm)\n",
        "\n",
        "    plt.imshow(cm, interpolation='nearest', cmap=cmap)\n",
        "    plt.title(title)\n",
        "    plt.colorbar()\n",
        "    tick_marks = np.arange(len(classes))\n",
        "    plt.xticks(tick_marks, classes, rotation=45)\n",
        "    plt.yticks(tick_marks, classes)\n",
        "\n",
        "    fmt = '.2f' if normalize else 'd'\n",
        "    thresh = cm.max() / 2.\n",
        "    for i, j in product(range(cm.shape[0]), range(cm.shape[1])):\n",
        "        plt.text(j, i, format(cm[i, j], fmt),\n",
        "                 horizontalalignment=\"center\",\n",
        "                 color=\"white\" if cm[i, j] > thresh else \"black\")\n",
        "\n",
        "    plt.tight_layout()\n",
        "    plt.ylabel('True label')\n",
        "    plt.xlabel('Predicted label')\n",
        "    plt.show()"
      ]
    },
    {
      "cell_type": "code",
      "execution_count": 219,
      "metadata": {
        "tags": [],
        "colab": {
          "base_uri": "https://localhost:8080/"
        },
        "id": "bgNlE5B0PGwr",
        "outputId": "9c8c1e3d-26f2-4366-fa25-b29b42a296df"
      },
      "outputs": [
        {
          "output_type": "execute_result",
          "data": {
            "text/plain": [
              "0.8197704982668266"
            ]
          },
          "metadata": {},
          "execution_count": 219
        }
      ],
      "source": [
        "# Obtain the ROC score\n",
        "roc_auc_score(y_test, km_y_pred)"
      ]
    },
    {
      "cell_type": "markdown",
      "metadata": {
        "id": "QDTZkmUnPGwr"
      },
      "source": [
        "**Instructions 2/3**\n",
        "\n",
        "* Obtain the confusion matrix from the test labels and predicted labels and plot the results."
      ]
    },
    {
      "cell_type": "code",
      "execution_count": 220,
      "metadata": {
        "tags": [],
        "colab": {
          "base_uri": "https://localhost:8080/",
          "height": 523
        },
        "id": "XPhE3429PGwr",
        "outputId": "5cc82fda-b296-4005-f8a6-03bbb7459092"
      },
      "outputs": [
        {
          "output_type": "stream",
          "name": "stdout",
          "text": [
            "Confusion matrix, without normalization\n"
          ]
        },
        {
          "output_type": "display_data",
          "data": {
            "text/plain": [
              "<Figure size 640x480 with 2 Axes>"
            ],
            "image/png": "[encoded data removed]"
          },
          "metadata": {}
        }
      ],
      "source": [
        "# Create a confusion matrix\n",
        "km_cm = confusion_matrix(y_test, km_y_pred)\n",
        "\n",
        "# Plot the confusion matrix in a figure to visualize results\n",
        "plot_confusion_matrix(km_cm)"
      ]
    },
    {
      "cell_type": "markdown",
      "metadata": {
        "id": "L4qLk0tzPGwt"
      },
      "source": [
        "**Instructions 3/3**\n",
        "\n",
        "If you were to decrease the percentile used as a cutoff point in the previous exercise to 93% instead of 95%, what would that do to your prediction results?\n",
        "\n",
        "**Possible Answers**\n",
        "\n",
        "* **The number of fraud cases caught increases, but false positives also increase.**\n",
        "* ~~The number of fraud cases caught decreases, and false positives decrease.~~\n",
        "* ~~The number of fraud cases caught increases, but false positives would decrease.~~\n",
        "* ~~Nothing would happen to the amount of fraud cases caught.~~"
      ]
    },
    {
      "cell_type": "markdown",
      "metadata": {
        "id": "CZsRIBeBPGwt"
      },
      "source": [
        "## Alternate clustering methods for fraud detection\n",
        "\n",
        "* In addition to K-means, there are many different clustering methods, which can be used for fraud detection\n",
        "* ![clustering methods](https://raw.githubusercontent.com/trenton3983/DataCamp/master/Images/fraud_detection/clustering_methods.JPG)\n",
        "* K-means works well when the data is clustered in normal, round shapes\n",
        "* There are methods to flag fraud other the cluster outliers\n",
        "* ![clustering outlier](https://raw.githubusercontent.com/trenton3983/DataCamp/master/Images/fraud_detection/cluster_outlier.JPG)\n",
        "    * Small clusters can be an indication of fraud\n",
        "    * This approach can be used when fraudulent behavior has commonalities, which cause clustering\n",
        "    * The fraudulent data would cluster in tiny groups, rather than be the outliers of larger clusters\n",
        "* ![typical data](https://raw.githubusercontent.com/trenton3983/DataCamp/master/Images/fraud_detection/typical_data.JPG)\n",
        "    * In this case there are 3 obvious clusters\n",
        "    * The smallest dots are outliers and outside of what can be described as normal behavior\n",
        "    * There are also small to medium clusters closely connected to the red cluster\n",
        "    * Visualizing the data with something like [PCA](https://en.wikipedia.org/wiki/Principal_component_analysis) can be quite helpful"
      ]
    },
    {
      "cell_type": "markdown",
      "metadata": {
        "id": "Cqmi6TJvPGwt"
      },
      "source": [
        "#### DBSCAN: Density-Based Spatial Clustering of Applications with Noise\n",
        "\n",
        "* [DBscan](https://en.wikipedia.org/wiki/DBSCAN)\n",
        "* DBSCAN vs. K-means\n",
        "    * The number of clusters does not need to be predefined\n",
        "        * The algorithm finds core samples of high density and expands clusters from them\n",
        "        * Works well on data containing clusters of similar density\n",
        "    * This type of algorithm can be used to identify fraud as very small clusters\n",
        "    * Maximum allowed distance between points in a cluster must be assigned\n",
        "    * Minimal number of data points in clusters must be assigned\n",
        "    * Better performance on weirdly shaped data\n",
        "    * Computationally heavier then MiniBatch K-means"
      ]
    },
    {
      "cell_type": "markdown",
      "metadata": {
        "id": "mYnFZLfuPGwt"
      },
      "source": [
        "#### Implementation of DBSCAN\n",
        "\n",
        "```python\n",
        "from sklearn.cluster import DBSCAN\n",
        "db = DBSCAN(eps=0.5, min_samples=10, n_jobs=-1).fit(X_scaled)\n",
        "\n",
        "# Get the cluster labels (aka numbers)\n",
        "pred_labels = db.labels_\n",
        "\n",
        "# Count the total number of clusters\n",
        "n_clusters_ = len(set(pred_labels)) - (1 if -1 in pred_labels else 0)\n",
        "\n",
        "# Print model results\n",
        "print(f'Estimated number of clusters: {n_clusters_}')\n",
        ">>> Estimated number of clusters: 31\n",
        "    \n",
        "# Print model results\n",
        "print(f'Silhouette Coefficient: {metrics.silhouette_score(X_scaled, pred_labels):0.3f}')\n",
        ">>> Silhouette Coefficient: 0.359\n",
        "    \n",
        "# Get sample counts in each cluster\n",
        "counts = np.bincount(pred_labels[pred_labels>=0])\n",
        "print(counts)\n",
        ">>> [ 763, 496, 840, 355 1086, 676, 63, 306, 560, 134, 28, 18, 262, 128,\n",
        "     332, 22, 22, 13, 31, 38, 36, 28, 14, 12, 30, 10, 11, 10, 21, 10, 5]\n",
        "```\n",
        "\n",
        "* start by defining the epsilon `eps`\n",
        "    * Distance between data points allowed from which the cluster expands\n",
        "* define minimum samples in the clusters\n",
        "* conventional DBSCAN can't produce the optimal value of epsilon, so it requires sophisticated DBSCAN modifications to automatically determine the optimal epsilon value\n",
        "* Fit DBSCAN to **scaled data**\n",
        "* Use `labels_` method to get the assigned cluster label for each data point\n",
        "* The cluster count can also be determine by counting the unique cluster labels from the cluster `label_` predictions\n",
        "* Can have performance metrics such as **average silhouette score**\n",
        "* The size of each cluster can be calculated with `np.bincount`\n",
        "    * counts the number of occurrences of non-negative values in a `numpy` array\n",
        "* sort `counts` and decide how many of the smaller clusters to flag as fraud\n",
        "    * selecting the clusters to flag, is a trial-and-error step and depends on the number of cases the fraud team can manage"
      ]
    },
    {
      "cell_type": "markdown",
      "metadata": {
        "id": "cnvezwBgPGwu"
      },
      "source": [
        "### DB scan\n",
        "\n",
        "In this exercise you're going to explore using a **density based clustering** method (DBSCAN) to detect fraud. The advantage of DBSCAN is that you **do not need to define the number of clusters** beforehand. Also, DBSCAN can handle weirdly shaped data (i.e. non-convex) much better than K-means can. This time, you are not going to take the outliers of the clusters and use that for fraud, but take the **smallest clusters** in the data and label those as fraud. You again have the scaled dataset, i.e. X_scaled available. Let's give it a try!\n",
        "\n",
        "**Instructions**\n",
        "\n",
        "* Import `DBSCAN`.\n",
        "* Initialize a DBSCAN model setting the maximum distance between two samples to 0.9 and the minimum observations in the clusters to 10, and fit the model to the scaled data.\n",
        "* Obtain the predicted labels, these are the cluster numbers assigned to an observation.\n",
        "* Print the number of clusters and the rest of the performance metrics."
      ]
    },
    {
      "cell_type": "code",
      "execution_count": 221,
      "metadata": {
        "tags": [],
        "id": "cz5_HjNOPGwu"
      },
      "outputs": [],
      "source": [
        "# Initialize and fit the DBscan model\n",
        "db = DBSCAN(eps=0.9, min_samples=10, n_jobs=-1).fit(X_scaled)\n",
        "\n",
        "# Obtain the predicted labels and calculate number of clusters\n",
        "pred_labels = db.labels_\n",
        "n_clusters = len(set(pred_labels)) - (1 if -1 in labels else 0)"
      ]
    },
    {
      "cell_type": "code",
      "execution_count": 222,
      "metadata": {
        "tags": [],
        "colab": {
          "base_uri": "https://localhost:8080/"
        },
        "id": "wBfnG8osPGwu",
        "outputId": "0d7f7e71-6593-4aa1-8c34-3d2787383b74"
      },
      "outputs": [
        {
          "output_type": "stream",
          "name": "stdout",
          "text": [
            "Estimated number of clusters: 23\n",
            "Homogeneity: 0.612\n",
            "Silhouette Coefficient: 0.713\n"
          ]
        }
      ],
      "source": [
        "# Print performance metrics for DBscan\n",
        "print(f'Estimated number of clusters: {n_clusters}')\n",
        "print(f'Homogeneity: {homogeneity_score(labels, pred_labels):0.3f}')\n",
        "print(f'Silhouette Coefficient: {silhouette_score(X_scaled, pred_labels):0.3f}')"
      ]
    },
    {
      "cell_type": "markdown",
      "metadata": {
        "id": "LvaJm0EgPGwu"
      },
      "source": [
        "**The number of clusters is much higher than with K-means. For fraud detection this is for now OK, as we are only interested in the smallest clusters, since those are considered as abnormal. Now have a look at those clusters and decide which one to flag as fraud.**"
      ]
    },
    {
      "cell_type": "markdown",
      "metadata": {
        "id": "Ga8fzEXrPGwu"
      },
      "source": [
        "### Assessing smallest clusters\n",
        "\n",
        "In this exercise you're going to have a look at the clusters that came out of DBscan, and flag certain clusters as fraud:\n",
        "\n",
        "* you first need to figure out how big the clusters are, and **filter out the smallest**\n",
        "* then, you're going to take the smallest ones and **flag those as fraud**\n",
        "* last, you'll **check with the original labels** whether this does actually do a good job in detecting fraud.\n",
        "\n",
        "Available are the DBscan model predictions, so `n_clusters` is available as well as the cluster labels, which are saved under `pred_labels`. Let's give it a try!\n",
        "\n",
        "**Instructions 1/3**\n",
        "\n",
        "* Count the samples within each cluster by running a bincount on the predicted cluster numbers under `pred_labels` and print the results."
      ]
    },
    {
      "cell_type": "code",
      "execution_count": 223,
      "metadata": {
        "tags": [],
        "colab": {
          "base_uri": "https://localhost:8080/"
        },
        "id": "VjoCP70uPGwu",
        "outputId": "20ef7611-6cec-4649-b4bd-8f000c2e33b5"
      },
      "outputs": [
        {
          "output_type": "stream",
          "name": "stdout",
          "text": [
            "[3252  145 2714   55  174  119  122   98   54   15   76   15   43   25\n",
            "   51   47   42   15   25   20   19   10]\n"
          ]
        }
      ],
      "source": [
        "# Count observations in each cluster number\n",
        "counts = np.bincount(pred_labels[pred_labels >= 0])\n",
        "\n",
        "# Print the result\n",
        "print(counts)"
      ]
    },
    {
      "cell_type": "markdown",
      "metadata": {
        "id": "vdQGeOh6PGwu"
      },
      "source": [
        "**Instructions 2/3**\n",
        "\n",
        "* Sort the sample `counts` and take the top 3 smallest clusters, and print the results."
      ]
    },
    {
      "cell_type": "code",
      "execution_count": 224,
      "metadata": {
        "tags": [],
        "id": "mEXN0OSJPGwu"
      },
      "outputs": [],
      "source": [
        "# Sort the sample counts of the clusters and take the top 3 smallest clusters\n",
        "smallest_clusters = np.argsort(counts)[:3]"
      ]
    },
    {
      "cell_type": "code",
      "execution_count": 225,
      "metadata": {
        "tags": [],
        "colab": {
          "base_uri": "https://localhost:8080/"
        },
        "id": "JLHSyZjOPGwu",
        "outputId": "12f63992-3e5d-4367-92c3-8a17527e269a"
      },
      "outputs": [
        {
          "output_type": "stream",
          "name": "stdout",
          "text": [
            "The smallest clusters are clusters: [21 17  9]\n"
          ]
        }
      ],
      "source": [
        "# Print the results\n",
        "print(f'The smallest clusters are clusters: {smallest_clusters}')"
      ]
    },
    {
      "cell_type": "markdown",
      "metadata": {
        "id": "RBXCXemWPGwu"
      },
      "source": [
        "**Instructions 3/3**\n",
        "\n",
        "* Within `counts`, select the smallest clusters only, to print the number of samples in the three smallest clusters."
      ]
    },
    {
      "cell_type": "code",
      "execution_count": 226,
      "metadata": {
        "tags": [],
        "colab": {
          "base_uri": "https://localhost:8080/"
        },
        "id": "wvMOD00XPGwu",
        "outputId": "6d9c3777-b398-4977-d278-86bcccdad4dd"
      },
      "outputs": [
        {
          "output_type": "stream",
          "name": "stdout",
          "text": [
            "Their counts are: [10 15 15]\n"
          ]
        }
      ],
      "source": [
        "# Print the counts of the smallest clusters only\n",
        "print(f'Their counts are: {counts[smallest_clusters]}')"
      ]
    },
    {
      "cell_type": "markdown",
      "metadata": {
        "id": "bRgFbvMYPGwu"
      },
      "source": [
        "**So now we know which smallest clusters you could flag as fraud. If you were to take more of the smallest clusters, you cast your net wider and catch more fraud, but most likely also more false positives. It is up to the fraud analyst to find the right amount of cases to flag and to investigate. In the next exercise you'll check the results with the actual labels.**"
      ]
    },
    {
      "cell_type": "markdown",
      "metadata": {
        "id": "Jp4RKPdzPGwu"
      },
      "source": [
        "### Results verification\n",
        "\n",
        "In this exercise you're going to **check the results** of your DBscan fraud detection model. In reality, you often don't have reliable labels and this where a fraud analyst can help you validate the results. He/She can check your results and see whether the cases you flagged are indeed suspicious. You can also **check historically known cases** of fraud and see whether your model flags them.\n",
        "\n",
        "In this case, you'll **use the fraud labels** to check your model results. The predicted cluster numbers are available under `pred_labels` as well as the original fraud `labels`.\n",
        "\n",
        "**Instructions**\n",
        "\n",
        "* Create a dataframe combining the cluster numbers with the actual labels.\n",
        "* Create a condition that flags fraud for the three smallest clusters: clusters 21, 17 and 9.\n",
        "* Create a crosstab from the actual fraud labels with the newly created predicted fraud labels."
      ]
    },
    {
      "cell_type": "code",
      "execution_count": 227,
      "metadata": {
        "tags": [],
        "id": "ObP_goAaPGwu"
      },
      "outputs": [],
      "source": [
        "# Create a dataframe of the predicted cluster numbers and fraud labels\n",
        "df = pd.DataFrame({'clusternr':pred_labels,'fraud':labels})\n",
        "\n",
        "# Create a condition flagging fraud for the smallest clusters\n",
        "df['predicted_fraud'] = np.where((df['clusternr'].isin([21, 17, 9])), 1 , 0)"
      ]
    },
    {
      "cell_type": "code",
      "execution_count": 228,
      "metadata": {
        "tags": [],
        "colab": {
          "base_uri": "https://localhost:8080/"
        },
        "id": "RbklEjb9PGwu",
        "outputId": "41146fca-4772-4868-fe6e-e15b17dc68d4"
      },
      "outputs": [
        {
          "output_type": "stream",
          "name": "stdout",
          "text": [
            "Flagged Fraud     0   1\n",
            "Actual Fraud           \n",
            "0              6973  16\n",
            "1               176  24\n"
          ]
        }
      ],
      "source": [
        "# Run a crosstab on the results\n",
        "print(pd.crosstab(df['fraud'], df['predicted_fraud'], rownames=['Actual Fraud'], colnames=['Flagged Fraud']))"
      ]
    },
    {
      "cell_type": "markdown",
      "metadata": {
        "id": "R7ndLRChPGwu"
      },
      "source": [
        "**How does this compare to the K-means model? The good thing is: our of all flagged cases, roughly 2/3 are actually fraud! Since you only take the three smallest clusters, by definition you flag less cases of fraud, so you catch less but also have less false positives. However, you are missing quite a lot of fraud cases. Increasing the amount of smallest clusters you flag could improve that, at the cost of more false positives of course. In the next chapter you'll learn how to further improve fraud detection models by including text analysis.**"
      ]
    },
    {
      "cell_type": "markdown",
      "metadata": {
        "id": "xIJ55A75PGwu"
      },
      "source": [
        "# Fraud detection using text\n",
        "\n",
        "Use text data, text mining and topic modeling to detect fraudulent behavior."
      ]
    },
    {
      "cell_type": "markdown",
      "metadata": {
        "id": "RHSVjzxfPGwu"
      },
      "source": [
        "## Using text data\n",
        "\n",
        "* Types of useful text data:\n",
        "    1. Emails from employees and/or clients\n",
        "    1. Transaction descriptions\n",
        "    1. Employee notes\n",
        "    1. Insurance claim form description box\n",
        "    1. Recorded telephone conversations\n",
        "* Text mining techniques for fraud detection\n",
        "    1. Word search\n",
        "    1. Sentiment analysis\n",
        "    1. Word frequencies and topic analysis\n",
        "    1. Style\n",
        "* Word search for fraud detection\n",
        "    * Flagging suspicious words:\n",
        "        1. Simple, straightforward and easy to explain\n",
        "        1. Match results can be used as a filter on top of machine learning model\n",
        "        1. Match results can be used as a feature in a machine learning model"
      ]
    },
    {
      "cell_type": "markdown",
      "metadata": {
        "id": "7LTOCaMSPGwv"
      },
      "source": [
        "#### Word counts to flag fraud with pandas\n",
        "\n",
        "```python\n",
        "# Using a string operator to find words\n",
        "df['email_body'].str.contains('money laundering')\n",
        "\n",
        " # Select data that matches\n",
        "df.loc[df['email_body'].str.contains('money laundering', na=False)]\n",
        "\n",
        " # Create a list of words to search for\n",
        "list_of_words = ['police', 'money laundering']\n",
        "df.loc[df['email_body'].str.contains('|'.join(list_of_words), na=False)]\n",
        "\n",
        " # Create a fraud flag\n",
        "df['flag'] = np.where((df['email_body'].str.contains('|'.join(list_of_words)) == True), 1, 0)\n",
        "```"
      ]
    },
    {
      "cell_type": "markdown",
      "metadata": {
        "id": "bYNReQEPPGwv"
      },
      "source": [
        "### Word search with dataframes\n",
        "\n",
        "In this exercise you're going to work with text data, containing emails from Enron employees. The **Enron scandal** is a famous fraud case. Enron employees covered up the bad financial position of the company, thereby keeping the stock price artificially high. Enron employees sold their own stock options, and when the truth came out, Enron investors were left with nothing. The goal is to find all emails that mention specific words, such as \"sell enron stock\".\n",
        "\n",
        "By using string operations on dataframes, you can easily sift through messy email data and create flags based on word-hits. The Enron email data has been put into a dataframe called `df` so let's search for suspicious terms. Feel free to explore `df` in the Console before getting started.\n",
        "\n",
        "**Instructions 1/2**\n",
        "\n",
        "* Check the head of `df` in the console and look for any emails mentioning 'sell enron stock'."
      ]
    },
    {
      "cell_type": "code",
      "execution_count": 229,
      "metadata": {
        "tags": [],
        "id": "dc9-YZ_OPGwv"
      },
      "outputs": [],
      "source": [
        "df = pd.read_csv(enron_emails_clean_file)"
      ]
    },
    {
      "cell_type": "code",
      "execution_count": 230,
      "metadata": {
        "tags": [],
        "id": "8GHXevCpPGwv"
      },
      "outputs": [],
      "source": [
        "mask = df['clean_content'].str.contains('sell enron stock', na=False)"
      ]
    },
    {
      "cell_type": "markdown",
      "metadata": {
        "id": "5lXAr-WyPGwv"
      },
      "source": [
        "**Instructions 2/2**\n",
        "\n",
        "* Locate the data in `df` that meets the condition we created earlier."
      ]
    },
    {
      "cell_type": "code",
      "execution_count": 231,
      "metadata": {
        "tags": [],
        "colab": {
          "base_uri": "https://localhost:8080/",
          "height": 98
        },
        "id": "1pQdB3YNPGwv",
        "outputId": "37fdbd92-3688-4c25-ea37-488e115aa4ae"
      },
      "outputs": [
        {
          "output_type": "execute_result",
          "data": {
            "text/plain": [
              "                                       Message-ID                        From  \\\n",
              "154  <6336501.1075841154311.JavaMail.evans@thyme>  ('sarah.palmer@enron.com')   \n",
              "\n",
              "                             To                 Date  \\\n",
              "154  ('sarah.palmer@enron.com')  2002-02-01 14:53:35   \n",
              "\n",
              "                                               content  \\\n",
              "154  \\nJoint Venture: A 1997 Enron Meeting Belies O...   \n",
              "\n",
              "                                         clean_content  \n",
              "154  joint venture enron meeting belies officers cl...  "
            ],
            "text/html": [
              "\n",
              "  <div id=\"df-cdd67238-9c19-4369-aa5a-69845f16c6d7\" class=\"colab-df-container\">\n",
              "    <div>\n",
              "<style scoped>\n",
              "    .dataframe tbody tr th:only-of-type {\n",
              "        vertical-align: middle;\n",
              "    }\n",
              "\n",
              "    .dataframe tbody tr th {\n",
              "        vertical-align: top;\n",
              "    }\n",
              "\n",
              "    .dataframe thead th {\n",
              "        text-align: right;\n",
              "    }\n",
              "</style>\n",
              "<table border=\"1\" class=\"dataframe\">\n",
              "  <thead>\n",
              "    <tr style=\"text-align: right;\">\n",
              "      <th></th>\n",
              "      <th>Message-ID</th>\n",
              "      <th>From</th>\n",
              "      <th>To</th>\n",
              "      <th>Date</th>\n",
              "      <th>content</th>\n",
              "      <th>clean_content</th>\n",
              "    </tr>\n",
              "  </thead>\n",
              "  <tbody>\n",
              "    <tr>\n",
              "      <th>154</th>\n",
              "      <td>&lt;6336501.1075841154311.JavaMail.evans@thyme&gt;</td>\n",
              "      <td>('sarah.palmer@enron.com')</td>\n",
              "      <td>('sarah.palmer@enron.com')</td>\n",
              "      <td>2002-02-01 14:53:35</td>\n",
              "      <td>\\nJoint Venture: A 1997 Enron Meeting Belies O...</td>\n",
              "      <td>joint venture enron meeting belies officers cl...</td>\n",
              "    </tr>\n",
              "  </tbody>\n",
              "</table>\n",
              "</div>\n",
              "    <div class=\"colab-df-buttons\">\n",
              "\n",
              "  <div class=\"colab-df-container\">\n",
              "    <button class=\"colab-df-convert\" onclick=\"convertToInteractive('df-cdd67238-9c19-4369-aa5a-69845f16c6d7')\"\n",
              "            title=\"Convert this dataframe to an interactive table.\"\n",
              "            style=\"display:none;\">\n",
              "\n",
              "  <svg xmlns=\"http://www.w3.org/2000/svg\" height=\"24px\" viewBox=\"0 -960 960 960\">\n",
              "    <path d=\"M120-120v-720h720v720H120Zm60-500h600v-160H180v160Zm220 220h160v-160H400v160Zm0 220h160v-160H400v160ZM180-400h160v-160H180v160Zm440 0h160v-160H620v160ZM180-180h160v-160H180v160Zm440 0h160v-160H620v160Z\"/>\n",
              "  </svg>\n",
              "    </button>\n",
              "\n",
              "  <style>\n",
              "    .colab-df-container {\n",
              "      display:flex;\n",
              "      gap: 12px;\n",
              "    }\n",
              "\n",
              "    .colab-df-convert {\n",
              "      background-color: #E8F0FE;\n",
              "      border: none;\n",
              "      border-radius: 50%;\n",
              "      cursor: pointer;\n",
              "      display: none;\n",
              "      fill: #1967D2;\n",
              "      height: 32px;\n",
              "      padding: 0 0 0 0;\n",
              "      width: 32px;\n",
              "    }\n",
              "\n",
              "    .colab-df-convert:hover {\n",
              "      background-color: #E2EBFA;\n",
              "      box-shadow: 0px 1px 2px rgba(60, 64, 67, 0.3), 0px 1px 3px 1px rgba(60, 64, 67, 0.15);\n",
              "      fill: #174EA6;\n",
              "    }\n",
              "\n",
              "    .colab-df-buttons div {\n",
              "      margin-bottom: 4px;\n",
              "    }\n",
              "\n",
              "    [theme=dark] .colab-df-convert {\n",
              "      background-color: #3B4455;\n",
              "      fill: #D2E3FC;\n",
              "    }\n",
              "\n",
              "    [theme=dark] .colab-df-convert:hover {\n",
              "      background-color: #434B5C;\n",
              "      box-shadow: 0px 1px 3px 1px rgba(0, 0, 0, 0.15);\n",
              "      filter: drop-shadow(0px 1px 2px rgba(0, 0, 0, 0.3));\n",
              "      fill: #FFFFFF;\n",
              "    }\n",
              "  </style>\n",
              "\n",
              "    <script>\n",
              "      const buttonEl =\n",
              "        document.querySelector('#df-cdd67238-9c19-4369-aa5a-69845f16c6d7 button.colab-df-convert');\n",
              "      buttonEl.style.display =\n",
              "        google.colab.kernel.accessAllowed ? 'block' : 'none';\n",
              "\n",
              "      async function convertToInteractive(key) {\n",
              "        const element = document.querySelector('#df-cdd67238-9c19-4369-aa5a-69845f16c6d7');\n",
              "        const dataTable =\n",
              "          await google.colab.kernel.invokeFunction('convertToInteractive',\n",
              "                                                    [key], {});\n",
              "        if (!dataTable) return;\n",
              "\n",
              "        const docLinkHtml = 'Like what you see? Visit the ' +\n",
              "          '<a target=\"_blank\" href=https://colab.research.google.com/notebooks/data_table.ipynb>data table notebook</a>'\n",
              "          + ' to learn more about interactive tables.';\n",
              "        element.innerHTML = '';\n",
              "        dataTable['output_type'] = 'display_data';\n",
              "        await google.colab.output.renderOutput(dataTable, element);\n",
              "        const docLink = document.createElement('div');\n",
              "        docLink.innerHTML = docLinkHtml;\n",
              "        element.appendChild(docLink);\n",
              "      }\n",
              "    </script>\n",
              "  </div>\n",
              "\n",
              "    </div>\n",
              "  </div>\n"
            ],
            "application/vnd.google.colaboratory.intrinsic+json": {
              "type": "dataframe",
              "repr_error": "0"
            }
          },
          "metadata": {},
          "execution_count": 231
        }
      ],
      "source": [
        "# Select the data from df using the mask\n",
        "df[mask]"
      ]
    },
    {
      "cell_type": "markdown",
      "metadata": {
        "id": "ecrt-USvPGwv"
      },
      "source": [
        "**You see that searching for particular string values in a dataframe can be relatively easy, and allows you to include textual data into your model or analysis. You can use this word search as an additional flag, or as a feature in your fraud detection model. Let's look at how to filter the data using multiple search terms.**"
      ]
    },
    {
      "cell_type": "markdown",
      "metadata": {
        "id": "p2TmLYZTPGwv"
      },
      "source": [
        "### Using list of terms\n",
        "\n",
        "Oftentimes you don't want to search on just one term. You probably can create a full **\"fraud dictionary\"** of terms that could potentially **flag fraudulent clients** and/or transactions. Fraud analysts often will have an idea what should be in such a dictionary. In this exercise you're going to **flag a multitude of terms**, and in the next exercise you'll create a new flag variable out of it. The 'flag' can be used either directly in a machine learning model as a feature, or as an additional filter on top of your machine learning model results. Let's first use a list of terms to filter our data on. The dataframe containing the cleaned emails is again available as `df`.\n",
        "\n",
        "**Instructions**\n",
        "\n",
        "* Create a list to search for including 'enron stock', 'sell stock', 'stock bonus', and 'sell enron stock'.\n",
        "* Join the string terms in the search conditions.\n",
        "* Filter data using the emails that match with the list defined under `searchfor`."
      ]
    },
    {
      "cell_type": "code",
      "execution_count": 232,
      "metadata": {
        "tags": [],
        "colab": {
          "base_uri": "https://localhost:8080/",
          "height": 293
        },
        "id": "BBNKCdaXPGwv",
        "outputId": "12f6d930-bdaf-47d9-b263-c6f5034a4157"
      },
      "outputs": [
        {
          "output_type": "execute_result",
          "data": {
            "text/plain": [
              "                                      Message-ID  \\\n",
              "0   <8345058.1075840404046.JavaMail.evans@thyme>   \n",
              "1   <1512159.1075863666797.JavaMail.evans@thyme>   \n",
              "2  <26118676.1075862176383.JavaMail.evans@thyme>   \n",
              "3  <10369289.1075860831062.JavaMail.evans@thyme>   \n",
              "4  <26728895.1075860815046.JavaMail.evans@thyme>   \n",
              "\n",
              "                              From                               To  \\\n",
              "0  ('advdfeedback@investools.com')  ('advdfeedback@investools.com')   \n",
              "1    ('richard.sanders@enron.com')    ('richard.sanders@enron.com')   \n",
              "2            ('m..love@enron.com')            ('m..love@enron.com')   \n",
              "3     ('leslie.milosevich@kp.org')     ('leslie.milosevich@kp.org')   \n",
              "4     ('rtwait@graphicaljazz.com')     ('rtwait@graphicaljazz.com')   \n",
              "\n",
              "                  Date                                            content  \\\n",
              "0  2002-01-29 23:20:55  INVESTools Advisory\\nA Free Digest of Trusted ...   \n",
              "1  2000-09-20 19:07:00  ----- Forwarded by Richard B Sanders/HOU/ECT o...   \n",
              "2  2001-10-30 16:15:17  hey you are not wearing your target purple shi...   \n",
              "3  2002-01-30 17:54:18  Leslie Milosevich\\n1042 Santa Clara Avenue\\nAl...   \n",
              "4  2002-01-30 19:36:01  Rini Twait\\n1010 E 5th Ave\\nLongmont, CO 80501...   \n",
              "\n",
              "                                       clean_content  \n",
              "0  investools advisory free digest trusted invest...  \n",
              "1  forwarded richard b sanders hou ect pm justin ...  \n",
              "2  hey wearing target purple shirt today mine wan...  \n",
              "3  leslie milosevich santa clara avenue alameda c...  \n",
              "4  rini twait e th ave longmont co rtwait graphic...  "
            ],
            "text/html": [
              "\n",
              "  <div id=\"df-04513c75-ca61-4f99-a624-fa596250a067\" class=\"colab-df-container\">\n",
              "    <div>\n",
              "<style scoped>\n",
              "    .dataframe tbody tr th:only-of-type {\n",
              "        vertical-align: middle;\n",
              "    }\n",
              "\n",
              "    .dataframe tbody tr th {\n",
              "        vertical-align: top;\n",
              "    }\n",
              "\n",
              "    .dataframe thead th {\n",
              "        text-align: right;\n",
              "    }\n",
              "</style>\n",
              "<table border=\"1\" class=\"dataframe\">\n",
              "  <thead>\n",
              "    <tr style=\"text-align: right;\">\n",
              "      <th></th>\n",
              "      <th>Message-ID</th>\n",
              "      <th>From</th>\n",
              "      <th>To</th>\n",
              "      <th>Date</th>\n",
              "      <th>content</th>\n",
              "      <th>clean_content</th>\n",
              "    </tr>\n",
              "  </thead>\n",
              "  <tbody>\n",
              "    <tr>\n",
              "      <th>0</th>\n",
              "      <td>&lt;8345058.1075840404046.JavaMail.evans@thyme&gt;</td>\n",
              "      <td>('advdfeedback@investools.com')</td>\n",
              "      <td>('advdfeedback@investools.com')</td>\n",
              "      <td>2002-01-29 23:20:55</td>\n",
              "      <td>INVESTools Advisory\\nA Free Digest of Trusted ...</td>\n",
              "      <td>investools advisory free digest trusted invest...</td>\n",
              "    </tr>\n",
              "    <tr>\n",
              "      <th>1</th>\n",
              "      <td>&lt;1512159.1075863666797.JavaMail.evans@thyme&gt;</td>\n",
              "      <td>('richard.sanders@enron.com')</td>\n",
              "      <td>('richard.sanders@enron.com')</td>\n",
              "      <td>2000-09-20 19:07:00</td>\n",
              "      <td>----- Forwarded by Richard B Sanders/HOU/ECT o...</td>\n",
              "      <td>forwarded richard b sanders hou ect pm justin ...</td>\n",
              "    </tr>\n",
              "    <tr>\n",
              "      <th>2</th>\n",
              "      <td>&lt;26118676.1075862176383.JavaMail.evans@thyme&gt;</td>\n",
              "      <td>('m..love@enron.com')</td>\n",
              "      <td>('m..love@enron.com')</td>\n",
              "      <td>2001-10-30 16:15:17</td>\n",
              "      <td>hey you are not wearing your target purple shi...</td>\n",
              "      <td>hey wearing target purple shirt today mine wan...</td>\n",
              "    </tr>\n",
              "    <tr>\n",
              "      <th>3</th>\n",
              "      <td>&lt;10369289.1075860831062.JavaMail.evans@thyme&gt;</td>\n",
              "      <td>('leslie.milosevich@kp.org')</td>\n",
              "      <td>('leslie.milosevich@kp.org')</td>\n",
              "      <td>2002-01-30 17:54:18</td>\n",
              "      <td>Leslie Milosevich\\n1042 Santa Clara Avenue\\nAl...</td>\n",
              "      <td>leslie milosevich santa clara avenue alameda c...</td>\n",
              "    </tr>\n",
              "    <tr>\n",
              "      <th>4</th>\n",
              "      <td>&lt;26728895.1075860815046.JavaMail.evans@thyme&gt;</td>\n",
              "      <td>('rtwait@graphicaljazz.com')</td>\n",
              "      <td>('rtwait@graphicaljazz.com')</td>\n",
              "      <td>2002-01-30 19:36:01</td>\n",
              "      <td>Rini Twait\\n1010 E 5th Ave\\nLongmont, CO 80501...</td>\n",
              "      <td>rini twait e th ave longmont co rtwait graphic...</td>\n",
              "    </tr>\n",
              "  </tbody>\n",
              "</table>\n",
              "</div>\n",
              "    <div class=\"colab-df-buttons\">\n",
              "\n",
              "  <div class=\"colab-df-container\">\n",
              "    <button class=\"colab-df-convert\" onclick=\"convertToInteractive('df-04513c75-ca61-4f99-a624-fa596250a067')\"\n",
              "            title=\"Convert this dataframe to an interactive table.\"\n",
              "            style=\"display:none;\">\n",
              "\n",
              "  <svg xmlns=\"http://www.w3.org/2000/svg\" height=\"24px\" viewBox=\"0 -960 960 960\">\n",
              "    <path d=\"M120-120v-720h720v720H120Zm60-500h600v-160H180v160Zm220 220h160v-160H400v160Zm0 220h160v-160H400v160ZM180-400h160v-160H180v160Zm440 0h160v-160H620v160ZM180-180h160v-160H180v160Zm440 0h160v-160H620v160Z\"/>\n",
              "  </svg>\n",
              "    </button>\n",
              "\n",
              "  <style>\n",
              "    .colab-df-container {\n",
              "      display:flex;\n",
              "      gap: 12px;\n",
              "    }\n",
              "\n",
              "    .colab-df-convert {\n",
              "      background-color: #E8F0FE;\n",
              "      border: none;\n",
              "      border-radius: 50%;\n",
              "      cursor: pointer;\n",
              "      display: none;\n",
              "      fill: #1967D2;\n",
              "      height: 32px;\n",
              "      padding: 0 0 0 0;\n",
              "      width: 32px;\n",
              "    }\n",
              "\n",
              "    .colab-df-convert:hover {\n",
              "      background-color: #E2EBFA;\n",
              "      box-shadow: 0px 1px 2px rgba(60, 64, 67, 0.3), 0px 1px 3px 1px rgba(60, 64, 67, 0.15);\n",
              "      fill: #174EA6;\n",
              "    }\n",
              "\n",
              "    .colab-df-buttons div {\n",
              "      margin-bottom: 4px;\n",
              "    }\n",
              "\n",
              "    [theme=dark] .colab-df-convert {\n",
              "      background-color: #3B4455;\n",
              "      fill: #D2E3FC;\n",
              "    }\n",
              "\n",
              "    [theme=dark] .colab-df-convert:hover {\n",
              "      background-color: #434B5C;\n",
              "      box-shadow: 0px 1px 3px 1px rgba(0, 0, 0, 0.15);\n",
              "      filter: drop-shadow(0px 1px 2px rgba(0, 0, 0, 0.3));\n",
              "      fill: #FFFFFF;\n",
              "    }\n",
              "  </style>\n",
              "\n",
              "    <script>\n",
              "      const buttonEl =\n",
              "        document.querySelector('#df-04513c75-ca61-4f99-a624-fa596250a067 button.colab-df-convert');\n",
              "      buttonEl.style.display =\n",
              "        google.colab.kernel.accessAllowed ? 'block' : 'none';\n",
              "\n",
              "      async function convertToInteractive(key) {\n",
              "        const element = document.querySelector('#df-04513c75-ca61-4f99-a624-fa596250a067');\n",
              "        const dataTable =\n",
              "          await google.colab.kernel.invokeFunction('convertToInteractive',\n",
              "                                                    [key], {});\n",
              "        if (!dataTable) return;\n",
              "\n",
              "        const docLinkHtml = 'Like what you see? Visit the ' +\n",
              "          '<a target=\"_blank\" href=https://colab.research.google.com/notebooks/data_table.ipynb>data table notebook</a>'\n",
              "          + ' to learn more about interactive tables.';\n",
              "        element.innerHTML = '';\n",
              "        dataTable['output_type'] = 'display_data';\n",
              "        await google.colab.output.renderOutput(dataTable, element);\n",
              "        const docLink = document.createElement('div');\n",
              "        docLink.innerHTML = docLinkHtml;\n",
              "        element.appendChild(docLink);\n",
              "      }\n",
              "    </script>\n",
              "  </div>\n",
              "\n",
              "\n",
              "<div id=\"df-de6c142c-1a70-474c-9603-33ad94550714\">\n",
              "  <button class=\"colab-df-quickchart\" onclick=\"quickchart('df-de6c142c-1a70-474c-9603-33ad94550714')\"\n",
              "            title=\"Suggest charts\"\n",
              "            style=\"display:none;\">\n",
              "\n",
              "<svg xmlns=\"http://www.w3.org/2000/svg\" height=\"24px\"viewBox=\"0 0 24 24\"\n",
              "     width=\"24px\">\n",
              "    <g>\n",
              "        <path d=\"M19 3H5c-1.1 0-2 .9-2 2v14c0 1.1.9 2 2 2h14c1.1 0 2-.9 2-2V5c0-1.1-.9-2-2-2zM9 17H7v-7h2v7zm4 0h-2V7h2v10zm4 0h-2v-4h2v4z\"/>\n",
              "    </g>\n",
              "</svg>\n",
              "  </button>\n",
              "\n",
              "<style>\n",
              "  .colab-df-quickchart {\n",
              "      --bg-color: #E8F0FE;\n",
              "      --fill-color: #1967D2;\n",
              "      --hover-bg-color: #E2EBFA;\n",
              "      --hover-fill-color: #174EA6;\n",
              "      --disabled-fill-color: #AAA;\n",
              "      --disabled-bg-color: #DDD;\n",
              "  }\n",
              "\n",
              "  [theme=dark] .colab-df-quickchart {\n",
              "      --bg-color: #3B4455;\n",
              "      --fill-color: #D2E3FC;\n",
              "      --hover-bg-color: #434B5C;\n",
              "      --hover-fill-color: #FFFFFF;\n",
              "      --disabled-bg-color: #3B4455;\n",
              "      --disabled-fill-color: #666;\n",
              "  }\n",
              "\n",
              "  .colab-df-quickchart {\n",
              "    background-color: var(--bg-color);\n",
              "    border: none;\n",
              "    border-radius: 50%;\n",
              "    cursor: pointer;\n",
              "    display: none;\n",
              "    fill: var(--fill-color);\n",
              "    height: 32px;\n",
              "    padding: 0;\n",
              "    width: 32px;\n",
              "  }\n",
              "\n",
              "  .colab-df-quickchart:hover {\n",
              "    background-color: var(--hover-bg-color);\n",
              "    box-shadow: 0 1px 2px rgba(60, 64, 67, 0.3), 0 1px 3px 1px rgba(60, 64, 67, 0.15);\n",
              "    fill: var(--button-hover-fill-color);\n",
              "  }\n",
              "\n",
              "  .colab-df-quickchart-complete:disabled,\n",
              "  .colab-df-quickchart-complete:disabled:hover {\n",
              "    background-color: var(--disabled-bg-color);\n",
              "    fill: var(--disabled-fill-color);\n",
              "    box-shadow: none;\n",
              "  }\n",
              "\n",
              "  .colab-df-spinner {\n",
              "    border: 2px solid var(--fill-color);\n",
              "    border-color: transparent;\n",
              "    border-bottom-color: var(--fill-color);\n",
              "    animation:\n",
              "      spin 1s steps(1) infinite;\n",
              "  }\n",
              "\n",
              "  @keyframes spin {\n",
              "    0% {\n",
              "      border-color: transparent;\n",
              "      border-bottom-color: var(--fill-color);\n",
              "      border-left-color: var(--fill-color);\n",
              "    }\n",
              "    20% {\n",
              "      border-color: transparent;\n",
              "      border-left-color: var(--fill-color);\n",
              "      border-top-color: var(--fill-color);\n",
              "    }\n",
              "    30% {\n",
              "      border-color: transparent;\n",
              "      border-left-color: var(--fill-color);\n",
              "      border-top-color: var(--fill-color);\n",
              "      border-right-color: var(--fill-color);\n",
              "    }\n",
              "    40% {\n",
              "      border-color: transparent;\n",
              "      border-right-color: var(--fill-color);\n",
              "      border-top-color: var(--fill-color);\n",
              "    }\n",
              "    60% {\n",
              "      border-color: transparent;\n",
              "      border-right-color: var(--fill-color);\n",
              "    }\n",
              "    80% {\n",
              "      border-color: transparent;\n",
              "      border-right-color: var(--fill-color);\n",
              "      border-bottom-color: var(--fill-color);\n",
              "    }\n",
              "    90% {\n",
              "      border-color: transparent;\n",
              "      border-bottom-color: var(--fill-color);\n",
              "    }\n",
              "  }\n",
              "</style>\n",
              "\n",
              "  <script>\n",
              "    async function quickchart(key) {\n",
              "      const quickchartButtonEl =\n",
              "        document.querySelector('#' + key + ' button');\n",
              "      quickchartButtonEl.disabled = true;  // To prevent multiple clicks.\n",
              "      quickchartButtonEl.classList.add('colab-df-spinner');\n",
              "      try {\n",
              "        const charts = await google.colab.kernel.invokeFunction(\n",
              "            'suggestCharts', [key], {});\n",
              "      } catch (error) {\n",
              "        console.error('Error during call to suggestCharts:', error);\n",
              "      }\n",
              "      quickchartButtonEl.classList.remove('colab-df-spinner');\n",
              "      quickchartButtonEl.classList.add('colab-df-quickchart-complete');\n",
              "    }\n",
              "    (() => {\n",
              "      let quickchartButtonEl =\n",
              "        document.querySelector('#df-de6c142c-1a70-474c-9603-33ad94550714 button');\n",
              "      quickchartButtonEl.style.display =\n",
              "        google.colab.kernel.accessAllowed ? 'block' : 'none';\n",
              "    })();\n",
              "  </script>\n",
              "</div>\n",
              "    </div>\n",
              "  </div>\n"
            ],
            "application/vnd.google.colaboratory.intrinsic+json": {
              "type": "dataframe",
              "variable_name": "filtered_emails",
              "summary": "{\n  \"name\": \"filtered_emails\",\n  \"rows\": 314,\n  \"fields\": [\n    {\n      \"column\": \"Message-ID\",\n      \"properties\": {\n        \"dtype\": \"string\",\n        \"num_unique_values\": 313,\n        \"samples\": [\n          \"<33512600.1075840025938.JavaMail.evans@thyme>\",\n          \"<6656919.1075860824395.JavaMail.evans@thyme>\",\n          \"<22746396.1075852815145.JavaMail.evans@thyme>\"\n        ],\n        \"semantic_type\": \"\",\n        \"description\": \"\"\n      }\n    },\n    {\n      \"column\": \"From\",\n      \"properties\": {\n        \"dtype\": \"string\",\n        \"num_unique_values\": 226,\n        \"samples\": [\n          \"('jbaldwin@aces.k12.ct.us')\",\n          \"('marl552@aol.com')\",\n          \"('tung@unc.edu')\"\n        ],\n        \"semantic_type\": \"\",\n        \"description\": \"\"\n      }\n    },\n    {\n      \"column\": \"To\",\n      \"properties\": {\n        \"dtype\": \"string\",\n        \"num_unique_values\": 226,\n        \"samples\": [\n          \"('jbaldwin@aces.k12.ct.us')\",\n          \"('marl552@aol.com')\",\n          \"('tung@unc.edu')\"\n        ],\n        \"semantic_type\": \"\",\n        \"description\": \"\"\n      }\n    },\n    {\n      \"column\": \"Date\",\n      \"properties\": {\n        \"dtype\": \"object\",\n        \"num_unique_values\": 230,\n        \"samples\": [\n          \"2001-10-24 21:38:14\",\n          \"2002-01-30 19:33:13\",\n          \"2002-01-30 17:48:01\"\n        ],\n        \"semantic_type\": \"\",\n        \"description\": \"\"\n      }\n    },\n    {\n      \"column\": \"content\",\n      \"properties\": {\n        \"dtype\": \"string\",\n        \"num_unique_values\": 256,\n        \"samples\": [\n          \"Jon Press\\n1463 Beacon Street\\nNewton, MA 02468\\njepress@aol.com\\n\\nTo Mr. Ken Lay,\\n\\nI'm writing to urge you to donate the millions of dollars you made from selling Enron stock before the company declared bankruptcy to funds, such as Enron Employee Transition Fund and REACH, that benefit the company's employees, who lost their retirement savings, and provide relief to low-income consumers in California, who can't afford to pay their energy bills.  Enron and you made millions out of the pocketbooks of California consumers and from the efforts of your employees.\\n\\nIndeed, while you netted well over a $100 million, many of Enron's employees were financially devastated when the company declared bankruptcy and their retirement plans were wiped out.  And Enron made an astronomical profit during the California energy crisis last year.  As a result, there are thousands of consumers who are unable to pay their basic energy bills and the largest utility in the state is bankrupt.\\n\\nThe New York Times reported that you sold $101 million worth of Enron stock while aggressively urging the company's employees to keep buying it.  Please donate this money to the funds set up to help repair the lives of those Americans hurt by Enron's underhanded dealings.\\n\\nSincerely,\\n\\nJon Press\",\n          \"Dear Mr. Whalley,\\n\\nI hope that you will take the time to read the content of my message below\\nsent to Dynegy this afternoon before too much more time elapses.\\n\\nI understand that you are a military academy graduate and an ex-Armored\\nCorps Officer. I share a similar background to your own though my academy\\nwas RMA Sandhurst in England and I am ex-Artillery. What we should have in\\ncommon, I trust, is the knowledge that men need to be led. Many men and\\nwomen employed by Enron are presently feeling that they are without\\nLeadership and that they have been deserted. This is not an exagerration. I\\ntrust that you have retained your leadership skills and will exercise them\\nwithout further delay. The people need a champion.\\n\\nSincerely,\\n\\nJulian Langham\\n\\n -----Original Message-----\\nFrom: \\tJulian Langham [mailto:jlangham@kern-search.com]\\nSent:\\tTuesday, November 13, 2001 3:57 PM\\nTo:\\t'ir@dynegy.com'\\nSubject:\\tThis should be cause for Senior Management's concern!\\n\\nThis is directed to the Head of Investor Relations\\n\\nI am sending this email as a Shareholder of a significant quantity of both\\nDynegy and Enron stock and only hope it reaches someone in the upper\\nechelon's of Dynegy management. I will also be sending this directly to Greg\\nWhalley at Enron Corp. I am an Executive Recruiter working for a\\nHouston-based Search Firm that recruits professionals for Enron. I do not\\nrecruit personnel out of Enron for placement elsewhere. However, in the past\\nten days, our Firm has been deluged with telephone calls and resumes from\\npower, gas and other commodity traders, marketers, originators, risk,\\nmid-office and back office personnel from Enron and, to a lesser extent,\\nDynegy, from lower level specialists to Directors wanting us to find them\\nemployment elsewhere. We have asked all of them what their motivation is\\nand, almost to the last, it's not that they want to \\\"jump ship\\\" because they\\ndon't want to go to work for Dynegy, it's because they don't know what's\\nhappening. No one from the top of their respective companies is talking to\\nthem. They say there is this huge vacuum of any information at all and they\\nare wondering \\\"where are the Leaders to reassure us\\\"?\\n\\nThe Houston Chronicle today reports in an article that the two companies\\nwant to make certain that key executives and traders in particular are kept\\n\\\"on board\\\" the new company. We just want you to know that apparently you're\\nnot doing a very good job of it and that you are risking losing some of the\\nbest and brightest that your two firms employ and that you need to do\\nsomething about it...and do it now! Please!\\n\\nSincerely yours,\\n\\nJulian Langham\",\n          \"Jeffrey,\\n\\nCongratulations on the Business Week cover; very nice.\\n\\nThings going along at a dizzying clip here; I will be proposing to Sukran o=\\nn=20\\nWednesday evening (our two year meeting anniversary)?at a great little, new=\\nly=20\\nfound (by me at least) restaurant in my neighborhood. I have hired a fasil=\\n=20\\n(classic Ottoman music) band to serenade us at our table, etc. If all goes=\\n=20\\nwell (and there are lots of little hurdles to be leapt) looking at an early=\\n=20\\nJune wedding. Yikes!=20\\n\\nAt the same time think I have found a fantastic place here on the Asian sid=\\ne=20\\nover looking the Bosphorus. Not a sure thing, as have to make sure to=20\\nminimize the many risks. But if it works out it=01,s a house for a lifetime=\\n.=20\\nReally special; it even has a 2d class historical rating, which means among=\\n=20\\nother things it would be tax-free for five years. Would be the house that (=\\nmy=20\\n) Enron (stock) bought.\\n\\nHope all goes well. Still haven't broken all of the above news to mom and=\\n=20\\ndad, though will need to do that soon as well.\\n\\nSay hey to Rebecca and the kids.\\n\\nWith love.\\n\\nMark=20\\n\\n\\n\\nGet Your Private, Free E-mail from MSN Hotmail at http://www.hotmail.com.\"\n        ],\n        \"semantic_type\": \"\",\n        \"description\": \"\"\n      }\n    },\n    {\n      \"column\": \"clean_content\",\n      \"properties\": {\n        \"dtype\": \"string\",\n        \"num_unique_values\": 254,\n        \"samples\": [\n          \"wanda kriner hunter huntertown meemaw home com mr ken lay writing urge donate millions dollars made selling enron stock company declared bankruptcy funds enron employee transition fund reach benefit company employees lost retirement savings provide relief low income consumers california afford pay energy bills enron made millions pocketbooks california consumers efforts employees indeed netted well million many enron employees financially devastated company declared bankruptcy retirement plans wiped enron made astronomical profit california energy crisis last year result thousands consumers unable pay basic energy bills largest utility state bankrupt new york times reported sold million worth enron stock aggressively urging company employees keep buying please donate money funds set help repair lives americans hurt enron underhanded dealings sincerely wanda kriner\",\n          \"dear mr whalley hope take time read content message sent dynegy afternoon much time elapses understand military academy graduate ex armored corps officer share similar background though academy rma sandhurst england ex artillery common trust knowledge men need led many men women employed enron presently feeling without leadership deserted exagerration trust retained leadership skills exercise without delay people need champion sincerely julian langham original message julian langham mailto jlangham kern search com sent tuesday november pm ir dynegy com subject cause senior management concern directed head investor relations sending email shareholder significant quantity dynegy enron stock hope reaches someone upper echelon dynegy management also sending directly greg whalley enron corp executive recruiter working houston based search firm recruits professionals enron recruit personnel enron placement elsewhere however past ten days firm deluged telephone calls resumes power gas commodity traders marketers originators risk mid office back office personnel enron lesser extent dynegy lower level specialists directors wanting us find employment elsewhere asked motivation almost last want jump ship want go work dynegy know happening one top respective companies talking say huge vacuum information wondering leaders reassure us houston chronicle today reports article two companies want make certain key executives traders particular kept board new company want know apparently good job risking losing best brightest two firms employ need something please sincerely julian langham\",\n          \"long enron stock desks colleagues feel free share info hunter chris clayton vernon enron pm john arnold hou ect ect cc subject turf john name clayton vernon manager models forecasts east power trading reporting lloyd helping research toim barkley data visualization tool eol trades wanted know like make product helpful like also let colleagues chris gaskill hunter shively avail themsevles tool need find desks colleagues things shape competitors since trades enron desks chris hunter see synopses eol gas trades fact clayton vernon\"\n        ],\n        \"semantic_type\": \"\",\n        \"description\": \"\"\n      }\n    }\n  ]\n}"
            }
          },
          "metadata": {},
          "execution_count": 232
        }
      ],
      "source": [
        "# Create a list of terms to search for\n",
        "searchfor = ['enron stock', 'sell stock', 'stock bonus', 'sell enron stock']\n",
        "\n",
        "# Filter cleaned emails on searchfor list and select from df\n",
        "filtered_emails = df[df.clean_content.str.contains('|'.join(searchfor), na=False)]\n",
        "filtered_emails.head()"
      ]
    },
    {
      "cell_type": "markdown",
      "metadata": {
        "id": "s61eMhjSPGwv"
      },
      "source": [
        "**By joining the search terms with the 'or' sign, i.e. |, you can search on a multitude of terms in your dataset very easily. Let's now create a flag from this which you can use as a feature in a machine learning model.**"
      ]
    },
    {
      "cell_type": "markdown",
      "metadata": {
        "id": "bfk_DfZYPGwv"
      },
      "source": [
        "### Creating a flag\n",
        "\n",
        "This time you are going to **create an actual flag** variable that gives a **1 when the emails get a hit** on the search terms of interest, and 0 otherwise. This is the last step you need to make in order to actually use the text data content as a feature in a machine learning model, or as an actual flag on top of model results. You can continue working with the dataframe `df` containing the emails, and the `searchfor` list is the one defined in the last exercise.\n",
        "\n",
        "**Instructions**\n",
        "\n",
        "* Use a numpy where condition to flag '1' where the cleaned email contains words on the `searchfor` list and 0 otherwise.\n",
        "* Join the words on the `searchfor` list with an \"or\" indicator.\n",
        "* Count the values of the newly created flag variable."
      ]
    },
    {
      "cell_type": "code",
      "execution_count": 233,
      "metadata": {
        "tags": [],
        "colab": {
          "base_uri": "https://localhost:8080/"
        },
        "id": "KFD_xTYBPGwv",
        "outputId": "204e89ed-7329-4ab8-c668-e201bbf385d2"
      },
      "outputs": [
        {
          "output_type": "stream",
          "name": "stdout",
          "text": [
            "0    1776\n",
            "1     314\n",
            "Name: flag, dtype: int64\n"
          ]
        }
      ],
      "source": [
        "# Create flag variable where the emails match the searchfor terms\n",
        "df['flag'] = np.where((df['clean_content'].str.contains('|'.join(searchfor)) == True), 1, 0)\n",
        "\n",
        "# Count the values of the flag variable\n",
        "count = df['flag'].value_counts()\n",
        "print(count)"
      ]
    },
    {
      "cell_type": "markdown",
      "metadata": {
        "id": "9x89qOiDPGwv"
      },
      "source": [
        "**You have now managed to search for a list of strings in several lines of text data. These skills come in handy when you want to flag certain words based on what you discovered in your topic model, or when you know beforehand what you want to search for. In the next exercises you're going to learn how to clean text data and to create your own topic model to further look for indications of fraud in your text data.**"
      ]
    },
    {
      "cell_type": "markdown",
      "metadata": {
        "id": "96zi_gGlPGwv"
      },
      "source": [
        "## Text mining to detect fraud"
      ]
    },
    {
      "cell_type": "markdown",
      "metadata": {
        "id": "hbqYdKYaPGwv"
      },
      "source": [
        "#### Cleaning your text data\n",
        "\n",
        "**Must dos when working with textual data:**\n",
        "\n",
        "1. Tokenization\n",
        "    * Split the text into sentences and the sentences in words\n",
        "    * transform everything to lowercase\n",
        "    * remove punctuation\n",
        "1. Remove all stopwords\n",
        "1. Lemmatize\n",
        "    * change from third person into first person\n",
        "    * change past and future tense verbs to present tense\n",
        "    * this makes it possible to combine all words that point to the same thing\n",
        "1. Stem the words\n",
        "    * reduce words to their root form\n",
        "    * e.g. walking and walked to walk\n",
        "\n",
        "* **Unprocessed Text**\n",
        "    * ![](https://raw.githubusercontent.com/trenton3983/DataCamp/master/Images/fraud_detection/text_df.JPG)\n",
        "* **Processed Text**\n",
        "    * ![](https://raw.githubusercontent.com/trenton3983/DataCamp/master/Images/fraud_detection/text_processed.JPG)"
      ]
    },
    {
      "cell_type": "markdown",
      "metadata": {
        "id": "0sG8Xwa6PGwv"
      },
      "source": [
        "#### Data Preprocessing I\n",
        "\n",
        "* Tokenizers divide strings into list of substrings\n",
        "* nltk word tokenizer can be used to find the words and punctuation in a string\n",
        "    * it splits the words on whitespace, and separated the punctuation out\n",
        "\n",
        "```python\n",
        "from nltk import word_tokenize\n",
        "from nltk.corpus import stopwords\n",
        "import string\n",
        "\n",
        "# 1. Tokenization\n",
        "text = df.apply(lambda row: word_tokenize(row[\"email_body\"]), axis=1)\n",
        "text = text.rstrip()  # remove whitespace\n",
        "# replace with lowercase\n",
        "# text = re.sub(r'[^a-zA-Z]', ' ', text)\n",
        "text = text.lower()\n",
        "\n",
        " # 2. Remove all stopwords and punctuation\n",
        "exclude = set(string.punctuation)\n",
        "stop = set(stopwords.words('english'))\n",
        "stop_free = \" \".join([word for word in text if((word not in stop) and (not word.isdigit()))])\n",
        "punc_free = ''.join(word for word in stop_free if word not in exclude)\n",
        "```"
      ]
    },
    {
      "cell_type": "markdown",
      "metadata": {
        "id": "wX7c4k3RPGwv"
      },
      "source": [
        "#### Data Preprocessing II\n",
        "\n",
        "```python\n",
        "from nltk.stem.wordnet import WordNetLemmatizer\n",
        "from nltk.stem.porter import PorterStemmer\n",
        "\n",
        "# Lemmatize words\n",
        "lemma = WordNetLemmatizer()\n",
        "normalized = \" \".join(lemma.lemmatize(word) for word in punc_free.split())\n",
        "\n",
        "# Stem words\n",
        "porter= PorterStemmer()\n",
        "cleaned_text = \" \".join(porter.stem(token) for token in normalized.split())\n",
        "print (cleaned_text)\n",
        "\n",
        "['philip','going','street','curious','hear','perspective','may','wish',\n",
        "'offer','trading','floor','enron','stock','lower','joined','company',\n",
        "'business','school','imagine','quite','happy','people','day','relate',\n",
        "'somewhat','stock','around','fact','broke','day','ago','knowing',\n",
        "'imagine','letting','event','get','much','taken','similar',\n",
        "'problem','hope','everything','else','going','well','family','knee',\n",
        "'surgery','yet','give','call','chance','later']\n",
        "```"
      ]
    },
    {
      "cell_type": "markdown",
      "metadata": {
        "id": "GffBLaCwPGwv"
      },
      "source": [
        "### Removing stopwords\n",
        "\n",
        "In the following exercises you're going to **clean the Enron emails**, in order to be able to use the data in a topic model. Text cleaning can be challenging, so you'll learn some steps to do this well. The dataframe containing the emails `df` is available. In a first step you need to **define the list of stopwords and punctuations** that are to be removed in the next exercise from the text data. Let's give it a try.\n",
        "\n",
        "**Instructions**\n",
        "\n",
        "* Import the stopwords from `ntlk`.\n",
        "* Define 'english' words to use as stopwords under the variable `stop`.\n",
        "* Get the punctuation set from the `string` package and assign it to `exclude`."
      ]
    },
    {
      "cell_type": "code",
      "source": [
        "# Доработка кода х2\n",
        "import nltk\n",
        "nltk.download('stopwords')\n",
        "nltk.download('wordnet')"
      ],
      "metadata": {
        "colab": {
          "base_uri": "https://localhost:8080/"
        },
        "id": "nj2f-gMhQ3q_",
        "outputId": "b156527a-5ed9-470b-beb6-a63a5ad55652"
      },
      "execution_count": 234,
      "outputs": [
        {
          "output_type": "stream",
          "name": "stderr",
          "text": [
            "[nltk_data] Downloading package stopwords to /root/nltk_data...\n",
            "[nltk_data]   Package stopwords is already up-to-date!\n",
            "[nltk_data] Downloading package wordnet to /root/nltk_data...\n",
            "[nltk_data]   Package wordnet is already up-to-date!\n"
          ]
        },
        {
          "output_type": "execute_result",
          "data": {
            "text/plain": [
              "True"
            ]
          },
          "metadata": {},
          "execution_count": 234
        }
      ]
    },
    {
      "cell_type": "code",
      "execution_count": 235,
      "metadata": {
        "tags": [],
        "id": "-_5AanrRPGwv"
      },
      "outputs": [],
      "source": [
        "# Define stopwords to exclude\n",
        "stop = set(stopwords.words('english'))\n",
        "stop.update((\"to\", \"cc\", \"subject\", \"http\", \"from\", \"sent\", \"ect\", \"u\", \"fwd\", \"www\", \"com\", 'html'))\n",
        "\n",
        "# Define punctuations to exclude and lemmatizer\n",
        "exclude = set(string.punctuation)"
      ]
    },
    {
      "cell_type": "markdown",
      "metadata": {
        "id": "F9IZArSvPGww"
      },
      "source": [
        "### Cleaning text data\n",
        "\n",
        "Now that you've defined the **stopwords and punctuations**, let's use these to clean our enron emails in the dataframe `df` further. The lists containing stopwords and punctuations are available under `stop` and `exclude` There are a few more steps to take before you have cleaned data, such as **\"lemmatization\"** of words, and **stemming the verbs**. The verbs in the email data are already stemmed, and the lemmatization is already done for you in this exercise.\n",
        "\n",
        "**Instructions 1/2**\n",
        "\n",
        "* Use the previously defined variables `stop` and `exclude` to finish of the function: Strip the words from whitespaces using `rstrip`, and exclude stopwords and punctuations. Finally lemmatize the words and assign that to `normalized`."
      ]
    },
    {
      "cell_type": "code",
      "execution_count": 236,
      "metadata": {
        "tags": [],
        "id": "j_ftAst8PGww"
      },
      "outputs": [],
      "source": [
        "# Import the lemmatizer from nltk\n",
        "lemma = WordNetLemmatizer()\n",
        "\n",
        "def clean(text, stop):\n",
        "    text = str(text).rstrip()\n",
        "    stop_free = \" \".join([i for i in text.lower().split() if((i not in stop) and (not i.isdigit()))])\n",
        "    punc_free = ''.join(i for i in stop_free if i not in exclude)\n",
        "    normalized = \" \".join(lemma.lemmatize(i) for i in punc_free.split())\n",
        "    return normalized"
      ]
    },
    {
      "cell_type": "markdown",
      "metadata": {
        "id": "SA5Yp4ANPGww"
      },
      "source": [
        "**Instructions 2/2**\n",
        "\n",
        "* Apply the function `clean(text,stop)` on each line of text data in our dataframe, and take the column `df['clean_content']` for this."
      ]
    },
    {
      "cell_type": "code",
      "execution_count": 237,
      "metadata": {
        "tags": [],
        "id": "U_095pURPGww"
      },
      "outputs": [],
      "source": [
        "# Clean the emails in df and print results\n",
        "text_clean=[]\n",
        "for text in df['clean_content']:\n",
        "    text_clean.append(clean(text, stop).split())"
      ]
    },
    {
      "cell_type": "code",
      "execution_count": 238,
      "metadata": {
        "tags": [],
        "colab": {
          "base_uri": "https://localhost:8080/"
        },
        "id": "yKUSlknTPGww",
        "outputId": "35473d4a-ef45-4239-b1b6-9ecb0efb846b"
      },
      "outputs": [
        {
          "output_type": "execute_result",
          "data": {
            "text/plain": [
              "['investools',\n",
              " 'advisory',\n",
              " 'free',\n",
              " 'digest',\n",
              " 'trusted',\n",
              " 'investment',\n",
              " 'advice',\n",
              " 'unsubscribe',\n",
              " 'free',\n",
              " 'newsletter']"
            ]
          },
          "metadata": {},
          "execution_count": 238
        }
      ],
      "source": [
        "text_clean[0][:10]"
      ]
    },
    {
      "cell_type": "markdown",
      "metadata": {
        "id": "APNOsRFtPGww"
      },
      "source": [
        "**Now that you have cleaned your data entirely with the necessary steps, including splitting the text into words, removing stopwords and punctuations, and lemmatizing your words. You are now ready to run a topic model on this data. In the following exercises you're going to explore how to do that.**"
      ]
    },
    {
      "cell_type": "markdown",
      "metadata": {
        "id": "KJPRSBVPPGww"
      },
      "source": [
        "## Topic modeling on fraud\n",
        "\n",
        "1. Discovering topics in text data\n",
        "1. \"What is the text about\"\n",
        "1. Conceptually similar to clustering data\n",
        "1. Compare topics of fraud cases to non-fraud cases and use as a feature or flag\n",
        "1. Or.. is there a particular topic in the data that seems to point to fraud?"
      ]
    },
    {
      "cell_type": "markdown",
      "metadata": {
        "id": "oyeXvXkbPGww"
      },
      "source": [
        "#### Latent Dirichlet Allocation (LDA)\n",
        "\n",
        "* With LDA you obtain:\n",
        "    * \"topics per text item\" model (i.e. probabilities)\n",
        "    * \"words per topic\" model\n",
        "* Creating your own topic model:\n",
        "    * Clean your data\n",
        "    * Create a bag of words with dictionary and corpus\n",
        "        * Dictionary contain words and word frequency from the entire text\n",
        "        * Corpus: word count for each line of text\n",
        "    * Feed dictionary and corpus into the LDA model\n",
        "* LDA:\n",
        "    * ![lda](https://raw.githubusercontent.com/trenton3983/DataCamp/master/Images/fraud_detection/lda.JPG)\n",
        "    1. [LDA2vec: Word Embeddings in Topic Models](https://www.datacamp.com/community/tutorials/lda2vec-topic-model)\n",
        "    1. see how each word in the dataset is associated with each topic\n",
        "    1. see how each text item in the data associates with topics (in the form of probabilities)\n",
        "        1. image on the right"
      ]
    },
    {
      "cell_type": "markdown",
      "metadata": {
        "id": "V83ONYFxPGww"
      },
      "source": [
        "#### Bag of words: dictionary and corpus\n",
        "\n",
        "* use the `Dictionary` function in `corpora` to create a `dict` from the text data\n",
        "    * contains word counts\n",
        "* filter out words that appear in less than 5 emails and keep only the 50000 most frequent words\n",
        "    * this is a way of cleaning the outlier noise\n",
        "* create the corpus, which for each email, counts the number of words and the count for each word (`doc2bow`)\n",
        "* `doc2bow`\n",
        "    * Document to Bag of Words\n",
        "    * converts text data into bag-of-words format\n",
        "    * each row is now a list of words with the associated word count\n",
        "    \n",
        "```python\n",
        "from gensim import corpora\n",
        "\n",
        " # Create dictionary number of times a word appears\n",
        "dictionary = corpora.Dictionary(cleaned_emails)\n",
        "\n",
        "# Filter out (non)frequent words\n",
        "dictionary.filter_extremes(no_below=5, keep_n=50000)\n",
        "\n",
        "# Create corpus\n",
        "corpus = [dictionary.doc2bow(text) for text in cleaned_emails]\n",
        "```"
      ]
    },
    {
      "cell_type": "markdown",
      "metadata": {
        "id": "rBex9HDdPGww"
      },
      "source": [
        "#### Latent Dirichlet Allocation (LDA) with gensim\n",
        "\n",
        "* Run the LDA model after cleaning the text date, and creating the dictionary and corpus\n",
        "* Pass the corpus and dictionary into the model\n",
        "* As with K-means, beforehand, pick the number of topics to obtain, even if there is uncertainty about what topics exist\n",
        "* The calculated LDA model, will contain the associated words for each topic, and topic scores per email\n",
        "* Use `print_topics` to obtain the top words from the topics\n",
        "\n",
        "```python\n",
        "import gensim\n",
        "\n",
        "# Define the LDA model\n",
        "ldamodel = gensim.models.ldamodel.LdaModel(corpus, num_topics = 3,\n",
        "id2word=dictionary, passes=15)\n",
        "\n",
        "# Print the three topics from the model with top words\n",
        "topics = ldamodel.print_topics(num_words=4)\n",
        "for topic in topics:\n",
        "    print(topic)\n",
        "\n",
        ">>> (0, '0.029*\"email\" + 0.016*\"send\" + 0.016*\"results\" + 0.016*\"invoice\"')\n",
        ">>> (1, '0.026*\"price\" + 0.026*\"work\" + 0.026*\"management\" + 0.026*\"sell\"')\n",
        ">>> (2, '0.029*\"distribute\" + 0.029*\"contact\" + 0.016*\"supply\" + 0.016*\"fast\"')\n",
        "```"
      ]
    },
    {
      "cell_type": "markdown",
      "metadata": {
        "id": "p9cXebo0PGww"
      },
      "source": [
        "### Create dictionary and corpus\n",
        "\n",
        "In order to run an LDA topic model, you first need to **define your dictionary and corpus** first, as those need to go into the model. You're going to continue working on the cleaned text data that you've done in the previous exercises. That means that `text_clean` is available for you already to continue working with, and you'll use that to create your dictionary and corpus.\n",
        "\n",
        "This exercise will take a little longer to execute than usual.\n",
        "\n",
        "**Instructions**\n",
        "\n",
        "* Import the gensim package and corpora from gensim separately.\n",
        "* Define your dictionary by running the correct function on your clean data `text_clean`.\n",
        "* Define the corpus by running `doc2bow` on each piece of text in `text_clean`.\n",
        "* Print your results so you can see `dictionary` and `corpus` look like."
      ]
    },
    {
      "cell_type": "code",
      "execution_count": 239,
      "metadata": {
        "tags": [],
        "id": "LyV02JyfPGww"
      },
      "outputs": [],
      "source": [
        "# Define the dictionary\n",
        "dictionary = corpora.Dictionary(text_clean)\n",
        "\n",
        "# Define the corpus\n",
        "corpus = [dictionary.doc2bow(text) for text in text_clean]"
      ]
    },
    {
      "cell_type": "code",
      "execution_count": 240,
      "metadata": {
        "tags": [],
        "colab": {
          "base_uri": "https://localhost:8080/"
        },
        "id": "P3lJciO4PGww",
        "outputId": "ff592155-fce8-4d2c-a7a8-b8e8a9e313f8"
      },
      "outputs": [
        {
          "output_type": "stream",
          "name": "stdout",
          "text": [
            "Dictionary<33980 unique tokens: ['account', 'accurate', 'acquiring', 'acre', 'address']...>\n"
          ]
        }
      ],
      "source": [
        "print(dictionary)"
      ]
    },
    {
      "cell_type": "code",
      "execution_count": 241,
      "metadata": {
        "tags": [],
        "colab": {
          "base_uri": "https://localhost:8080/"
        },
        "id": "JCFDNJHuPGww",
        "outputId": "5e3d3120-9a4d-436f-e749-2511f40a9e82"
      },
      "outputs": [
        {
          "output_type": "execute_result",
          "data": {
            "text/plain": [
              "[(0, 2),\n",
              " (1, 1),\n",
              " (2, 1),\n",
              " (3, 1),\n",
              " (4, 1),\n",
              " (5, 6),\n",
              " (6, 1),\n",
              " (7, 2),\n",
              " (8, 4),\n",
              " (9, 1)]"
            ]
          },
          "metadata": {},
          "execution_count": 241
        }
      ],
      "source": [
        "corpus[0][:10]"
      ]
    },
    {
      "cell_type": "markdown",
      "metadata": {
        "id": "ig4rG2isPGwx"
      },
      "source": [
        "**These are the two ingredients you need to run your topic model on the enron emails. You are now ready for the final step and create your first fraud detection topic model.**"
      ]
    },
    {
      "cell_type": "markdown",
      "metadata": {
        "id": "nWeHTFIBPGwx"
      },
      "source": [
        "### LDA model\n",
        "\n",
        "Now it's time to **build the LDA model**. Using the `dictionary` and `corpus`, you are ready to discover which topics are present in the Enron emails. With a quick print of words assigned to the topics, you can do a first exploration about whether there are any obvious topics that jump out. Be mindful that the topic model is **heavy to calculate** so it will take a while to run. Let's give it a try!\n",
        "\n",
        "**Instructions**\n",
        "\n",
        "* Build the LDA model from gensim models, by inserting the `corpus` and `dictionary`.\n",
        "* Save the 5 topics by running `print_topics` on the model results, and select the top 5 words."
      ]
    },
    {
      "cell_type": "code",
      "execution_count": 242,
      "metadata": {
        "tags": [],
        "colab": {
          "base_uri": "https://localhost:8080/"
        },
        "id": "Vj0UtboRPGwx",
        "outputId": "632498a4-c660-4c88-d8d9-75bfe70d5edb"
      },
      "outputs": [
        {
          "output_type": "stream",
          "name": "stderr",
          "text": [
            "WARNING:gensim.models.ldamodel:too few updates, training might not converge; consider increasing the number of passes or iterations to improve accuracy\n"
          ]
        },
        {
          "output_type": "stream",
          "name": "stdout",
          "text": [
            "(0, '0.060*\"enron\" + 0.013*\"pm\" + 0.011*\"hou\" + 0.009*\"development\" + 0.009*\"message\"')\n",
            "(1, '0.013*\"enron\" + 0.008*\"company\" + 0.005*\"new\" + 0.004*\"said\" + 0.004*\"bakernet\"')\n",
            "(2, '0.010*\"e\" + 0.009*\"mail\" + 0.008*\"time\" + 0.008*\"enron\" + 0.006*\"know\"')\n",
            "(3, '0.034*\"td\" + 0.024*\"net\" + 0.023*\"money\" + 0.022*\"tr\" + 0.020*\"width\"')\n",
            "(4, '0.035*\"image\" + 0.014*\"enron\" + 0.010*\"se\" + 0.009*\"ne\" + 0.009*\"sp\"')\n"
          ]
        }
      ],
      "source": [
        "# Define the LDA model\n",
        "ldamodel = gensim.models.ldamodel.LdaModel(corpus, num_topics=5, id2word=dictionary, passes=5)\n",
        "\n",
        "# Save the topics and top 5 words\n",
        "topics = ldamodel.print_topics(num_words=5)\n",
        "\n",
        "# Print the results\n",
        "for topic in topics:\n",
        "    print(topic)"
      ]
    },
    {
      "cell_type": "markdown",
      "metadata": {
        "id": "7x_viAhyPGwx"
      },
      "source": [
        "**You have now successfully created your first topic model on the Enron email data. However, the print of words doesn't really give you enough information to find a topic that might lead you to signs of fraud. You'll therefore need to closely inspect the model results in order to be able to detect anything that can be related to fraud in your data. You'll learn more about this in the next video.**"
      ]
    },
    {
      "cell_type": "markdown",
      "metadata": {
        "id": "Ml3nYARqPGwx"
      },
      "source": [
        "## Flagging fraud based on topic"
      ]
    },
    {
      "cell_type": "markdown",
      "metadata": {
        "id": "NkDzXtNkPGwx"
      },
      "source": [
        "#### Using your LDA model results for fraud detection\n",
        "\n",
        "1. Are there any suspicious topics? (no labels)\n",
        "    1. if you don't have labels, first check for the frequency of suspicious words within topics and check whether topics seem to describe the fraudulent behavior\n",
        "    1. for the Enron email data, a suspicious topic would be one where employees are discussing stock bonuses, selling stock, stock price, and perhaps mentions of accounting or weak financials\n",
        "    1. Defining suspicious topics does require some pre-knowledge about the fraudulent behavior\n",
        "    1. If the fraudulent topic is noticeable, flag all instances that have a high probability for this topic\n",
        "1. Are the topics in fraud and non-fraud cases similar? (with labels)\n",
        "    1. If there a previous cases of fraud, ran a topic model on the fraud text only, and on the non-fraud text\n",
        "    1. Check whether the results are similar\n",
        "        1. Whether the frequency of the topics are the same in fraud vs non-fraud\n",
        "1. Are fraud cases associated more with certain topics? (with labels)\n",
        "    1. Check whether fraud cases have a higher probability score for certain topics\n",
        "        1. If so, run a topic model on new data and create a flag directly on the instances that score high on those topics"
      ]
    },
    {
      "cell_type": "markdown",
      "metadata": {
        "id": "MaX2mIx1PGwx"
      },
      "source": [
        "#### To understand topics, you need to visualize\n",
        "\n",
        "```python\n",
        "import pyLDAvis.gensim\n",
        "lda_display = pyLDAvis.gensim.prepare(ldamodel, corpus, dictionary, sort_topics=False)\n",
        "```\n",
        "\n",
        "![topics](https://raw.githubusercontent.com/trenton3983/DataCamp/master/Images/fraud_detection/topics2.jpg)\n",
        "\n",
        "* Each bubble on the left-hand side, represents a topic\n",
        "* The larger the bubble, the more prevalent that topic is\n",
        "* Click on each topic to get the details per topic in the right panel\n",
        "* The words are the most important keywords that form the selected topic.\n",
        "* A good topic model will have fairly big, non-overlapping bubbles, scattered throughout the chart\n",
        "* A model with too many topics, will typically have many overlaps, or small sized bubbles, clustered in one region\n",
        "* In the case of the model above, there is a slight overlap between topic 2 and 3, which may point to 1 topic too many"
      ]
    },
    {
      "cell_type": "code",
      "source": [
        "# Доработка кода\n",
        "!pip install pyLDAvis"
      ],
      "metadata": {
        "colab": {
          "base_uri": "https://localhost:8080/"
        },
        "id": "ANUteP3QRWO2",
        "outputId": "cc0edaca-b927-4e53-9452-61b77ef64d40"
      },
      "execution_count": 243,
      "outputs": [
        {
          "output_type": "stream",
          "name": "stdout",
          "text": [
            "Requirement already satisfied: pyLDAvis in /usr/local/lib/python3.10/dist-packages (3.4.1)\n",
            "Requirement already satisfied: numpy>=1.24.2 in /usr/local/lib/python3.10/dist-packages (from pyLDAvis) (1.25.2)\n",
            "Requirement already satisfied: scipy in /usr/local/lib/python3.10/dist-packages (from pyLDAvis) (1.11.4)\n",
            "Collecting pandas>=2.0.0 (from pyLDAvis)\n",
            "  Using cached pandas-2.2.1-cp310-cp310-manylinux_2_17_x86_64.manylinux2014_x86_64.whl (13.0 MB)\n",
            "Requirement already satisfied: joblib>=1.2.0 in /usr/local/lib/python3.10/dist-packages (from pyLDAvis) (1.3.2)\n",
            "Requirement already satisfied: jinja2 in /usr/local/lib/python3.10/dist-packages (from pyLDAvis) (3.1.3)\n",
            "Requirement already satisfied: numexpr in /usr/local/lib/python3.10/dist-packages (from pyLDAvis) (2.9.0)\n",
            "Requirement already satisfied: funcy in /usr/local/lib/python3.10/dist-packages (from pyLDAvis) (2.0)\n",
            "Requirement already satisfied: scikit-learn>=1.0.0 in /usr/local/lib/python3.10/dist-packages (from pyLDAvis) (1.2.2)\n",
            "Requirement already satisfied: gensim in /usr/local/lib/python3.10/dist-packages (from pyLDAvis) (4.3.2)\n",
            "Requirement already satisfied: setuptools in /usr/local/lib/python3.10/dist-packages (from pyLDAvis) (67.7.2)\n",
            "Requirement already satisfied: python-dateutil>=2.8.2 in /usr/local/lib/python3.10/dist-packages (from pandas>=2.0.0->pyLDAvis) (2.8.2)\n",
            "Requirement already satisfied: pytz>=2020.1 in /usr/local/lib/python3.10/dist-packages (from pandas>=2.0.0->pyLDAvis) (2023.4)\n",
            "Requirement already satisfied: tzdata>=2022.7 in /usr/local/lib/python3.10/dist-packages (from pandas>=2.0.0->pyLDAvis) (2024.1)\n",
            "Requirement already satisfied: threadpoolctl>=2.0.0 in /usr/local/lib/python3.10/dist-packages (from scikit-learn>=1.0.0->pyLDAvis) (3.4.0)\n",
            "Requirement already satisfied: smart-open>=1.8.1 in /usr/local/lib/python3.10/dist-packages (from gensim->pyLDAvis) (6.4.0)\n",
            "Requirement already satisfied: MarkupSafe>=2.0 in /usr/local/lib/python3.10/dist-packages (from jinja2->pyLDAvis) (2.1.5)\n",
            "Requirement already satisfied: six>=1.5 in /usr/local/lib/python3.10/dist-packages (from python-dateutil>=2.8.2->pandas>=2.0.0->pyLDAvis) (1.16.0)\n",
            "Installing collected packages: pandas\n",
            "  Attempting uninstall: pandas\n",
            "    Found existing installation: pandas 1.5.3\n",
            "    Uninstalling pandas-1.5.3:\n",
            "      Successfully uninstalled pandas-1.5.3\n",
            "\u001b[31mERROR: pip's dependency resolver does not currently take into account all the packages that are installed. This behaviour is the source of the following dependency conflicts.\n",
            "google-colab 1.0.0 requires pandas==1.5.3, but you have pandas 2.2.1 which is incompatible.\u001b[0m\u001b[31m\n",
            "\u001b[0mSuccessfully installed pandas-2.2.1\n"
          ]
        }
      ]
    },
    {
      "cell_type": "code",
      "execution_count": 244,
      "metadata": {
        "tags": [],
        "id": "XC83K6c5PGwx"
      },
      "outputs": [],
      "source": [
        "# if ipython is > 7.16.1 results in DeprecationWarning: `should_run_async` will not call `transform_cell` automatically in the future\n",
        "import pyLDAvis.gensim"
      ]
    },
    {
      "cell_type": "code",
      "execution_count": 245,
      "metadata": {
        "tags": [],
        "id": "KSNIPpEWPGwx"
      },
      "outputs": [],
      "source": [
        "lda_display = pyLDAvis.gensim.prepare(ldamodel, corpus, dictionary, sort_topics=False)"
      ]
    },
    {
      "cell_type": "code",
      "execution_count": 246,
      "metadata": {
        "tags": [],
        "colab": {
          "base_uri": "https://localhost:8080/",
          "height": 861
        },
        "id": "_sDHc5jMPGwx",
        "outputId": "1cd3cdfa-a769-47e8-e207-36e12a3f54c6"
      },
      "outputs": [
        {
          "output_type": "execute_result",
          "data": {
            "text/plain": [
              "<IPython.core.display.HTML object>"
            ],
            "text/html": [
              "\n",
              "<link rel=\"stylesheet\" type=\"text/css\" href=\"https://cdn.jsdelivr.net/gh/bmabey/pyLDAvis@3.4.0/pyLDAvis/js/ldavis.v1.0.0.css\">\n",
              "\n",
              "\n",
              "<div id=\"ldavis_el33941375348982675042097683831\" style=\"background-color:white;\"></div>\n",
              "<script type=\"text/javascript\">\n",
              "\n",
              "var ldavis_el33941375348982675042097683831_data = {\"mdsDat\": {\"x\": [-0.10493247961920334, -0.0365243236744326, -0.028923140003840383, 0.27035956445593184, -0.0999796211584557], \"y\": [-0.13310591152742382, -0.08018958957042055, -0.0204814617249591, 0.015889596210416697, 0.2178873666123869], \"topics\": [1, 2, 3, 4, 5], \"cluster\": [1, 1, 1, 1, 1], \"Freq\": [22.091646118730125, 61.476613177561866, 9.0968754204536, 3.9929426342343777, 3.3419226490200376]}, \"tinfo\": {\"Term\": [\"enron\", \"image\", \"td\", \"money\", \"net\", \"hou\", \"e\", \"pm\", \"please\", \"tr\", \"development\", \"message\", \"width\", \"corp\", \"class\", \"right\", \"time\", \"market\", \"original\", \"mail\", \"day\", \"energy\", \"service\", \"outage\", \"click\", \"thanks\", \"email\", \"see\", \"know\", \"table\", \"outage\", \"devon\", \"darrell\", \"sfs\", \"schoolcraft\", \"pt\", \"bergfelt\", \"hanagriff\", \"amy\", \"backout\", \"impacted\", \"lindberg\", \"jerry\", \"lorraine\", \"buchanan\", \"eix\", \"gregwhalley\", \"pcg\", \"kowalke\", \"sat\", \"fri\", \"underhanded\", \"lokay\", \"dietz\", \"pampa\", \"benjamin\", \"nella\", \"donate\", \"maggi\", \"graf\", \"server\", \"lynn\", \"whalley\", \"thru\", \"pager\", \"declared\", \"scheduled\", \"hou\", \"ee\", \"development\", \"kimberly\", \"ben\", \"pm\", \"blair\", \"na\", \"enron\", \"original\", \"greg\", \"corp\", \"january\", \"thanks\", \"message\", \"team\", \"monday\", \"john\", \"forwarded\", \"richard\", \"employee\", \"fund\", \"made\", \"communication\", \"please\", \"company\", \"million\", \"bill\", \"report\", \"time\", \"energy\", \"california\", \"e\", \"bakernet\", \"aaaaaaaaaaaaaaaaaaaaaaaaaaaaaaaaaaaaaaaaaaaaaaaaaaaaaaaaaaaaaaaaaaaaaaaaaaaa\", \"pep\", \"alert\", \"classmate\", \"worker\", \"engine\", \"selected\", \"attempting\", \"occurred\", \"feedback\", \"fx\", \"borland\", \"initialize\", \"labour\", \"redshirt\", \"federal\", \"employer\", \"enronoptions\", \"edgar\", \"pension\", \"calger\", \"applied\", \"circuit\", \"investor\", \"tmv\", \"discrimination\", \"telling\", \"men\", \"sector\", \"share\", \"earnings\", \"copyright\", \"sec\", \"former\", \"percent\", \"cent\", \"shareholder\", \"official\", \"court\", \"security\", \"board\", \"loss\", \"public\", \"government\", \"said\", \"president\", \"partnership\", \"bush\", \"chairman\", \"union\", \"accounting\", \"business\", \"executive\", \"say\", \"financial\", \"industry\", \"firm\", \"company\", \"year\", \"mailto\", \"committee\", \"stock\", \"new\", \"option\", \"member\", \"law\", \"c\", \"one\", \"mr\", \"market\", \"power\", \"two\", \"energy\", \"may\", \"enron\", \"date\", \"would\", \"u\", \"e\", \"gas\", \"see\", \"also\", \"day\", \"price\", \"time\", \"employee\", \"week\", \"get\", \"service\", \"enform\", \"stsw\", \"stwbom\", \"lover\", \"aggies\", \"henderson\", \"blah\", \"vegetarian\", \"veggie\", \"cherry\", \"headcount\", \"organizational\", \"curtailment\", \"svc\", \"alicia\", \"coronado\", \"tepc\", \"dine\", \"heintzelman\", \"filet\", \"mawhitt\", \"strick\", \"dun\", \"barton\", \"pledging\", \"jurgens\", \"enemy\", \"asarco\", \"lubbock\", \"emailed\", \"beth\", \"adult\", \"wolfe\", \"tonight\", \"epe\", \"matt\", \"ref\", \"whitt\", \"pete\", \"desk\", \"peak\", \"sample\", \"seller\", \"affiliate\", \"intended\", \"priority\", \"mail\", \"log\", \"attack\", \"recipient\", \"mw\", \"customer\", \"army\", \"material\", \"ok\", \"real\", \"know\", \"e\", \"time\", \"thursday\", \"let\", \"email\", \"party\", \"capacity\", \"message\", \"service\", \"go\", \"group\", \"make\", \"original\", \"click\", \"enron\", \"price\", \"bill\", \"available\", \"point\", \"like\", \"day\", \"market\", \"please\", \"gas\", \"also\", \"u\", \"thanks\", \"would\", \"td\", \"width\", \"align\", \"src\", \"nbsp\", \"img\", \"scoop\", \"bodydefault\", \"href\", \"cellspacing\", \"cellpadding\", \"height\", \"script\", \"stocklookup\", \"coords\", \"rect\", \"valign\", \"colspan\", \"bgcolor\", \"linkbarseperator\", \"tr\", \"font\", \"euci\", \"ffffff\", \"exotica\", \"br\", \"underscore\", \"tab\", \"tyrell\", \"realtime\", \"variance\", \"table\", \"amazon\", \"gif\", \"wrap\", \"border\", \"map\", \"net\", \"class\", \"money\", \"clear\", \"center\", \"image\", \"start\", \"right\", \"schedule\", \"please\", \"end\", \"message\", \"wj\", \"ctr\", \"syncrasy\", \"mapp\", \"eei\", \"reliantenergy\", \"wscc\", \"ecar\", \"npcc\", \"std\", \"frcc\", \"breese\", \"neumin\", \"serc\", \"rk\", \"epenergy\", \"powersrc\", \"hp\", \"gorny\", \"vladimir\", \"commoditylogic\", \"netback\", \"demoes\", \"royalty\", \"validation\", \"enlarge\", \"sw\", \"deviation\", \"brackett\", \"maac\", \"sp\", \"reg\", \"min\", \"matrix\", \"nw\", \"temp\", \"ne\", \"nc\", \"se\", \"volatility\", \"image\", \"spp\", \"range\", \"delta\", \"ercot\", \"click\", \"enron\", \"please\", \"standard\", \"doc\", \"hou\", \"e\", \"used\", \"request\", \"energy\", \"day\", \"ct\", \"see\", \"corp\", \"pm\"], \"Freq\": [10001.0, 1137.0, 605.0, 645.0, 668.0, 1201.0, 1806.0, 1549.0, 1279.0, 404.0, 1017.0, 1451.0, 354.0, 1220.0, 360.0, 530.0, 1406.0, 1141.0, 1073.0, 675.0, 908.0, 1394.0, 825.0, 541.0, 402.0, 781.0, 666.0, 770.0, 743.0, 241.0, 540.6997726191713, 274.27377812755486, 189.95045677190637, 167.38726767991466, 169.06123100004197, 222.5175722162295, 125.70153552553901, 125.6047093921572, 188.32681808302476, 109.01246519204379, 111.65529110961769, 108.19211471083636, 114.76748837371052, 107.10590360446164, 88.40143729432764, 83.88572622466589, 83.88572622466589, 84.55771774169048, 85.33644489737034, 311.15063781498867, 327.5439885446334, 81.56775283543273, 65.85729010800449, 66.38889224007303, 62.963317507266396, 116.09900369591591, 62.8110503294983, 165.89063175180743, 57.87933856879446, 64.07823611575273, 169.97664920213276, 232.96165757841217, 253.99764839861407, 338.5548272719583, 141.28320304590412, 165.1810499134049, 416.38200562853325, 1068.4829503898059, 275.2269965260638, 899.042140526633, 194.9836232614718, 190.46443507290186, 1255.8300717854743, 156.8523574760384, 318.1464422339413, 5872.889004207275, 755.3719889431699, 406.7444530286993, 821.8807311757575, 381.5712012145885, 540.7354400313977, 838.6090197802663, 447.132170455114, 339.35126334318693, 358.98193089463604, 278.1257452020396, 272.04635730969295, 541.4832304717019, 331.2128992057322, 358.7609381496709, 264.5153375046024, 508.1312050664624, 516.1744787938403, 349.1189611570989, 301.8084077581184, 304.4964645829909, 324.0857243562509, 320.17501495972164, 287.94580967461474, 295.60856293733036, 1107.9823633172919, 425.5232643022058, 221.63608952238988, 354.88926820219405, 340.9271430275806, 256.6127500572861, 103.1666620163517, 108.5504933847839, 91.67730727264299, 93.53018230330535, 330.6407450974587, 101.75648936260896, 84.02555358342774, 84.01751119374505, 93.40737603886713, 74.91834834978322, 195.96441860332462, 121.41212131682194, 69.48600219295113, 66.46457346609824, 112.78923526166407, 84.2584040474201, 66.42083359993393, 75.64771180193814, 398.139077388903, 56.11827985854567, 56.02495972546613, 54.096660654565724, 52.21132799135181, 76.49746643389645, 578.0309656835701, 223.75003046661828, 222.5633715280999, 196.04678403877946, 188.240015064228, 187.58977325738113, 138.48264194244288, 150.9740437139068, 161.43191265310227, 267.7145626414376, 371.5985284716369, 372.0262036552731, 181.95617004764577, 222.33144447882086, 273.7922415115124, 1195.4711877292464, 313.75346309918115, 246.46195991865386, 243.99776856290617, 247.65624294788222, 188.77913140813845, 227.61347134821781, 849.6898508645739, 376.7985371726507, 510.4347356476469, 484.24104339551775, 347.76394771633966, 424.69124396820337, 2099.042050343092, 976.1237934124725, 705.7230884018854, 294.77967425533757, 1046.115534848286, 1241.9984088292342, 567.719343536151, 439.79044781441996, 295.1320871936214, 577.6252946043846, 775.0431521816095, 543.7533695488249, 855.479676901963, 748.7121631572331, 456.4040517904829, 956.5626181017554, 803.3302650510043, 3610.997672562649, 499.2647324385117, 793.6828701025005, 636.1154874868134, 991.2512521704301, 634.1428211012898, 560.1867419146879, 563.826542802128, 610.2678942262104, 544.2785636401346, 726.2711967303063, 658.9193795733756, 511.1375726309858, 519.7270342304948, 521.9866694961584, 56.96764566298688, 45.29322125332365, 45.29322125332365, 35.23568247230492, 34.64542166595174, 37.21978740636884, 34.23102054948351, 34.227629064847726, 34.227629064847726, 56.43280947021673, 35.4643110471015, 27.582449367404184, 24.09394304511601, 23.530431055600992, 23.245838312847507, 22.867669090091614, 22.867669090091614, 22.862661278067424, 22.862661278067424, 22.86665771760725, 22.86665771760725, 22.86665771760725, 24.377426314589883, 23.165540476202157, 23.177462058558252, 23.20098055635283, 22.724348499697797, 22.684250967505967, 23.70905391788549, 33.04579944153802, 97.2394982965095, 70.71167919270728, 99.34442370285667, 72.966381156069, 50.34931288317676, 54.667621132219644, 73.61490682760103, 45.89509766098109, 37.10346322053453, 211.01879067216998, 59.64276559159217, 46.96315371913298, 94.94162264030489, 78.68392907656138, 139.65890813911508, 54.86393483791423, 348.25531923150885, 82.55024024722309, 73.3026566677867, 121.19406814037389, 77.41856429036308, 199.79006153265973, 57.81460121451103, 88.59201596748316, 69.63384575529547, 107.02064275837778, 234.4561918093421, 389.0030634942557, 325.97675943129286, 163.14621922373723, 164.15609683883946, 187.73190418371001, 99.13190935154651, 84.9576991631884, 229.2517484197388, 177.32738989709168, 135.60995197356362, 144.40424914988122, 139.02333644402248, 160.86503004565802, 116.0208114607272, 302.9545956030818, 138.5919171753116, 129.7816155549689, 112.26712934594538, 106.95331758403762, 128.0972249005263, 136.01686472932775, 137.94906733550476, 137.20067972587466, 128.74089691842667, 121.20685861548792, 120.83677570114048, 118.7902249394335, 119.69286437092813, 601.9106104255098, 351.76031785537157, 180.6984588266021, 186.62632708385507, 132.15719299143956, 175.4930296236136, 111.24587050899859, 93.01887965569641, 158.23913584707066, 77.34030687861393, 77.23942360657817, 221.07230517856203, 180.25385066314564, 37.922468961357396, 37.92201375634943, 37.92201375634943, 48.56309927176084, 39.84574292758284, 43.28871676243052, 31.03541813718327, 390.1522590158908, 77.1174942795795, 24.426708771596424, 24.6504604872689, 24.150268101488358, 198.81986672373222, 20.70483164855704, 21.82249527433271, 20.70655404588448, 17.51139217699521, 19.284079405450203, 213.80160675348478, 66.35021855425703, 167.96037917070885, 62.807148829008995, 133.3237234899623, 38.586875528525255, 430.9335753641708, 250.74586475839885, 408.82429273292735, 131.14662146997046, 99.4117377781139, 161.979526690907, 86.3700814923134, 97.40018274696513, 69.82725074578183, 96.64323013101553, 75.65876317540263, 85.98811117833151, 105.38328305094784, 77.83713474121707, 77.83713474121707, 43.580872157517746, 26.570237653045368, 27.513503543945465, 126.52135067464079, 43.26718585380097, 43.26718585380097, 43.26718585380097, 38.945936665359035, 22.161639432485874, 21.84100611941682, 39.050165831861214, 86.95840013417288, 17.666495341957248, 17.87061351027488, 88.77910007833643, 14.299639615719792, 14.390043409854906, 17.297131710074527, 13.396295002377137, 13.134438399610936, 13.118871126430488, 13.354697038026915, 43.5808000788634, 88.74258022680077, 43.01164299792385, 11.243416289260786, 39.05950516607442, 135.782180936313, 52.689815532897136, 43.50732790386601, 82.99552944745953, 87.71061297093489, 40.10547970710168, 136.22324738384475, 82.4986809860972, 146.3989960313576, 75.4160882526831, 521.5832195147553, 39.09909350889512, 83.66470080978043, 47.67028550272887, 39.941030541051276, 103.85339645085504, 209.44189772767854, 99.24172863478282, 58.23487103190709, 57.40178937728496, 81.78668117382689, 80.04799987367612, 54.25714184544772, 57.7432808799952, 65.8687693662009, 60.40043644626768, 52.12322925729595, 56.077254863425885, 56.128087476324666, 54.07216742449288], \"Total\": [10001.0, 1137.0, 605.0, 645.0, 668.0, 1201.0, 1806.0, 1549.0, 1279.0, 404.0, 1017.0, 1451.0, 354.0, 1220.0, 360.0, 530.0, 1406.0, 1141.0, 1073.0, 675.0, 908.0, 1394.0, 825.0, 541.0, 402.0, 781.0, 666.0, 770.0, 743.0, 241.0, 541.6815505205108, 275.0418732492656, 190.77482234360798, 168.18209733891703, 169.86871062511077, 223.8681925735353, 126.47445481106563, 126.3922697783063, 189.5171563831476, 109.78730280911664, 112.4796115284955, 109.00926740935301, 115.6432599365197, 107.94267530783345, 89.19820611387588, 84.65645830361798, 84.65645830361798, 85.35319429696712, 86.19003909157345, 314.30509561743554, 331.0969202087253, 82.48184100658531, 66.64173828294948, 67.18072335671587, 63.74675994874857, 117.55371786371173, 63.607169024511606, 168.27118082440165, 58.72798398768136, 65.04928944450947, 174.03479784055074, 240.02114491590908, 263.6766547423261, 354.56458587353126, 145.5433769583562, 171.77753989310875, 445.73379289110613, 1201.4132293140005, 292.5984337341016, 1017.60266255618, 204.5899801789745, 201.06324219585025, 1549.0729977473864, 164.6533229360767, 363.1434157706523, 10001.912703249658, 1073.9018385891793, 514.5539850400102, 1220.8602355783328, 490.4289670460605, 781.5525976184223, 1451.5424649915105, 689.5930960001033, 510.1995837509736, 557.0867632423262, 375.00729547152696, 365.07804539697725, 1201.46427368321, 522.0483881472231, 613.2053998952051, 356.70195542259637, 1279.435055490408, 2632.0174710306983, 841.1012420907722, 609.7074593954205, 732.9232289311332, 1406.1010573554756, 1394.4929071556935, 525.5036088447998, 1806.513324889764, 1109.291595875395, 426.4333246592997, 222.284537514978, 356.07178369170464, 342.57809160488716, 258.0218564118618, 103.74714389699349, 109.20374813095864, 92.24246580631817, 94.12642692282462, 332.75687318001525, 102.42869866893125, 84.5811930775388, 84.57355989736577, 94.02690467641592, 75.46284447525554, 197.54632562993655, 122.42782615371121, 70.07865059186743, 67.0733926736691, 113.83083490197085, 85.04363933726202, 67.04952493414046, 76.40359300833794, 402.17078454038153, 56.687142144992414, 56.618861677569015, 54.67719520732803, 52.7744480376468, 77.3357579273556, 585.2430356739814, 226.27506654348602, 225.14777488596638, 198.75820388446255, 191.01706310306767, 190.47692550412373, 140.20893553526295, 153.0500614464426, 163.87202913315892, 273.23511183303765, 381.90460237464185, 383.12970235743484, 185.0540409241902, 227.0995447666925, 281.39767306869857, 1269.6126503486962, 324.2198058850255, 253.2330111346374, 250.77704269985327, 255.27980421250993, 193.10463943532037, 234.7854544743558, 928.8764072553677, 398.3758631107764, 548.8724210056046, 521.3708413698697, 367.91341384758425, 457.13023790467196, 2632.0174710306983, 1157.9017663411182, 818.664316866019, 311.0541624043878, 1291.7196894848958, 1591.8810333377196, 664.9236518308237, 494.55961258602434, 311.80532957931706, 683.779737705921, 990.3968113165831, 648.622585134093, 1141.895761424396, 1006.3443638216781, 539.0632849555373, 1394.4929071556935, 1164.1282243805897, 10001.912703249658, 614.7445703728283, 1249.4366913618546, 890.9085268799429, 1806.513324889764, 921.6436717643595, 770.357320598505, 781.8628705282132, 908.2977386387593, 742.467578818227, 1406.1010573554756, 1201.46427368321, 674.141741766892, 781.9543852450701, 825.9869340161993, 58.015608006891, 46.281757672441735, 46.281757672441735, 36.14151545282098, 35.54577861705726, 38.18886921565335, 35.13028949040091, 35.13036155725813, 35.13036155725813, 58.04069934535883, 36.487325542624944, 28.56355694344572, 25.006641701816918, 24.43232617529226, 24.143865978521735, 23.766328111761077, 23.766328111761077, 23.76219922648314, 23.76219922648314, 23.767187516559098, 23.767187516559098, 23.767187516559098, 25.340176530740706, 24.082405427869677, 24.095979600733628, 24.129217649519745, 23.669663314503126, 23.636554674360482, 24.874420181150942, 34.69918910137514, 102.98059875864149, 74.73919402003379, 105.70519720199893, 77.82470267828843, 53.39608390229988, 58.57717675829111, 79.86818767596057, 50.36237035408948, 41.11653724185755, 300.9956510736949, 71.58062768567832, 54.58707759566437, 127.32355020362333, 104.08875081733146, 212.49068363617457, 68.37478194255397, 675.9050996075064, 115.19149307728048, 99.2419512627321, 202.33507061701712, 109.7597235908073, 453.43155250143064, 77.13372039569788, 151.60201553575598, 104.14106901785573, 208.97880783990828, 743.6706290382386, 1806.513324889764, 1406.1010573554756, 449.7882163117158, 471.28526650608234, 666.8526754292269, 209.3014946538998, 158.41905383036482, 1451.5424649915105, 825.9869340161993, 509.0117947393586, 649.235567123578, 589.466870778706, 1073.9018385891793, 402.57873590003976, 10001.912703249658, 742.467578818227, 609.7074593954205, 389.1040797229564, 325.10600738699577, 679.0285601955043, 908.2977386387593, 1141.895761424396, 1279.435055490408, 921.6436717643595, 781.8628705282132, 890.9085268799429, 781.5525976184223, 1249.4366913618546, 605.3900035288118, 354.22431964424896, 182.14446923664622, 188.41589362351124, 133.44927344041318, 177.32088325223972, 112.50297776455098, 94.08622149940938, 160.8227442606663, 78.66135939433923, 78.57795522435995, 226.10290857523515, 185.10211555681116, 38.952074848924475, 38.95214560075582, 38.95214560075582, 49.96714984607434, 41.00355865322738, 44.623645403038246, 32.060307068948525, 404.01893186375037, 80.30548517502942, 25.452571545102487, 25.72157751999187, 25.20556521651754, 208.40903221844354, 21.722645100710093, 22.91447203301553, 21.759683923676686, 18.521437180258225, 20.39931999394125, 241.57551427290332, 73.59071371594811, 196.45467404685434, 70.42814065382642, 159.23269623591094, 42.09792383250744, 668.3331539424613, 360.5379432979093, 645.2541798867281, 217.014038041456, 326.05307548859264, 1137.807065301688, 270.90131826126503, 530.7527314029808, 193.91961388742627, 1279.435055490408, 389.8016487858195, 1451.5424649915105, 106.41707014362737, 80.34016967248802, 80.34016967248802, 45.281046233066554, 27.645399953914357, 28.63036592915495, 131.86990603296923, 45.09898773472699, 45.09898773472699, 45.09898773472699, 40.693831196151585, 23.156379367038564, 22.875073531895247, 41.18616249265789, 91.87373825854166, 18.681492093909608, 18.933301050976134, 94.6606969480904, 15.309433633971423, 15.459502122917966, 18.583635820650237, 14.404424612839849, 14.12683218595015, 14.13104491119384, 14.395906906711586, 47.15249460439915, 96.64244781038632, 46.98244013488036, 12.356421085000367, 42.948269763774746, 149.65256331356872, 59.00898805272236, 48.444781223509054, 94.78341309029315, 100.95261535135548, 44.95662712625622, 167.00050176059443, 101.84564461778008, 205.1321622860911, 99.24419712850572, 1137.807065301688, 48.39326022818539, 133.10319129560878, 65.59095865810181, 50.54737839673711, 402.57873590003976, 10001.912703249658, 1279.435055490408, 184.87982061317354, 201.497383403721, 1201.4132293140005, 1806.513324889764, 198.80155937071464, 413.57832269313366, 1394.4929071556935, 908.2977386387593, 289.9576516662139, 770.357320598505, 1220.8602355783328, 1549.0729977473864], \"Category\": [\"Default\", \"Default\", \"Default\", \"Default\", \"Default\", \"Default\", \"Default\", \"Default\", \"Default\", \"Default\", \"Default\", \"Default\", \"Default\", \"Default\", \"Default\", \"Default\", \"Default\", \"Default\", \"Default\", \"Default\", \"Default\", \"Default\", \"Default\", \"Default\", \"Default\", \"Default\", \"Default\", \"Default\", \"Default\", \"Default\", \"Topic1\", \"Topic1\", \"Topic1\", \"Topic1\", \"Topic1\", \"Topic1\", \"Topic1\", \"Topic1\", \"Topic1\", \"Topic1\", \"Topic1\", \"Topic1\", \"Topic1\", \"Topic1\", \"Topic1\", \"Topic1\", \"Topic1\", \"Topic1\", \"Topic1\", \"Topic1\", \"Topic1\", \"Topic1\", \"Topic1\", \"Topic1\", \"Topic1\", \"Topic1\", \"Topic1\", \"Topic1\", \"Topic1\", \"Topic1\", \"Topic1\", \"Topic1\", \"Topic1\", \"Topic1\", \"Topic1\", \"Topic1\", \"Topic1\", \"Topic1\", \"Topic1\", \"Topic1\", \"Topic1\", \"Topic1\", \"Topic1\", \"Topic1\", \"Topic1\", \"Topic1\", \"Topic1\", \"Topic1\", \"Topic1\", \"Topic1\", \"Topic1\", \"Topic1\", \"Topic1\", \"Topic1\", \"Topic1\", \"Topic1\", \"Topic1\", \"Topic1\", \"Topic1\", \"Topic1\", \"Topic1\", \"Topic1\", \"Topic1\", \"Topic1\", \"Topic1\", \"Topic1\", \"Topic1\", \"Topic1\", \"Topic1\", \"Topic1\", \"Topic2\", \"Topic2\", \"Topic2\", \"Topic2\", \"Topic2\", \"Topic2\", \"Topic2\", \"Topic2\", \"Topic2\", \"Topic2\", \"Topic2\", \"Topic2\", \"Topic2\", \"Topic2\", \"Topic2\", \"Topic2\", \"Topic2\", \"Topic2\", \"Topic2\", \"Topic2\", \"Topic2\", \"Topic2\", \"Topic2\", \"Topic2\", \"Topic2\", \"Topic2\", \"Topic2\", \"Topic2\", \"Topic2\", \"Topic2\", \"Topic2\", \"Topic2\", \"Topic2\", \"Topic2\", \"Topic2\", \"Topic2\", \"Topic2\", \"Topic2\", \"Topic2\", \"Topic2\", \"Topic2\", \"Topic2\", \"Topic2\", \"Topic2\", \"Topic2\", \"Topic2\", \"Topic2\", \"Topic2\", \"Topic2\", \"Topic2\", \"Topic2\", \"Topic2\", \"Topic2\", \"Topic2\", \"Topic2\", \"Topic2\", \"Topic2\", \"Topic2\", \"Topic2\", \"Topic2\", \"Topic2\", \"Topic2\", \"Topic2\", \"Topic2\", \"Topic2\", \"Topic2\", \"Topic2\", \"Topic2\", \"Topic2\", \"Topic2\", \"Topic2\", \"Topic2\", \"Topic2\", \"Topic2\", \"Topic2\", \"Topic2\", \"Topic2\", \"Topic2\", \"Topic2\", \"Topic2\", \"Topic2\", \"Topic2\", \"Topic2\", \"Topic2\", \"Topic2\", \"Topic2\", \"Topic2\", \"Topic2\", \"Topic2\", \"Topic2\", \"Topic3\", \"Topic3\", \"Topic3\", \"Topic3\", \"Topic3\", \"Topic3\", \"Topic3\", \"Topic3\", \"Topic3\", \"Topic3\", \"Topic3\", \"Topic3\", \"Topic3\", \"Topic3\", \"Topic3\", \"Topic3\", \"Topic3\", \"Topic3\", \"Topic3\", \"Topic3\", \"Topic3\", \"Topic3\", \"Topic3\", \"Topic3\", \"Topic3\", \"Topic3\", \"Topic3\", \"Topic3\", \"Topic3\", \"Topic3\", \"Topic3\", \"Topic3\", \"Topic3\", \"Topic3\", \"Topic3\", \"Topic3\", \"Topic3\", \"Topic3\", \"Topic3\", \"Topic3\", \"Topic3\", \"Topic3\", \"Topic3\", \"Topic3\", \"Topic3\", \"Topic3\", \"Topic3\", \"Topic3\", \"Topic3\", \"Topic3\", \"Topic3\", \"Topic3\", \"Topic3\", \"Topic3\", \"Topic3\", \"Topic3\", \"Topic3\", \"Topic3\", \"Topic3\", \"Topic3\", \"Topic3\", \"Topic3\", \"Topic3\", \"Topic3\", \"Topic3\", \"Topic3\", \"Topic3\", \"Topic3\", \"Topic3\", \"Topic3\", \"Topic3\", \"Topic3\", \"Topic3\", \"Topic3\", \"Topic3\", \"Topic3\", \"Topic3\", \"Topic3\", \"Topic3\", \"Topic3\", \"Topic3\", \"Topic3\", \"Topic3\", \"Topic3\", \"Topic3\", \"Topic4\", \"Topic4\", \"Topic4\", \"Topic4\", \"Topic4\", \"Topic4\", \"Topic4\", \"Topic4\", \"Topic4\", \"Topic4\", \"Topic4\", \"Topic4\", \"Topic4\", \"Topic4\", \"Topic4\", \"Topic4\", \"Topic4\", \"Topic4\", \"Topic4\", \"Topic4\", \"Topic4\", \"Topic4\", \"Topic4\", \"Topic4\", \"Topic4\", \"Topic4\", \"Topic4\", \"Topic4\", \"Topic4\", \"Topic4\", \"Topic4\", \"Topic4\", \"Topic4\", \"Topic4\", \"Topic4\", \"Topic4\", \"Topic4\", \"Topic4\", \"Topic4\", \"Topic4\", \"Topic4\", \"Topic4\", \"Topic4\", \"Topic4\", \"Topic4\", \"Topic4\", \"Topic4\", \"Topic4\", \"Topic4\", \"Topic5\", \"Topic5\", \"Topic5\", \"Topic5\", \"Topic5\", \"Topic5\", \"Topic5\", \"Topic5\", \"Topic5\", \"Topic5\", \"Topic5\", \"Topic5\", \"Topic5\", \"Topic5\", \"Topic5\", \"Topic5\", \"Topic5\", \"Topic5\", \"Topic5\", \"Topic5\", \"Topic5\", \"Topic5\", \"Topic5\", \"Topic5\", \"Topic5\", \"Topic5\", \"Topic5\", \"Topic5\", \"Topic5\", \"Topic5\", \"Topic5\", \"Topic5\", \"Topic5\", \"Topic5\", \"Topic5\", \"Topic5\", \"Topic5\", \"Topic5\", \"Topic5\", \"Topic5\", \"Topic5\", \"Topic5\", \"Topic5\", \"Topic5\", \"Topic5\", \"Topic5\", \"Topic5\", \"Topic5\", \"Topic5\", \"Topic5\", \"Topic5\", \"Topic5\", \"Topic5\", \"Topic5\", \"Topic5\", \"Topic5\", \"Topic5\", \"Topic5\", \"Topic5\", \"Topic5\"], \"logprob\": [30.0, 29.0, 28.0, 27.0, 26.0, 25.0, 24.0, 23.0, 22.0, 21.0, 20.0, 19.0, 18.0, 17.0, 16.0, 15.0, 14.0, 13.0, 12.0, 11.0, 10.0, 9.0, 8.0, 7.0, 6.0, 5.0, 4.0, 3.0, 2.0, 1.0, -5.1942, -5.873, -6.2403, -6.3668, -6.3568, -6.0821, -6.6532, -6.6539, -6.2489, -6.7956, -6.7717, -6.8032, -6.7442, -6.8133, -7.0052, -7.0576, -7.0576, -7.0497, -7.0405, -5.7468, -5.6955, -7.0857, -7.2996, -7.2916, -7.3445, -6.7326, -7.347, -6.3758, -7.4287, -7.327, -6.3514, -6.0362, -5.9498, -5.6624, -6.5363, -6.38, -5.4555, -4.5131, -5.8695, -4.6858, -6.2142, -6.2376, -4.3515, -6.4318, -5.7246, -2.809, -4.8599, -5.4789, -4.7755, -5.5428, -5.1942, -4.7553, -5.3842, -5.6601, -5.6038, -5.859, -5.8811, -5.1928, -5.6843, -5.6044, -5.9092, -5.2563, -5.2406, -5.6317, -5.7773, -5.7684, -5.7061, -5.7182, -5.8243, -5.7981, -5.5002, -6.4572, -7.1095, -6.6387, -6.6789, -6.963, -7.8742, -7.8233, -7.9923, -7.9723, -6.7095, -7.888, -8.0794, -8.0795, -7.9736, -8.1941, -7.2326, -7.7114, -8.2694, -8.3139, -7.785, -8.0767, -8.3145, -8.1845, -6.5237, -8.4831, -8.4847, -8.5198, -8.5552, -8.1733, -6.1509, -7.1, -7.1053, -7.2322, -7.2728, -7.2763, -7.5798, -7.4934, -7.4265, -6.9206, -6.5927, -6.5916, -7.3068, -7.1064, -6.8982, -5.4242, -6.7619, -7.0033, -7.0134, -6.9985, -7.27, -7.0829, -5.7657, -6.5788, -6.2753, -6.328, -6.659, -6.4592, -4.8613, -5.627, -5.9513, -6.8243, -5.5577, -5.3861, -6.1689, -6.4242, -6.8231, -6.1516, -5.8576, -6.212, -5.7589, -5.8922, -6.3872, -5.6472, -5.8218, -4.3188, -6.2974, -5.8339, -6.0552, -5.6116, -6.0583, -6.1823, -6.1758, -6.0966, -6.2111, -5.9226, -6.0199, -6.2739, -6.2572, -6.2529, -6.5573, -6.7867, -6.7867, -7.0378, -7.0547, -6.983, -7.0667, -7.0668, -7.0668, -6.5668, -7.0313, -7.2826, -7.4179, -7.4415, -7.4537, -7.4701, -7.4701, -7.4703, -7.4703, -7.4701, -7.4701, -7.4701, -7.4062, -7.4572, -7.4566, -7.4556, -7.4764, -7.4781, -7.434, -7.1019, -6.0226, -6.3412, -6.0012, -6.3098, -6.6808, -6.5985, -6.301, -6.7735, -6.9861, -5.2479, -6.5114, -6.7505, -6.0466, -6.2344, -5.6606, -6.595, -4.7469, -6.1864, -6.3052, -5.8024, -6.2506, -5.3026, -6.5426, -6.1158, -6.3566, -5.9268, -5.1426, -4.6362, -4.813, -5.5052, -5.499, -5.3648, -6.0034, -6.1577, -5.165, -5.4218, -5.69, -5.6272, -5.6652, -5.5193, -5.846, -4.8862, -5.6683, -5.734, -5.8789, -5.9274, -5.747, -5.687, -5.6729, -5.6784, -5.742, -5.8023, -5.8054, -5.8225, -5.8149, -3.3763, -3.9135, -4.5796, -4.5473, -4.8924, -4.6088, -5.0647, -5.2436, -4.7123, -5.4282, -5.4295, -4.3779, -4.5821, -6.1409, -6.1409, -6.1409, -5.8936, -6.0914, -6.0085, -6.3413, -3.8099, -5.4311, -6.5807, -6.5716, -6.5921, -4.484, -6.746, -6.6935, -6.746, -6.9136, -6.8171, -4.4114, -5.5815, -4.6527, -5.6363, -4.8836, -6.1235, -3.7105, -4.252, -3.7631, -4.9001, -5.1771, -4.6889, -5.3178, -5.1976, -5.5304, -5.2054, -5.4502, -5.3222, -4.9408, -5.2438, -5.2438, -5.8238, -6.3186, -6.2838, -4.758, -5.831, -5.831, -5.831, -5.9363, -6.5001, -6.5146, -5.9336, -5.133, -6.7268, -6.7153, -5.1123, -6.9382, -6.9319, -6.7479, -7.0035, -7.0232, -7.0244, -7.0066, -5.8238, -5.1127, -5.837, -7.1787, -5.9333, -4.6874, -5.634, -5.8255, -5.1796, -5.1244, -5.9069, -4.6841, -5.1857, -4.6121, -5.2754, -3.3416, -5.9323, -5.1716, -5.7341, -5.911, -4.9555, -4.254, -5.0009, -5.534, -5.5484, -5.1943, -5.2158, -5.6047, -5.5424, -5.4108, -5.4974, -5.6448, -5.5717, -5.5708, -5.6081], \"loglift\": [30.0, 29.0, 28.0, 27.0, 26.0, 25.0, 24.0, 23.0, 22.0, 21.0, 20.0, 19.0, 18.0, 17.0, 16.0, 15.0, 14.0, 13.0, 12.0, 11.0, 10.0, 9.0, 8.0, 7.0, 6.0, 5.0, 4.0, 3.0, 2.0, 1.0, 1.5082, 1.5072, 1.5056, 1.5052, 1.5052, 1.5039, 1.5038, 1.5037, 1.5037, 1.5029, 1.5026, 1.5024, 1.5024, 1.5022, 1.501, 1.5008, 1.5008, 1.5006, 1.5, 1.4999, 1.4992, 1.4988, 1.4981, 1.4981, 1.4976, 1.4975, 1.4974, 1.4957, 1.4954, 1.4949, 1.4864, 1.4801, 1.4726, 1.4638, 1.4803, 1.4708, 1.4419, 1.3927, 1.4488, 1.3861, 1.4619, 1.4558, 1.3001, 1.4614, 1.3777, 0.9775, 1.1581, 1.2749, 1.1143, 1.259, 1.1416, 0.9613, 1.0767, 1.1022, 1.0705, 1.2111, 1.2158, 0.713, 1.055, 0.9739, 1.211, 0.5865, -0.1191, 0.6307, 0.8068, 0.6316, 0.0424, 0.0386, 0.9084, -0.3001, 0.4853, 0.4844, 0.4836, 0.4832, 0.4817, 0.481, 0.4809, 0.4805, 0.4804, 0.4802, 0.4801, 0.4799, 0.4799, 0.4799, 0.4799, 0.4793, 0.4785, 0.4782, 0.478, 0.4774, 0.4773, 0.4772, 0.4771, 0.4766, 0.4764, 0.4764, 0.476, 0.4758, 0.4758, 0.4756, 0.4741, 0.4753, 0.475, 0.4728, 0.4719, 0.4712, 0.4741, 0.4729, 0.4715, 0.4661, 0.4592, 0.4571, 0.4696, 0.4653, 0.4591, 0.4263, 0.4537, 0.4594, 0.4591, 0.4562, 0.4639, 0.4555, 0.3974, 0.4308, 0.4139, 0.4126, 0.4302, 0.4129, 0.2602, 0.3157, 0.3381, 0.4328, 0.2756, 0.2383, 0.3285, 0.3691, 0.4316, 0.3178, 0.2413, 0.3102, 0.1977, 0.1908, 0.3201, 0.1096, 0.1156, -0.5323, 0.2784, 0.0327, 0.1497, -0.1137, 0.1126, 0.1679, 0.1596, 0.0888, 0.176, -0.1741, -0.1142, 0.2097, 0.078, 0.0276, 2.379, 2.3756, 2.3756, 2.3719, 2.3716, 2.3715, 2.3713, 2.3712, 2.3712, 2.3691, 2.3688, 2.3623, 2.3601, 2.3596, 2.3593, 2.3587, 2.3587, 2.3586, 2.3586, 2.3586, 2.3586, 2.3586, 2.3585, 2.3584, 2.3584, 2.358, 2.3565, 2.3561, 2.3493, 2.3484, 2.3399, 2.3418, 2.3352, 2.3328, 2.3385, 2.3282, 2.3157, 2.3044, 2.2945, 2.0421, 2.2148, 2.2468, 2.1038, 2.1174, 1.9775, 2.1771, 1.7341, 2.0641, 2.0943, 1.8847, 2.0482, 1.5777, 2.1089, 1.86, 1.9947, 1.728, 1.2429, 0.8617, 0.9355, 1.3831, 1.3426, 1.1297, 1.6499, 1.7741, 0.5517, 0.8587, 1.0746, 0.8941, 0.9527, 0.4988, 1.1531, -1.0997, 0.7188, 0.8501, 1.1543, 1.2855, 0.7294, 0.4984, 0.2837, 0.1645, 0.4289, 0.5331, 0.3994, 0.5133, 0.0517, 3.2149, 3.2137, 3.2127, 3.2111, 3.2109, 3.2103, 3.2094, 3.2092, 3.2044, 3.2037, 3.2035, 3.1981, 3.1941, 3.1939, 3.1938, 3.1938, 3.1921, 3.192, 3.1903, 3.1882, 3.1857, 3.1801, 3.1795, 3.1781, 3.1779, 3.1735, 3.1727, 3.1718, 3.171, 3.1646, 3.1644, 3.0985, 3.1171, 3.0639, 3.1061, 3.0431, 3.1336, 2.7818, 2.8575, 2.7643, 2.717, 2.0329, 1.2713, 2.0775, 1.5252, 2.1992, 0.6375, 1.5812, 0.3945, 3.3889, 3.367, 3.367, 3.3604, 3.359, 3.3588, 3.3572, 3.3572, 3.3572, 3.3572, 3.3547, 3.3547, 3.3524, 3.3454, 3.3436, 3.3428, 3.3409, 3.3345, 3.3304, 3.3269, 3.3269, 3.3261, 3.3258, 3.3243, 3.3235, 3.3199, 3.3133, 3.3103, 3.3042, 3.3037, 3.3014, 3.2854, 3.2911, 3.2658, 3.258, 3.2844, 3.1949, 3.1879, 3.0613, 3.1241, 2.6186, 3.1854, 2.9343, 3.0795, 3.1631, 2.0437, -0.4675, 0.842, 2.2434, 2.1429, 0.7115, 0.2821, 2.1001, 1.4298, 0.346, 0.688, 1.6825, 0.7785, 0.3189, 0.0435]}, \"token.table\": {\"Topic\": [2, 1, 2, 3, 2, 3, 1, 2, 3, 4, 5, 2, 3, 1, 2, 2, 3, 2, 4, 1, 2, 3, 4, 5, 2, 4, 1, 2, 2, 1, 2, 3, 2, 3, 1, 2, 3, 2, 1, 2, 3, 4, 5, 1, 2, 1, 2, 2, 3, 1, 2, 1, 2, 1, 2, 1, 2, 3, 2, 4, 1, 2, 3, 4, 5, 2, 3, 1, 2, 1, 2, 4, 2, 4, 2, 3, 4, 5, 2, 1, 2, 4, 5, 2, 5, 2, 5, 1, 2, 1, 2, 3, 1, 2, 3, 4, 5, 1, 2, 3, 4, 5, 1, 2, 1, 2, 4, 1, 2, 3, 4, 2, 4, 2, 4, 1, 2, 1, 2, 3, 4, 1, 2, 1, 2, 3, 2, 2, 3, 4, 5, 2, 3, 1, 2, 3, 4, 5, 1, 2, 3, 4, 5, 2, 4, 1, 2, 4, 2, 5, 1, 2, 3, 4, 1, 2, 3, 4, 5, 2, 4, 1, 2, 3, 2, 3, 1, 2, 3, 4, 5, 1, 2, 1, 2, 3, 5, 2, 3, 5, 2, 3, 1, 2, 3, 4, 5, 1, 2, 1, 2, 3, 4, 5, 1, 2, 3, 4, 5, 1, 2, 1, 2, 3, 5, 2, 5, 1, 2, 3, 5, 1, 2, 3, 5, 1, 2, 3, 5, 1, 2, 1, 2, 2, 3, 2, 1, 2, 3, 4, 5, 1, 2, 2, 3, 1, 2, 3, 4, 5, 1, 2, 3, 2, 3, 5, 2, 1, 2, 3, 5, 2, 5, 1, 2, 1, 2, 3, 4, 5, 2, 3, 5, 1, 2, 3, 1, 2, 1, 2, 3, 4, 5, 2, 3, 1, 2, 3, 4, 5, 2, 3, 2, 2, 5, 1, 2, 3, 4, 5, 2, 2, 3, 4, 2, 5, 2, 3, 4, 5, 2, 4, 1, 2, 3, 2, 4, 1, 2, 1, 2, 2, 4, 2, 3, 1, 2, 3, 4, 5, 1, 2, 3, 4, 5, 2, 4, 5, 1, 2, 1, 2, 3, 4, 5, 2, 3, 5, 1, 2, 1, 2, 3, 5, 2, 1, 2, 3, 4, 5, 1, 2, 3, 4, 5, 1, 2, 4, 5, 1, 2, 3, 4, 5, 2, 5, 1, 2, 3, 1, 2, 1, 2, 3, 5, 1, 2, 1, 2, 3, 4, 5, 1, 2, 2, 3, 2, 4, 5, 2, 3, 2, 3, 1, 2, 3, 5, 2, 3, 5, 2, 4, 5, 1, 2, 3, 4, 5, 2, 4, 5, 1, 2, 1, 2, 3, 2, 1, 2, 3, 4, 5, 1, 2, 1, 2, 3, 4, 5, 1, 2, 1, 2, 3, 5, 2, 3, 1, 2, 4, 1, 2, 3, 4, 5, 1, 2, 2, 1, 2, 3, 1, 2, 3, 4, 5, 1, 2, 3, 4, 5, 1, 2, 2, 4, 2, 3, 4, 5, 1, 2, 1, 2, 1, 2, 3, 2, 3, 2, 3, 1, 2, 5, 2, 3, 5, 1, 2, 3, 5, 1, 2, 1, 2, 3, 4, 5, 1, 2, 3, 4, 5, 1, 2, 3, 4, 2, 4, 5, 2, 5, 1, 2, 3, 4, 5, 1, 2, 3, 4, 5, 2, 3, 4, 5, 1, 2, 3, 2, 3, 1, 2, 3, 4, 5, 1, 2, 3, 4, 2, 1, 2, 3, 4, 5, 1, 2, 3, 4, 2, 3, 5, 1, 2, 3, 4, 5, 1, 2, 4, 5, 1, 2, 1, 2, 3, 5, 1, 2, 3, 4, 5, 2, 4, 2, 3, 4, 5, 1, 2, 3, 4, 5, 1, 2, 1, 2, 3, 4, 5, 2, 5, 2, 5, 1, 2, 3, 4, 5, 2, 3, 5, 1, 2, 3, 5, 2, 1, 2, 3, 1, 2, 3, 4, 5, 1, 2, 3, 4, 5, 1, 2, 3, 4, 2, 3, 1, 2, 3, 4, 5, 1, 2, 1, 2, 4, 1, 2, 1, 2, 1, 2, 3, 4, 5, 1, 2, 2, 3, 1, 2, 2, 1, 2, 3, 2, 3, 1, 2, 3, 4, 5, 2, 3, 1, 2, 3, 4, 5, 1, 2, 3, 4, 1, 2, 3, 4, 5, 2, 5, 1, 2, 3, 1, 2, 3, 4, 5, 1, 2, 3, 1, 2, 4, 1, 2, 3, 1, 2, 3, 4, 5, 1, 2, 3, 4, 5, 2, 4, 1, 2, 3, 4, 5, 2, 4, 2, 1, 2, 3, 5, 1, 2, 3, 5, 2, 5, 1, 2, 3, 4, 5, 1, 2, 3, 4, 5, 1, 2, 3, 1, 2, 3, 4, 2, 3, 5, 2, 5, 1, 2, 3, 2, 3, 1, 2, 1, 2, 3, 4, 5, 1, 2, 3, 4, 1, 2, 3, 1, 2, 2, 4, 2, 4, 1, 2, 3, 4, 5, 1, 2, 2, 1, 2, 3, 1, 2, 3, 4, 5, 2, 1, 2, 3, 4, 2, 3, 5, 1, 2, 1, 2, 3, 4, 5, 1, 2, 1, 2, 3, 1, 2, 2, 3, 4, 5, 2, 3, 5, 2, 4, 5, 1, 2, 3, 4, 5, 1, 2, 3, 4, 5, 2, 3, 5, 1, 2, 3, 4, 2, 4, 2, 3, 2, 3, 2, 3, 2, 3, 2, 3, 5, 2, 3, 5, 2, 4, 2, 4, 5, 2, 4, 5, 1, 2, 3, 4, 5, 2, 2, 3, 5, 2, 3, 1, 2, 3, 4, 5, 1, 2, 3, 5, 1, 2, 3, 4, 5, 1, 2, 3, 4, 5, 2, 2, 3, 2, 4, 5, 1, 2, 3, 4, 5, 2, 4, 1, 2, 3, 4, 5, 1, 2, 2, 4, 1, 2, 4, 1, 2, 3, 4, 5, 2, 5, 2, 4, 2, 4, 2, 3, 2, 3, 2, 5, 1, 2, 3, 4, 5, 1, 2, 3, 4, 5, 1, 2, 5, 2, 3, 4, 2, 4, 5, 2, 5, 1, 2, 3, 5, 1, 2, 1, 2, 3, 4, 5, 2, 4, 2, 3, 4, 5, 1, 2, 3, 5], \"Freq\": [0.9989838395963873, 0.025555245802739216, 0.9710993405040902, 0.00425920763378987, 0.05351944254212592, 0.9499701051227352, 0.028821558299463042, 0.09607186099821013, 0.7589677018858602, 0.04803593049910507, 0.07685748879856812, 0.028132735838289746, 0.984645754340141, 0.00280842247490698, 0.9969899785919779, 0.04141838763061372, 0.9526229155041155, 0.0054901474867226265, 0.9937166950967954, 0.06906581964113288, 0.7213541162518323, 0.15475859586253848, 0.04604387976075525, 0.0076739799601258755, 0.08153202621677684, 0.8968522883845451, 0.9919946224811417, 0.005276567140857137, 0.9843470190852006, 0.012964498469281339, 0.24632547091634546, 0.7519409112183177, 0.042307350363745694, 0.973069058366151, 0.010076383900923214, 0.25190959752308034, 0.7355760247673946, 0.9973714296967379, 0.18504046539749539, 0.40349101482509414, 0.2878407239516595, 0.09252023269874769, 0.030840077566249232, 0.9928288354939779, 0.009108521426550257, 0.0009014762247530167, 0.9988356570263424, 0.04152409122897404, 0.9550540982664029, 0.9449763065838068, 0.04973559508335826, 0.9867829117449687, 0.008506749239180765, 0.9962486115336541, 0.007906735012171857, 0.04855283480841512, 0.009710566961683025, 0.9419249952832535, 0.022409643832727165, 0.9636146848072682, 0.4953195099490172, 0.2640610632509661, 0.2132170075939478, 0.004920392482937257, 0.022961831587040533, 0.028465464261922535, 0.9678257849053662, 0.9535185637337672, 0.042513566535900445, 0.018270575100098763, 0.9709505624623915, 0.010440328628627865, 0.010628548835987397, 0.988455041746828, 0.13188246193412115, 0.0251204689398326, 0.8352555922494339, 0.00628011723495815, 0.9931285779215009, 0.00479825653118456, 0.03838605224947648, 0.9548530497057274, 0.00479825653118456, 0.08092958253210665, 0.8902254078531732, 0.04318464403046652, 0.9500621686702634, 0.9865669258824984, 0.0112109877941193, 0.023925635039811842, 0.9729758249523482, 0.003987605839968641, 0.03552679316886515, 0.915084066470769, 0.03767993214879637, 0.007535986429759275, 0.004306277959862443, 0.11407182122958158, 0.8453014444961302, 0.01023721472573168, 0.0014624592465330973, 0.029249184930661944, 0.011758668935065768, 0.9877281905455244, 0.5480457130125186, 0.4243548402839988, 0.026641111049219655, 0.012624744004225658, 0.35349283211831845, 0.5365516201795905, 0.09468558003169243, 0.012726215605187828, 0.9799186015994626, 0.012712722074721274, 0.9788795997535381, 0.007132213051774415, 0.9842454011448692, 0.27909566521841855, 0.414043019829522, 0.0030669853320705333, 0.3036315478749828, 0.027420892230757072, 0.9714830390325363, 0.017229289296631537, 0.017229289296631537, 0.9648402006113661, 0.9947176174254804, 0.2440797193078965, 0.05547266347906738, 0.6961819266622956, 0.0027736331739533692, 0.9953934835777319, 0.002919042473834991, 0.013823990498840047, 0.3502077593039478, 0.004607996832946682, 0.6036475851160154, 0.027647980997680094, 0.0024839861394177058, 0.39495379616741527, 0.2881423921724539, 0.057131681206607235, 0.2583345584994414, 0.024388127100311824, 0.975525084012473, 0.038578490341496637, 0.9483878875617923, 0.012859496780498879, 0.053810783296172573, 0.9147833160349337, 0.7429171496580272, 0.23268725819477834, 0.0028034609421057634, 0.019624226594740342, 0.19604733087046505, 0.7974871075525314, 0.0011398100632003783, 0.0030394935018676753, 0.001899683438667297, 0.025672526752431223, 0.9755560165923866, 0.008883054700464913, 0.9904605991018379, 0.0044415273502324566, 0.04207633570055515, 0.9677557211127684, 0.6732957434809161, 0.2285273873858584, 0.05078386386352409, 0.0008190945784439369, 0.04586929639286047, 0.018299258709675963, 0.9808402668386316, 0.7794241631538696, 0.03793657431279896, 0.003448779482981724, 0.17933653311504966, 0.012447073538387655, 0.012447073538387655, 0.9708717359942372, 0.0399893760995241, 0.9597450263885783, 0.013232427180905258, 0.516064660055305, 0.44108090603017525, 0.01764323624120701, 0.013232427180905258, 0.9959385503071656, 0.005241781843721924, 0.08458797768390733, 0.8117192473898031, 0.02765376193512355, 0.047174064477563706, 0.029280453813660227, 0.0748653190548616, 0.671585950345082, 0.1497306381097232, 0.0374326595274308, 0.066057634460172, 0.9605446678458303, 0.03492889701257564, 0.015246003724577057, 0.16770604097034764, 0.09147602234746234, 0.7318081787796987, 0.07078727819776542, 0.9202346165709506, 0.0066446142755408975, 0.2923630281237995, 0.7010068060695647, 0.0033223071377704487, 0.8834489463124492, 0.113010710596142, 0.0009827018312708, 0.0019654036625416, 0.021284547953003982, 0.021284547953003982, 0.042569095906007964, 0.9152355619791712, 0.996211946795747, 0.0036358100248019966, 0.9824246703857821, 0.014885222278572455, 0.04208364682362788, 0.9679238769434412, 0.9890696905724936, 0.35732473932795694, 0.3176219905137395, 0.01488853080533154, 0.024814218008885898, 0.28288208530129927, 0.9865028532320592, 0.011885576544964568, 0.039463024213224354, 0.9471125811173845, 0.16385154536187124, 0.5485705454514, 0.21533192954651323, 0.028231178423835924, 0.04428420144915439, 0.008838799742947533, 0.9899455712101236, 0.0044193998714737665, 0.022173446683149897, 0.022173446683149897, 0.9534582073754455, 0.9839967440011352, 0.939854655031769, 0.04784714607434461, 0.006835306582049229, 0.0034176532910246147, 0.03617238316924434, 0.9766543455695973, 0.9922456205141064, 0.011812447863263171, 0.0194945607613142, 0.6103297099888368, 0.28192134024054377, 0.03149121353750755, 0.05698410068691843, 0.028819117273272812, 0.9510308700180028, 0.028819117273272812, 0.45028388429854005, 0.5484973747740072, 0.0008323177158937894, 0.008168077727235596, 0.988337404995507, 0.23088665807427464, 0.4592079088366129, 0.09748547785358262, 0.19497095570716524, 0.017957851183554693, 0.04224817170877414, 0.9717079493018052, 0.22947409653928943, 0.6862709699628124, 0.030835581722467018, 0.0064539589651675154, 0.04732903241122845, 0.017236740841899332, 0.9824942279882619, 0.9927984147907214, 0.06362335704970551, 0.9331425700623476, 0.58718768842002, 0.3610309454937327, 0.03029420561744697, 0.0005998852597514251, 0.020896003214674642, 0.9846079999720685, 0.018727965178677232, 0.9363982589338616, 0.037455930357354464, 0.05352891487324035, 0.9635204677183263, 0.09891709834595014, 0.03956683933838005, 0.0791336786767601, 0.7913367867676011, 0.0392887609893554, 0.9429302637445297, 0.022591730155843728, 0.9463424743058985, 0.032632499113996495, 0.03967377804901144, 0.9521706731762746, 0.005062103771412583, 0.9921723391968663, 0.003005197129193538, 0.9947202497630611, 0.03887786428428656, 0.971946607107164, 0.04207481424982569, 0.9677207277459909, 0.026852288024423968, 0.9283219574158, 0.0019180205731731406, 0.011508123439038842, 0.03068832917077025, 0.01312536232016053, 0.9297131643447042, 0.03718852657378817, 0.0021875603866934215, 0.019688043480240794, 0.012452449516000745, 0.9588386127320573, 0.012452449516000745, 0.010470268820544339, 0.9842052691311679, 0.7413189112773076, 0.10399797676192446, 0.06399875493041506, 0.002666614788767294, 0.08533167324055341, 0.024573749155733706, 0.024573749155733706, 0.9583762170736145, 0.990646484398668, 0.009060791015841476, 0.6340408427937805, 0.3313869057502236, 0.02490190621244455, 0.0076621249884444775, 0.9958146625457297, 0.10199169470783648, 0.6879014302634928, 0.13996732571607345, 0.04340072115227084, 0.026040432691362504, 0.1624135657992343, 0.6650004268945027, 0.12788469747971207, 0.01790385764715969, 0.02685578647073953, 0.005090232669961828, 0.13743628208896935, 0.8551590885535871, 0.005090232669961828, 0.16306105449383634, 0.5265103928234716, 0.26718437844773185, 0.027504274251972397, 0.017681319161982255, 0.06531920278102345, 0.9144688389343282, 0.024875827591833235, 0.9737109657374724, 0.0035536896559761767, 0.9838693173519664, 0.015372958083624474, 0.7909762859349985, 0.0077737227118918764, 0.18462591440743206, 0.017490876101756724, 0.9922456205141064, 0.011812447863263171, 0.1524870247614699, 0.6068675530911025, 0.22179930874395623, 0.00924163786433151, 0.00924163786433151, 0.9968964100494884, 0.007911876270234035, 0.02740677715147381, 0.9592372003015833, 0.01326829459605009, 0.9774310352423566, 0.0044227648653500295, 0.04208364682362788, 0.9679238769434412, 0.02618564048998097, 0.9688686981292958, 0.8889530878645487, 0.039120594690668344, 0.0033294123140994334, 0.0682529524390384, 0.031692139364293145, 0.021128092909528766, 0.9402001344740301, 0.006218025967640312, 0.9824481028871693, 0.006218025967640312, 0.0008788836266672781, 0.3032148512002109, 0.09491943168006603, 0.14237914752009903, 0.45877725312031914, 0.005639493677557965, 0.9869113935726439, 0.005639493677557965, 0.995736013647469, 0.008890500121852402, 0.008154092476885913, 0.9458747273187659, 0.046206524035686834, 0.9932182126652607, 0.05647306411111339, 0.1976557243888969, 0.6588524146296563, 0.014118266027778348, 0.08000350749074397, 0.009946023315869093, 0.9896293199289747, 0.7789099455133184, 0.16312250167818185, 0.022429343980750006, 0.016312250167818187, 0.01835128143879546, 0.9944375492625095, 0.008647283037065301, 0.6444238558291489, 0.20284093512170978, 0.1077031513920583, 0.04487631308002429, 0.041443531842811465, 0.9532012323846637, 0.9531258560630133, 0.004887824902887247, 0.04399042412598523, 0.3106213839569591, 0.2729703071136913, 0.31465542790445206, 0.055131933949070656, 0.045719164738253715, 0.9861928465967038, 0.011602268783490632, 0.9890786080861652, 0.04169268055019906, 0.9461031355622095, 0.009621387819276706, 0.32040042566883686, 0.21855128373437216, 0.3479845682760877, 0.04880271384359767, 0.06365571370904044, 0.1664142079200105, 0.5419506948191491, 0.18850458950231275, 0.04712614737557819, 0.0559623000084991, 0.990741453150373, 0.009173531973614564, 0.03119121715987971, 0.966927731956271, 0.11285555601990911, 0.7205393192040351, 0.14758034248757346, 0.01736239323383217, 0.9903703249722454, 0.01500561098442796, 0.9912668895305299, 0.009264176537668504, 0.01080765375352882, 0.9834964915711226, 0.00540382687676441, 0.02766901131485194, 0.9684153960198179, 0.0402019421042734, 0.9648466105025616, 0.9707478067469059, 0.008332599199544257, 0.02083149799886064, 0.06985147519331239, 0.02328382506443746, 0.9080691775130609, 0.585448203915608, 0.3359396379014352, 0.06360022270949502, 0.014676974471421928, 0.9876041379551856, 0.017027657550951477, 0.11540081595078079, 0.2781455563941896, 0.5148651788573296, 0.07101588673894202, 0.020712966965524757, 0.02198703379293108, 0.8623803254338525, 0.09649864831341975, 0.015879524406005784, 0.00488600750954024, 0.1357158543860442, 0.6107213447371989, 0.23580629699575179, 0.015268033618429972, 0.023754140559963048, 0.9264114818385588, 0.047508281119926096, 0.02208429537720682, 0.9717089965971001, 0.06480451412455784, 0.7487548591418508, 0.1208516614755268, 0.06392877744719895, 0.0008757366773588898, 0.02638487348511922, 0.33640713693527, 0.5870634350439027, 0.02638487348511922, 0.019788655113839416, 0.0949533225969228, 0.02110073835487173, 0.010550369177435865, 0.8756806417271769, 0.03414299067796771, 0.017071495338983854, 0.938932243644112, 0.04207481424982569, 0.9677207277459909, 0.2104579159485286, 0.6897865571700754, 0.08761921398673436, 0.004295059509153645, 0.007731107116476561, 0.0161760074951702, 0.889680412234361, 0.08694604028653982, 0.0080880037475851, 0.9853253218850466, 0.5780058250000333, 0.18807579287843754, 0.157763210876052, 0.059247319368299, 0.017223057955900872, 0.41493221331176644, 0.5801917481264814, 0.001188917516652626, 0.004755670066610504, 0.041284116668266625, 0.061926175002399934, 0.9082505667018657, 0.6644458576537463, 0.24108212534339465, 0.0646805702140815, 0.011760103675287544, 0.017640155512931317, 0.13793014098044837, 0.2169687610928401, 0.633858737764083, 0.009298661189693148, 0.1603397759862148, 0.8387003666971234, 0.1822162023162662, 0.10021891127394641, 0.7015323789176249, 0.00911081011581331, 0.8756870872218617, 0.07435079042449769, 0.0027537329786850996, 0.0027537329786850996, 0.044059727658961594, 0.00749348403493941, 0.9891398926120021, 0.13746292296092844, 0.039275120845979554, 0.009818780211494888, 0.8051399773425809, 0.011976011921611613, 0.14970014902014517, 0.01796401788241742, 0.005988005960805807, 0.8143688106695897, 0.9904543932103372, 0.015721498304925988, 0.029925195064798262, 0.20199506668738826, 0.05835413037635661, 0.6448879536464025, 0.06583542914255618, 0.06942311316681249, 0.9025004711685624, 0.04371570647000005, 0.9617455423400012, 0.14762409695105932, 0.7802090570775134, 0.04460132290861792, 0.020730192337808328, 0.006281876466002524, 0.022173446683149897, 0.022173446683149897, 0.9534582073754455, 0.02971691213307154, 0.0693394616438336, 0.02971691213307154, 0.8716960892367652, 0.9986568392431566, 0.012204645360037878, 0.9824739514830492, 0.006102322680018939, 0.06721651761419695, 0.17284247386507787, 0.6721651761419695, 0.009602359659170993, 0.08642123693253893, 0.1403477862728783, 0.7825146356941057, 0.05553329672667847, 0.007067874128849987, 0.014135748257699974, 0.108283108597134, 0.8542334122662794, 0.0030078641276981666, 0.03459043746852892, 0.035009645401654466, 0.980270071246325, 0.7030437725964495, 0.08008180720966179, 0.149920592566925, 0.047490374042938974, 0.019554859900033694, 0.9987417874582292, 0.0018461031191464494, 0.9687833479385587, 0.006870803886089069, 0.027483215544356277, 0.9882855230705223, 0.015687071794770194, 0.023693593394938373, 0.9714373291924733, 0.023888983727841897, 0.48255747130240634, 0.47300187781126957, 0.0047777967455683796, 0.019111186982273518, 0.9958619674415669, 0.011716023146371376, 0.15367286311462247, 0.8382156169888498, 0.008784965873800211, 0.992701143739424, 0.9987199401354724, 0.010499959481741535, 0.9869961912837043, 0.005249979740870768, 0.07296334276287092, 0.8998812274087414, 0.3970502432460578, 0.3423385955546719, 0.10707851048171244, 0.07581471180092049, 0.07737790173496008, 0.0415006991444147, 0.954516080321538, 0.8108074970168843, 0.07101021072600101, 0.06778247387481914, 0.016138684255909322, 0.034859557992764134, 0.3598826147211945, 0.2706809409868813, 0.32912341688177615, 0.03998695719124383, 0.12918043233860224, 0.7442780293970236, 0.09440108517051701, 0.0298108690012159, 0.0019873912667477266, 0.05281699146427736, 0.9507058463569925, 0.02775894574186369, 0.9684787736605776, 0.003084327304651521, 0.03905894456180673, 0.7326919255732022, 0.18721356186521157, 0.03905894456180673, 0.0013468601573036804, 0.014625275161245326, 0.19012857709618924, 0.804390133868493, 0.9961218582972651, 0.0044669141627680055, 0.0044669141627680055, 0.017613421480476076, 0.9775448921664223, 0.004403355370119019, 0.007512967873017415, 0.2554409076825921, 0.11269451809526122, 0.007512967873017415, 0.6310893013334629, 0.01435552260542227, 0.38281393614459386, 0.5120136395933943, 0.06699243882530392, 0.023925871009037116, 0.05399149052352632, 0.9718468294234738, 0.276768628538933, 0.0296537816291714, 0.5980179295216232, 0.0148268908145857, 0.08401904794931896, 0.025672526752431223, 0.9755560165923866, 0.9938665911883655, 0.02504125933236842, 0.03756188899855263, 0.9265265952976315, 0.01252062966618421, 0.016946570903851745, 0.08473285451925873, 0.016946570903851745, 0.8981682579041426, 0.034927950361321694, 0.9779826101170074, 0.4147774118761958, 0.4939125759841543, 0.05457597524686787, 0.015008393192888665, 0.02183039009874715, 0.01692545188156259, 0.6262417196178159, 0.20552334427611718, 0.009671686789464338, 0.1402394584472329, 0.7450461714405029, 0.2520009109284054, 0.0027391403361783193, 0.0357982142640619, 0.7724877814876515, 0.007536466160855137, 0.18275930440073707, 0.03265350966298669, 0.010884503220995562, 0.946951780226614, 0.07076617520391962, 0.919960277650955, 0.0567102099843014, 0.9412319573783359, 0.001575283610675039, 0.12823547821794332, 0.8610096394633338, 0.9894844351443209, 0.009544865933868048, 0.02186300411672072, 0.9291776749606305, 0.0346164231848078, 0.007287668038906906, 0.009109585048633633, 0.2475252453208, 0.29393622881845, 0.09797874293948333, 0.3609743160928333, 0.9332924867593106, 0.03365237332064822, 0.03140888176593834, 0.9948859879967656, 0.005886899337258968, 0.008888653614954306, 0.986640551259928, 0.021609693589765205, 0.9724362115394342, 0.004874905957483804, 0.2681198276616092, 0.009749811914967607, 0.004874905957483804, 0.7117362697926354, 0.010062477728781414, 0.9861228174205786, 0.9827278097072466, 0.023566094632112223, 0.9740652447939718, 0.00261845495912358, 0.06750114344288989, 0.7269353909234296, 0.11942509993742058, 0.012980989123632672, 0.07269353909234295, 0.9981342386644614, 0.00785400657145313, 0.21991218400068763, 0.7461306242880472, 0.03141602628581252, 0.024279999385188322, 0.024279999385188322, 0.9469199760223446, 0.9768161431471458, 0.02298390925052108, 0.08353643037003146, 0.6319712558428467, 0.2142891039926894, 0.07021902842698297, 0.0012106729039134995, 0.9929713247865206, 0.005945936076565991, 0.008543459204502737, 0.9876238840405165, 0.003417383681801095, 0.013067619712781805, 0.9866052883150263, 0.06682144146804145, 0.01336428829360829, 0.006682144146804145, 0.9087716039653637, 0.10332017261130674, 0.06199210356678404, 0.8058973463681925, 0.005307407887777129, 0.9924852750143232, 0.005307407887777129, 0.016226757414898943, 0.6220257009044594, 0.02163567655319859, 0.02163567655319859, 0.31371731002137954, 0.014765524308531732, 0.5278674940300094, 0.11074143231398799, 0.31745877263343225, 0.02583966753993053, 0.022173446683149897, 0.022173446683149897, 0.9534582073754455, 0.18347633927799725, 0.8097732104843255, 0.0007741617691054736, 0.0054191323837383155, 0.025672573383535985, 0.9755577885743675, 0.04207481424982569, 0.9677207277459909, 0.021606785271153294, 0.9723053372018982, 0.021606785271153294, 0.9723053372018982, 0.04092938154252674, 0.9823051570206418, 0.06208452016625318, 0.02069484005541773, 0.9209203824660889, 0.012447073538387655, 0.012447073538387655, 0.9708717359942372, 0.04364054290926644, 0.9600919440038616, 0.10762680182325221, 0.885851368852922, 0.004139492377817393, 0.0016518277377740147, 0.9944002981399569, 0.0033036554755480293, 0.6482083457516707, 0.16966527170681314, 0.1392125306312313, 0.01740156632890391, 0.026102349493355867, 0.9876146681489384, 0.06673098476838127, 0.022243661589460423, 0.8897464635784169, 0.04207633570055515, 0.9677557211127684, 0.692211889063585, 0.05629819430461689, 0.15226102550566842, 0.07804976937685523, 0.021751575072238346, 0.9561022547269203, 0.002820360633412744, 0.033844327600952934, 0.008461081900238233, 0.4224210264066249, 0.1578520677624756, 0.3623927752856834, 0.02667922272041841, 0.031125759840488147, 0.23042440534776565, 0.5163213527236972, 0.23184677822028274, 0.017068474470204865, 0.004267118617551216, 0.9878783420897306, 0.05139756224363863, 0.938005510946405, 0.02970157844990994, 0.965301299622073, 0.0024751315374924947, 0.11872446480060095, 0.8459118117042818, 0.007420279050037559, 0.009275348812546949, 0.01669562786258451, 0.045956549897854956, 0.9650875478549541, 0.104387821189338, 0.7138780029722469, 0.1358164125151602, 0.02918369194540632, 0.017959195043326968, 0.9941582171214287, 0.01212388069660279, 0.04603490943961106, 0.9667330982318323, 0.0051785394847281545, 0.9787439626136212, 0.020714157938912618, 0.01509042489151586, 0.5231347295725498, 0.17102481543717973, 0.020120566522021145, 0.27162764804728545, 0.06946418912543711, 0.9030344586306825, 0.02001314870030684, 0.9806442863150353, 0.04902124189909308, 0.9314035960827685, 0.02846540586751788, 0.9678237994956079, 0.02846540586751788, 0.9678237994956079, 0.06468513617379361, 0.9055919064331105, 0.010076155875442836, 0.17129464988252824, 0.020152311750885672, 0.040304623501771344, 0.7557116906582128, 0.12311950863992063, 0.7580008303011981, 0.04598439479322337, 0.031150719053473896, 0.04153429207129852, 0.9633010561675153, 0.003792523843179194, 0.03413271458861274, 0.01985609479794469, 0.9133803607054558, 0.059568284393834076, 0.002823069858682515, 0.9937205902562454, 0.002823069858682515, 0.00939698864712527, 0.9866838079481535, 0.028380818345829346, 0.009460272781943115, 0.9365670054123684, 0.028380818345829346, 0.0038756406682221977, 0.9960396517331048, 0.20649305545748498, 0.6354863799738104, 0.09604328160813255, 0.024811181082100908, 0.03761695196318525, 0.09939208865965829, 0.8945287979369246, 0.022749693923721764, 0.0075832313079072546, 0.0075832313079072546, 0.9630703761042213, 0.10018120998860827, 0.8429039736972559, 0.048363342753121236, 0.007772680085323056], \"Term\": [\"aaaaaaaaaaaaaaaaaaaaaaaaaaaaaaaaaaaaaaaaaaaaaaaaaaaaaaaaaaaaaaaaaaaaaaaaaaaa\", \"accounting\", \"accounting\", \"accounting\", \"adult\", \"adult\", \"affiliate\", \"affiliate\", \"affiliate\", \"affiliate\", \"affiliate\", \"aggies\", \"aggies\", \"alert\", \"alert\", \"alicia\", \"alicia\", \"align\", \"align\", \"also\", \"also\", \"also\", \"also\", \"also\", \"amazon\", \"amazon\", \"amy\", \"amy\", \"applied\", \"army\", \"army\", \"army\", \"asarco\", \"asarco\", \"attack\", \"attack\", \"attack\", \"attempting\", \"available\", \"available\", \"available\", \"available\", \"available\", \"backout\", \"backout\", \"bakernet\", \"bakernet\", \"barton\", \"barton\", \"ben\", \"ben\", \"benjamin\", \"benjamin\", \"bergfelt\", \"bergfelt\", \"beth\", \"beth\", \"beth\", \"bgcolor\", \"bgcolor\", \"bill\", \"bill\", \"bill\", \"bill\", \"bill\", \"blah\", \"blah\", \"blair\", \"blair\", \"board\", \"board\", \"board\", \"bodydefault\", \"bodydefault\", \"border\", \"border\", \"border\", \"border\", \"borland\", \"br\", \"br\", \"br\", \"br\", \"brackett\", \"brackett\", \"breese\", \"breese\", \"buchanan\", \"buchanan\", \"bush\", \"bush\", \"bush\", \"business\", \"business\", \"business\", \"business\", \"business\", \"c\", \"c\", \"c\", \"c\", \"c\", \"calger\", \"calger\", \"california\", \"california\", \"california\", \"capacity\", \"capacity\", \"capacity\", \"capacity\", \"cellpadding\", \"cellpadding\", \"cellspacing\", \"cellspacing\", \"cent\", \"cent\", \"center\", \"center\", \"center\", \"center\", \"chairman\", \"chairman\", \"cherry\", \"cherry\", \"cherry\", \"circuit\", \"class\", \"class\", \"class\", \"class\", \"classmate\", \"classmate\", \"clear\", \"clear\", \"clear\", \"clear\", \"clear\", \"click\", \"click\", \"click\", \"click\", \"click\", \"colspan\", \"colspan\", \"committee\", \"committee\", \"committee\", \"commoditylogic\", \"commoditylogic\", \"communication\", \"communication\", \"communication\", \"communication\", \"company\", \"company\", \"company\", \"company\", \"company\", \"coords\", \"coords\", \"copyright\", \"copyright\", \"copyright\", \"coronado\", \"coronado\", \"corp\", \"corp\", \"corp\", \"corp\", \"corp\", \"court\", \"court\", \"ct\", \"ct\", \"ct\", \"ct\", \"ctr\", \"ctr\", \"ctr\", \"curtailment\", \"curtailment\", \"customer\", \"customer\", \"customer\", \"customer\", \"customer\", \"darrell\", \"darrell\", \"date\", \"date\", \"date\", \"date\", \"date\", \"day\", \"day\", \"day\", \"day\", \"day\", \"declared\", \"declared\", \"delta\", \"delta\", \"delta\", \"delta\", \"demoes\", \"demoes\", \"desk\", \"desk\", \"desk\", \"desk\", \"development\", \"development\", \"development\", \"development\", \"deviation\", \"deviation\", \"deviation\", \"deviation\", \"devon\", \"devon\", \"dietz\", \"dietz\", \"dine\", \"dine\", \"discrimination\", \"doc\", \"doc\", \"doc\", \"doc\", \"doc\", \"donate\", \"donate\", \"dun\", \"dun\", \"e\", \"e\", \"e\", \"e\", \"e\", \"earnings\", \"earnings\", \"earnings\", \"ecar\", \"ecar\", \"ecar\", \"edgar\", \"ee\", \"ee\", \"ee\", \"ee\", \"eei\", \"eei\", \"eix\", \"eix\", \"email\", \"email\", \"email\", \"email\", \"email\", \"emailed\", \"emailed\", \"emailed\", \"employee\", \"employee\", \"employee\", \"employer\", \"employer\", \"end\", \"end\", \"end\", \"end\", \"end\", \"enemy\", \"enemy\", \"energy\", \"energy\", \"energy\", \"energy\", \"energy\", \"enform\", \"enform\", \"engine\", \"enlarge\", \"enlarge\", \"enron\", \"enron\", \"enron\", \"enron\", \"enron\", \"enronoptions\", \"epe\", \"epe\", \"epe\", \"epenergy\", \"epenergy\", \"ercot\", \"ercot\", \"ercot\", \"ercot\", \"euci\", \"euci\", \"executive\", \"executive\", \"executive\", \"exotica\", \"exotica\", \"federal\", \"federal\", \"feedback\", \"feedback\", \"ffffff\", \"ffffff\", \"filet\", \"filet\", \"financial\", \"financial\", \"financial\", \"financial\", \"financial\", \"firm\", \"firm\", \"firm\", \"firm\", \"firm\", \"font\", \"font\", \"font\", \"former\", \"former\", \"forwarded\", \"forwarded\", \"forwarded\", \"forwarded\", \"forwarded\", \"frcc\", \"frcc\", \"frcc\", \"fri\", \"fri\", \"fund\", \"fund\", \"fund\", \"fund\", \"fx\", \"gas\", \"gas\", \"gas\", \"gas\", \"gas\", \"get\", \"get\", \"get\", \"get\", \"get\", \"gif\", \"gif\", \"gif\", \"gif\", \"go\", \"go\", \"go\", \"go\", \"go\", \"gorny\", \"gorny\", \"government\", \"government\", \"government\", \"graf\", \"graf\", \"greg\", \"greg\", \"greg\", \"greg\", \"gregwhalley\", \"gregwhalley\", \"group\", \"group\", \"group\", \"group\", \"group\", \"hanagriff\", \"hanagriff\", \"headcount\", \"headcount\", \"height\", \"height\", \"height\", \"heintzelman\", \"heintzelman\", \"henderson\", \"henderson\", \"hou\", \"hou\", \"hou\", \"hou\", \"hp\", \"hp\", \"hp\", \"href\", \"href\", \"href\", \"image\", \"image\", \"image\", \"image\", \"image\", \"img\", \"img\", \"img\", \"impacted\", \"impacted\", \"industry\", \"industry\", \"industry\", \"initialize\", \"intended\", \"intended\", \"intended\", \"intended\", \"intended\", \"investor\", \"investor\", \"january\", \"january\", \"january\", \"january\", \"january\", \"jerry\", \"jerry\", \"john\", \"john\", \"john\", \"john\", \"jurgens\", \"jurgens\", \"kimberly\", \"kimberly\", \"kimberly\", \"know\", \"know\", \"know\", \"know\", \"know\", \"kowalke\", \"kowalke\", \"labour\", \"law\", \"law\", \"law\", \"let\", \"let\", \"let\", \"let\", \"let\", \"like\", \"like\", \"like\", \"like\", \"like\", \"lindberg\", \"lindberg\", \"linkbarseperator\", \"linkbarseperator\", \"log\", \"log\", \"log\", \"log\", \"lokay\", \"lokay\", \"lorraine\", \"lorraine\", \"loss\", \"loss\", \"loss\", \"lover\", \"lover\", \"lubbock\", \"lubbock\", \"lynn\", \"lynn\", \"lynn\", \"maac\", \"maac\", \"maac\", \"made\", \"made\", \"made\", \"made\", \"maggi\", \"maggi\", \"mail\", \"mail\", \"mail\", \"mail\", \"mail\", \"mailto\", \"mailto\", \"mailto\", \"mailto\", \"mailto\", \"make\", \"make\", \"make\", \"make\", \"map\", \"map\", \"map\", \"mapp\", \"mapp\", \"market\", \"market\", \"market\", \"market\", \"market\", \"material\", \"material\", \"material\", \"material\", \"material\", \"matrix\", \"matrix\", \"matrix\", \"matrix\", \"matt\", \"matt\", \"matt\", \"mawhitt\", \"mawhitt\", \"may\", \"may\", \"may\", \"may\", \"may\", \"member\", \"member\", \"member\", \"member\", \"men\", \"message\", \"message\", \"message\", \"message\", \"message\", \"million\", \"million\", \"million\", \"million\", \"min\", \"min\", \"min\", \"monday\", \"monday\", \"monday\", \"monday\", \"monday\", \"money\", \"money\", \"money\", \"money\", \"mr\", \"mr\", \"mw\", \"mw\", \"mw\", \"mw\", \"na\", \"na\", \"na\", \"na\", \"na\", \"nbsp\", \"nbsp\", \"nc\", \"nc\", \"nc\", \"nc\", \"ne\", \"ne\", \"ne\", \"ne\", \"ne\", \"nella\", \"nella\", \"net\", \"net\", \"net\", \"net\", \"net\", \"netback\", \"netback\", \"neumin\", \"neumin\", \"new\", \"new\", \"new\", \"new\", \"new\", \"npcc\", \"npcc\", \"npcc\", \"nw\", \"nw\", \"nw\", \"nw\", \"occurred\", \"official\", \"official\", \"official\", \"ok\", \"ok\", \"ok\", \"ok\", \"ok\", \"one\", \"one\", \"one\", \"one\", \"one\", \"option\", \"option\", \"option\", \"option\", \"organizational\", \"organizational\", \"original\", \"original\", \"original\", \"original\", \"original\", \"outage\", \"outage\", \"pager\", \"pager\", \"pager\", \"pampa\", \"pampa\", \"partnership\", \"partnership\", \"party\", \"party\", \"party\", \"party\", \"party\", \"pcg\", \"pcg\", \"peak\", \"peak\", \"pension\", \"pension\", \"pep\", \"percent\", \"percent\", \"percent\", \"pete\", \"pete\", \"please\", \"please\", \"please\", \"please\", \"please\", \"pledging\", \"pledging\", \"pm\", \"pm\", \"pm\", \"pm\", \"pm\", \"point\", \"point\", \"point\", \"point\", \"power\", \"power\", \"power\", \"power\", \"power\", \"powersrc\", \"powersrc\", \"president\", \"president\", \"president\", \"price\", \"price\", \"price\", \"price\", \"price\", \"priority\", \"priority\", \"priority\", \"pt\", \"pt\", \"pt\", \"public\", \"public\", \"public\", \"range\", \"range\", \"range\", \"range\", \"range\", \"real\", \"real\", \"real\", \"real\", \"real\", \"realtime\", \"realtime\", \"recipient\", \"recipient\", \"recipient\", \"recipient\", \"recipient\", \"rect\", \"rect\", \"redshirt\", \"ref\", \"ref\", \"ref\", \"ref\", \"reg\", \"reg\", \"reg\", \"reg\", \"reliantenergy\", \"reliantenergy\", \"report\", \"report\", \"report\", \"report\", \"report\", \"request\", \"request\", \"request\", \"request\", \"request\", \"richard\", \"richard\", \"richard\", \"right\", \"right\", \"right\", \"right\", \"rk\", \"rk\", \"rk\", \"royalty\", \"royalty\", \"said\", \"said\", \"said\", \"sample\", \"sample\", \"sat\", \"sat\", \"say\", \"say\", \"say\", \"say\", \"say\", \"schedule\", \"schedule\", \"schedule\", \"schedule\", \"scheduled\", \"scheduled\", \"scheduled\", \"schoolcraft\", \"schoolcraft\", \"scoop\", \"scoop\", \"script\", \"script\", \"se\", \"se\", \"se\", \"se\", \"se\", \"sec\", \"sec\", \"sector\", \"security\", \"security\", \"security\", \"see\", \"see\", \"see\", \"see\", \"see\", \"selected\", \"seller\", \"seller\", \"seller\", \"seller\", \"serc\", \"serc\", \"serc\", \"server\", \"server\", \"service\", \"service\", \"service\", \"service\", \"service\", \"sfs\", \"sfs\", \"share\", \"share\", \"share\", \"shareholder\", \"shareholder\", \"sp\", \"sp\", \"sp\", \"sp\", \"spp\", \"spp\", \"spp\", \"src\", \"src\", \"src\", \"standard\", \"standard\", \"standard\", \"standard\", \"standard\", \"start\", \"start\", \"start\", \"start\", \"start\", \"std\", \"std\", \"std\", \"stock\", \"stock\", \"stock\", \"stock\", \"stocklookup\", \"stocklookup\", \"strick\", \"strick\", \"stsw\", \"stsw\", \"stwbom\", \"stwbom\", \"svc\", \"svc\", \"sw\", \"sw\", \"sw\", \"syncrasy\", \"syncrasy\", \"syncrasy\", \"tab\", \"tab\", \"table\", \"table\", \"table\", \"td\", \"td\", \"td\", \"team\", \"team\", \"team\", \"team\", \"team\", \"telling\", \"temp\", \"temp\", \"temp\", \"tepc\", \"tepc\", \"thanks\", \"thanks\", \"thanks\", \"thanks\", \"thanks\", \"thru\", \"thru\", \"thru\", \"thru\", \"thursday\", \"thursday\", \"thursday\", \"thursday\", \"thursday\", \"time\", \"time\", \"time\", \"time\", \"time\", \"tmv\", \"tonight\", \"tonight\", \"tr\", \"tr\", \"tr\", \"two\", \"two\", \"two\", \"two\", \"two\", \"tyrell\", \"tyrell\", \"u\", \"u\", \"u\", \"u\", \"u\", \"underhanded\", \"underhanded\", \"underscore\", \"underscore\", \"union\", \"union\", \"union\", \"used\", \"used\", \"used\", \"used\", \"used\", \"validation\", \"validation\", \"valign\", \"valign\", \"variance\", \"variance\", \"vegetarian\", \"vegetarian\", \"veggie\", \"veggie\", \"vladimir\", \"vladimir\", \"volatility\", \"volatility\", \"volatility\", \"volatility\", \"volatility\", \"week\", \"week\", \"week\", \"week\", \"week\", \"whalley\", \"whalley\", \"whalley\", \"whitt\", \"whitt\", \"whitt\", \"width\", \"width\", \"width\", \"wj\", \"wj\", \"wolfe\", \"wolfe\", \"wolfe\", \"wolfe\", \"worker\", \"worker\", \"would\", \"would\", \"would\", \"would\", \"would\", \"wrap\", \"wrap\", \"wscc\", \"wscc\", \"wscc\", \"wscc\", \"year\", \"year\", \"year\", \"year\"]}, \"R\": 30, \"lambda.step\": 0.01, \"plot.opts\": {\"xlab\": \"PC1\", \"ylab\": \"PC2\"}, \"topic.order\": [1, 2, 3, 4, 5]};\n",
              "\n",
              "function LDAvis_load_lib(url, callback){\n",
              "  var s = document.createElement('script');\n",
              "  s.src = url;\n",
              "  s.async = true;\n",
              "  s.onreadystatechange = s.onload = callback;\n",
              "  s.onerror = function(){console.warn(\"failed to load library \" + url);};\n",
              "  document.getElementsByTagName(\"head\")[0].appendChild(s);\n",
              "}\n",
              "\n",
              "if(typeof(LDAvis) !== \"undefined\"){\n",
              "   // already loaded: just create the visualization\n",
              "   !function(LDAvis){\n",
              "       new LDAvis(\"#\" + \"ldavis_el33941375348982675042097683831\", ldavis_el33941375348982675042097683831_data);\n",
              "   }(LDAvis);\n",
              "}else if(typeof define === \"function\" && define.amd){\n",
              "   // require.js is available: use it to load d3/LDAvis\n",
              "   require.config({paths: {d3: \"https://d3js.org/d3.v5\"}});\n",
              "   require([\"d3\"], function(d3){\n",
              "      window.d3 = d3;\n",
              "      LDAvis_load_lib(\"https://cdn.jsdelivr.net/gh/bmabey/pyLDAvis@3.4.0/pyLDAvis/js/ldavis.v3.0.0.js\", function(){\n",
              "        new LDAvis(\"#\" + \"ldavis_el33941375348982675042097683831\", ldavis_el33941375348982675042097683831_data);\n",
              "      });\n",
              "    });\n",
              "}else{\n",
              "    // require.js not available: dynamically load d3 & LDAvis\n",
              "    LDAvis_load_lib(\"https://d3js.org/d3.v5.js\", function(){\n",
              "         LDAvis_load_lib(\"https://cdn.jsdelivr.net/gh/bmabey/pyLDAvis@3.4.0/pyLDAvis/js/ldavis.v3.0.0.js\", function(){\n",
              "                 new LDAvis(\"#\" + \"ldavis_el33941375348982675042097683831\", ldavis_el33941375348982675042097683831_data);\n",
              "            })\n",
              "         });\n",
              "}\n",
              "</script>"
            ]
          },
          "metadata": {},
          "execution_count": 246
        }
      ],
      "source": [
        "pyLDAvis.display(lda_display)"
      ]
    },
    {
      "cell_type": "markdown",
      "metadata": {
        "id": "0q7u1PipPGwx"
      },
      "source": [
        "#### Assign topics to your original data\n",
        "\n",
        "* One practical application of topic modeling is to determine what topic a given text is about\n",
        "* To find that, find the topic number that has the highest percentage contribution in that text\n",
        "* The function, `get_topic_details` shown here, nicely aggregates this information in a presentable table\n",
        "* Combine the original text data with the output of the `get_topic_details` function\n",
        "* Each row contains the dominant topic number, the probability score with that topic and the original text data\n",
        "\n",
        "```python\n",
        "def get_topic_details(ldamodel, corpus):\n",
        "    topic_details_df = pd.DataFrame()\n",
        "    for i, row in enumerate(ldamodel[corpus]):\n",
        "        row = sorted(row, key=lambda x: (x[1]), reverse=True)\n",
        "        for j, (topic_num, prop_topic) in enumerate(row):\n",
        "            if j == 0:  # => dominant topic\n",
        "                wp = ldamodel.show_topic(topic_num)\n",
        "                topic_details_df = topic_details_df.append(pd.Series([topic_num, prop_topic]), ignore_index=True)\n",
        "    topic_details_df.columns = ['Dominant_Topic', '% Score']\n",
        "    return topic_details_df\n",
        "\n",
        "\n",
        "contents = pd.DataFrame({'Original text':text_clean})\n",
        "topic_details = pd.concat([get_topic_details(ldamodel,\n",
        "                           corpus), contents], axis=1)\n",
        "topic_details.head()\n",
        "\n",
        "\n",
        "     Dominant_Topic    % Score     Original text\n",
        "0    0.0              0.989108    [investools, advisory, free, ...\n",
        "1    0.0              0.993513    [forwarded, richard, b, ...\n",
        "2    1.0              0.964858    [hey, wearing, target, purple, ...\n",
        "3    0.0              0.989241    [leslie, milosevich, santa, clara, ...\n",
        "```"
      ]
    },
    {
      "cell_type": "markdown",
      "metadata": {
        "id": "_scNUvQ2PGwx"
      },
      "source": [
        "### Interpreting the topic model\n",
        "\n",
        "* Use the visualization results from the pyLDAvis library shown in 4.4.0.2.\n",
        "* Have a look at topic 1 and 3 from the LDA model on the Enron email data. Which one would you research further for fraud detection purposes?\n",
        "\n",
        "**Possible Answers**\n",
        "\n",
        "* __**Topic 1.**__\n",
        "* ~~Topic 3.~~\n",
        "* ~~None of these topics seem related to fraud.~~\n",
        "\n",
        "\n",
        "**Topic 1 seems to discuss the employee share option program, and seems to point to internal conversation (with \"please, may, know\" etc), so this is more likely to be related to the internal accounting fraud and trading stock with insider knowledge. Topic 3 seems to be more related to general news around Enron.**"
      ]
    },
    {
      "cell_type": "markdown",
      "metadata": {
        "id": "tcIJodfAPGwx"
      },
      "source": [
        "### Finding fraudsters based on topic\n",
        "\n",
        "In this exercise you're going to **link the results** from the topic model **back to your original data**. You now learned that you want to **flag everything related to topic 3**. As you will see, this is actually not that straightforward. You'll be given the function `get_topic_details()` which takes the arguments `ldamodel` and `corpus`. It retrieves the details of the topics for each line of text. With that function, you can append the results back to your original data. If you want to learn more detail on how to work with the model results, which is beyond the scope of this course, you're highly encouraged to read this [article](https://www.machinelearningplus.com/nlp/topic-modeling-gensim-python/).\n",
        "\n",
        "Available for you are the `dictionary` and `corpus`, the text data `text_clean` as well as your model results `ldamodel`. Also defined is `get_topic_details()`.\n",
        "\n",
        "**Instructions 1/3**\n",
        "\n",
        "* Print and inspect the results from the `get_topic_details()` function by inserting your LDA model results and `corpus`."
      ]
    },
    {
      "cell_type": "markdown",
      "metadata": {
        "id": "5_q7bYjGPGwx"
      },
      "source": [
        "#### def get_topic_details"
      ]
    },
    {
      "cell_type": "code",
      "execution_count": 247,
      "metadata": {
        "tags": [],
        "id": "KikscanHPGwx"
      },
      "outputs": [],
      "source": [
        "def get_topic_details(ldamodel, corpus):\n",
        "    topic_details_df = pd.DataFrame()\n",
        "    for i, row in enumerate(ldamodel[corpus]):\n",
        "        row = sorted(row, key=lambda x: (x[1]), reverse=True)\n",
        "        for j, (topic_num, prop_topic) in enumerate(row):\n",
        "            if j == 0:  # => dominant topic\n",
        "                wp = ldamodel.show_topic(topic_num)\n",
        "                topic_details_df = topic_details_df.append(pd.Series([topic_num, prop_topic]), ignore_index=True)\n",
        "    topic_details_df.columns = ['Dominant_Topic', '% Score']\n",
        "    return topic_details_df"
      ]
    },
    {
      "cell_type": "code",
      "execution_count": 248,
      "metadata": {
        "tags": [],
        "id": "ftD9jeGjPGwx"
      },
      "outputs": [],
      "source": [
        "# Run get_topic_details function and check the results\n",
        "topic_details_df = get_topic_details(ldamodel, corpus)"
      ]
    },
    {
      "cell_type": "code",
      "execution_count": 249,
      "metadata": {
        "tags": [],
        "colab": {
          "base_uri": "https://localhost:8080/",
          "height": 206
        },
        "id": "1w-AVy2ePGwx",
        "outputId": "2c24e1fb-ac28-42f0-b688-6f4b49df67fe"
      },
      "outputs": [
        {
          "output_type": "execute_result",
          "data": {
            "text/plain": [
              "   Dominant_Topic   % Score\n",
              "0             1.0  0.999213\n",
              "1             0.0  0.669056\n",
              "2             0.0  0.558604\n",
              "3             0.0  0.993492\n",
              "4             0.0  0.993383"
            ],
            "text/html": [
              "\n",
              "  <div id=\"df-8fefbe5a-4f27-42e7-a949-060060220542\" class=\"colab-df-container\">\n",
              "    <div>\n",
              "<style scoped>\n",
              "    .dataframe tbody tr th:only-of-type {\n",
              "        vertical-align: middle;\n",
              "    }\n",
              "\n",
              "    .dataframe tbody tr th {\n",
              "        vertical-align: top;\n",
              "    }\n",
              "\n",
              "    .dataframe thead th {\n",
              "        text-align: right;\n",
              "    }\n",
              "</style>\n",
              "<table border=\"1\" class=\"dataframe\">\n",
              "  <thead>\n",
              "    <tr style=\"text-align: right;\">\n",
              "      <th></th>\n",
              "      <th>Dominant_Topic</th>\n",
              "      <th>% Score</th>\n",
              "    </tr>\n",
              "  </thead>\n",
              "  <tbody>\n",
              "    <tr>\n",
              "      <th>0</th>\n",
              "      <td>1.0</td>\n",
              "      <td>0.999213</td>\n",
              "    </tr>\n",
              "    <tr>\n",
              "      <th>1</th>\n",
              "      <td>0.0</td>\n",
              "      <td>0.669056</td>\n",
              "    </tr>\n",
              "    <tr>\n",
              "      <th>2</th>\n",
              "      <td>0.0</td>\n",
              "      <td>0.558604</td>\n",
              "    </tr>\n",
              "    <tr>\n",
              "      <th>3</th>\n",
              "      <td>0.0</td>\n",
              "      <td>0.993492</td>\n",
              "    </tr>\n",
              "    <tr>\n",
              "      <th>4</th>\n",
              "      <td>0.0</td>\n",
              "      <td>0.993383</td>\n",
              "    </tr>\n",
              "  </tbody>\n",
              "</table>\n",
              "</div>\n",
              "    <div class=\"colab-df-buttons\">\n",
              "\n",
              "  <div class=\"colab-df-container\">\n",
              "    <button class=\"colab-df-convert\" onclick=\"convertToInteractive('df-8fefbe5a-4f27-42e7-a949-060060220542')\"\n",
              "            title=\"Convert this dataframe to an interactive table.\"\n",
              "            style=\"display:none;\">\n",
              "\n",
              "  <svg xmlns=\"http://www.w3.org/2000/svg\" height=\"24px\" viewBox=\"0 -960 960 960\">\n",
              "    <path d=\"M120-120v-720h720v720H120Zm60-500h600v-160H180v160Zm220 220h160v-160H400v160Zm0 220h160v-160H400v160ZM180-400h160v-160H180v160Zm440 0h160v-160H620v160ZM180-180h160v-160H180v160Zm440 0h160v-160H620v160Z\"/>\n",
              "  </svg>\n",
              "    </button>\n",
              "\n",
              "  <style>\n",
              "    .colab-df-container {\n",
              "      display:flex;\n",
              "      gap: 12px;\n",
              "    }\n",
              "\n",
              "    .colab-df-convert {\n",
              "      background-color: #E8F0FE;\n",
              "      border: none;\n",
              "      border-radius: 50%;\n",
              "      cursor: pointer;\n",
              "      display: none;\n",
              "      fill: #1967D2;\n",
              "      height: 32px;\n",
              "      padding: 0 0 0 0;\n",
              "      width: 32px;\n",
              "    }\n",
              "\n",
              "    .colab-df-convert:hover {\n",
              "      background-color: #E2EBFA;\n",
              "      box-shadow: 0px 1px 2px rgba(60, 64, 67, 0.3), 0px 1px 3px 1px rgba(60, 64, 67, 0.15);\n",
              "      fill: #174EA6;\n",
              "    }\n",
              "\n",
              "    .colab-df-buttons div {\n",
              "      margin-bottom: 4px;\n",
              "    }\n",
              "\n",
              "    [theme=dark] .colab-df-convert {\n",
              "      background-color: #3B4455;\n",
              "      fill: #D2E3FC;\n",
              "    }\n",
              "\n",
              "    [theme=dark] .colab-df-convert:hover {\n",
              "      background-color: #434B5C;\n",
              "      box-shadow: 0px 1px 3px 1px rgba(0, 0, 0, 0.15);\n",
              "      filter: drop-shadow(0px 1px 2px rgba(0, 0, 0, 0.3));\n",
              "      fill: #FFFFFF;\n",
              "    }\n",
              "  </style>\n",
              "\n",
              "    <script>\n",
              "      const buttonEl =\n",
              "        document.querySelector('#df-8fefbe5a-4f27-42e7-a949-060060220542 button.colab-df-convert');\n",
              "      buttonEl.style.display =\n",
              "        google.colab.kernel.accessAllowed ? 'block' : 'none';\n",
              "\n",
              "      async function convertToInteractive(key) {\n",
              "        const element = document.querySelector('#df-8fefbe5a-4f27-42e7-a949-060060220542');\n",
              "        const dataTable =\n",
              "          await google.colab.kernel.invokeFunction('convertToInteractive',\n",
              "                                                    [key], {});\n",
              "        if (!dataTable) return;\n",
              "\n",
              "        const docLinkHtml = 'Like what you see? Visit the ' +\n",
              "          '<a target=\"_blank\" href=https://colab.research.google.com/notebooks/data_table.ipynb>data table notebook</a>'\n",
              "          + ' to learn more about interactive tables.';\n",
              "        element.innerHTML = '';\n",
              "        dataTable['output_type'] = 'display_data';\n",
              "        await google.colab.output.renderOutput(dataTable, element);\n",
              "        const docLink = document.createElement('div');\n",
              "        docLink.innerHTML = docLinkHtml;\n",
              "        element.appendChild(docLink);\n",
              "      }\n",
              "    </script>\n",
              "  </div>\n",
              "\n",
              "\n",
              "<div id=\"df-3b81c434-d9d4-40b6-9016-577fac0fdd6c\">\n",
              "  <button class=\"colab-df-quickchart\" onclick=\"quickchart('df-3b81c434-d9d4-40b6-9016-577fac0fdd6c')\"\n",
              "            title=\"Suggest charts\"\n",
              "            style=\"display:none;\">\n",
              "\n",
              "<svg xmlns=\"http://www.w3.org/2000/svg\" height=\"24px\"viewBox=\"0 0 24 24\"\n",
              "     width=\"24px\">\n",
              "    <g>\n",
              "        <path d=\"M19 3H5c-1.1 0-2 .9-2 2v14c0 1.1.9 2 2 2h14c1.1 0 2-.9 2-2V5c0-1.1-.9-2-2-2zM9 17H7v-7h2v7zm4 0h-2V7h2v10zm4 0h-2v-4h2v4z\"/>\n",
              "    </g>\n",
              "</svg>\n",
              "  </button>\n",
              "\n",
              "<style>\n",
              "  .colab-df-quickchart {\n",
              "      --bg-color: #E8F0FE;\n",
              "      --fill-color: #1967D2;\n",
              "      --hover-bg-color: #E2EBFA;\n",
              "      --hover-fill-color: #174EA6;\n",
              "      --disabled-fill-color: #AAA;\n",
              "      --disabled-bg-color: #DDD;\n",
              "  }\n",
              "\n",
              "  [theme=dark] .colab-df-quickchart {\n",
              "      --bg-color: #3B4455;\n",
              "      --fill-color: #D2E3FC;\n",
              "      --hover-bg-color: #434B5C;\n",
              "      --hover-fill-color: #FFFFFF;\n",
              "      --disabled-bg-color: #3B4455;\n",
              "      --disabled-fill-color: #666;\n",
              "  }\n",
              "\n",
              "  .colab-df-quickchart {\n",
              "    background-color: var(--bg-color);\n",
              "    border: none;\n",
              "    border-radius: 50%;\n",
              "    cursor: pointer;\n",
              "    display: none;\n",
              "    fill: var(--fill-color);\n",
              "    height: 32px;\n",
              "    padding: 0;\n",
              "    width: 32px;\n",
              "  }\n",
              "\n",
              "  .colab-df-quickchart:hover {\n",
              "    background-color: var(--hover-bg-color);\n",
              "    box-shadow: 0 1px 2px rgba(60, 64, 67, 0.3), 0 1px 3px 1px rgba(60, 64, 67, 0.15);\n",
              "    fill: var(--button-hover-fill-color);\n",
              "  }\n",
              "\n",
              "  .colab-df-quickchart-complete:disabled,\n",
              "  .colab-df-quickchart-complete:disabled:hover {\n",
              "    background-color: var(--disabled-bg-color);\n",
              "    fill: var(--disabled-fill-color);\n",
              "    box-shadow: none;\n",
              "  }\n",
              "\n",
              "  .colab-df-spinner {\n",
              "    border: 2px solid var(--fill-color);\n",
              "    border-color: transparent;\n",
              "    border-bottom-color: var(--fill-color);\n",
              "    animation:\n",
              "      spin 1s steps(1) infinite;\n",
              "  }\n",
              "\n",
              "  @keyframes spin {\n",
              "    0% {\n",
              "      border-color: transparent;\n",
              "      border-bottom-color: var(--fill-color);\n",
              "      border-left-color: var(--fill-color);\n",
              "    }\n",
              "    20% {\n",
              "      border-color: transparent;\n",
              "      border-left-color: var(--fill-color);\n",
              "      border-top-color: var(--fill-color);\n",
              "    }\n",
              "    30% {\n",
              "      border-color: transparent;\n",
              "      border-left-color: var(--fill-color);\n",
              "      border-top-color: var(--fill-color);\n",
              "      border-right-color: var(--fill-color);\n",
              "    }\n",
              "    40% {\n",
              "      border-color: transparent;\n",
              "      border-right-color: var(--fill-color);\n",
              "      border-top-color: var(--fill-color);\n",
              "    }\n",
              "    60% {\n",
              "      border-color: transparent;\n",
              "      border-right-color: var(--fill-color);\n",
              "    }\n",
              "    80% {\n",
              "      border-color: transparent;\n",
              "      border-right-color: var(--fill-color);\n",
              "      border-bottom-color: var(--fill-color);\n",
              "    }\n",
              "    90% {\n",
              "      border-color: transparent;\n",
              "      border-bottom-color: var(--fill-color);\n",
              "    }\n",
              "  }\n",
              "</style>\n",
              "\n",
              "  <script>\n",
              "    async function quickchart(key) {\n",
              "      const quickchartButtonEl =\n",
              "        document.querySelector('#' + key + ' button');\n",
              "      quickchartButtonEl.disabled = true;  // To prevent multiple clicks.\n",
              "      quickchartButtonEl.classList.add('colab-df-spinner');\n",
              "      try {\n",
              "        const charts = await google.colab.kernel.invokeFunction(\n",
              "            'suggestCharts', [key], {});\n",
              "      } catch (error) {\n",
              "        console.error('Error during call to suggestCharts:', error);\n",
              "      }\n",
              "      quickchartButtonEl.classList.remove('colab-df-spinner');\n",
              "      quickchartButtonEl.classList.add('colab-df-quickchart-complete');\n",
              "    }\n",
              "    (() => {\n",
              "      let quickchartButtonEl =\n",
              "        document.querySelector('#df-3b81c434-d9d4-40b6-9016-577fac0fdd6c button');\n",
              "      quickchartButtonEl.style.display =\n",
              "        google.colab.kernel.accessAllowed ? 'block' : 'none';\n",
              "    })();\n",
              "  </script>\n",
              "</div>\n",
              "    </div>\n",
              "  </div>\n"
            ],
            "application/vnd.google.colaboratory.intrinsic+json": {
              "type": "dataframe",
              "variable_name": "topic_details_df",
              "summary": "{\n  \"name\": \"topic_details_df\",\n  \"rows\": 2090,\n  \"fields\": [\n    {\n      \"column\": \"Dominant_Topic\",\n      \"properties\": {\n        \"dtype\": \"number\",\n        \"std\": 1.0191252450970287,\n        \"min\": 0.0,\n        \"max\": 4.0,\n        \"num_unique_values\": 5,\n        \"samples\": [\n          0.0,\n          3.0,\n          2.0\n        ],\n        \"semantic_type\": \"\",\n        \"description\": \"\"\n      }\n    },\n    {\n      \"column\": \"% Score\",\n      \"properties\": {\n        \"dtype\": \"number\",\n        \"std\": 0.20031709940769157,\n        \"min\": 0.3023955821990967,\n        \"max\": 0.9999626278877258,\n        \"num_unique_values\": 2071,\n        \"samples\": [\n          0.716550350189209,\n          0.7336416244506836,\n          0.908845067024231\n        ],\n        \"semantic_type\": \"\",\n        \"description\": \"\"\n      }\n    }\n  ]\n}"
            }
          },
          "metadata": {},
          "execution_count": 249
        }
      ],
      "source": [
        "topic_details_df.head()"
      ]
    },
    {
      "cell_type": "code",
      "execution_count": 250,
      "metadata": {
        "tags": [],
        "colab": {
          "base_uri": "https://localhost:8080/",
          "height": 206
        },
        "id": "5F9Lu-sRPGwx",
        "outputId": "e87e691b-1b0e-4b79-beca-8d520b4eed10"
      },
      "outputs": [
        {
          "output_type": "execute_result",
          "data": {
            "text/plain": [
              "      Dominant_Topic   % Score\n",
              "2085             3.0  0.910079\n",
              "2086             3.0  0.597677\n",
              "2087             4.0  0.999324\n",
              "2088             3.0  0.998130\n",
              "2089             0.0  0.988426"
            ],
            "text/html": [
              "\n",
              "  <div id=\"df-1c7bbe25-6031-4368-aa02-84d5968fa07e\" class=\"colab-df-container\">\n",
              "    <div>\n",
              "<style scoped>\n",
              "    .dataframe tbody tr th:only-of-type {\n",
              "        vertical-align: middle;\n",
              "    }\n",
              "\n",
              "    .dataframe tbody tr th {\n",
              "        vertical-align: top;\n",
              "    }\n",
              "\n",
              "    .dataframe thead th {\n",
              "        text-align: right;\n",
              "    }\n",
              "</style>\n",
              "<table border=\"1\" class=\"dataframe\">\n",
              "  <thead>\n",
              "    <tr style=\"text-align: right;\">\n",
              "      <th></th>\n",
              "      <th>Dominant_Topic</th>\n",
              "      <th>% Score</th>\n",
              "    </tr>\n",
              "  </thead>\n",
              "  <tbody>\n",
              "    <tr>\n",
              "      <th>2085</th>\n",
              "      <td>3.0</td>\n",
              "      <td>0.910079</td>\n",
              "    </tr>\n",
              "    <tr>\n",
              "      <th>2086</th>\n",
              "      <td>3.0</td>\n",
              "      <td>0.597677</td>\n",
              "    </tr>\n",
              "    <tr>\n",
              "      <th>2087</th>\n",
              "      <td>4.0</td>\n",
              "      <td>0.999324</td>\n",
              "    </tr>\n",
              "    <tr>\n",
              "      <th>2088</th>\n",
              "      <td>3.0</td>\n",
              "      <td>0.998130</td>\n",
              "    </tr>\n",
              "    <tr>\n",
              "      <th>2089</th>\n",
              "      <td>0.0</td>\n",
              "      <td>0.988426</td>\n",
              "    </tr>\n",
              "  </tbody>\n",
              "</table>\n",
              "</div>\n",
              "    <div class=\"colab-df-buttons\">\n",
              "\n",
              "  <div class=\"colab-df-container\">\n",
              "    <button class=\"colab-df-convert\" onclick=\"convertToInteractive('df-1c7bbe25-6031-4368-aa02-84d5968fa07e')\"\n",
              "            title=\"Convert this dataframe to an interactive table.\"\n",
              "            style=\"display:none;\">\n",
              "\n",
              "  <svg xmlns=\"http://www.w3.org/2000/svg\" height=\"24px\" viewBox=\"0 -960 960 960\">\n",
              "    <path d=\"M120-120v-720h720v720H120Zm60-500h600v-160H180v160Zm220 220h160v-160H400v160Zm0 220h160v-160H400v160ZM180-400h160v-160H180v160Zm440 0h160v-160H620v160ZM180-180h160v-160H180v160Zm440 0h160v-160H620v160Z\"/>\n",
              "  </svg>\n",
              "    </button>\n",
              "\n",
              "  <style>\n",
              "    .colab-df-container {\n",
              "      display:flex;\n",
              "      gap: 12px;\n",
              "    }\n",
              "\n",
              "    .colab-df-convert {\n",
              "      background-color: #E8F0FE;\n",
              "      border: none;\n",
              "      border-radius: 50%;\n",
              "      cursor: pointer;\n",
              "      display: none;\n",
              "      fill: #1967D2;\n",
              "      height: 32px;\n",
              "      padding: 0 0 0 0;\n",
              "      width: 32px;\n",
              "    }\n",
              "\n",
              "    .colab-df-convert:hover {\n",
              "      background-color: #E2EBFA;\n",
              "      box-shadow: 0px 1px 2px rgba(60, 64, 67, 0.3), 0px 1px 3px 1px rgba(60, 64, 67, 0.15);\n",
              "      fill: #174EA6;\n",
              "    }\n",
              "\n",
              "    .colab-df-buttons div {\n",
              "      margin-bottom: 4px;\n",
              "    }\n",
              "\n",
              "    [theme=dark] .colab-df-convert {\n",
              "      background-color: #3B4455;\n",
              "      fill: #D2E3FC;\n",
              "    }\n",
              "\n",
              "    [theme=dark] .colab-df-convert:hover {\n",
              "      background-color: #434B5C;\n",
              "      box-shadow: 0px 1px 3px 1px rgba(0, 0, 0, 0.15);\n",
              "      filter: drop-shadow(0px 1px 2px rgba(0, 0, 0, 0.3));\n",
              "      fill: #FFFFFF;\n",
              "    }\n",
              "  </style>\n",
              "\n",
              "    <script>\n",
              "      const buttonEl =\n",
              "        document.querySelector('#df-1c7bbe25-6031-4368-aa02-84d5968fa07e button.colab-df-convert');\n",
              "      buttonEl.style.display =\n",
              "        google.colab.kernel.accessAllowed ? 'block' : 'none';\n",
              "\n",
              "      async function convertToInteractive(key) {\n",
              "        const element = document.querySelector('#df-1c7bbe25-6031-4368-aa02-84d5968fa07e');\n",
              "        const dataTable =\n",
              "          await google.colab.kernel.invokeFunction('convertToInteractive',\n",
              "                                                    [key], {});\n",
              "        if (!dataTable) return;\n",
              "\n",
              "        const docLinkHtml = 'Like what you see? Visit the ' +\n",
              "          '<a target=\"_blank\" href=https://colab.research.google.com/notebooks/data_table.ipynb>data table notebook</a>'\n",
              "          + ' to learn more about interactive tables.';\n",
              "        element.innerHTML = '';\n",
              "        dataTable['output_type'] = 'display_data';\n",
              "        await google.colab.output.renderOutput(dataTable, element);\n",
              "        const docLink = document.createElement('div');\n",
              "        docLink.innerHTML = docLinkHtml;\n",
              "        element.appendChild(docLink);\n",
              "      }\n",
              "    </script>\n",
              "  </div>\n",
              "\n",
              "\n",
              "<div id=\"df-baca7488-2fc7-4817-8f1d-870bfb30e07f\">\n",
              "  <button class=\"colab-df-quickchart\" onclick=\"quickchart('df-baca7488-2fc7-4817-8f1d-870bfb30e07f')\"\n",
              "            title=\"Suggest charts\"\n",
              "            style=\"display:none;\">\n",
              "\n",
              "<svg xmlns=\"http://www.w3.org/2000/svg\" height=\"24px\"viewBox=\"0 0 24 24\"\n",
              "     width=\"24px\">\n",
              "    <g>\n",
              "        <path d=\"M19 3H5c-1.1 0-2 .9-2 2v14c0 1.1.9 2 2 2h14c1.1 0 2-.9 2-2V5c0-1.1-.9-2-2-2zM9 17H7v-7h2v7zm4 0h-2V7h2v10zm4 0h-2v-4h2v4z\"/>\n",
              "    </g>\n",
              "</svg>\n",
              "  </button>\n",
              "\n",
              "<style>\n",
              "  .colab-df-quickchart {\n",
              "      --bg-color: #E8F0FE;\n",
              "      --fill-color: #1967D2;\n",
              "      --hover-bg-color: #E2EBFA;\n",
              "      --hover-fill-color: #174EA6;\n",
              "      --disabled-fill-color: #AAA;\n",
              "      --disabled-bg-color: #DDD;\n",
              "  }\n",
              "\n",
              "  [theme=dark] .colab-df-quickchart {\n",
              "      --bg-color: #3B4455;\n",
              "      --fill-color: #D2E3FC;\n",
              "      --hover-bg-color: #434B5C;\n",
              "      --hover-fill-color: #FFFFFF;\n",
              "      --disabled-bg-color: #3B4455;\n",
              "      --disabled-fill-color: #666;\n",
              "  }\n",
              "\n",
              "  .colab-df-quickchart {\n",
              "    background-color: var(--bg-color);\n",
              "    border: none;\n",
              "    border-radius: 50%;\n",
              "    cursor: pointer;\n",
              "    display: none;\n",
              "    fill: var(--fill-color);\n",
              "    height: 32px;\n",
              "    padding: 0;\n",
              "    width: 32px;\n",
              "  }\n",
              "\n",
              "  .colab-df-quickchart:hover {\n",
              "    background-color: var(--hover-bg-color);\n",
              "    box-shadow: 0 1px 2px rgba(60, 64, 67, 0.3), 0 1px 3px 1px rgba(60, 64, 67, 0.15);\n",
              "    fill: var(--button-hover-fill-color);\n",
              "  }\n",
              "\n",
              "  .colab-df-quickchart-complete:disabled,\n",
              "  .colab-df-quickchart-complete:disabled:hover {\n",
              "    background-color: var(--disabled-bg-color);\n",
              "    fill: var(--disabled-fill-color);\n",
              "    box-shadow: none;\n",
              "  }\n",
              "\n",
              "  .colab-df-spinner {\n",
              "    border: 2px solid var(--fill-color);\n",
              "    border-color: transparent;\n",
              "    border-bottom-color: var(--fill-color);\n",
              "    animation:\n",
              "      spin 1s steps(1) infinite;\n",
              "  }\n",
              "\n",
              "  @keyframes spin {\n",
              "    0% {\n",
              "      border-color: transparent;\n",
              "      border-bottom-color: var(--fill-color);\n",
              "      border-left-color: var(--fill-color);\n",
              "    }\n",
              "    20% {\n",
              "      border-color: transparent;\n",
              "      border-left-color: var(--fill-color);\n",
              "      border-top-color: var(--fill-color);\n",
              "    }\n",
              "    30% {\n",
              "      border-color: transparent;\n",
              "      border-left-color: var(--fill-color);\n",
              "      border-top-color: var(--fill-color);\n",
              "      border-right-color: var(--fill-color);\n",
              "    }\n",
              "    40% {\n",
              "      border-color: transparent;\n",
              "      border-right-color: var(--fill-color);\n",
              "      border-top-color: var(--fill-color);\n",
              "    }\n",
              "    60% {\n",
              "      border-color: transparent;\n",
              "      border-right-color: var(--fill-color);\n",
              "    }\n",
              "    80% {\n",
              "      border-color: transparent;\n",
              "      border-right-color: var(--fill-color);\n",
              "      border-bottom-color: var(--fill-color);\n",
              "    }\n",
              "    90% {\n",
              "      border-color: transparent;\n",
              "      border-bottom-color: var(--fill-color);\n",
              "    }\n",
              "  }\n",
              "</style>\n",
              "\n",
              "  <script>\n",
              "    async function quickchart(key) {\n",
              "      const quickchartButtonEl =\n",
              "        document.querySelector('#' + key + ' button');\n",
              "      quickchartButtonEl.disabled = true;  // To prevent multiple clicks.\n",
              "      quickchartButtonEl.classList.add('colab-df-spinner');\n",
              "      try {\n",
              "        const charts = await google.colab.kernel.invokeFunction(\n",
              "            'suggestCharts', [key], {});\n",
              "      } catch (error) {\n",
              "        console.error('Error during call to suggestCharts:', error);\n",
              "      }\n",
              "      quickchartButtonEl.classList.remove('colab-df-spinner');\n",
              "      quickchartButtonEl.classList.add('colab-df-quickchart-complete');\n",
              "    }\n",
              "    (() => {\n",
              "      let quickchartButtonEl =\n",
              "        document.querySelector('#df-baca7488-2fc7-4817-8f1d-870bfb30e07f button');\n",
              "      quickchartButtonEl.style.display =\n",
              "        google.colab.kernel.accessAllowed ? 'block' : 'none';\n",
              "    })();\n",
              "  </script>\n",
              "</div>\n",
              "    </div>\n",
              "  </div>\n"
            ],
            "application/vnd.google.colaboratory.intrinsic+json": {
              "type": "dataframe",
              "summary": "{\n  \"name\": \"topic_details_df\",\n  \"rows\": 5,\n  \"fields\": [\n    {\n      \"column\": \"Dominant_Topic\",\n      \"properties\": {\n        \"dtype\": \"number\",\n        \"std\": 1.51657508881031,\n        \"min\": 0.0,\n        \"max\": 4.0,\n        \"num_unique_values\": 3,\n        \"samples\": [\n          3.0,\n          4.0,\n          0.0\n        ],\n        \"semantic_type\": \"\",\n        \"description\": \"\"\n      }\n    },\n    {\n      \"column\": \"% Score\",\n      \"properties\": {\n        \"dtype\": \"number\",\n        \"std\": 0.17234158588477821,\n        \"min\": 0.5976771712303162,\n        \"max\": 0.999323844909668,\n        \"num_unique_values\": 5,\n        \"samples\": [\n          0.5976771712303162,\n          0.9884264469146729,\n          0.999323844909668\n        ],\n        \"semantic_type\": \"\",\n        \"description\": \"\"\n      }\n    }\n  ]\n}"
            }
          },
          "metadata": {},
          "execution_count": 250
        }
      ],
      "source": [
        "topic_details_df.tail()"
      ]
    },
    {
      "cell_type": "markdown",
      "metadata": {
        "id": "G4GWGBEMPGwy"
      },
      "source": [
        "**Instructions 2/3**\n",
        "\n",
        "* Concatenate column-wise the results from the previously defined function `get_topic_details()` to the original text data contained under `contents` and inspect the results."
      ]
    },
    {
      "cell_type": "code",
      "execution_count": 251,
      "metadata": {
        "tags": [],
        "id": "7qyKbrKLPGwy"
      },
      "outputs": [],
      "source": [
        "# Add original text to topic details in a dataframe\n",
        "contents = pd.DataFrame({'Original text': text_clean})\n",
        "topic_details = pd.concat([get_topic_details(ldamodel, corpus), contents], axis=1)"
      ]
    },
    {
      "cell_type": "code",
      "execution_count": 252,
      "metadata": {
        "tags": [],
        "colab": {
          "base_uri": "https://localhost:8080/",
          "height": 206
        },
        "id": "DsoMufZsPGwy",
        "outputId": "fd30a24c-bb67-40bf-cba7-ee59f3deafac"
      },
      "outputs": [
        {
          "output_type": "execute_result",
          "data": {
            "text/plain": [
              "     Dominant_Topic   % Score  \\\n",
              "442             1.0  0.999963   \n",
              "849             1.0  0.999872   \n",
              "285             1.0  0.999801   \n",
              "520             1.0  0.999748   \n",
              "326             1.0  0.999727   \n",
              "\n",
              "                                         Original text  \n",
              "442  [pleased, send, web, based, e, mail, alert, pr...  \n",
              "849  [original, message, received, thu, aug, cdt, e...  \n",
              "285  [original, message, vann, suzanne, wednesday, ...  \n",
              "520  [venturewire, monday, november, content, compa...  \n",
              "326  [forwarded, john, arnold, hou, ann, schmidt, e...  "
            ],
            "text/html": [
              "\n",
              "  <div id=\"df-12eb0022-1b3e-4cb9-b894-0b8b225205b1\" class=\"colab-df-container\">\n",
              "    <div>\n",
              "<style scoped>\n",
              "    .dataframe tbody tr th:only-of-type {\n",
              "        vertical-align: middle;\n",
              "    }\n",
              "\n",
              "    .dataframe tbody tr th {\n",
              "        vertical-align: top;\n",
              "    }\n",
              "\n",
              "    .dataframe thead th {\n",
              "        text-align: right;\n",
              "    }\n",
              "</style>\n",
              "<table border=\"1\" class=\"dataframe\">\n",
              "  <thead>\n",
              "    <tr style=\"text-align: right;\">\n",
              "      <th></th>\n",
              "      <th>Dominant_Topic</th>\n",
              "      <th>% Score</th>\n",
              "      <th>Original text</th>\n",
              "    </tr>\n",
              "  </thead>\n",
              "  <tbody>\n",
              "    <tr>\n",
              "      <th>442</th>\n",
              "      <td>1.0</td>\n",
              "      <td>0.999963</td>\n",
              "      <td>[pleased, send, web, based, e, mail, alert, pr...</td>\n",
              "    </tr>\n",
              "    <tr>\n",
              "      <th>849</th>\n",
              "      <td>1.0</td>\n",
              "      <td>0.999872</td>\n",
              "      <td>[original, message, received, thu, aug, cdt, e...</td>\n",
              "    </tr>\n",
              "    <tr>\n",
              "      <th>285</th>\n",
              "      <td>1.0</td>\n",
              "      <td>0.999801</td>\n",
              "      <td>[original, message, vann, suzanne, wednesday, ...</td>\n",
              "    </tr>\n",
              "    <tr>\n",
              "      <th>520</th>\n",
              "      <td>1.0</td>\n",
              "      <td>0.999748</td>\n",
              "      <td>[venturewire, monday, november, content, compa...</td>\n",
              "    </tr>\n",
              "    <tr>\n",
              "      <th>326</th>\n",
              "      <td>1.0</td>\n",
              "      <td>0.999727</td>\n",
              "      <td>[forwarded, john, arnold, hou, ann, schmidt, e...</td>\n",
              "    </tr>\n",
              "  </tbody>\n",
              "</table>\n",
              "</div>\n",
              "    <div class=\"colab-df-buttons\">\n",
              "\n",
              "  <div class=\"colab-df-container\">\n",
              "    <button class=\"colab-df-convert\" onclick=\"convertToInteractive('df-12eb0022-1b3e-4cb9-b894-0b8b225205b1')\"\n",
              "            title=\"Convert this dataframe to an interactive table.\"\n",
              "            style=\"display:none;\">\n",
              "\n",
              "  <svg xmlns=\"http://www.w3.org/2000/svg\" height=\"24px\" viewBox=\"0 -960 960 960\">\n",
              "    <path d=\"M120-120v-720h720v720H120Zm60-500h600v-160H180v160Zm220 220h160v-160H400v160Zm0 220h160v-160H400v160ZM180-400h160v-160H180v160Zm440 0h160v-160H620v160ZM180-180h160v-160H180v160Zm440 0h160v-160H620v160Z\"/>\n",
              "  </svg>\n",
              "    </button>\n",
              "\n",
              "  <style>\n",
              "    .colab-df-container {\n",
              "      display:flex;\n",
              "      gap: 12px;\n",
              "    }\n",
              "\n",
              "    .colab-df-convert {\n",
              "      background-color: #E8F0FE;\n",
              "      border: none;\n",
              "      border-radius: 50%;\n",
              "      cursor: pointer;\n",
              "      display: none;\n",
              "      fill: #1967D2;\n",
              "      height: 32px;\n",
              "      padding: 0 0 0 0;\n",
              "      width: 32px;\n",
              "    }\n",
              "\n",
              "    .colab-df-convert:hover {\n",
              "      background-color: #E2EBFA;\n",
              "      box-shadow: 0px 1px 2px rgba(60, 64, 67, 0.3), 0px 1px 3px 1px rgba(60, 64, 67, 0.15);\n",
              "      fill: #174EA6;\n",
              "    }\n",
              "\n",
              "    .colab-df-buttons div {\n",
              "      margin-bottom: 4px;\n",
              "    }\n",
              "\n",
              "    [theme=dark] .colab-df-convert {\n",
              "      background-color: #3B4455;\n",
              "      fill: #D2E3FC;\n",
              "    }\n",
              "\n",
              "    [theme=dark] .colab-df-convert:hover {\n",
              "      background-color: #434B5C;\n",
              "      box-shadow: 0px 1px 3px 1px rgba(0, 0, 0, 0.15);\n",
              "      filter: drop-shadow(0px 1px 2px rgba(0, 0, 0, 0.3));\n",
              "      fill: #FFFFFF;\n",
              "    }\n",
              "  </style>\n",
              "\n",
              "    <script>\n",
              "      const buttonEl =\n",
              "        document.querySelector('#df-12eb0022-1b3e-4cb9-b894-0b8b225205b1 button.colab-df-convert');\n",
              "      buttonEl.style.display =\n",
              "        google.colab.kernel.accessAllowed ? 'block' : 'none';\n",
              "\n",
              "      async function convertToInteractive(key) {\n",
              "        const element = document.querySelector('#df-12eb0022-1b3e-4cb9-b894-0b8b225205b1');\n",
              "        const dataTable =\n",
              "          await google.colab.kernel.invokeFunction('convertToInteractive',\n",
              "                                                    [key], {});\n",
              "        if (!dataTable) return;\n",
              "\n",
              "        const docLinkHtml = 'Like what you see? Visit the ' +\n",
              "          '<a target=\"_blank\" href=https://colab.research.google.com/notebooks/data_table.ipynb>data table notebook</a>'\n",
              "          + ' to learn more about interactive tables.';\n",
              "        element.innerHTML = '';\n",
              "        dataTable['output_type'] = 'display_data';\n",
              "        await google.colab.output.renderOutput(dataTable, element);\n",
              "        const docLink = document.createElement('div');\n",
              "        docLink.innerHTML = docLinkHtml;\n",
              "        element.appendChild(docLink);\n",
              "      }\n",
              "    </script>\n",
              "  </div>\n",
              "\n",
              "\n",
              "<div id=\"df-a985a848-6fec-4a3c-9276-73c2311b6a16\">\n",
              "  <button class=\"colab-df-quickchart\" onclick=\"quickchart('df-a985a848-6fec-4a3c-9276-73c2311b6a16')\"\n",
              "            title=\"Suggest charts\"\n",
              "            style=\"display:none;\">\n",
              "\n",
              "<svg xmlns=\"http://www.w3.org/2000/svg\" height=\"24px\"viewBox=\"0 0 24 24\"\n",
              "     width=\"24px\">\n",
              "    <g>\n",
              "        <path d=\"M19 3H5c-1.1 0-2 .9-2 2v14c0 1.1.9 2 2 2h14c1.1 0 2-.9 2-2V5c0-1.1-.9-2-2-2zM9 17H7v-7h2v7zm4 0h-2V7h2v10zm4 0h-2v-4h2v4z\"/>\n",
              "    </g>\n",
              "</svg>\n",
              "  </button>\n",
              "\n",
              "<style>\n",
              "  .colab-df-quickchart {\n",
              "      --bg-color: #E8F0FE;\n",
              "      --fill-color: #1967D2;\n",
              "      --hover-bg-color: #E2EBFA;\n",
              "      --hover-fill-color: #174EA6;\n",
              "      --disabled-fill-color: #AAA;\n",
              "      --disabled-bg-color: #DDD;\n",
              "  }\n",
              "\n",
              "  [theme=dark] .colab-df-quickchart {\n",
              "      --bg-color: #3B4455;\n",
              "      --fill-color: #D2E3FC;\n",
              "      --hover-bg-color: #434B5C;\n",
              "      --hover-fill-color: #FFFFFF;\n",
              "      --disabled-bg-color: #3B4455;\n",
              "      --disabled-fill-color: #666;\n",
              "  }\n",
              "\n",
              "  .colab-df-quickchart {\n",
              "    background-color: var(--bg-color);\n",
              "    border: none;\n",
              "    border-radius: 50%;\n",
              "    cursor: pointer;\n",
              "    display: none;\n",
              "    fill: var(--fill-color);\n",
              "    height: 32px;\n",
              "    padding: 0;\n",
              "    width: 32px;\n",
              "  }\n",
              "\n",
              "  .colab-df-quickchart:hover {\n",
              "    background-color: var(--hover-bg-color);\n",
              "    box-shadow: 0 1px 2px rgba(60, 64, 67, 0.3), 0 1px 3px 1px rgba(60, 64, 67, 0.15);\n",
              "    fill: var(--button-hover-fill-color);\n",
              "  }\n",
              "\n",
              "  .colab-df-quickchart-complete:disabled,\n",
              "  .colab-df-quickchart-complete:disabled:hover {\n",
              "    background-color: var(--disabled-bg-color);\n",
              "    fill: var(--disabled-fill-color);\n",
              "    box-shadow: none;\n",
              "  }\n",
              "\n",
              "  .colab-df-spinner {\n",
              "    border: 2px solid var(--fill-color);\n",
              "    border-color: transparent;\n",
              "    border-bottom-color: var(--fill-color);\n",
              "    animation:\n",
              "      spin 1s steps(1) infinite;\n",
              "  }\n",
              "\n",
              "  @keyframes spin {\n",
              "    0% {\n",
              "      border-color: transparent;\n",
              "      border-bottom-color: var(--fill-color);\n",
              "      border-left-color: var(--fill-color);\n",
              "    }\n",
              "    20% {\n",
              "      border-color: transparent;\n",
              "      border-left-color: var(--fill-color);\n",
              "      border-top-color: var(--fill-color);\n",
              "    }\n",
              "    30% {\n",
              "      border-color: transparent;\n",
              "      border-left-color: var(--fill-color);\n",
              "      border-top-color: var(--fill-color);\n",
              "      border-right-color: var(--fill-color);\n",
              "    }\n",
              "    40% {\n",
              "      border-color: transparent;\n",
              "      border-right-color: var(--fill-color);\n",
              "      border-top-color: var(--fill-color);\n",
              "    }\n",
              "    60% {\n",
              "      border-color: transparent;\n",
              "      border-right-color: var(--fill-color);\n",
              "    }\n",
              "    80% {\n",
              "      border-color: transparent;\n",
              "      border-right-color: var(--fill-color);\n",
              "      border-bottom-color: var(--fill-color);\n",
              "    }\n",
              "    90% {\n",
              "      border-color: transparent;\n",
              "      border-bottom-color: var(--fill-color);\n",
              "    }\n",
              "  }\n",
              "</style>\n",
              "\n",
              "  <script>\n",
              "    async function quickchart(key) {\n",
              "      const quickchartButtonEl =\n",
              "        document.querySelector('#' + key + ' button');\n",
              "      quickchartButtonEl.disabled = true;  // To prevent multiple clicks.\n",
              "      quickchartButtonEl.classList.add('colab-df-spinner');\n",
              "      try {\n",
              "        const charts = await google.colab.kernel.invokeFunction(\n",
              "            'suggestCharts', [key], {});\n",
              "      } catch (error) {\n",
              "        console.error('Error during call to suggestCharts:', error);\n",
              "      }\n",
              "      quickchartButtonEl.classList.remove('colab-df-spinner');\n",
              "      quickchartButtonEl.classList.add('colab-df-quickchart-complete');\n",
              "    }\n",
              "    (() => {\n",
              "      let quickchartButtonEl =\n",
              "        document.querySelector('#df-a985a848-6fec-4a3c-9276-73c2311b6a16 button');\n",
              "      quickchartButtonEl.style.display =\n",
              "        google.colab.kernel.accessAllowed ? 'block' : 'none';\n",
              "    })();\n",
              "  </script>\n",
              "</div>\n",
              "    </div>\n",
              "  </div>\n"
            ],
            "application/vnd.google.colaboratory.intrinsic+json": {
              "type": "dataframe",
              "summary": "{\n  \"name\": \"topic_details\",\n  \"rows\": 5,\n  \"fields\": [\n    {\n      \"column\": \"Dominant_Topic\",\n      \"properties\": {\n        \"dtype\": \"number\",\n        \"std\": 0.0,\n        \"min\": 1.0,\n        \"max\": 1.0,\n        \"num_unique_values\": 1,\n        \"samples\": [\n          1.0\n        ],\n        \"semantic_type\": \"\",\n        \"description\": \"\"\n      }\n    },\n    {\n      \"column\": \"% Score\",\n      \"properties\": {\n        \"dtype\": \"number\",\n        \"std\": 9.653801663776564e-05,\n        \"min\": 0.9997269511222839,\n        \"max\": 0.9999626278877258,\n        \"num_unique_values\": 5,\n        \"samples\": [\n          0.9998723864555359\n        ],\n        \"semantic_type\": \"\",\n        \"description\": \"\"\n      }\n    },\n    {\n      \"column\": \"Original text\",\n      \"properties\": {\n        \"dtype\": \"object\",\n        \"semantic_type\": \"\",\n        \"description\": \"\"\n      }\n    }\n  ]\n}"
            }
          },
          "metadata": {},
          "execution_count": 252
        }
      ],
      "source": [
        "topic_details.sort_values(by=['% Score'], ascending=False).head(10).head()"
      ]
    },
    {
      "cell_type": "code",
      "execution_count": 253,
      "metadata": {
        "tags": [],
        "colab": {
          "base_uri": "https://localhost:8080/",
          "height": 206
        },
        "id": "MYxRdX6APGwy",
        "outputId": "49c78165-d80e-47de-f05f-f724a0226bec"
      },
      "outputs": [
        {
          "output_type": "execute_result",
          "data": {
            "text/plain": [
              "      Dominant_Topic   % Score  \\\n",
              "150              1.0  0.999657   \n",
              "2081             3.0  0.999631   \n",
              "81               1.0  0.999517   \n",
              "478              1.0  0.999353   \n",
              "2087             4.0  0.999324   \n",
              "\n",
              "                                          Original text  \n",
              "150   [energy, central, job, center, image, image, h...  \n",
              "2081  [unsubscribe, mailing, please, go, money, net,...  \n",
              "81    [brazil, scramble, energy, new, york, time, wo...  \n",
              "478   [greeting, jeff, thanks, make, copy, bring, cl...  \n",
              "2087  [image, image, image, image, image, image, ima...  "
            ],
            "text/html": [
              "\n",
              "  <div id=\"df-07e2c889-f769-4ea8-a9a1-5f95d69bede5\" class=\"colab-df-container\">\n",
              "    <div>\n",
              "<style scoped>\n",
              "    .dataframe tbody tr th:only-of-type {\n",
              "        vertical-align: middle;\n",
              "    }\n",
              "\n",
              "    .dataframe tbody tr th {\n",
              "        vertical-align: top;\n",
              "    }\n",
              "\n",
              "    .dataframe thead th {\n",
              "        text-align: right;\n",
              "    }\n",
              "</style>\n",
              "<table border=\"1\" class=\"dataframe\">\n",
              "  <thead>\n",
              "    <tr style=\"text-align: right;\">\n",
              "      <th></th>\n",
              "      <th>Dominant_Topic</th>\n",
              "      <th>% Score</th>\n",
              "      <th>Original text</th>\n",
              "    </tr>\n",
              "  </thead>\n",
              "  <tbody>\n",
              "    <tr>\n",
              "      <th>150</th>\n",
              "      <td>1.0</td>\n",
              "      <td>0.999657</td>\n",
              "      <td>[energy, central, job, center, image, image, h...</td>\n",
              "    </tr>\n",
              "    <tr>\n",
              "      <th>2081</th>\n",
              "      <td>3.0</td>\n",
              "      <td>0.999631</td>\n",
              "      <td>[unsubscribe, mailing, please, go, money, net,...</td>\n",
              "    </tr>\n",
              "    <tr>\n",
              "      <th>81</th>\n",
              "      <td>1.0</td>\n",
              "      <td>0.999517</td>\n",
              "      <td>[brazil, scramble, energy, new, york, time, wo...</td>\n",
              "    </tr>\n",
              "    <tr>\n",
              "      <th>478</th>\n",
              "      <td>1.0</td>\n",
              "      <td>0.999353</td>\n",
              "      <td>[greeting, jeff, thanks, make, copy, bring, cl...</td>\n",
              "    </tr>\n",
              "    <tr>\n",
              "      <th>2087</th>\n",
              "      <td>4.0</td>\n",
              "      <td>0.999324</td>\n",
              "      <td>[image, image, image, image, image, image, ima...</td>\n",
              "    </tr>\n",
              "  </tbody>\n",
              "</table>\n",
              "</div>\n",
              "    <div class=\"colab-df-buttons\">\n",
              "\n",
              "  <div class=\"colab-df-container\">\n",
              "    <button class=\"colab-df-convert\" onclick=\"convertToInteractive('df-07e2c889-f769-4ea8-a9a1-5f95d69bede5')\"\n",
              "            title=\"Convert this dataframe to an interactive table.\"\n",
              "            style=\"display:none;\">\n",
              "\n",
              "  <svg xmlns=\"http://www.w3.org/2000/svg\" height=\"24px\" viewBox=\"0 -960 960 960\">\n",
              "    <path d=\"M120-120v-720h720v720H120Zm60-500h600v-160H180v160Zm220 220h160v-160H400v160Zm0 220h160v-160H400v160ZM180-400h160v-160H180v160Zm440 0h160v-160H620v160ZM180-180h160v-160H180v160Zm440 0h160v-160H620v160Z\"/>\n",
              "  </svg>\n",
              "    </button>\n",
              "\n",
              "  <style>\n",
              "    .colab-df-container {\n",
              "      display:flex;\n",
              "      gap: 12px;\n",
              "    }\n",
              "\n",
              "    .colab-df-convert {\n",
              "      background-color: #E8F0FE;\n",
              "      border: none;\n",
              "      border-radius: 50%;\n",
              "      cursor: pointer;\n",
              "      display: none;\n",
              "      fill: #1967D2;\n",
              "      height: 32px;\n",
              "      padding: 0 0 0 0;\n",
              "      width: 32px;\n",
              "    }\n",
              "\n",
              "    .colab-df-convert:hover {\n",
              "      background-color: #E2EBFA;\n",
              "      box-shadow: 0px 1px 2px rgba(60, 64, 67, 0.3), 0px 1px 3px 1px rgba(60, 64, 67, 0.15);\n",
              "      fill: #174EA6;\n",
              "    }\n",
              "\n",
              "    .colab-df-buttons div {\n",
              "      margin-bottom: 4px;\n",
              "    }\n",
              "\n",
              "    [theme=dark] .colab-df-convert {\n",
              "      background-color: #3B4455;\n",
              "      fill: #D2E3FC;\n",
              "    }\n",
              "\n",
              "    [theme=dark] .colab-df-convert:hover {\n",
              "      background-color: #434B5C;\n",
              "      box-shadow: 0px 1px 3px 1px rgba(0, 0, 0, 0.15);\n",
              "      filter: drop-shadow(0px 1px 2px rgba(0, 0, 0, 0.3));\n",
              "      fill: #FFFFFF;\n",
              "    }\n",
              "  </style>\n",
              "\n",
              "    <script>\n",
              "      const buttonEl =\n",
              "        document.querySelector('#df-07e2c889-f769-4ea8-a9a1-5f95d69bede5 button.colab-df-convert');\n",
              "      buttonEl.style.display =\n",
              "        google.colab.kernel.accessAllowed ? 'block' : 'none';\n",
              "\n",
              "      async function convertToInteractive(key) {\n",
              "        const element = document.querySelector('#df-07e2c889-f769-4ea8-a9a1-5f95d69bede5');\n",
              "        const dataTable =\n",
              "          await google.colab.kernel.invokeFunction('convertToInteractive',\n",
              "                                                    [key], {});\n",
              "        if (!dataTable) return;\n",
              "\n",
              "        const docLinkHtml = 'Like what you see? Visit the ' +\n",
              "          '<a target=\"_blank\" href=https://colab.research.google.com/notebooks/data_table.ipynb>data table notebook</a>'\n",
              "          + ' to learn more about interactive tables.';\n",
              "        element.innerHTML = '';\n",
              "        dataTable['output_type'] = 'display_data';\n",
              "        await google.colab.output.renderOutput(dataTable, element);\n",
              "        const docLink = document.createElement('div');\n",
              "        docLink.innerHTML = docLinkHtml;\n",
              "        element.appendChild(docLink);\n",
              "      }\n",
              "    </script>\n",
              "  </div>\n",
              "\n",
              "\n",
              "<div id=\"df-84bbe4e8-cade-40de-b2e7-0bdf2f4ff34d\">\n",
              "  <button class=\"colab-df-quickchart\" onclick=\"quickchart('df-84bbe4e8-cade-40de-b2e7-0bdf2f4ff34d')\"\n",
              "            title=\"Suggest charts\"\n",
              "            style=\"display:none;\">\n",
              "\n",
              "<svg xmlns=\"http://www.w3.org/2000/svg\" height=\"24px\"viewBox=\"0 0 24 24\"\n",
              "     width=\"24px\">\n",
              "    <g>\n",
              "        <path d=\"M19 3H5c-1.1 0-2 .9-2 2v14c0 1.1.9 2 2 2h14c1.1 0 2-.9 2-2V5c0-1.1-.9-2-2-2zM9 17H7v-7h2v7zm4 0h-2V7h2v10zm4 0h-2v-4h2v4z\"/>\n",
              "    </g>\n",
              "</svg>\n",
              "  </button>\n",
              "\n",
              "<style>\n",
              "  .colab-df-quickchart {\n",
              "      --bg-color: #E8F0FE;\n",
              "      --fill-color: #1967D2;\n",
              "      --hover-bg-color: #E2EBFA;\n",
              "      --hover-fill-color: #174EA6;\n",
              "      --disabled-fill-color: #AAA;\n",
              "      --disabled-bg-color: #DDD;\n",
              "  }\n",
              "\n",
              "  [theme=dark] .colab-df-quickchart {\n",
              "      --bg-color: #3B4455;\n",
              "      --fill-color: #D2E3FC;\n",
              "      --hover-bg-color: #434B5C;\n",
              "      --hover-fill-color: #FFFFFF;\n",
              "      --disabled-bg-color: #3B4455;\n",
              "      --disabled-fill-color: #666;\n",
              "  }\n",
              "\n",
              "  .colab-df-quickchart {\n",
              "    background-color: var(--bg-color);\n",
              "    border: none;\n",
              "    border-radius: 50%;\n",
              "    cursor: pointer;\n",
              "    display: none;\n",
              "    fill: var(--fill-color);\n",
              "    height: 32px;\n",
              "    padding: 0;\n",
              "    width: 32px;\n",
              "  }\n",
              "\n",
              "  .colab-df-quickchart:hover {\n",
              "    background-color: var(--hover-bg-color);\n",
              "    box-shadow: 0 1px 2px rgba(60, 64, 67, 0.3), 0 1px 3px 1px rgba(60, 64, 67, 0.15);\n",
              "    fill: var(--button-hover-fill-color);\n",
              "  }\n",
              "\n",
              "  .colab-df-quickchart-complete:disabled,\n",
              "  .colab-df-quickchart-complete:disabled:hover {\n",
              "    background-color: var(--disabled-bg-color);\n",
              "    fill: var(--disabled-fill-color);\n",
              "    box-shadow: none;\n",
              "  }\n",
              "\n",
              "  .colab-df-spinner {\n",
              "    border: 2px solid var(--fill-color);\n",
              "    border-color: transparent;\n",
              "    border-bottom-color: var(--fill-color);\n",
              "    animation:\n",
              "      spin 1s steps(1) infinite;\n",
              "  }\n",
              "\n",
              "  @keyframes spin {\n",
              "    0% {\n",
              "      border-color: transparent;\n",
              "      border-bottom-color: var(--fill-color);\n",
              "      border-left-color: var(--fill-color);\n",
              "    }\n",
              "    20% {\n",
              "      border-color: transparent;\n",
              "      border-left-color: var(--fill-color);\n",
              "      border-top-color: var(--fill-color);\n",
              "    }\n",
              "    30% {\n",
              "      border-color: transparent;\n",
              "      border-left-color: var(--fill-color);\n",
              "      border-top-color: var(--fill-color);\n",
              "      border-right-color: var(--fill-color);\n",
              "    }\n",
              "    40% {\n",
              "      border-color: transparent;\n",
              "      border-right-color: var(--fill-color);\n",
              "      border-top-color: var(--fill-color);\n",
              "    }\n",
              "    60% {\n",
              "      border-color: transparent;\n",
              "      border-right-color: var(--fill-color);\n",
              "    }\n",
              "    80% {\n",
              "      border-color: transparent;\n",
              "      border-right-color: var(--fill-color);\n",
              "      border-bottom-color: var(--fill-color);\n",
              "    }\n",
              "    90% {\n",
              "      border-color: transparent;\n",
              "      border-bottom-color: var(--fill-color);\n",
              "    }\n",
              "  }\n",
              "</style>\n",
              "\n",
              "  <script>\n",
              "    async function quickchart(key) {\n",
              "      const quickchartButtonEl =\n",
              "        document.querySelector('#' + key + ' button');\n",
              "      quickchartButtonEl.disabled = true;  // To prevent multiple clicks.\n",
              "      quickchartButtonEl.classList.add('colab-df-spinner');\n",
              "      try {\n",
              "        const charts = await google.colab.kernel.invokeFunction(\n",
              "            'suggestCharts', [key], {});\n",
              "      } catch (error) {\n",
              "        console.error('Error during call to suggestCharts:', error);\n",
              "      }\n",
              "      quickchartButtonEl.classList.remove('colab-df-spinner');\n",
              "      quickchartButtonEl.classList.add('colab-df-quickchart-complete');\n",
              "    }\n",
              "    (() => {\n",
              "      let quickchartButtonEl =\n",
              "        document.querySelector('#df-84bbe4e8-cade-40de-b2e7-0bdf2f4ff34d button');\n",
              "      quickchartButtonEl.style.display =\n",
              "        google.colab.kernel.accessAllowed ? 'block' : 'none';\n",
              "    })();\n",
              "  </script>\n",
              "</div>\n",
              "    </div>\n",
              "  </div>\n"
            ],
            "application/vnd.google.colaboratory.intrinsic+json": {
              "type": "dataframe",
              "summary": "{\n  \"name\": \"topic_details\",\n  \"rows\": 5,\n  \"fields\": [\n    {\n      \"column\": \"Dominant_Topic\",\n      \"properties\": {\n        \"dtype\": \"number\",\n        \"std\": 1.4142135623730951,\n        \"min\": 1.0,\n        \"max\": 4.0,\n        \"num_unique_values\": 3,\n        \"samples\": [\n          1.0,\n          3.0,\n          4.0\n        ],\n        \"semantic_type\": \"\",\n        \"description\": \"\"\n      }\n    },\n    {\n      \"column\": \"% Score\",\n      \"properties\": {\n        \"dtype\": \"number\",\n        \"std\": 0.00015389313296215078,\n        \"min\": 0.999323844909668,\n        \"max\": 0.9996572136878967,\n        \"num_unique_values\": 5,\n        \"samples\": [\n          0.9996308088302612,\n          0.999323844909668,\n          0.9995167255401611\n        ],\n        \"semantic_type\": \"\",\n        \"description\": \"\"\n      }\n    },\n    {\n      \"column\": \"Original text\",\n      \"properties\": {\n        \"dtype\": \"object\",\n        \"semantic_type\": \"\",\n        \"description\": \"\"\n      }\n    }\n  ]\n}"
            }
          },
          "metadata": {},
          "execution_count": 253
        }
      ],
      "source": [
        "topic_details.sort_values(by=['% Score'], ascending=False).head(10).tail()"
      ]
    },
    {
      "cell_type": "markdown",
      "metadata": {
        "id": "bL4ZHK8JPGwy"
      },
      "source": [
        "**Instructions 3/3**\n",
        "\n",
        "* Create a flag with the `np.where()` function to flag all content that has topic 3 as a dominant topic with a 1, and 0 otherwise"
      ]
    },
    {
      "cell_type": "code",
      "execution_count": 254,
      "metadata": {
        "tags": [],
        "id": "w4s4XrogPGwy"
      },
      "outputs": [],
      "source": [
        "# Create flag for text highest associated with topic 3\n",
        "topic_details['flag'] = np.where((topic_details['Dominant_Topic'] == 3.0), 1, 0)"
      ]
    },
    {
      "cell_type": "code",
      "execution_count": 255,
      "metadata": {
        "tags": [],
        "id": "p8zZtGX-PGwy"
      },
      "outputs": [],
      "source": [
        "topic_details_1 = topic_details[topic_details.flag == 1]"
      ]
    },
    {
      "cell_type": "code",
      "execution_count": 256,
      "metadata": {
        "tags": [],
        "colab": {
          "base_uri": "https://localhost:8080/",
          "height": 363
        },
        "id": "hNNQrmSgPGwy",
        "outputId": "129b4e3d-a719-49af-988c-c28cb2ad2c13"
      },
      "outputs": [
        {
          "output_type": "execute_result",
          "data": {
            "text/plain": [
              "      Dominant_Topic   % Score  \\\n",
              "2081             3.0  0.999631   \n",
              "2088             3.0  0.998130   \n",
              "2000             3.0  0.997204   \n",
              "1208             3.0  0.996213   \n",
              "2079             3.0  0.994562   \n",
              "2018             3.0  0.994405   \n",
              "743              3.0  0.990117   \n",
              "2024             3.0  0.989633   \n",
              "2064             3.0  0.987994   \n",
              "2025             3.0  0.987814   \n",
              "\n",
              "                                          Original text  flag  \n",
              "2081  [unsubscribe, mailing, please, go, money, net,...     1  \n",
              "2088  [transmission, expansion, system, transition, ...     1  \n",
              "2000  [raquel, nunes, thomas, auto, confirm, amazon,...     1  \n",
              "1208  [start, date, hourahead, hour, ancillary, sche...     1  \n",
              "2079  [probably, yes, paulo, issler, research, group...     1  \n",
              "2018  [attention, reading, message, mail, reader, ca...     1  \n",
              "743   [start, date, hourahead, hour, ancillary, sche...     1  \n",
              "2024  [like, kim, original, message, olszewski, step...     1  \n",
              "2064  [start, date, hourahead, hour, ancillary, sche...     1  \n",
              "2025  [earl, able, coordinate, agave, talked, paul, ...     1  "
            ],
            "text/html": [
              "\n",
              "  <div id=\"df-758bccff-e286-4bfc-ac33-76efc8bcb69a\" class=\"colab-df-container\">\n",
              "    <div>\n",
              "<style scoped>\n",
              "    .dataframe tbody tr th:only-of-type {\n",
              "        vertical-align: middle;\n",
              "    }\n",
              "\n",
              "    .dataframe tbody tr th {\n",
              "        vertical-align: top;\n",
              "    }\n",
              "\n",
              "    .dataframe thead th {\n",
              "        text-align: right;\n",
              "    }\n",
              "</style>\n",
              "<table border=\"1\" class=\"dataframe\">\n",
              "  <thead>\n",
              "    <tr style=\"text-align: right;\">\n",
              "      <th></th>\n",
              "      <th>Dominant_Topic</th>\n",
              "      <th>% Score</th>\n",
              "      <th>Original text</th>\n",
              "      <th>flag</th>\n",
              "    </tr>\n",
              "  </thead>\n",
              "  <tbody>\n",
              "    <tr>\n",
              "      <th>2081</th>\n",
              "      <td>3.0</td>\n",
              "      <td>0.999631</td>\n",
              "      <td>[unsubscribe, mailing, please, go, money, net,...</td>\n",
              "      <td>1</td>\n",
              "    </tr>\n",
              "    <tr>\n",
              "      <th>2088</th>\n",
              "      <td>3.0</td>\n",
              "      <td>0.998130</td>\n",
              "      <td>[transmission, expansion, system, transition, ...</td>\n",
              "      <td>1</td>\n",
              "    </tr>\n",
              "    <tr>\n",
              "      <th>2000</th>\n",
              "      <td>3.0</td>\n",
              "      <td>0.997204</td>\n",
              "      <td>[raquel, nunes, thomas, auto, confirm, amazon,...</td>\n",
              "      <td>1</td>\n",
              "    </tr>\n",
              "    <tr>\n",
              "      <th>1208</th>\n",
              "      <td>3.0</td>\n",
              "      <td>0.996213</td>\n",
              "      <td>[start, date, hourahead, hour, ancillary, sche...</td>\n",
              "      <td>1</td>\n",
              "    </tr>\n",
              "    <tr>\n",
              "      <th>2079</th>\n",
              "      <td>3.0</td>\n",
              "      <td>0.994562</td>\n",
              "      <td>[probably, yes, paulo, issler, research, group...</td>\n",
              "      <td>1</td>\n",
              "    </tr>\n",
              "    <tr>\n",
              "      <th>2018</th>\n",
              "      <td>3.0</td>\n",
              "      <td>0.994405</td>\n",
              "      <td>[attention, reading, message, mail, reader, ca...</td>\n",
              "      <td>1</td>\n",
              "    </tr>\n",
              "    <tr>\n",
              "      <th>743</th>\n",
              "      <td>3.0</td>\n",
              "      <td>0.990117</td>\n",
              "      <td>[start, date, hourahead, hour, ancillary, sche...</td>\n",
              "      <td>1</td>\n",
              "    </tr>\n",
              "    <tr>\n",
              "      <th>2024</th>\n",
              "      <td>3.0</td>\n",
              "      <td>0.989633</td>\n",
              "      <td>[like, kim, original, message, olszewski, step...</td>\n",
              "      <td>1</td>\n",
              "    </tr>\n",
              "    <tr>\n",
              "      <th>2064</th>\n",
              "      <td>3.0</td>\n",
              "      <td>0.987994</td>\n",
              "      <td>[start, date, hourahead, hour, ancillary, sche...</td>\n",
              "      <td>1</td>\n",
              "    </tr>\n",
              "    <tr>\n",
              "      <th>2025</th>\n",
              "      <td>3.0</td>\n",
              "      <td>0.987814</td>\n",
              "      <td>[earl, able, coordinate, agave, talked, paul, ...</td>\n",
              "      <td>1</td>\n",
              "    </tr>\n",
              "  </tbody>\n",
              "</table>\n",
              "</div>\n",
              "    <div class=\"colab-df-buttons\">\n",
              "\n",
              "  <div class=\"colab-df-container\">\n",
              "    <button class=\"colab-df-convert\" onclick=\"convertToInteractive('df-758bccff-e286-4bfc-ac33-76efc8bcb69a')\"\n",
              "            title=\"Convert this dataframe to an interactive table.\"\n",
              "            style=\"display:none;\">\n",
              "\n",
              "  <svg xmlns=\"http://www.w3.org/2000/svg\" height=\"24px\" viewBox=\"0 -960 960 960\">\n",
              "    <path d=\"M120-120v-720h720v720H120Zm60-500h600v-160H180v160Zm220 220h160v-160H400v160Zm0 220h160v-160H400v160ZM180-400h160v-160H180v160Zm440 0h160v-160H620v160ZM180-180h160v-160H180v160Zm440 0h160v-160H620v160Z\"/>\n",
              "  </svg>\n",
              "    </button>\n",
              "\n",
              "  <style>\n",
              "    .colab-df-container {\n",
              "      display:flex;\n",
              "      gap: 12px;\n",
              "    }\n",
              "\n",
              "    .colab-df-convert {\n",
              "      background-color: #E8F0FE;\n",
              "      border: none;\n",
              "      border-radius: 50%;\n",
              "      cursor: pointer;\n",
              "      display: none;\n",
              "      fill: #1967D2;\n",
              "      height: 32px;\n",
              "      padding: 0 0 0 0;\n",
              "      width: 32px;\n",
              "    }\n",
              "\n",
              "    .colab-df-convert:hover {\n",
              "      background-color: #E2EBFA;\n",
              "      box-shadow: 0px 1px 2px rgba(60, 64, 67, 0.3), 0px 1px 3px 1px rgba(60, 64, 67, 0.15);\n",
              "      fill: #174EA6;\n",
              "    }\n",
              "\n",
              "    .colab-df-buttons div {\n",
              "      margin-bottom: 4px;\n",
              "    }\n",
              "\n",
              "    [theme=dark] .colab-df-convert {\n",
              "      background-color: #3B4455;\n",
              "      fill: #D2E3FC;\n",
              "    }\n",
              "\n",
              "    [theme=dark] .colab-df-convert:hover {\n",
              "      background-color: #434B5C;\n",
              "      box-shadow: 0px 1px 3px 1px rgba(0, 0, 0, 0.15);\n",
              "      filter: drop-shadow(0px 1px 2px rgba(0, 0, 0, 0.3));\n",
              "      fill: #FFFFFF;\n",
              "    }\n",
              "  </style>\n",
              "\n",
              "    <script>\n",
              "      const buttonEl =\n",
              "        document.querySelector('#df-758bccff-e286-4bfc-ac33-76efc8bcb69a button.colab-df-convert');\n",
              "      buttonEl.style.display =\n",
              "        google.colab.kernel.accessAllowed ? 'block' : 'none';\n",
              "\n",
              "      async function convertToInteractive(key) {\n",
              "        const element = document.querySelector('#df-758bccff-e286-4bfc-ac33-76efc8bcb69a');\n",
              "        const dataTable =\n",
              "          await google.colab.kernel.invokeFunction('convertToInteractive',\n",
              "                                                    [key], {});\n",
              "        if (!dataTable) return;\n",
              "\n",
              "        const docLinkHtml = 'Like what you see? Visit the ' +\n",
              "          '<a target=\"_blank\" href=https://colab.research.google.com/notebooks/data_table.ipynb>data table notebook</a>'\n",
              "          + ' to learn more about interactive tables.';\n",
              "        element.innerHTML = '';\n",
              "        dataTable['output_type'] = 'display_data';\n",
              "        await google.colab.output.renderOutput(dataTable, element);\n",
              "        const docLink = document.createElement('div');\n",
              "        docLink.innerHTML = docLinkHtml;\n",
              "        element.appendChild(docLink);\n",
              "      }\n",
              "    </script>\n",
              "  </div>\n",
              "\n",
              "\n",
              "<div id=\"df-8755aa5b-9ff5-44cd-b2b8-52956609ffab\">\n",
              "  <button class=\"colab-df-quickchart\" onclick=\"quickchart('df-8755aa5b-9ff5-44cd-b2b8-52956609ffab')\"\n",
              "            title=\"Suggest charts\"\n",
              "            style=\"display:none;\">\n",
              "\n",
              "<svg xmlns=\"http://www.w3.org/2000/svg\" height=\"24px\"viewBox=\"0 0 24 24\"\n",
              "     width=\"24px\">\n",
              "    <g>\n",
              "        <path d=\"M19 3H5c-1.1 0-2 .9-2 2v14c0 1.1.9 2 2 2h14c1.1 0 2-.9 2-2V5c0-1.1-.9-2-2-2zM9 17H7v-7h2v7zm4 0h-2V7h2v10zm4 0h-2v-4h2v4z\"/>\n",
              "    </g>\n",
              "</svg>\n",
              "  </button>\n",
              "\n",
              "<style>\n",
              "  .colab-df-quickchart {\n",
              "      --bg-color: #E8F0FE;\n",
              "      --fill-color: #1967D2;\n",
              "      --hover-bg-color: #E2EBFA;\n",
              "      --hover-fill-color: #174EA6;\n",
              "      --disabled-fill-color: #AAA;\n",
              "      --disabled-bg-color: #DDD;\n",
              "  }\n",
              "\n",
              "  [theme=dark] .colab-df-quickchart {\n",
              "      --bg-color: #3B4455;\n",
              "      --fill-color: #D2E3FC;\n",
              "      --hover-bg-color: #434B5C;\n",
              "      --hover-fill-color: #FFFFFF;\n",
              "      --disabled-bg-color: #3B4455;\n",
              "      --disabled-fill-color: #666;\n",
              "  }\n",
              "\n",
              "  .colab-df-quickchart {\n",
              "    background-color: var(--bg-color);\n",
              "    border: none;\n",
              "    border-radius: 50%;\n",
              "    cursor: pointer;\n",
              "    display: none;\n",
              "    fill: var(--fill-color);\n",
              "    height: 32px;\n",
              "    padding: 0;\n",
              "    width: 32px;\n",
              "  }\n",
              "\n",
              "  .colab-df-quickchart:hover {\n",
              "    background-color: var(--hover-bg-color);\n",
              "    box-shadow: 0 1px 2px rgba(60, 64, 67, 0.3), 0 1px 3px 1px rgba(60, 64, 67, 0.15);\n",
              "    fill: var(--button-hover-fill-color);\n",
              "  }\n",
              "\n",
              "  .colab-df-quickchart-complete:disabled,\n",
              "  .colab-df-quickchart-complete:disabled:hover {\n",
              "    background-color: var(--disabled-bg-color);\n",
              "    fill: var(--disabled-fill-color);\n",
              "    box-shadow: none;\n",
              "  }\n",
              "\n",
              "  .colab-df-spinner {\n",
              "    border: 2px solid var(--fill-color);\n",
              "    border-color: transparent;\n",
              "    border-bottom-color: var(--fill-color);\n",
              "    animation:\n",
              "      spin 1s steps(1) infinite;\n",
              "  }\n",
              "\n",
              "  @keyframes spin {\n",
              "    0% {\n",
              "      border-color: transparent;\n",
              "      border-bottom-color: var(--fill-color);\n",
              "      border-left-color: var(--fill-color);\n",
              "    }\n",
              "    20% {\n",
              "      border-color: transparent;\n",
              "      border-left-color: var(--fill-color);\n",
              "      border-top-color: var(--fill-color);\n",
              "    }\n",
              "    30% {\n",
              "      border-color: transparent;\n",
              "      border-left-color: var(--fill-color);\n",
              "      border-top-color: var(--fill-color);\n",
              "      border-right-color: var(--fill-color);\n",
              "    }\n",
              "    40% {\n",
              "      border-color: transparent;\n",
              "      border-right-color: var(--fill-color);\n",
              "      border-top-color: var(--fill-color);\n",
              "    }\n",
              "    60% {\n",
              "      border-color: transparent;\n",
              "      border-right-color: var(--fill-color);\n",
              "    }\n",
              "    80% {\n",
              "      border-color: transparent;\n",
              "      border-right-color: var(--fill-color);\n",
              "      border-bottom-color: var(--fill-color);\n",
              "    }\n",
              "    90% {\n",
              "      border-color: transparent;\n",
              "      border-bottom-color: var(--fill-color);\n",
              "    }\n",
              "  }\n",
              "</style>\n",
              "\n",
              "  <script>\n",
              "    async function quickchart(key) {\n",
              "      const quickchartButtonEl =\n",
              "        document.querySelector('#' + key + ' button');\n",
              "      quickchartButtonEl.disabled = true;  // To prevent multiple clicks.\n",
              "      quickchartButtonEl.classList.add('colab-df-spinner');\n",
              "      try {\n",
              "        const charts = await google.colab.kernel.invokeFunction(\n",
              "            'suggestCharts', [key], {});\n",
              "      } catch (error) {\n",
              "        console.error('Error during call to suggestCharts:', error);\n",
              "      }\n",
              "      quickchartButtonEl.classList.remove('colab-df-spinner');\n",
              "      quickchartButtonEl.classList.add('colab-df-quickchart-complete');\n",
              "    }\n",
              "    (() => {\n",
              "      let quickchartButtonEl =\n",
              "        document.querySelector('#df-8755aa5b-9ff5-44cd-b2b8-52956609ffab button');\n",
              "      quickchartButtonEl.style.display =\n",
              "        google.colab.kernel.accessAllowed ? 'block' : 'none';\n",
              "    })();\n",
              "  </script>\n",
              "</div>\n",
              "    </div>\n",
              "  </div>\n"
            ],
            "application/vnd.google.colaboratory.intrinsic+json": {
              "type": "dataframe",
              "summary": "{\n  \"name\": \"topic_details_1\",\n  \"rows\": 10,\n  \"fields\": [\n    {\n      \"column\": \"Dominant_Topic\",\n      \"properties\": {\n        \"dtype\": \"number\",\n        \"std\": 0.0,\n        \"min\": 3.0,\n        \"max\": 3.0,\n        \"num_unique_values\": 1,\n        \"samples\": [\n          3.0\n        ],\n        \"semantic_type\": \"\",\n        \"description\": \"\"\n      }\n    },\n    {\n      \"column\": \"% Score\",\n      \"properties\": {\n        \"dtype\": \"number\",\n        \"std\": 0.004359547017973006,\n        \"min\": 0.9878135323524475,\n        \"max\": 0.9996308088302612,\n        \"num_unique_values\": 10,\n        \"samples\": [\n          0.9879942536354065\n        ],\n        \"semantic_type\": \"\",\n        \"description\": \"\"\n      }\n    },\n    {\n      \"column\": \"Original text\",\n      \"properties\": {\n        \"dtype\": \"object\",\n        \"semantic_type\": \"\",\n        \"description\": \"\"\n      }\n    },\n    {\n      \"column\": \"flag\",\n      \"properties\": {\n        \"dtype\": \"number\",\n        \"std\": 0,\n        \"min\": 1,\n        \"max\": 1,\n        \"num_unique_values\": 1,\n        \"samples\": [\n          1\n        ],\n        \"semantic_type\": \"\",\n        \"description\": \"\"\n      }\n    }\n  ]\n}"
            }
          },
          "metadata": {},
          "execution_count": 256
        }
      ],
      "source": [
        "topic_details_1.sort_values(by=['% Score'], ascending=False).head(10)"
      ]
    },
    {
      "cell_type": "markdown",
      "metadata": {
        "id": "uf3ZvrlXPGwy"
      },
      "source": [
        "**You have now flagged all data that is highest associated with topic 3, that seems to cover internal conversation about enron stock options. You are a true detective. With these exercises you have demonstrated that text mining and topic modeling can be a powerful tool for fraud detection.**"
      ]
    },
    {
      "cell_type": "markdown",
      "metadata": {
        "id": "bmUIzqWjPGwy"
      },
      "source": [
        "## Lesson 4: Recap"
      ]
    },
    {
      "cell_type": "markdown",
      "metadata": {
        "id": "zPGgnnj4PGwy"
      },
      "source": [
        "### Working with imbalanced data\n",
        "\n",
        "* Worked with highly imbalanced fraud data\n",
        "* Learned how to resample your data\n",
        "* Learned about different resampling methods"
      ]
    },
    {
      "cell_type": "markdown",
      "metadata": {
        "id": "x3kbAv3JPGwy"
      },
      "source": [
        "### Fraud detection with labeled data\n",
        "\n",
        "* Refreshed supervised learning techniques to detect fraud\n",
        "* Learned how to get reliable performance metrics and worked with the precision recall trade-off\n",
        "* Explored how to optimize your model parameters to handle fraud data\n",
        "* Applied ensemble methods to fraud detection"
      ]
    },
    {
      "cell_type": "markdown",
      "metadata": {
        "id": "A_8bf2inPGwy"
      },
      "source": [
        "### Fraud detection without labels\n",
        "\n",
        "* Learned about the importance of segmentation\n",
        "* Refreshed your knowledge on clustering methods\n",
        "* Learned how to detect fraud using outliers and small clusters with K-means clustering\n",
        "* Applied a DB-scan clustering model for fraud detection"
      ]
    },
    {
      "cell_type": "markdown",
      "metadata": {
        "id": "Ff0ozd0ePGwy"
      },
      "source": [
        "### Text mining for fraud detection\n",
        "\n",
        "* Know how to augment fraud detection analysis with text mining techniques\n",
        "* Applied word searches to flag use of certain words, and learned how to apply topic modeling for fraud detection\n",
        "* Learned how to effectively clean messy text data"
      ]
    },
    {
      "cell_type": "markdown",
      "metadata": {
        "id": "vl5Jm6OhPGwy"
      },
      "source": [
        "### Further learning for fraud detection\n",
        "\n",
        "* Network analysis to detect fraud\n",
        "* Different supervised and unsupervised learning techniques (e.g. Neural Networks)\n",
        "* Working with very large data"
      ]
    }
  ],
  "metadata": {
    "kernelspec": {
      "display_name": "Python 3",
      "language": "python",
      "name": "python3"
    },
    "language_info": {
      "codemirror_mode": {
        "name": "ipython",
        "version": 3
      },
      "file_extension": ".py",
      "mimetype": "text/x-python",
      "name": "python",
      "nbconvert_exporter": "python",
      "pygments_lexer": "ipython3",
      "version": "3.8.10"
    },
    "toc-autonumbering": true,
    "colab": {
      "provenance": []
    }
  },
  "nbformat": 4,
  "nbformat_minor": 0
}