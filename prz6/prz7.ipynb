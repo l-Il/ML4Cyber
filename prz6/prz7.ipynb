{
  "cells": [
    {
      "cell_type": "markdown",
      "metadata": {
        "id": "5XeUVpQWlqMn"
      },
      "source": [
        "# ТЕМА 7. Атаки на модели машинного обучения и защита от них\n",
        "Подготовил студент группы ББМО-01-23 Чурсинов Герман"
      ]
    },
    {
      "cell_type": "markdown",
      "metadata": {
        "id": "OwM7yPagl0qw"
      },
      "source": [
        "### Требуется\n",
        "1. Изучить фреймворк Adversarial Robustness Toolbox (ART) v1.14\n",
        "2. Рассмотреть основные аспекты, касающиеся классификации атак\n",
        "3. Выбрать сценарий атаки и реализовать его на платформе `Colab`.\n"
      ]
    },
    {
      "cell_type": "code",
      "execution_count": 1,
      "metadata": {
        "colab": {
          "base_uri": "https://localhost:8080/"
        },
        "id": "AdZV0qFwlRkN",
        "outputId": "4bdf3f05-ecef-45b8-ccc1-d568d7fe0e5d"
      },
      "outputs": [
        {
          "name": "stdout",
          "output_type": "stream",
          "text": [
            "Collecting adversarial-robustness-toolbox\n",
            "  Downloading adversarial_robustness_toolbox-1.18.0-py3-none-any.whl (1.7 MB)\n",
            "\u001b[2K     \u001b[90m━━━━━━━━━━━━━━━━━━━━━━━━━━━━━━━━━━━━━━━━\u001b[0m \u001b[32m1.7/1.7 MB\u001b[0m \u001b[31m6.9 MB/s\u001b[0m eta \u001b[36m0:00:00\u001b[0m\n",
            "\u001b[?25hRequirement already satisfied: numpy>=1.18.0 in /usr/local/lib/python3.10/dist-packages (from adversarial-robustness-toolbox) (1.25.2)\n",
            "Requirement already satisfied: scipy>=1.4.1 in /usr/local/lib/python3.10/dist-packages (from adversarial-robustness-toolbox) (1.11.4)\n",
            "Requirement already satisfied: scikit-learn>=0.22.2 in /usr/local/lib/python3.10/dist-packages (from adversarial-robustness-toolbox) (1.2.2)\n",
            "Requirement already satisfied: six in /usr/local/lib/python3.10/dist-packages (from adversarial-robustness-toolbox) (1.16.0)\n",
            "Requirement already satisfied: setuptools in /usr/local/lib/python3.10/dist-packages (from adversarial-robustness-toolbox) (67.7.2)\n",
            "Requirement already satisfied: tqdm in /usr/local/lib/python3.10/dist-packages (from adversarial-robustness-toolbox) (4.66.4)\n",
            "Requirement already satisfied: joblib>=1.1.1 in /usr/local/lib/python3.10/dist-packages (from scikit-learn>=0.22.2->adversarial-robustness-toolbox) (1.4.2)\n",
            "Requirement already satisfied: threadpoolctl>=2.0.0 in /usr/local/lib/python3.10/dist-packages (from scikit-learn>=0.22.2->adversarial-robustness-toolbox) (3.5.0)\n",
            "Installing collected packages: adversarial-robustness-toolbox\n",
            "Successfully installed adversarial-robustness-toolbox-1.18.0\n"
          ]
        }
      ],
      "source": [
        "# Устанавливаем дополнительную библиотеку\n",
        "!pip install adversarial-robustness-toolbox"
      ]
    },
    {
      "cell_type": "code",
      "execution_count": 2,
      "metadata": {
        "id": "PuM8xQCznx66"
      },
      "outputs": [],
      "source": [
        "# Импортируем нужные библиотеки\n",
        "import numpy as np\n",
        "import tensorflow as tf\n",
        "from tensorflow.keras.models import Sequential\n",
        "from tensorflow.keras.layers import Dense, Flatten\n",
        "from art.estimators.classification import TensorFlowV2Classifier\n",
        "from art.attacks.evasion import FastGradientMethod\n",
        "from art.utils import load_mnist"
      ]
    },
    {
      "cell_type": "code",
      "execution_count": 3,
      "metadata": {
        "id": "RJgApGAbmB2F"
      },
      "outputs": [],
      "source": [
        "# Загружаем готовый датасет\n",
        "(x_train, y_train), (x_test, y_test), min_pixel_value, max_pixel_value = load_mnist()"
      ]
    },
    {
      "cell_type": "code",
      "execution_count": 4,
      "metadata": {
        "id": "QqG4QOENp2db"
      },
      "outputs": [],
      "source": [
        "# Нормализуем данные\n",
        "x_train = x_train.astype('float32') / 255\n",
        "x_test = x_test.astype('float32') / 255"
      ]
    },
    {
      "cell_type": "code",
      "execution_count": 9,
      "metadata": {
        "colab": {
          "base_uri": "https://localhost:8080/"
        },
        "id": "MytQlkugmLHs",
        "outputId": "2b6b2430-4a6a-4f14-d2cd-5e02c0ebadf8"
      },
      "outputs": [
        {
          "name": "stdout",
          "output_type": "stream",
          "text": [
            "Epoch 1/10\n",
            "844/844 [==============================] - 4s 4ms/step - loss: 1.5017 - accuracy: 0.6401 - val_loss: 0.7899 - val_accuracy: 0.8457\n",
            "Epoch 2/10\n",
            "844/844 [==============================] - 5s 6ms/step - loss: 0.6508 - accuracy: 0.8449 - val_loss: 0.4561 - val_accuracy: 0.8952\n",
            "Epoch 3/10\n",
            "844/844 [==============================] - 3s 4ms/step - loss: 0.4667 - accuracy: 0.8794 - val_loss: 0.3541 - val_accuracy: 0.9128\n",
            "Epoch 4/10\n",
            "844/844 [==============================] - 3s 4ms/step - loss: 0.3965 - accuracy: 0.8920 - val_loss: 0.3104 - val_accuracy: 0.9158\n",
            "Epoch 5/10\n",
            "844/844 [==============================] - 4s 5ms/step - loss: 0.3610 - accuracy: 0.8993 - val_loss: 0.2850 - val_accuracy: 0.9210\n",
            "Epoch 6/10\n",
            "844/844 [==============================] - 5s 5ms/step - loss: 0.3384 - accuracy: 0.9043 - val_loss: 0.2690 - val_accuracy: 0.9248\n",
            "Epoch 7/10\n",
            "844/844 [==============================] - 3s 4ms/step - loss: 0.3227 - accuracy: 0.9081 - val_loss: 0.2587 - val_accuracy: 0.9255\n",
            "Epoch 8/10\n",
            "844/844 [==============================] - 3s 4ms/step - loss: 0.3107 - accuracy: 0.9109 - val_loss: 0.2499 - val_accuracy: 0.9285\n",
            "Epoch 9/10\n",
            "844/844 [==============================] - 4s 5ms/step - loss: 0.3007 - accuracy: 0.9136 - val_loss: 0.2421 - val_accuracy: 0.9307\n",
            "Epoch 10/10\n",
            "844/844 [==============================] - 4s 4ms/step - loss: 0.2917 - accuracy: 0.9158 - val_loss: 0.2356 - val_accuracy: 0.9327\n"
          ]
        },
        {
          "data": {
            "text/plain": [
              "<keras.src.callbacks.History at 0x7c93b1396140>"
            ]
          },
          "execution_count": 9,
          "metadata": {},
          "output_type": "execute_result"
        }
      ],
      "source": [
        "# Создаём и обучаем базовую модель\n",
        "model = Sequential([\n",
        "    Flatten(input_shape=(28, 28, 1)),\n",
        "    Dense(128, activation='relu'),\n",
        "    Dense(10, activation='softmax')\n",
        "])\n",
        "\n",
        "model.compile(optimizer='adam', loss='categorical_crossentropy', metrics=['accuracy'])\n",
        "model.fit(x_train, y_train, batch_size=64, epochs=10, validation_split=0.1)"
      ]
    },
    {
      "cell_type": "code",
      "execution_count": 10,
      "metadata": {
        "id": "M3AzijuhmN0t"
      },
      "outputs": [],
      "source": [
        "# Создаем классификатор ART\n",
        "classifier = TensorFlowV2Classifier(model=model, nb_classes=10, input_shape=(28, 28, 1), loss_object=tf.keras.losses.SparseCategoricalCrossentropy())"
      ]
    },
    {
      "cell_type": "code",
      "execution_count": 11,
      "metadata": {
        "id": "pqQqEIYgmQNY"
      },
      "outputs": [],
      "source": [
        "# Проводим атаку\n",
        "attack = FastGradientMethod(estimator=classifier, eps=0.2)\n",
        "x_test_adv = attack.generate(x=x_test)"
      ]
    },
    {
      "cell_type": "code",
      "execution_count": 12,
      "metadata": {
        "colab": {
          "base_uri": "https://localhost:8080/"
        },
        "id": "jYIAy63xmUo9",
        "outputId": "c1472167-6f63-487f-e56a-62d9dcec10e9"
      },
      "outputs": [
        {
          "name": "stdout",
          "output_type": "stream",
          "text": [
            "Точность на адверсальных тестовых примерах: 2.19%\n"
          ]
        }
      ],
      "source": [
        "# Оцениваем модель\n",
        "predictions = classifier.predict(x_test_adv)\n",
        "accuracy = np.sum(np.argmax(predictions, axis=1) == np.argmax(y_test, axis=1)) / y_test.shape[0]\n",
        "print(f'Точность на адверсальных тестовых примерах: {accuracy * 100:.2f}%')"
      ]
    },
    {
      "cell_type": "markdown",
      "metadata": {
        "id": "nVYZ6O0mn51L"
      },
      "source": [
        "Вывод: полученная модель показала точность в 2.19%."
      ]
    }
  ],
  "metadata": {
    "colab": {
      "provenance": []
    },
    "kernelspec": {
      "display_name": "Python 3",
      "name": "python3"
    },
    "language_info": {
      "name": "python"
    }
  },
  "nbformat": 4,
  "nbformat_minor": 0
}
